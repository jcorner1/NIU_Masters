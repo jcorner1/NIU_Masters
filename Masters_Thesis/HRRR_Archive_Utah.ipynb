{
 "cells": [
  {
   "cell_type": "markdown",
   "metadata": {},
   "source": [
    "# HRRR Data Regridding and Creation"
   ]
  },
  {
   "cell_type": "markdown",
   "metadata": {},
   "source": [
    "Data is downloaded from https://home.chpc.utah.edu/~u0553130/Brian_Blaylock/cgi-bin/hrrr_download.cgi."
   ]
  },
  {
   "cell_type": "code",
   "execution_count": null,
   "metadata": {},
   "outputs": [],
   "source": [
    "import requests\n",
    "\n",
    "import xarray as xr\n",
    "import netCDF4 as nc\n",
    "\n",
    "from datetime import datetime, timedelta\n",
    "import numpy as np\n",
    "\n",
    "import cartopy\n",
    "import matplotlib.pyplot as plt\n",
    "import matplotlib as mpl\n",
    "\n",
    "import xesmf as xe"
   ]
  },
  {
   "cell_type": "code",
   "execution_count": null,
   "metadata": {},
   "outputs": [],
   "source": [
    "def radar_colormap():\n",
    "    \n",
    "    \n",
    "    nws_reflectivity_colors = [\n",
    "        \"#ccffff\", # -30\n",
    "        \"#cc99cc\", # -25\n",
    "        \"#996699\", # -20\n",
    "        \"#663366\", # -15\n",
    "        \"#cccc99\", # -10\n",
    "        \"#999966\", # -5\n",
    "        \"#646464\", # 0\n",
    "        \"#04e9e7\", # 5\n",
    "        \"#019ff4\", # 10\n",
    "        \"#0300f4\", # 15\n",
    "        \"#02fd02\", # 20\n",
    "        \"#01c501\", # 25\n",
    "        \"#008e00\", # 30\n",
    "        \"#fdf802\", # 35\n",
    "        \"#e5bc00\", # 40\n",
    "        \"#fd9500\", # 45\n",
    "        \"#fd0000\", # 50\n",
    "        \"#d40000\", # 55\n",
    "        \"#bc0000\", # 60\n",
    "        \"#f800fd\", # 65\n",
    "        \"#9854c6\", # 70\n",
    "        \"#fdfdfd\" # 75\n",
    "        ]\n",
    "\n",
    "    return mpl.colors.ListedColormap(nws_reflectivity_colors)\n",
    "\n",
    "new_cmap = radar_colormap()"
   ]
  },
  {
   "cell_type": "code",
   "execution_count": null,
   "metadata": {},
   "outputs": [],
   "source": [
    "#Create a datetime object to grab \n",
    "datetime_object = datetime(2022, 11, 4, 21)\n",
    "forecast_hour = 5\n",
    "runtime = datetime_object - timedelta(hours=forecast_hour)"
   ]
  },
  {
   "cell_type": "code",
   "execution_count": null,
   "metadata": {},
   "outputs": [],
   "source": [
    "#open both HRRR datasets to regrid\n",
    "ds = xr.open_dataset(f'/home/scratch/jcorner1/UtahHRRR/hrrr_{datetime_object.strftime(\"%Y%m%d\")}_t{runtime.strftime(\"%H\")}f{str(forecast_hour).zfill(2)}.grib2', engine = 'cfgrib', filter_by_keys={'typeOfLevel': 'atmosphere'})\n",
    "ds_hrrr = xr.open_dataset('hrrr_esrl_2019052800f027.grib2', filter_by_keys={'typeOfLevel': 'atmosphere'})"
   ]
  },
  {
   "cell_type": "markdown",
   "metadata": {},
   "source": [
    "## Regrid the Data"
   ]
  },
  {
   "cell_type": "code",
   "execution_count": null,
   "metadata": {},
   "outputs": [],
   "source": [
    "#Create the regridder.\n",
    "regridder = xe.Regridder(ds, ds_hrrr, \"bilinear\")\n",
    "regridder"
   ]
  },
  {
   "cell_type": "code",
   "execution_count": null,
   "metadata": {},
   "outputs": [],
   "source": [
    "#regrid the data\n",
    "ds_out = regridder(ds)\n",
    "ds_out"
   ]
  },
  {
   "cell_type": "markdown",
   "metadata": {},
   "source": [
    "## Create a New Dataset for the Regridded data"
   ]
  },
  {
   "cell_type": "code",
   "execution_count": null,
   "metadata": {},
   "outputs": [],
   "source": [
    "#subset different parts of the new file\n",
    "lon = ds_out.longitude.values\n",
    "lat = ds_out.latitude.values\n",
    "time = ds_out.time.values\n",
    "refc = ds_out.refc.values"
   ]
  },
  {
   "cell_type": "code",
   "execution_count": null,
   "metadata": {},
   "outputs": [],
   "source": [
    "#Create varibales/coordinates of the new file \n",
    "new_ds = xr.Dataset(\n",
    "\n",
    "        data_vars=dict(\n",
    "        refc=([\"x\", \"y\"], refc))\n",
    "        \n",
    "        ,coords=dict(\n",
    "        lon=([\"x\", \"y\"], lon),\n",
    "        lat=([\"x\", \"y\"], lat),\n",
    "        run_time=time,\n",
    "        valid_time=datetime_object.strftime(\"%Y-%m-%dT%H:00\"),\n",
    "    ))"
   ]
  },
  {
   "cell_type": "code",
   "execution_count": null,
   "metadata": {},
   "outputs": [],
   "source": [
    "#Save all the data off to the new file.\n",
    "new_ds.to_netcdf(f'hrrr_{datetime_object.strftime(\"%Y%m%d\")}_t{runtime.strftime(\"%H\")}f{str(forecast_hour).zfill(2)}.nc4')\n",
    "#new_ds.to_netcdf(f'/home/scratch/jcorner1/UtahHRRR/hrrr_{datetime_object.strftime(\"%Y%m%d\")}_t{runtime.strftime(\"%H\")}f{str(forecast_hour).zfill(2)}.nc4')"
   ]
  },
  {
   "cell_type": "code",
   "execution_count": null,
   "metadata": {},
   "outputs": [],
   "source": [
    "#open the new dataset\n",
    "dataset = xr.open_dataset(f'hrrr_{datetime_object.strftime(\"%Y%m%d\")}_t{runtime.strftime(\"%H\")}f{str(forecast_hour).zfill(2)}.nc4')\n",
    "dataset"
   ]
  },
  {
   "cell_type": "code",
   "execution_count": null,
   "metadata": {},
   "outputs": [],
   "source": [
    "#plot the new data\n",
    "fig = plt.figure()\n",
    "fig.set_size_inches(16,12)\n",
    "ax1 = fig.add_subplot(111, projection = cartopy.crs.LambertConformal(central_latitude = 40., central_longitude = -105.))\n",
    "\n",
    "\n",
    "ax1.add_feature(cartopy.feature.STATES.with_scale('50m'), facecolor='none', zorder = 9)\n",
    "ax1.add_feature(cartopy.feature.OCEAN)\n",
    "ax1.add_feature(cartopy.feature.COASTLINE)\n",
    "ax1.add_feature(cartopy.feature.BORDERS)\n",
    "\n",
    "ax1.set_extent([-122,-77,20,50])\n",
    "norm = mpl.colors.Normalize(vmin=-30, vmax=80)\n",
    "ax1.pcolormesh(dataset.lon.values, dataset.lat.values, dataset.refc.values, transform=cartopy.crs.PlateCarree(), shading='auto', norm = norm, cmap= new_cmap)"
   ]
  },
  {
   "cell_type": "code",
   "execution_count": null,
   "metadata": {},
   "outputs": [],
   "source": []
  },
  {
   "cell_type": "code",
   "execution_count": null,
   "metadata": {},
   "outputs": [],
   "source": []
  },
  {
   "cell_type": "code",
   "execution_count": null,
   "metadata": {},
   "outputs": [],
   "source": []
  },
  {
   "cell_type": "code",
   "execution_count": null,
   "metadata": {},
   "outputs": [],
   "source": []
  }
 ],
 "metadata": {
  "kernelspec": {
   "display_name": "Python 3",
   "language": "python",
   "name": "python3"
  },
  "language_info": {
   "codemirror_mode": {
    "name": "ipython",
    "version": 3
   },
   "file_extension": ".py",
   "mimetype": "text/x-python",
   "name": "python",
   "nbconvert_exporter": "python",
   "pygments_lexer": "ipython3",
   "version": "3.8.5"
  }
 },
 "nbformat": 4,
 "nbformat_minor": 4
}
