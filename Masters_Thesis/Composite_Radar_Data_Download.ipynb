{
 "cells": [
  {
   "cell_type": "markdown",
   "id": "5e07729a-b02d-420f-91e6-f4ec7d6562c7",
   "metadata": {},
   "source": [
    "# Composite Radar Data Download"
   ]
  },
  {
   "cell_type": "markdown",
   "id": "a3a40b1c-fbb0-4eb5-96e6-1dd2c4098775",
   "metadata": {},
   "source": [
    "Radar data is download from thredds sever at https://thredds.ucar.edu/thredds/catalog/nexrad/composite/gini/catalog.html\n",
    "\n",
    "dhr - 1km reflectivity\n",
    "\n",
    "dvl - 1km vertically intergrated liquid\n",
    "\n",
    "eet - 1km echo tops\n",
    "\n",
    "hhc - 1km hybrid hydrometeor classification\n",
    "\n",
    "n0b - 1km ice concentrations\n",
    "\n",
    "n1p - 2km 1-hour precipitation\n",
    "\n",
    "ntp - 4km storm total precipitation\n"
   ]
  },
  {
   "cell_type": "code",
   "execution_count": 1,
   "id": "9ed1926c-e440-4121-8626-b1ab73ffee8b",
   "metadata": {},
   "outputs": [],
   "source": [
    "from siphon.catalog import TDSCatalog\n",
    "from siphon.http_util import session_manager\n",
    "\n",
    "import requests\n",
    "\n",
    "import xarray as xr\n",
    "import numpy as np\n",
    "import pandas as pd\n",
    "\n",
    "import glob"
   ]
  },
  {
   "cell_type": "code",
   "execution_count": 2,
   "id": "470ab273-61eb-4f8d-9360-311ed556613c",
   "metadata": {},
   "outputs": [
    {
     "name": "stdout",
     "output_type": "stream",
     "text": [
      "['20221003', '20221002', '20221001', '20220930', '20220929', '20220928', '20220927', '20220926', '20220925', '20220924', '20220923', '20220922', '20220921', '20220920', '20220919', '20220918', '20220917', '20220916', '20220915', '20220914', '20220913', '20220912', '20220911', '20220910', '20220909', '20220908', '20220907', '20220906', '20220905', '20220904', '20220903']\n"
     ]
    }
   ],
   "source": [
    "#look at the catalog of days available to download from the data archive.\n",
    "cat = TDSCatalog('https://thredds.ucar.edu/thredds/catalog/nexrad/composite/gini/dhr/1km/catalog.xml')\n",
    "print(list(cat.catalog_refs))"
   ]
  },
  {
   "cell_type": "code",
   "execution_count": 3,
   "id": "a653635f-d19a-4366-8e1f-2e98061d56d5",
   "metadata": {},
   "outputs": [],
   "source": [
    "#grab a list of filenames of data downloaded already to storage directory.\n",
    "filelist = glob.glob('/home/scratch/jcorner1/*.gini.nc4')\n",
    "filelist.sort()\n",
    "#filelist"
   ]
  },
  {
   "cell_type": "code",
   "execution_count": null,
   "id": "0fa55829-9cbb-4ac0-bfba-f4bef62b4817",
   "metadata": {},
   "outputs": [
    {
     "name": "stdout",
     "output_type": "stream",
     "text": [
      "Level3_Composite_dhr_1km_20221003_0115.gini\n",
      "Level3_Composite_dhr_1km_20221003_0110.gini\n",
      "Level3_Composite_dhr_1km_20221003_0105.gini\n",
      "Level3_Composite_dhr_1km_20221003_0100.gini\n",
      "Level3_Composite_dhr_1km_20221003_0055.gini\n",
      "Level3_Composite_dhr_1km_20221003_0050.gini\n",
      "Level3_Composite_dhr_1km_20221003_0045.gini\n",
      "Level3_Composite_dhr_1km_20221003_0040.gini\n",
      "Level3_Composite_dhr_1km_20221003_0035.gini\n",
      "Level3_Composite_dhr_1km_20221003_0030.gini\n",
      "Level3_Composite_dhr_1km_20221003_0025.gini\n",
      "Level3_Composite_dhr_1km_20221003_0020.gini\n",
      "Level3_Composite_dhr_1km_20221003_0015.gini\n",
      "Level3_Composite_dhr_1km_20221003_0010.gini\n",
      "Level3_Composite_dhr_1km_20221003_0005.gini\n",
      "Level3_Composite_dhr_1km_20221003_0000.gini\n",
      "Level3_Composite_dhr_1km_20221002_2355.gini\n",
      "Level3_Composite_dhr_1km_20221002_2350.gini\n",
      "Level3_Composite_dhr_1km_20221002_2345.gini\n",
      "Level3_Composite_dhr_1km_20221002_2340.gini\n",
      "Level3_Composite_dhr_1km_20221002_2335.gini\n",
      "Level3_Composite_dhr_1km_20221002_2330.gini\n",
      "Level3_Composite_dhr_1km_20221002_2325.gini\n",
      "Level3_Composite_dhr_1km_20221002_2320.gini\n",
      "Level3_Composite_dhr_1km_20221002_2315.gini\n",
      "Level3_Composite_dhr_1km_20221002_2310.gini\n",
      "Level3_Composite_dhr_1km_20221002_2305.gini\n",
      "Level3_Composite_dhr_1km_20221002_2300.gini\n",
      "Level3_Composite_dhr_1km_20221002_2255.gini\n",
      "Level3_Composite_dhr_1km_20221002_2250.gini\n",
      "Level3_Composite_dhr_1km_20221002_2245.gini\n",
      "Level3_Composite_dhr_1km_20221002_2240.gini\n",
      "Level3_Composite_dhr_1km_20221002_2235.gini\n",
      "Level3_Composite_dhr_1km_20221002_2230.gini\n",
      "Level3_Composite_dhr_1km_20221002_2225.gini\n",
      "Level3_Composite_dhr_1km_20221002_2220.gini\n",
      "Level3_Composite_dhr_1km_20221002_2215.gini\n",
      "Level3_Composite_dhr_1km_20221002_2210.gini\n",
      "Level3_Composite_dhr_1km_20221002_2205.gini\n",
      "Level3_Composite_dhr_1km_20221002_2200.gini\n",
      "Level3_Composite_dhr_1km_20221002_2155.gini\n",
      "Level3_Composite_dhr_1km_20221002_2150.gini\n",
      "Level3_Composite_dhr_1km_20221002_2145.gini\n",
      "Level3_Composite_dhr_1km_20221002_2140.gini\n",
      "Level3_Composite_dhr_1km_20221002_2135.gini\n",
      "Level3_Composite_dhr_1km_20221002_2130.gini\n",
      "Level3_Composite_dhr_1km_20221002_2125.gini\n",
      "Level3_Composite_dhr_1km_20221002_2120.gini\n",
      "Level3_Composite_dhr_1km_20221002_2115.gini\n",
      "Level3_Composite_dhr_1km_20221002_2110.gini\n",
      "Level3_Composite_dhr_1km_20221002_2105.gini\n",
      "Level3_Composite_dhr_1km_20221002_2100.gini\n",
      "Level3_Composite_dhr_1km_20221002_2055.gini\n",
      "Level3_Composite_dhr_1km_20221002_2050.gini\n",
      "Level3_Composite_dhr_1km_20221002_2045.gini\n",
      "Level3_Composite_dhr_1km_20221002_2040.gini\n",
      "Level3_Composite_dhr_1km_20221002_2035.gini\n",
      "Level3_Composite_dhr_1km_20221002_2030.gini\n",
      "Level3_Composite_dhr_1km_20221002_2025.gini\n",
      "Level3_Composite_dhr_1km_20221002_2020.gini\n",
      "Level3_Composite_dhr_1km_20221002_2015.gini\n",
      "Level3_Composite_dhr_1km_20221002_2010.gini\n",
      "Level3_Composite_dhr_1km_20221002_2005.gini\n",
      "Level3_Composite_dhr_1km_20221002_2000.gini\n",
      "Level3_Composite_dhr_1km_20221002_1955.gini\n",
      "Level3_Composite_dhr_1km_20221002_1950.gini\n",
      "Level3_Composite_dhr_1km_20221002_1945.gini\n",
      "Level3_Composite_dhr_1km_20221002_1940.gini\n",
      "Level3_Composite_dhr_1km_20221002_1935.gini\n",
      "Level3_Composite_dhr_1km_20221002_1930.gini\n",
      "Level3_Composite_dhr_1km_20221002_1925.gini\n",
      "Level3_Composite_dhr_1km_20221002_1920.gini\n",
      "Level3_Composite_dhr_1km_20221002_1915.gini\n",
      "Level3_Composite_dhr_1km_20221002_1910.gini\n",
      "Level3_Composite_dhr_1km_20221002_1905.gini\n",
      "Level3_Composite_dhr_1km_20221002_1900.gini\n",
      "Level3_Composite_dhr_1km_20221002_1855.gini\n",
      "Level3_Composite_dhr_1km_20221002_1850.gini\n",
      "Level3_Composite_dhr_1km_20221002_1845.gini\n",
      "Level3_Composite_dhr_1km_20221002_1840.gini\n",
      "Level3_Composite_dhr_1km_20221002_1835.gini\n",
      "Level3_Composite_dhr_1km_20221002_1830.gini\n",
      "Level3_Composite_dhr_1km_20221002_1825.gini\n",
      "Level3_Composite_dhr_1km_20221002_1820.gini\n",
      "Level3_Composite_dhr_1km_20221002_1815.gini\n",
      "Level3_Composite_dhr_1km_20221002_1810.gini\n",
      "Level3_Composite_dhr_1km_20221002_1805.gini\n",
      "Level3_Composite_dhr_1km_20221002_1800.gini\n",
      "Level3_Composite_dhr_1km_20221002_1755.gini\n"
     ]
    }
   ],
   "source": [
    "#run a for-loop through the days available in the data archive.\n",
    "for dates in cat.catalog_refs:\n",
    "    \n",
    "    #looks through list of radar data .nc files for the date the for-loop is currently in\n",
    "    catt = TDSCatalog(f'https://thredds.ucar.edu/thredds/catalog/nexrad/composite/gini/dhr/1km/{dates}/catalog.xml')\n",
    "    \n",
    "    #run a for-loop of all the filenames in the directory of the current day of the previous for-loop\n",
    "    for files in catt.datasets:\n",
    "        \n",
    "        #logic statement that continues if file is not already in storage (not already downloaded).\n",
    "        if f'/home/scratch/jcorner1/{files}.nc4' not in filelist:\n",
    "            print(files)\n",
    "\n",
    "            #download the data!\n",
    "            URL = (f'https://thredds.ucar.edu/thredds/ncss/grid/nexrad/composite/gini/dhr/1km/{dates}/{files}?var=Reflectivity&'\n",
    "                   f'north=52.216&west=-129.219&east=-63.559&south=21.743&horizStride=1&time_start={files[25:29]}-{files[29:31]}-{files[31:33]}T{files[34:36]}:{files[36:38]}:00Z&time_end={files[25:29]}-{files[29:31]}-{files[31:33]}T{files[34:36]}:{files[36:38]}:00Z&&&accept=netcdf4-classic&addLatLon=true')\n",
    "            response = requests.get(URL)\n",
    "            open(f'/home/scratch/jcorner1/{files}.nc4', 'wb').write(response.content)"
   ]
  },
  {
   "cell_type": "code",
   "execution_count": null,
   "id": "7d3432cb-846a-494c-b986-f59f369ee343",
   "metadata": {},
   "outputs": [],
   "source": []
  },
  {
   "cell_type": "code",
   "execution_count": null,
   "id": "64e16020-3987-4190-888f-56ab49a7f649",
   "metadata": {},
   "outputs": [],
   "source": []
  },
  {
   "cell_type": "code",
   "execution_count": null,
   "id": "97f1a7fa-31d6-44c3-ada3-6c9bdf9c0407",
   "metadata": {},
   "outputs": [],
   "source": []
  },
  {
   "cell_type": "code",
   "execution_count": null,
   "id": "c82b452f-659f-4851-aa52-1d1c14768fc1",
   "metadata": {},
   "outputs": [],
   "source": []
  },
  {
   "cell_type": "code",
   "execution_count": null,
   "id": "560f0261-cff1-40e9-b1e6-69d35c6c9650",
   "metadata": {},
   "outputs": [],
   "source": []
  },
  {
   "cell_type": "code",
   "execution_count": null,
   "id": "6b9d88bb-7a16-42a2-a713-6070809f53d8",
   "metadata": {},
   "outputs": [],
   "source": []
  },
  {
   "cell_type": "code",
   "execution_count": null,
   "id": "0920013a-d5d8-49b1-a9d8-4f6ef0ee3e2d",
   "metadata": {},
   "outputs": [],
   "source": []
  },
  {
   "cell_type": "code",
   "execution_count": null,
   "id": "80123c93-ca66-40bb-b61a-2c50949620d6",
   "metadata": {},
   "outputs": [],
   "source": []
  },
  {
   "cell_type": "code",
   "execution_count": null,
   "id": "7f8696cb-d4bf-47d2-892f-cdc003acd073",
   "metadata": {},
   "outputs": [],
   "source": []
  }
 ],
 "metadata": {
  "kernelspec": {
   "display_name": "Python [conda env:pyEAE]",
   "language": "python",
   "name": "conda-env-pyEAE-py"
  },
  "language_info": {
   "codemirror_mode": {
    "name": "ipython",
    "version": 3
   },
   "file_extension": ".py",
   "mimetype": "text/x-python",
   "name": "python",
   "nbconvert_exporter": "python",
   "pygments_lexer": "ipython3",
   "version": "3.9.13"
  }
 },
 "nbformat": 4,
 "nbformat_minor": 5
}
