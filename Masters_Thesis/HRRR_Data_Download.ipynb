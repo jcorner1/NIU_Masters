{
 "cells": [
  {
   "cell_type": "markdown",
   "id": "46038938-9419-4483-8c61-02364f201b5d",
   "metadata": {},
   "source": [
    "# HRRR Data Download"
   ]
  },
  {
   "cell_type": "code",
   "execution_count": null,
   "id": "2e9b8937-78f7-4ef9-84c3-2b4fa2b8301a",
   "metadata": {},
   "outputs": [],
   "source": []
  },
  {
   "cell_type": "code",
   "execution_count": null,
   "id": "ad269110-c37e-4bdf-a877-22dcf299431a",
   "metadata": {},
   "outputs": [],
   "source": [
    "from siphon.catalog import TDSCatalog\n",
    "from siphon.http_util import session_manager\n",
    "\n",
    "import requests\n",
    "\n",
    "import xarray as xr\n",
    "import numpy as np\n",
    "import pandas as pd\n",
    "\n",
    "import glob"
   ]
  },
  {
   "cell_type": "markdown",
   "id": "05576505-fce7-4430-9cea-44dcc4a2aab6",
   "metadata": {},
   "source": [
    "https://pando-rgw01.chpc.utah.edu/hrrr/sfc/20220928/hrrr.t00z.wrfsfcf00.grib2"
   ]
  },
  {
   "cell_type": "code",
   "execution_count": 2,
   "id": "ee81d8c9-2e71-496e-8747-ab474fb68c0a",
   "metadata": {},
   "outputs": [
    {
     "name": "stderr",
     "output_type": "stream",
     "text": [
      "/anaconda3/envs/pyEAE/lib/python3.9/site-packages/siphon/catalog.py:292: UserWarning: URL https://thredds.ucar.edu/thredds/catalog/grib/NCEP/HRRR/CONUS_2p5km/catalog.html returned HTML. Changing to: https://thredds.ucar.edu/thredds/catalog/grib/NCEP/HRRR/CONUS_2p5km/catalog.xml\n",
      "  warnings.warn('URL {} returned HTML. Changing to: {}'.format(self.catalog_url,\n"
     ]
    }
   ],
   "source": [
    "#look at the list of the HRRR grib files in the thredds server.\n",
    "cat = TDSCatalog('https://thredds.ucar.edu/thredds/catalog/grib/NCEP/HRRR/CONUS_2p5km/catalog.html')"
   ]
  },
  {
   "cell_type": "code",
   "execution_count": 3,
   "id": "643a5855-8b0c-4c41-97b2-f56b903670f0",
   "metadata": {},
   "outputs": [],
   "source": [
    "#grab file names from the storage directory.\n",
    "filelist = glob.glob('/home/scratch/jcorner1/*grib2')\n",
    "filelist.sort()\n",
    "#filelist"
   ]
  },
  {
   "cell_type": "code",
   "execution_count": null,
   "id": "35e47599-f7bf-4672-8168-bae0b70073d4",
   "metadata": {},
   "outputs": [
    {
     "name": "stdout",
     "output_type": "stream",
     "text": [
      "HRRR_CONUS_2p5km_20221002_2300.grib2\n",
      "HRRR_CONUS_2p5km_20221002_2200.grib2\n",
      "HRRR_CONUS_2p5km_20221002_2100.grib2\n",
      "HRRR_CONUS_2p5km_20221002_2000.grib2\n",
      "HRRR_CONUS_2p5km_20221002_1900.grib2\n",
      "HRRR_CONUS_2p5km_20221002_1800.grib2\n",
      "HRRR_CONUS_2p5km_20221002_1700.grib2\n",
      "HRRR_CONUS_2p5km_20221002_1600.grib2\n",
      "HRRR_CONUS_2p5km_20221002_1500.grib2\n",
      "HRRR_CONUS_2p5km_20221002_1400.grib2\n",
      "HRRR_CONUS_2p5km_20221002_1300.grib2\n",
      "HRRR_CONUS_2p5km_20221002_1200.grib2\n",
      "HRRR_CONUS_2p5km_20221002_1100.grib2\n",
      "HRRR_CONUS_2p5km_20221002_1000.grib2\n",
      "HRRR_CONUS_2p5km_20221002_0900.grib2\n",
      "HRRR_CONUS_2p5km_20221002_0800.grib2\n",
      "HRRR_CONUS_2p5km_20221002_0700.grib2\n",
      "HRRR_CONUS_2p5km_20221002_0600.grib2\n",
      "HRRR_CONUS_2p5km_20221002_0500.grib2\n"
     ]
    }
   ],
   "source": [
    "#run a for-loop of all my file\n",
    "for filename in cat.catalog_refs:\n",
    "    \n",
    "    if '/home/scratch/jcorner1/'+filename not in filelist:\n",
    "        name = filename[0:31]\n",
    "        print(filename)\n",
    "\n",
    "\n",
    "        URL = f'https://thredds.ucar.edu/thredds/fileServer/grib/NCEP/HRRR/CONUS_2p5km/{filename}'\n",
    "        response = requests.get(URL)\n",
    "        open(f'/home/scratch/jcorner1/{name}grib2', 'wb').write(response.content)"
   ]
  },
  {
   "cell_type": "code",
   "execution_count": null,
   "id": "9962c596-396c-484c-b555-7db4b68fbfc6",
   "metadata": {},
   "outputs": [],
   "source": []
  }
 ],
 "metadata": {
  "kernelspec": {
   "display_name": "Python [conda env:pyEAE]",
   "language": "python",
   "name": "conda-env-pyEAE-py"
  },
  "language_info": {
   "codemirror_mode": {
    "name": "ipython",
    "version": 3
   },
   "file_extension": ".py",
   "mimetype": "text/x-python",
   "name": "python",
   "nbconvert_exporter": "python",
   "pygments_lexer": "ipython3",
   "version": "3.9.13"
  }
 },
 "nbformat": 4,
 "nbformat_minor": 5
}
