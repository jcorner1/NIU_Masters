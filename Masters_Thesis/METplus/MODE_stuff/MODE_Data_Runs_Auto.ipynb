{
 "cells": [
  {
   "cell_type": "markdown",
   "id": "a4b7c92b",
   "metadata": {},
   "source": [
    "# Automation of MODE Wrapper\n",
    "\n",
    "This notebook downnloads all data required for METplus's MODE wrapper to verify the performance of forecast model data to that of observation. The forecast data in this case is HRRR data which is obtained from https://home.chpc.utah.edu/~u0553130/Brian_Blaylock/cgi-bin/hrrr_download.cgi. The observation data is lowest level reflectivity from MRMS https://mesonet.agron.iastate.edu/GIS/rasters.php?rid=4."
   ]
  },
  {
   "cell_type": "code",
   "execution_count": 1,
   "id": "22cda699",
   "metadata": {},
   "outputs": [],
   "source": [
    "#Import Modules\n",
    "import requests\n",
    "import xarray as xr\n",
    "from datetime import datetime, timedelta\n",
    "import cfgrib\n",
    "import netCDF4 as nc\n",
    "import os\n",
    "import glob\n",
    "import multiprocessing"
   ]
  },
  {
   "cell_type": "code",
   "execution_count": 2,
   "id": "e554a0bf",
   "metadata": {},
   "outputs": [],
   "source": [
    "def MODE_Wrapper(data_file_path):\n",
    "    \"\"\"this is a function built to run the MODE wrapper with multiprocessing.\n",
    "        MODE is an object based verfication method developed by NCAR and DTC.\n",
    "        \n",
    "        data_file_path = Path to the file including the file as well.\n",
    "        \n",
    "        Will return 4 files that the MODE wrapper creates.\n",
    "        More information can be found at https://dtcenter.org/met-online-tutorial-metv8-0/mode/configure\"\"\"\n",
    "    \n",
    "    \n",
    "    os.system(f'python /gpfs/fs1/home/ac.jcorner/NIU/Masters_Thesis/metplus/metplus/ush/run_metplus.py -c {data_file_path}')"
   ]
  },
  {
   "cell_type": "markdown",
   "id": "e52bc9ad",
   "metadata": {},
   "source": [
    "## Observation Data Download"
   ]
  },
  {
   "cell_type": "code",
   "execution_count": 3,
   "id": "cf20a318",
   "metadata": {},
   "outputs": [
    {
     "data": {
      "text/plain": [
       "1237210"
      ]
     },
     "execution_count": 3,
     "metadata": {},
     "output_type": "execute_result"
    }
   ],
   "source": [
    "#Create a datetime object to grab data for.\n",
    "datetime_object = datetime(2020, 6, 30, 0)\n",
    "\n",
    "#obtain the file for the MRMS lowest level reflectivity from the Iowa State website.\n",
    "#set the data and pathfile as well as create the directory.\n",
    "url = f'https://mesonet.agron.iastate.edu/cgi-bin/request/raster2netcdf.py?dstr={datetime_object.strftime(\"%Y%m%d%H00\")}&prod=mrms_lcref'\n",
    "drt = f'/gpfs/fs1/home/ac.jcorner/NIU/Masters_Thesis/metplus/metplus_input/MODE_data/{url[-28:-16]}'\n",
    "os.mkdir(drt)\n",
    "\n",
    "#Get data from the website and write it to a file.\n",
    "response = requests.get(url)\n",
    "filepath = f'{drt}/mrms_lcref{url[-28:-16]}.nc4'\n",
    "open(filepath, 'wb').write(response.content)"
   ]
  },
  {
   "cell_type": "code",
   "execution_count": 4,
   "id": "5d19a047",
   "metadata": {},
   "outputs": [
    {
     "data": {
      "text/plain": [
       "['/gpfs/fs1/home/ac.jcorner/NIU/Masters_Thesis/metplus/metplus/parm/metplus_config/MODEconf/MODE_HRRR_FCST_RADAR_OBS_f30.conf',\n",
       " '/gpfs/fs1/home/ac.jcorner/NIU/Masters_Thesis/metplus/metplus/parm/metplus_config/MODEconf/MODE_HRRR_FCST_RADAR_OBS_f15.conf',\n",
       " '/gpfs/fs1/home/ac.jcorner/NIU/Masters_Thesis/metplus/metplus/parm/metplus_config/MODEconf/MODE_HRRR_FCST_RADAR_OBS_f09.conf',\n",
       " '/gpfs/fs1/home/ac.jcorner/NIU/Masters_Thesis/metplus/metplus/parm/metplus_config/MODEconf/MODE_HRRR_FCST_RADAR_OBS_f06.conf',\n",
       " '/gpfs/fs1/home/ac.jcorner/NIU/Masters_Thesis/metplus/metplus/parm/metplus_config/MODEconf/MODE_HRRR_FCST_RADAR_OBS_f36.conf',\n",
       " '/gpfs/fs1/home/ac.jcorner/NIU/Masters_Thesis/metplus/metplus/parm/metplus_config/MODEconf/MODE_HRRR_FCST_RADAR_OBS_f12.conf',\n",
       " '/gpfs/fs1/home/ac.jcorner/NIU/Masters_Thesis/metplus/metplus/parm/metplus_config/MODEconf/MODE_HRRR_FCST_RADAR_OBS_f18.conf',\n",
       " '/gpfs/fs1/home/ac.jcorner/NIU/Masters_Thesis/metplus/metplus/parm/metplus_config/MODEconf/MODE_HRRR_FCST_RADAR_OBS_f24.conf',\n",
       " '/gpfs/fs1/home/ac.jcorner/NIU/Masters_Thesis/metplus/metplus/parm/metplus_config/MODEconf/MODE_HRRR_FCST_RADAR_OBS_f03.conf']"
      ]
     },
     "execution_count": 4,
     "metadata": {},
     "output_type": "execute_result"
    }
   ],
   "source": [
    "#find all the configuration files for each forecast hour that we will use.\n",
    "config_file = glob.glob(f'/gpfs/fs1/home/ac.jcorner/NIU/Masters_Thesis/metplus/metplus/parm/metplus_config/MODEconf/*.conf')\n",
    "config_file"
   ]
  },
  {
   "cell_type": "markdown",
   "id": "872344e3",
   "metadata": {},
   "source": [
    "## Forecast Data Download & Editing of Configuration File"
   ]
  },
  {
   "cell_type": "code",
   "execution_count": null,
   "id": "2bdcf6f8",
   "metadata": {},
   "outputs": [],
   "source": [
    "#array of all the forecast hours to get data for.\n",
    "forecast_hours  = [3, 6, 9, 12, 15, 18, 24, 30, 36]\n",
    "\n",
    "#iterate through the forecast hours \n",
    "for hours in forecast_hours:\n",
    "    \n",
    "    #calculate the model run that will line up with the correct forecast hour.\n",
    "    new_hour = datetime_object - timedelta(hours=hours)\n",
    "    \n",
    "    #Get data from the websit and write it to a file.\n",
    "    url = f'https://pando-rgw01.chpc.utah.edu/hrrr/sfc/{new_hour.strftime(\"%Y%m%d\")}/hrrr.t{new_hour.strftime(\"%H\")}z.wrfsfcf{str(hours).zfill(2)}.grib2'\n",
    "    response = requests.get(url)\n",
    "    open(f'{drt}/hrrr_t{new_hour.strftime(\"%Y%m%dT%H00\")}z_wrfsfcf{str(hours).zfill(2)}.grib2', 'wb').write(response.content)\n",
    "    \n",
    "    #the configuration file that will be changed.\n",
    "    change_file = glob.glob(f'/gpfs/fs1/home/ac.jcorner/NIU/Masters_Thesis/metplus/metplus/parm/metplus_config/MODEconf/*{str(hours).zfill(2)}.conf')\n",
    "    \n",
    "    #open the file and read each line.\n",
    "    w = open(fr'{change_file[0]}', 'r')\n",
    "    content = w.readlines()\n",
    "    \n",
    "    #search input datafile lines and and replace them with the new files.\n",
    "    for_search_text = content[99][-50:-1]\n",
    "    obs_search_text = content[101][-40:-1]\n",
    "    \n",
    "    for_replace_text = f'{drt[-12:-1]}0/hrrr_t{new_hour.strftime(\"%Y%m%dT%H00\")}z_wrfsfcf{str(hours).zfill(2)}.grib2'\n",
    "    obs_replace_text = f'{drt[-12:-1]}0/mrms_lcref{drt[-12:-1]}0.nc4'\n",
    "    \n",
    "    #read in the file for the purpose of editing it. \n",
    "    with open(fr'{change_file[0]}','r') as f:\n",
    "\n",
    "        #Reading the content of the file\n",
    "        data = f.read()\n",
    "\n",
    "        # Searching and  replacing the text\n",
    "        data = data.replace(for_search_text, for_replace_text)\n",
    "        data = data.replace(obs_search_text, obs_replace_text)\n",
    "\n",
    "\n",
    "        #edit the old file and add the new datafiles instead.\n",
    "        with open(fr'{change_file[0]}', 'w') as file:\n",
    "\n",
    "            # Writing the replaced data.\n",
    "            file.write(data)\n",
    "            file.close()\n"
   ]
  },
  {
   "cell_type": "code",
   "execution_count": null,
   "id": "2d0bc6a4",
   "metadata": {
    "scrolled": true
   },
   "outputs": [],
   "source": [
    "#use multiprocessing to run all the different forecast hours at the same time. \n",
    "for paths in range(len(config_file)):\n",
    "    d = multiprocessing.Process(target=MODE_Wrapper, args=[config_file[paths]])\n",
    "    d.start()"
   ]
  },
  {
   "cell_type": "code",
   "execution_count": null,
   "id": "940abbc6",
   "metadata": {},
   "outputs": [],
   "source": []
  }
 ],
 "metadata": {
  "kernelspec": {
   "display_name": "Python 3 (ipykernel)",
   "language": "python",
   "name": "python3"
  },
  "language_info": {
   "codemirror_mode": {
    "name": "ipython",
    "version": 3
   },
   "file_extension": ".py",
   "mimetype": "text/x-python",
   "name": "python",
   "nbconvert_exporter": "python",
   "pygments_lexer": "ipython3",
   "version": "3.9.7"
  }
 },
 "nbformat": 4,
 "nbformat_minor": 5
}
