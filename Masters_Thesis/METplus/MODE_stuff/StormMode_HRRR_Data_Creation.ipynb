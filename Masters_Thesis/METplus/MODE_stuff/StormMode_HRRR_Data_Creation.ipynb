{
 "cells": [
  {
   "cell_type": "code",
   "execution_count": null,
   "id": "7f598a5e",
   "metadata": {},
   "outputs": [],
   "source": []
  },
  {
   "cell_type": "code",
   "execution_count": 1,
   "id": "0fac7f66",
   "metadata": {},
   "outputs": [],
   "source": [
    "import xarray as xr\n",
    "import pickle\n",
    "import pandas as pd\n",
    "import numpy as np\n",
    "import os\n",
    "import datetime as dt\n",
    "import glob\n",
    "import netCDF4\n",
    "import copy\n",
    "import cfgrib"
   ]
  },
  {
   "cell_type": "code",
   "execution_count": null,
   "id": "ad4ebd00",
   "metadata": {},
   "outputs": [],
   "source": []
  },
  {
   "cell_type": "code",
   "execution_count": 2,
   "id": "3edc1ac8",
   "metadata": {},
   "outputs": [
    {
     "data": {
      "text/html": [
       "<div>\n",
       "<style scoped>\n",
       "    .dataframe tbody tr th:only-of-type {\n",
       "        vertical-align: middle;\n",
       "    }\n",
       "\n",
       "    .dataframe tbody tr th {\n",
       "        vertical-align: top;\n",
       "    }\n",
       "\n",
       "    .dataframe thead th {\n",
       "        text-align: right;\n",
       "    }\n",
       "</style>\n",
       "<table border=\"1\" class=\"dataframe\">\n",
       "  <thead>\n",
       "    <tr style=\"text-align: right;\">\n",
       "      <th></th>\n",
       "      <th>slice_id</th>\n",
       "      <th>isolated_cell</th>\n",
       "      <th>multiple_isolated_cells</th>\n",
       "      <th>loosely_clustered_cells</th>\n",
       "      <th>tightly_clustered_cells</th>\n",
       "      <th>qlcs</th>\n",
       "      <th>tropical</th>\n",
       "      <th>uniq_id</th>\n",
       "      <th>area</th>\n",
       "      <th>convex_area</th>\n",
       "      <th>...</th>\n",
       "      <th>ymin</th>\n",
       "      <th>ymax</th>\n",
       "      <th>coords</th>\n",
       "      <th>geometry</th>\n",
       "      <th>start_year</th>\n",
       "      <th>start_month</th>\n",
       "      <th>start_day</th>\n",
       "      <th>start_hour</th>\n",
       "      <th>start_time</th>\n",
       "      <th>forecast_hour</th>\n",
       "    </tr>\n",
       "  </thead>\n",
       "  <tbody>\n",
       "    <tr>\n",
       "      <th>0</th>\n",
       "      <td>hrrr20200601f30r0</td>\n",
       "      <td>0.884769</td>\n",
       "      <td>0.754559</td>\n",
       "      <td>0.013774</td>\n",
       "      <td>0.003351</td>\n",
       "      <td>3.874881e-05</td>\n",
       "      <td>0.017239</td>\n",
       "      <td>hrrr20200601f30r0</td>\n",
       "      <td>5287.5000</td>\n",
       "      <td>8662.5000</td>\n",
       "      <td>...</td>\n",
       "      <td>7</td>\n",
       "      <td>31</td>\n",
       "      <td>[[7, 588], [8, 587], [8, 588], [8, 589], [8, 5...</td>\n",
       "      <td>POLYGON ((25.000 586.000, 8.000 587.000, 7.000...</td>\n",
       "      <td>2020</td>\n",
       "      <td>6</td>\n",
       "      <td>1</td>\n",
       "      <td>18</td>\n",
       "      <td>2020-06-01 18:30:00</td>\n",
       "      <td>30</td>\n",
       "    </tr>\n",
       "    <tr>\n",
       "      <th>1</th>\n",
       "      <td>hrrr20200601f30r1</td>\n",
       "      <td>0.850976</td>\n",
       "      <td>0.148710</td>\n",
       "      <td>0.000181</td>\n",
       "      <td>0.000059</td>\n",
       "      <td>6.439922e-07</td>\n",
       "      <td>0.000073</td>\n",
       "      <td>hrrr20200601f30r1</td>\n",
       "      <td>1040.6250</td>\n",
       "      <td>1251.5625</td>\n",
       "      <td>...</td>\n",
       "      <td>8</td>\n",
       "      <td>17</td>\n",
       "      <td>[[8, 1148], [9, 1146], [9, 1147], [9, 1148], [...</td>\n",
       "      <td>POLYGON ((16.000 1137.000, 10.000 1143.000, 8....</td>\n",
       "      <td>2020</td>\n",
       "      <td>6</td>\n",
       "      <td>1</td>\n",
       "      <td>18</td>\n",
       "      <td>2020-06-01 18:30:00</td>\n",
       "      <td>30</td>\n",
       "    </tr>\n",
       "    <tr>\n",
       "      <th>2</th>\n",
       "      <td>hrrr20200601f30r10</td>\n",
       "      <td>0.815570</td>\n",
       "      <td>0.183374</td>\n",
       "      <td>0.000244</td>\n",
       "      <td>0.000258</td>\n",
       "      <td>1.507624e-05</td>\n",
       "      <td>0.000539</td>\n",
       "      <td>hrrr20200601f30r10</td>\n",
       "      <td>534.3750</td>\n",
       "      <td>632.8125</td>\n",
       "      <td>...</td>\n",
       "      <td>20</td>\n",
       "      <td>27</td>\n",
       "      <td>[[20, 1072], [21, 1072], [21, 1073], [22, 1069...</td>\n",
       "      <td>POLYGON ((25.000 1066.000, 23.000 1067.000, 20...</td>\n",
       "      <td>2020</td>\n",
       "      <td>6</td>\n",
       "      <td>1</td>\n",
       "      <td>18</td>\n",
       "      <td>2020-06-01 18:30:00</td>\n",
       "      <td>30</td>\n",
       "    </tr>\n",
       "    <tr>\n",
       "      <th>3</th>\n",
       "      <td>hrrr20200601f30r100</td>\n",
       "      <td>0.747403</td>\n",
       "      <td>0.252368</td>\n",
       "      <td>0.000081</td>\n",
       "      <td>0.000077</td>\n",
       "      <td>1.128945e-06</td>\n",
       "      <td>0.000071</td>\n",
       "      <td>hrrr20200601f30r100</td>\n",
       "      <td>407.8125</td>\n",
       "      <td>450.0000</td>\n",
       "      <td>...</td>\n",
       "      <td>292</td>\n",
       "      <td>299</td>\n",
       "      <td>[[292, 1149], [292, 1150], [293, 1149], [294, ...</td>\n",
       "      <td>POLYGON ((295.000 1147.000, 292.000 1149.000, ...</td>\n",
       "      <td>2020</td>\n",
       "      <td>6</td>\n",
       "      <td>1</td>\n",
       "      <td>18</td>\n",
       "      <td>2020-06-01 18:30:00</td>\n",
       "      <td>30</td>\n",
       "    </tr>\n",
       "    <tr>\n",
       "      <th>4</th>\n",
       "      <td>hrrr20200601f30r101</td>\n",
       "      <td>0.834906</td>\n",
       "      <td>0.164997</td>\n",
       "      <td>0.000055</td>\n",
       "      <td>0.000024</td>\n",
       "      <td>1.851806e-07</td>\n",
       "      <td>0.000017</td>\n",
       "      <td>hrrr20200601f30r101</td>\n",
       "      <td>660.9375</td>\n",
       "      <td>675.0000</td>\n",
       "      <td>...</td>\n",
       "      <td>297</td>\n",
       "      <td>305</td>\n",
       "      <td>[[297, 469], [297, 470], [297, 471], [298, 468...</td>\n",
       "      <td>POLYGON ((301.000 465.000, 297.000 469.000, 29...</td>\n",
       "      <td>2020</td>\n",
       "      <td>6</td>\n",
       "      <td>1</td>\n",
       "      <td>18</td>\n",
       "      <td>2020-06-01 18:30:00</td>\n",
       "      <td>30</td>\n",
       "    </tr>\n",
       "    <tr>\n",
       "      <th>...</th>\n",
       "      <td>...</td>\n",
       "      <td>...</td>\n",
       "      <td>...</td>\n",
       "      <td>...</td>\n",
       "      <td>...</td>\n",
       "      <td>...</td>\n",
       "      <td>...</td>\n",
       "      <td>...</td>\n",
       "      <td>...</td>\n",
       "      <td>...</td>\n",
       "      <td>...</td>\n",
       "      <td>...</td>\n",
       "      <td>...</td>\n",
       "      <td>...</td>\n",
       "      <td>...</td>\n",
       "      <td>...</td>\n",
       "      <td>...</td>\n",
       "      <td>...</td>\n",
       "      <td>...</td>\n",
       "      <td>...</td>\n",
       "      <td>...</td>\n",
       "    </tr>\n",
       "    <tr>\n",
       "      <th>65221</th>\n",
       "      <td>hrrr20200810f24r63887</td>\n",
       "      <td>0.757714</td>\n",
       "      <td>0.238551</td>\n",
       "      <td>0.010307</td>\n",
       "      <td>0.010619</td>\n",
       "      <td>1.221061e-03</td>\n",
       "      <td>0.031832</td>\n",
       "      <td>hrrr20200810f24r63887</td>\n",
       "      <td>506.2500</td>\n",
       "      <td>632.8125</td>\n",
       "      <td>...</td>\n",
       "      <td>1024</td>\n",
       "      <td>1034</td>\n",
       "      <td>[[1024, 1096], [1024, 1097], [1024, 1098], [10...</td>\n",
       "      <td>POLYGON ((1024.000 1096.000, 1024.000 1098.000...</td>\n",
       "      <td>2020</td>\n",
       "      <td>8</td>\n",
       "      <td>10</td>\n",
       "      <td>0</td>\n",
       "      <td>2020-08-10 00:24:00</td>\n",
       "      <td>24</td>\n",
       "    </tr>\n",
       "    <tr>\n",
       "      <th>65222</th>\n",
       "      <td>hrrr20200810f24r63888</td>\n",
       "      <td>0.736977</td>\n",
       "      <td>0.226675</td>\n",
       "      <td>0.003818</td>\n",
       "      <td>0.009167</td>\n",
       "      <td>2.223100e-03</td>\n",
       "      <td>0.021139</td>\n",
       "      <td>hrrr20200810f24r63888</td>\n",
       "      <td>759.3750</td>\n",
       "      <td>914.0625</td>\n",
       "      <td>...</td>\n",
       "      <td>1028</td>\n",
       "      <td>1041</td>\n",
       "      <td>[[1028, 1321], [1028, 1322], [1029, 1320], [10...</td>\n",
       "      <td>POLYGON ((1039.000 1316.000, 1032.000 1317.000...</td>\n",
       "      <td>2020</td>\n",
       "      <td>8</td>\n",
       "      <td>10</td>\n",
       "      <td>0</td>\n",
       "      <td>2020-08-10 00:24:00</td>\n",
       "      <td>24</td>\n",
       "    </tr>\n",
       "    <tr>\n",
       "      <th>65223</th>\n",
       "      <td>hrrr20200810f24r63889</td>\n",
       "      <td>0.825001</td>\n",
       "      <td>0.173489</td>\n",
       "      <td>0.000367</td>\n",
       "      <td>0.000378</td>\n",
       "      <td>2.277197e-05</td>\n",
       "      <td>0.000742</td>\n",
       "      <td>hrrr20200810f24r63889</td>\n",
       "      <td>379.6875</td>\n",
       "      <td>379.6875</td>\n",
       "      <td>...</td>\n",
       "      <td>1038</td>\n",
       "      <td>1042</td>\n",
       "      <td>[[1038, 368], [1038, 369], [1038, 370], [1038,...</td>\n",
       "      <td>POLYGON ((1039.000 367.000, 1038.000 368.000, ...</td>\n",
       "      <td>2020</td>\n",
       "      <td>8</td>\n",
       "      <td>10</td>\n",
       "      <td>0</td>\n",
       "      <td>2020-08-10 00:24:00</td>\n",
       "      <td>24</td>\n",
       "    </tr>\n",
       "    <tr>\n",
       "      <th>65224</th>\n",
       "      <td>hrrr20200810f24r63890</td>\n",
       "      <td>0.744143</td>\n",
       "      <td>0.219045</td>\n",
       "      <td>0.003665</td>\n",
       "      <td>0.008401</td>\n",
       "      <td>1.961064e-03</td>\n",
       "      <td>0.022785</td>\n",
       "      <td>hrrr20200810f24r63890</td>\n",
       "      <td>351.5625</td>\n",
       "      <td>393.7500</td>\n",
       "      <td>...</td>\n",
       "      <td>1041</td>\n",
       "      <td>1048</td>\n",
       "      <td>[[1041, 1119], [1042, 1119], [1042, 1120], [10...</td>\n",
       "      <td>POLYGON ((1041.000 1119.000, 1042.000 1121.000...</td>\n",
       "      <td>2020</td>\n",
       "      <td>8</td>\n",
       "      <td>10</td>\n",
       "      <td>0</td>\n",
       "      <td>2020-08-10 00:24:00</td>\n",
       "      <td>24</td>\n",
       "    </tr>\n",
       "    <tr>\n",
       "      <th>65225</th>\n",
       "      <td>hrrr20200810f24r63891</td>\n",
       "      <td>0.787801</td>\n",
       "      <td>0.209842</td>\n",
       "      <td>0.000444</td>\n",
       "      <td>0.000659</td>\n",
       "      <td>5.292386e-05</td>\n",
       "      <td>0.001200</td>\n",
       "      <td>hrrr20200810f24r63891</td>\n",
       "      <td>435.9375</td>\n",
       "      <td>464.0625</td>\n",
       "      <td>...</td>\n",
       "      <td>1045</td>\n",
       "      <td>1051</td>\n",
       "      <td>[[1045, 1677], [1045, 1678], [1045, 1679], [10...</td>\n",
       "      <td>POLYGON ((1047.000 1676.000, 1045.000 1677.000...</td>\n",
       "      <td>2020</td>\n",
       "      <td>8</td>\n",
       "      <td>10</td>\n",
       "      <td>0</td>\n",
       "      <td>2020-08-10 00:24:00</td>\n",
       "      <td>24</td>\n",
       "    </tr>\n",
       "  </tbody>\n",
       "</table>\n",
       "<p>65226 rows × 31 columns</p>\n",
       "</div>"
      ],
      "text/plain": [
       "                    slice_id  isolated_cell  multiple_isolated_cells  \\\n",
       "0          hrrr20200601f30r0       0.884769                 0.754559   \n",
       "1          hrrr20200601f30r1       0.850976                 0.148710   \n",
       "2         hrrr20200601f30r10       0.815570                 0.183374   \n",
       "3        hrrr20200601f30r100       0.747403                 0.252368   \n",
       "4        hrrr20200601f30r101       0.834906                 0.164997   \n",
       "...                      ...            ...                      ...   \n",
       "65221  hrrr20200810f24r63887       0.757714                 0.238551   \n",
       "65222  hrrr20200810f24r63888       0.736977                 0.226675   \n",
       "65223  hrrr20200810f24r63889       0.825001                 0.173489   \n",
       "65224  hrrr20200810f24r63890       0.744143                 0.219045   \n",
       "65225  hrrr20200810f24r63891       0.787801                 0.209842   \n",
       "\n",
       "       loosely_clustered_cells  tightly_clustered_cells          qlcs  \\\n",
       "0                     0.013774                 0.003351  3.874881e-05   \n",
       "1                     0.000181                 0.000059  6.439922e-07   \n",
       "2                     0.000244                 0.000258  1.507624e-05   \n",
       "3                     0.000081                 0.000077  1.128945e-06   \n",
       "4                     0.000055                 0.000024  1.851806e-07   \n",
       "...                        ...                      ...           ...   \n",
       "65221                 0.010307                 0.010619  1.221061e-03   \n",
       "65222                 0.003818                 0.009167  2.223100e-03   \n",
       "65223                 0.000367                 0.000378  2.277197e-05   \n",
       "65224                 0.003665                 0.008401  1.961064e-03   \n",
       "65225                 0.000444                 0.000659  5.292386e-05   \n",
       "\n",
       "       tropical                uniq_id       area  convex_area  ...  ymin  \\\n",
       "0      0.017239      hrrr20200601f30r0  5287.5000    8662.5000  ...     7   \n",
       "1      0.000073      hrrr20200601f30r1  1040.6250    1251.5625  ...     8   \n",
       "2      0.000539     hrrr20200601f30r10   534.3750     632.8125  ...    20   \n",
       "3      0.000071    hrrr20200601f30r100   407.8125     450.0000  ...   292   \n",
       "4      0.000017    hrrr20200601f30r101   660.9375     675.0000  ...   297   \n",
       "...         ...                    ...        ...          ...  ...   ...   \n",
       "65221  0.031832  hrrr20200810f24r63887   506.2500     632.8125  ...  1024   \n",
       "65222  0.021139  hrrr20200810f24r63888   759.3750     914.0625  ...  1028   \n",
       "65223  0.000742  hrrr20200810f24r63889   379.6875     379.6875  ...  1038   \n",
       "65224  0.022785  hrrr20200810f24r63890   351.5625     393.7500  ...  1041   \n",
       "65225  0.001200  hrrr20200810f24r63891   435.9375     464.0625  ...  1045   \n",
       "\n",
       "       ymax                                             coords  \\\n",
       "0        31  [[7, 588], [8, 587], [8, 588], [8, 589], [8, 5...   \n",
       "1        17  [[8, 1148], [9, 1146], [9, 1147], [9, 1148], [...   \n",
       "2        27  [[20, 1072], [21, 1072], [21, 1073], [22, 1069...   \n",
       "3       299  [[292, 1149], [292, 1150], [293, 1149], [294, ...   \n",
       "4       305  [[297, 469], [297, 470], [297, 471], [298, 468...   \n",
       "...     ...                                                ...   \n",
       "65221  1034  [[1024, 1096], [1024, 1097], [1024, 1098], [10...   \n",
       "65222  1041  [[1028, 1321], [1028, 1322], [1029, 1320], [10...   \n",
       "65223  1042  [[1038, 368], [1038, 369], [1038, 370], [1038,...   \n",
       "65224  1048  [[1041, 1119], [1042, 1119], [1042, 1120], [10...   \n",
       "65225  1051  [[1045, 1677], [1045, 1678], [1045, 1679], [10...   \n",
       "\n",
       "                                                geometry  start_year  \\\n",
       "0      POLYGON ((25.000 586.000, 8.000 587.000, 7.000...        2020   \n",
       "1      POLYGON ((16.000 1137.000, 10.000 1143.000, 8....        2020   \n",
       "2      POLYGON ((25.000 1066.000, 23.000 1067.000, 20...        2020   \n",
       "3      POLYGON ((295.000 1147.000, 292.000 1149.000, ...        2020   \n",
       "4      POLYGON ((301.000 465.000, 297.000 469.000, 29...        2020   \n",
       "...                                                  ...         ...   \n",
       "65221  POLYGON ((1024.000 1096.000, 1024.000 1098.000...        2020   \n",
       "65222  POLYGON ((1039.000 1316.000, 1032.000 1317.000...        2020   \n",
       "65223  POLYGON ((1039.000 367.000, 1038.000 368.000, ...        2020   \n",
       "65224  POLYGON ((1041.000 1119.000, 1042.000 1121.000...        2020   \n",
       "65225  POLYGON ((1047.000 1676.000, 1045.000 1677.000...        2020   \n",
       "\n",
       "       start_month  start_day  start_hour          start_time  forecast_hour  \n",
       "0                6          1          18 2020-06-01 18:30:00             30  \n",
       "1                6          1          18 2020-06-01 18:30:00             30  \n",
       "2                6          1          18 2020-06-01 18:30:00             30  \n",
       "3                6          1          18 2020-06-01 18:30:00             30  \n",
       "4                6          1          18 2020-06-01 18:30:00             30  \n",
       "...            ...        ...         ...                 ...            ...  \n",
       "65221            8         10           0 2020-08-10 00:24:00             24  \n",
       "65222            8         10           0 2020-08-10 00:24:00             24  \n",
       "65223            8         10           0 2020-08-10 00:24:00             24  \n",
       "65224            8         10           0 2020-08-10 00:24:00             24  \n",
       "65225            8         10           0 2020-08-10 00:24:00             24  \n",
       "\n",
       "[65226 rows x 31 columns]"
      ]
     },
     "execution_count": 2,
     "metadata": {},
     "output_type": "execute_result"
    }
   ],
   "source": [
    "#combine the mrms machine learning CSV file with the regions pickle to allow for easy editing of the data.\n",
    "df = pd.read_csv('/gpfs/fs1/home/ac.jcorner/NIU/Masters_Thesis/storm_data/hrrr/hrrr_preds_v3.csv')\n",
    "pkl_data = pd.read_pickle('storm_data/hrrr/hrrr_storm_ids2.pkl')\n",
    "\n",
    "result = df.merge(pkl_data, left_on='slice_id', right_on='uniq_id')\n",
    "result"
   ]
  },
  {
   "cell_type": "code",
   "execution_count": null,
   "id": "095a6e88",
   "metadata": {},
   "outputs": [],
   "source": []
  },
  {
   "cell_type": "code",
   "execution_count": null,
   "id": "a488654c",
   "metadata": {},
   "outputs": [],
   "source": []
  },
  {
   "cell_type": "code",
   "execution_count": 3,
   "id": "d303e185",
   "metadata": {
    "scrolled": false
   },
   "outputs": [
    {
     "data": {
      "text/plain": [
       "['/lcrc/project/rainfall/jcorner/MODE_data/202006030000',\n",
       " '/lcrc/project/rainfall/jcorner/MODE_data/202006040000',\n",
       " '/lcrc/project/rainfall/jcorner/MODE_data/202006050000',\n",
       " '/lcrc/project/rainfall/jcorner/MODE_data/202006080000',\n",
       " '/lcrc/project/rainfall/jcorner/MODE_data/202006100000',\n",
       " '/lcrc/project/rainfall/jcorner/MODE_data/202006190000',\n",
       " '/lcrc/project/rainfall/jcorner/MODE_data/202006200000',\n",
       " '/lcrc/project/rainfall/jcorner/MODE_data/202006210000',\n",
       " '/lcrc/project/rainfall/jcorner/MODE_data/202006220000',\n",
       " '/lcrc/project/rainfall/jcorner/MODE_data/202006230000',\n",
       " '/lcrc/project/rainfall/jcorner/MODE_data/202006270000',\n",
       " '/lcrc/project/rainfall/jcorner/MODE_data/202006290000',\n",
       " '/lcrc/project/rainfall/jcorner/MODE_data/202006300000',\n",
       " '/lcrc/project/rainfall/jcorner/MODE_data/202007010000',\n",
       " '/lcrc/project/rainfall/jcorner/MODE_data/202007030000',\n",
       " '/lcrc/project/rainfall/jcorner/MODE_data/202007100000',\n",
       " '/lcrc/project/rainfall/jcorner/MODE_data/202007120000',\n",
       " '/lcrc/project/rainfall/jcorner/MODE_data/202007160000',\n",
       " '/lcrc/project/rainfall/jcorner/MODE_data/202007200000',\n",
       " '/lcrc/project/rainfall/jcorner/MODE_data/202007210000',\n",
       " '/lcrc/project/rainfall/jcorner/MODE_data/202007250000',\n",
       " '/lcrc/project/rainfall/jcorner/MODE_data/202007300000',\n",
       " '/lcrc/project/rainfall/jcorner/MODE_data/202008110000']"
      ]
     },
     "execution_count": 3,
     "metadata": {},
     "output_type": "execute_result"
    }
   ],
   "source": [
    "storm_dates = glob.glob('/lcrc/project/rainfall/jcorner/MODE_data/*')\n",
    "storm_dates.sort()\n",
    "storm_dates"
   ]
  },
  {
   "cell_type": "code",
   "execution_count": 4,
   "id": "a6449cea",
   "metadata": {},
   "outputs": [],
   "source": [
    "storm_modes = ['multiple_isolated_cells', 'loosely_clustered_cells', 'tightly_clustered_cells', 'qlcs', 'isolated_cell']\n",
    "\n",
    "day = 0\n",
    "month = 0\n",
    "hour = 0\n",
    "fhour = 0\n",
    "\n",
    "timesteps = []\n",
    "\n",
    "for rid, row in result.iterrows():\n",
    "    if row.start_month == month and row.start_day == day and row.forecast_hour == fhour:\n",
    "        pass\n",
    "    \n",
    "    else:\n",
    "        timesteps.append((row.start_month, row.start_day, row.start_hour, row.forecast_hour))\n",
    "         \n",
    "        day = row.start_day\n",
    "        month = row.start_month\n",
    "        hour = row.start_hour\n",
    "        fhour = row.forecast_hour"
   ]
  },
  {
   "cell_type": "code",
   "execution_count": null,
   "id": "89755249",
   "metadata": {},
   "outputs": [],
   "source": []
  },
  {
   "cell_type": "markdown",
   "id": "4ec59a7c",
   "metadata": {},
   "source": [
    "# PLEASE USE THIS ONE FOR NOW "
   ]
  },
  {
   "cell_type": "code",
   "execution_count": 6,
   "id": "7cf707ed",
   "metadata": {
    "scrolled": true
   },
   "outputs": [
    {
     "name": "stderr",
     "output_type": "stream",
     "text": [
      "Ignoring index file '/lcrc/project/rainfall/jcorner/MODE_data/202006030000/hrrr_t20200601T1800z_wrfsfcf30.grib2.923a8.idx' incompatible with GRIB file\n"
     ]
    },
    {
     "name": "stdout",
     "output_type": "stream",
     "text": [
      "(6, 1, 18, 30)\n",
      "multiple_isolated_cells\n",
      "loosely_clustered_cells\n",
      "tightly_clustered_cells\n",
      "qlcs\n"
     ]
    },
    {
     "name": "stderr",
     "output_type": "stream",
     "text": [
      "Ignoring index file '/lcrc/project/rainfall/jcorner/MODE_data/202006030000/hrrr_t20200601T1200z_wrfsfcf36.grib2.923a8.idx' incompatible with GRIB file\n"
     ]
    },
    {
     "name": "stdout",
     "output_type": "stream",
     "text": [
      "isolated_cell\n",
      "(6, 1, 12, 36)\n",
      "multiple_isolated_cells\n",
      "loosely_clustered_cells\n",
      "tightly_clustered_cells\n",
      "qlcs\n",
      "isolated_cell\n"
     ]
    },
    {
     "name": "stderr",
     "output_type": "stream",
     "text": [
      "Ignoring index file '/lcrc/project/rainfall/jcorner/MODE_data/202006030000/hrrr_t20200602T2100z_wrfsfcf03.grib2.923a8.idx' incompatible with GRIB file\n"
     ]
    },
    {
     "name": "stdout",
     "output_type": "stream",
     "text": [
      "(6, 2, 21, 3)\n",
      "multiple_isolated_cells\n",
      "loosely_clustered_cells\n",
      "tightly_clustered_cells\n",
      "qlcs\n",
      "isolated_cell\n"
     ]
    },
    {
     "name": "stderr",
     "output_type": "stream",
     "text": [
      "Ignoring index file '/lcrc/project/rainfall/jcorner/MODE_data/202006030000/hrrr_t20200602T1800z_wrfsfcf06.grib2.923a8.idx' incompatible with GRIB file\n"
     ]
    },
    {
     "name": "stdout",
     "output_type": "stream",
     "text": [
      "(6, 2, 18, 6)\n",
      "multiple_isolated_cells\n",
      "loosely_clustered_cells\n",
      "tightly_clustered_cells\n",
      "qlcs\n",
      "isolated_cell\n"
     ]
    },
    {
     "name": "stderr",
     "output_type": "stream",
     "text": [
      "Ignoring index file '/lcrc/project/rainfall/jcorner/MODE_data/202006030000/hrrr_t20200602T1500z_wrfsfcf09.grib2.923a8.idx' incompatible with GRIB file\n"
     ]
    },
    {
     "name": "stdout",
     "output_type": "stream",
     "text": [
      "(6, 2, 15, 9)\n",
      "multiple_isolated_cells\n",
      "loosely_clustered_cells\n",
      "tightly_clustered_cells\n",
      "qlcs\n",
      "isolated_cell\n"
     ]
    },
    {
     "name": "stderr",
     "output_type": "stream",
     "text": [
      "Ignoring index file '/lcrc/project/rainfall/jcorner/MODE_data/202006030000/hrrr_t20200602T1200z_wrfsfcf12.grib2.923a8.idx' incompatible with GRIB file\n"
     ]
    },
    {
     "name": "stdout",
     "output_type": "stream",
     "text": [
      "(6, 2, 12, 12)\n",
      "multiple_isolated_cells\n",
      "loosely_clustered_cells\n",
      "tightly_clustered_cells\n",
      "qlcs\n",
      "isolated_cell\n"
     ]
    },
    {
     "name": "stderr",
     "output_type": "stream",
     "text": [
      "Ignoring index file '/lcrc/project/rainfall/jcorner/MODE_data/202006030000/hrrr_t20200602T0900z_wrfsfcf15.grib2.923a8.idx' incompatible with GRIB file\n"
     ]
    },
    {
     "name": "stdout",
     "output_type": "stream",
     "text": [
      "(6, 2, 9, 15)\n",
      "multiple_isolated_cells\n",
      "loosely_clustered_cells\n",
      "tightly_clustered_cells\n",
      "qlcs\n",
      "isolated_cell\n"
     ]
    },
    {
     "name": "stderr",
     "output_type": "stream",
     "text": [
      "Ignoring index file '/lcrc/project/rainfall/jcorner/MODE_data/202006030000/hrrr_t20200602T0600z_wrfsfcf18.grib2.923a8.idx' incompatible with GRIB file\n"
     ]
    },
    {
     "name": "stdout",
     "output_type": "stream",
     "text": [
      "(6, 2, 6, 18)\n",
      "multiple_isolated_cells\n",
      "loosely_clustered_cells\n",
      "tightly_clustered_cells\n",
      "qlcs\n",
      "isolated_cell\n"
     ]
    },
    {
     "name": "stderr",
     "output_type": "stream",
     "text": [
      "Ignoring index file '/lcrc/project/rainfall/jcorner/MODE_data/202006030000/hrrr_t20200602T0000z_wrfsfcf24.grib2.923a8.idx' incompatible with GRIB file\n"
     ]
    },
    {
     "name": "stdout",
     "output_type": "stream",
     "text": [
      "(6, 2, 0, 24)\n",
      "multiple_isolated_cells\n",
      "loosely_clustered_cells\n",
      "tightly_clustered_cells\n",
      "qlcs\n",
      "isolated_cell\n"
     ]
    },
    {
     "name": "stderr",
     "output_type": "stream",
     "text": [
      "Ignoring index file '/lcrc/project/rainfall/jcorner/MODE_data/202006040000/hrrr_t20200602T1800z_wrfsfcf30.grib2.923a8.idx' incompatible with GRIB file\n"
     ]
    },
    {
     "name": "stdout",
     "output_type": "stream",
     "text": [
      "(6, 2, 18, 30)\n",
      "multiple_isolated_cells\n",
      "loosely_clustered_cells\n",
      "tightly_clustered_cells\n",
      "qlcs\n",
      "isolated_cell\n"
     ]
    },
    {
     "name": "stderr",
     "output_type": "stream",
     "text": [
      "Ignoring index file '/lcrc/project/rainfall/jcorner/MODE_data/202006040000/hrrr_t20200602T1200z_wrfsfcf36.grib2.923a8.idx' incompatible with GRIB file\n"
     ]
    },
    {
     "name": "stdout",
     "output_type": "stream",
     "text": [
      "(6, 2, 12, 36)\n",
      "multiple_isolated_cells\n",
      "loosely_clustered_cells\n",
      "tightly_clustered_cells\n",
      "qlcs\n"
     ]
    },
    {
     "name": "stderr",
     "output_type": "stream",
     "text": [
      "Ignoring index file '/lcrc/project/rainfall/jcorner/MODE_data/202006040000/hrrr_t20200603T2100z_wrfsfcf03.grib2.923a8.idx' incompatible with GRIB file\n"
     ]
    },
    {
     "name": "stdout",
     "output_type": "stream",
     "text": [
      "isolated_cell\n",
      "(6, 3, 21, 3)\n",
      "multiple_isolated_cells\n",
      "loosely_clustered_cells\n",
      "tightly_clustered_cells\n",
      "qlcs\n",
      "isolated_cell\n"
     ]
    },
    {
     "name": "stderr",
     "output_type": "stream",
     "text": [
      "Ignoring index file '/lcrc/project/rainfall/jcorner/MODE_data/202006040000/hrrr_t20200603T1800z_wrfsfcf06.grib2.923a8.idx' incompatible with GRIB file\n"
     ]
    },
    {
     "name": "stdout",
     "output_type": "stream",
     "text": [
      "(6, 3, 18, 6)\n",
      "multiple_isolated_cells\n",
      "loosely_clustered_cells\n",
      "tightly_clustered_cells\n",
      "qlcs\n",
      "isolated_cell\n"
     ]
    },
    {
     "name": "stderr",
     "output_type": "stream",
     "text": [
      "Ignoring index file '/lcrc/project/rainfall/jcorner/MODE_data/202006040000/hrrr_t20200603T1500z_wrfsfcf09.grib2.923a8.idx' incompatible with GRIB file\n"
     ]
    },
    {
     "name": "stdout",
     "output_type": "stream",
     "text": [
      "(6, 3, 15, 9)\n",
      "multiple_isolated_cells\n",
      "loosely_clustered_cells\n",
      "tightly_clustered_cells\n",
      "qlcs\n",
      "isolated_cell\n"
     ]
    },
    {
     "name": "stderr",
     "output_type": "stream",
     "text": [
      "Ignoring index file '/lcrc/project/rainfall/jcorner/MODE_data/202006040000/hrrr_t20200603T1200z_wrfsfcf12.grib2.923a8.idx' incompatible with GRIB file\n"
     ]
    },
    {
     "name": "stdout",
     "output_type": "stream",
     "text": [
      "(6, 3, 12, 12)\n",
      "multiple_isolated_cells\n",
      "loosely_clustered_cells\n",
      "tightly_clustered_cells\n",
      "qlcs\n",
      "isolated_cell\n"
     ]
    },
    {
     "name": "stderr",
     "output_type": "stream",
     "text": [
      "Ignoring index file '/lcrc/project/rainfall/jcorner/MODE_data/202006040000/hrrr_t20200603T0900z_wrfsfcf15.grib2.923a8.idx' incompatible with GRIB file\n"
     ]
    },
    {
     "name": "stdout",
     "output_type": "stream",
     "text": [
      "(6, 3, 9, 15)\n",
      "multiple_isolated_cells\n",
      "loosely_clustered_cells\n",
      "tightly_clustered_cells\n",
      "qlcs\n",
      "isolated_cell\n"
     ]
    },
    {
     "name": "stderr",
     "output_type": "stream",
     "text": [
      "Ignoring index file '/lcrc/project/rainfall/jcorner/MODE_data/202006040000/hrrr_t20200603T0600z_wrfsfcf18.grib2.923a8.idx' incompatible with GRIB file\n"
     ]
    },
    {
     "name": "stdout",
     "output_type": "stream",
     "text": [
      "(6, 3, 6, 18)\n",
      "multiple_isolated_cells\n",
      "loosely_clustered_cells\n",
      "tightly_clustered_cells\n",
      "qlcs\n",
      "isolated_cell\n"
     ]
    },
    {
     "name": "stderr",
     "output_type": "stream",
     "text": [
      "Ignoring index file '/lcrc/project/rainfall/jcorner/MODE_data/202006040000/hrrr_t20200603T0000z_wrfsfcf24.grib2.923a8.idx' incompatible with GRIB file\n"
     ]
    },
    {
     "name": "stdout",
     "output_type": "stream",
     "text": [
      "(6, 3, 0, 24)\n",
      "multiple_isolated_cells\n",
      "loosely_clustered_cells\n",
      "tightly_clustered_cells\n",
      "qlcs\n",
      "isolated_cell\n"
     ]
    },
    {
     "name": "stderr",
     "output_type": "stream",
     "text": [
      "Ignoring index file '/lcrc/project/rainfall/jcorner/MODE_data/202006050000/hrrr_t20200603T1800z_wrfsfcf30.grib2.923a8.idx' incompatible with GRIB file\n"
     ]
    },
    {
     "name": "stdout",
     "output_type": "stream",
     "text": [
      "(6, 3, 18, 30)\n",
      "multiple_isolated_cells\n",
      "loosely_clustered_cells\n",
      "tightly_clustered_cells\n",
      "qlcs\n",
      "isolated_cell\n"
     ]
    },
    {
     "name": "stderr",
     "output_type": "stream",
     "text": [
      "Ignoring index file '/lcrc/project/rainfall/jcorner/MODE_data/202006050000/hrrr_t20200603T1200z_wrfsfcf36.grib2.923a8.idx' incompatible with GRIB file\n"
     ]
    },
    {
     "name": "stdout",
     "output_type": "stream",
     "text": [
      "(6, 3, 12, 36)\n",
      "multiple_isolated_cells\n",
      "loosely_clustered_cells\n",
      "tightly_clustered_cells\n",
      "qlcs\n",
      "isolated_cell\n"
     ]
    },
    {
     "name": "stderr",
     "output_type": "stream",
     "text": [
      "Ignoring index file '/lcrc/project/rainfall/jcorner/MODE_data/202006050000/hrrr_t20200604T2100z_wrfsfcf03.grib2.923a8.idx' incompatible with GRIB file\n"
     ]
    },
    {
     "name": "stdout",
     "output_type": "stream",
     "text": [
      "(6, 4, 21, 3)\n",
      "multiple_isolated_cells\n",
      "loosely_clustered_cells\n",
      "tightly_clustered_cells\n",
      "qlcs\n",
      "isolated_cell\n"
     ]
    },
    {
     "name": "stderr",
     "output_type": "stream",
     "text": [
      "Ignoring index file '/lcrc/project/rainfall/jcorner/MODE_data/202006050000/hrrr_t20200604T1800z_wrfsfcf06.grib2.923a8.idx' incompatible with GRIB file\n"
     ]
    },
    {
     "name": "stdout",
     "output_type": "stream",
     "text": [
      "(6, 4, 18, 6)\n",
      "multiple_isolated_cells\n",
      "loosely_clustered_cells\n",
      "tightly_clustered_cells\n",
      "qlcs\n",
      "isolated_cell\n"
     ]
    },
    {
     "name": "stderr",
     "output_type": "stream",
     "text": [
      "Ignoring index file '/lcrc/project/rainfall/jcorner/MODE_data/202006050000/hrrr_t20200604T1500z_wrfsfcf09.grib2.923a8.idx' incompatible with GRIB file\n"
     ]
    },
    {
     "name": "stdout",
     "output_type": "stream",
     "text": [
      "(6, 4, 15, 9)\n",
      "multiple_isolated_cells\n",
      "loosely_clustered_cells\n",
      "tightly_clustered_cells\n",
      "qlcs\n",
      "isolated_cell\n"
     ]
    },
    {
     "name": "stderr",
     "output_type": "stream",
     "text": [
      "Ignoring index file '/lcrc/project/rainfall/jcorner/MODE_data/202006050000/hrrr_t20200604T1200z_wrfsfcf12.grib2.923a8.idx' incompatible with GRIB file\n"
     ]
    },
    {
     "name": "stdout",
     "output_type": "stream",
     "text": [
      "(6, 4, 12, 12)\n",
      "multiple_isolated_cells\n",
      "loosely_clustered_cells\n",
      "tightly_clustered_cells\n",
      "qlcs\n",
      "isolated_cell\n"
     ]
    },
    {
     "name": "stderr",
     "output_type": "stream",
     "text": [
      "Ignoring index file '/lcrc/project/rainfall/jcorner/MODE_data/202006050000/hrrr_t20200604T0900z_wrfsfcf15.grib2.923a8.idx' incompatible with GRIB file\n"
     ]
    },
    {
     "name": "stdout",
     "output_type": "stream",
     "text": [
      "(6, 4, 9, 15)\n",
      "multiple_isolated_cells\n",
      "loosely_clustered_cells\n",
      "tightly_clustered_cells\n",
      "qlcs\n",
      "isolated_cell\n"
     ]
    },
    {
     "name": "stderr",
     "output_type": "stream",
     "text": [
      "Ignoring index file '/lcrc/project/rainfall/jcorner/MODE_data/202006050000/hrrr_t20200604T0600z_wrfsfcf18.grib2.923a8.idx' incompatible with GRIB file\n"
     ]
    },
    {
     "name": "stdout",
     "output_type": "stream",
     "text": [
      "(6, 4, 6, 18)\n",
      "multiple_isolated_cells\n",
      "loosely_clustered_cells\n",
      "tightly_clustered_cells\n",
      "qlcs\n",
      "isolated_cell\n"
     ]
    },
    {
     "name": "stderr",
     "output_type": "stream",
     "text": [
      "Ignoring index file '/lcrc/project/rainfall/jcorner/MODE_data/202006050000/hrrr_t20200604T0000z_wrfsfcf24.grib2.923a8.idx' incompatible with GRIB file\n"
     ]
    },
    {
     "name": "stdout",
     "output_type": "stream",
     "text": [
      "(6, 4, 0, 24)\n",
      "multiple_isolated_cells\n",
      "loosely_clustered_cells\n",
      "tightly_clustered_cells\n",
      "qlcs\n",
      "isolated_cell\n"
     ]
    },
    {
     "name": "stderr",
     "output_type": "stream",
     "text": [
      "Ignoring index file '/lcrc/project/rainfall/jcorner/MODE_data/202006080000/hrrr_t20200606T1800z_wrfsfcf30.grib2.923a8.idx' incompatible with GRIB file\n"
     ]
    },
    {
     "name": "stdout",
     "output_type": "stream",
     "text": [
      "(6, 6, 18, 30)\n",
      "multiple_isolated_cells\n",
      "loosely_clustered_cells\n",
      "tightly_clustered_cells\n",
      "qlcs\n",
      "isolated_cell\n"
     ]
    },
    {
     "name": "stderr",
     "output_type": "stream",
     "text": [
      "Ignoring index file '/lcrc/project/rainfall/jcorner/MODE_data/202006080000/hrrr_t20200606T1200z_wrfsfcf36.grib2.923a8.idx' incompatible with GRIB file\n"
     ]
    },
    {
     "name": "stdout",
     "output_type": "stream",
     "text": [
      "(6, 6, 12, 36)\n",
      "multiple_isolated_cells\n",
      "loosely_clustered_cells\n",
      "tightly_clustered_cells\n",
      "qlcs\n",
      "isolated_cell\n"
     ]
    },
    {
     "name": "stderr",
     "output_type": "stream",
     "text": [
      "Ignoring index file '/lcrc/project/rainfall/jcorner/MODE_data/202006080000/hrrr_t20200607T2100z_wrfsfcf03.grib2.923a8.idx' incompatible with GRIB file\n"
     ]
    },
    {
     "name": "stdout",
     "output_type": "stream",
     "text": [
      "(6, 7, 21, 3)\n",
      "multiple_isolated_cells\n",
      "loosely_clustered_cells\n",
      "tightly_clustered_cells\n",
      "qlcs\n",
      "isolated_cell\n"
     ]
    },
    {
     "name": "stderr",
     "output_type": "stream",
     "text": [
      "Ignoring index file '/lcrc/project/rainfall/jcorner/MODE_data/202006080000/hrrr_t20200607T1800z_wrfsfcf06.grib2.923a8.idx' incompatible with GRIB file\n"
     ]
    },
    {
     "name": "stdout",
     "output_type": "stream",
     "text": [
      "(6, 7, 18, 6)\n",
      "multiple_isolated_cells\n",
      "loosely_clustered_cells\n",
      "tightly_clustered_cells\n",
      "qlcs\n",
      "isolated_cell\n"
     ]
    },
    {
     "name": "stderr",
     "output_type": "stream",
     "text": [
      "Ignoring index file '/lcrc/project/rainfall/jcorner/MODE_data/202006080000/hrrr_t20200607T1500z_wrfsfcf09.grib2.923a8.idx' incompatible with GRIB file\n"
     ]
    },
    {
     "name": "stdout",
     "output_type": "stream",
     "text": [
      "(6, 7, 15, 9)\n",
      "multiple_isolated_cells\n",
      "loosely_clustered_cells\n",
      "tightly_clustered_cells\n",
      "qlcs\n",
      "isolated_cell\n"
     ]
    },
    {
     "name": "stderr",
     "output_type": "stream",
     "text": [
      "Ignoring index file '/lcrc/project/rainfall/jcorner/MODE_data/202006080000/hrrr_t20200607T1200z_wrfsfcf12.grib2.923a8.idx' incompatible with GRIB file\n"
     ]
    },
    {
     "name": "stdout",
     "output_type": "stream",
     "text": [
      "(6, 7, 12, 12)\n",
      "multiple_isolated_cells\n",
      "loosely_clustered_cells\n",
      "tightly_clustered_cells\n",
      "qlcs\n",
      "isolated_cell\n"
     ]
    },
    {
     "name": "stderr",
     "output_type": "stream",
     "text": [
      "Ignoring index file '/lcrc/project/rainfall/jcorner/MODE_data/202006080000/hrrr_t20200607T0900z_wrfsfcf15.grib2.923a8.idx' incompatible with GRIB file\n"
     ]
    },
    {
     "name": "stdout",
     "output_type": "stream",
     "text": [
      "(6, 7, 9, 15)\n",
      "multiple_isolated_cells\n",
      "loosely_clustered_cells\n",
      "tightly_clustered_cells\n",
      "qlcs\n",
      "isolated_cell\n"
     ]
    },
    {
     "name": "stderr",
     "output_type": "stream",
     "text": [
      "Ignoring index file '/lcrc/project/rainfall/jcorner/MODE_data/202006080000/hrrr_t20200607T0600z_wrfsfcf18.grib2.923a8.idx' incompatible with GRIB file\n"
     ]
    },
    {
     "name": "stdout",
     "output_type": "stream",
     "text": [
      "(6, 7, 6, 18)\n",
      "multiple_isolated_cells\n",
      "loosely_clustered_cells\n",
      "tightly_clustered_cells\n",
      "qlcs\n",
      "isolated_cell\n"
     ]
    },
    {
     "name": "stderr",
     "output_type": "stream",
     "text": [
      "Ignoring index file '/lcrc/project/rainfall/jcorner/MODE_data/202006080000/hrrr_t20200607T0000z_wrfsfcf24.grib2.923a8.idx' incompatible with GRIB file\n"
     ]
    },
    {
     "name": "stdout",
     "output_type": "stream",
     "text": [
      "(6, 7, 0, 24)\n",
      "multiple_isolated_cells\n",
      "loosely_clustered_cells\n",
      "tightly_clustered_cells\n",
      "qlcs\n",
      "isolated_cell\n"
     ]
    },
    {
     "name": "stderr",
     "output_type": "stream",
     "text": [
      "Ignoring index file '/lcrc/project/rainfall/jcorner/MODE_data/202006100000/hrrr_t20200608T1800z_wrfsfcf30.grib2.923a8.idx' incompatible with GRIB file\n"
     ]
    },
    {
     "name": "stdout",
     "output_type": "stream",
     "text": [
      "(6, 8, 18, 30)\n",
      "multiple_isolated_cells\n",
      "loosely_clustered_cells\n",
      "tightly_clustered_cells\n",
      "qlcs\n",
      "isolated_cell\n"
     ]
    },
    {
     "name": "stderr",
     "output_type": "stream",
     "text": [
      "Ignoring index file '/lcrc/project/rainfall/jcorner/MODE_data/202006100000/hrrr_t20200608T1200z_wrfsfcf36.grib2.923a8.idx' incompatible with GRIB file\n"
     ]
    },
    {
     "name": "stdout",
     "output_type": "stream",
     "text": [
      "(6, 8, 12, 36)\n",
      "multiple_isolated_cells\n",
      "loosely_clustered_cells\n",
      "tightly_clustered_cells\n",
      "qlcs\n",
      "isolated_cell\n"
     ]
    },
    {
     "name": "stderr",
     "output_type": "stream",
     "text": [
      "Ignoring index file '/lcrc/project/rainfall/jcorner/MODE_data/202006100000/hrrr_t20200609T2100z_wrfsfcf03.grib2.923a8.idx' incompatible with GRIB file\n"
     ]
    },
    {
     "name": "stdout",
     "output_type": "stream",
     "text": [
      "(6, 9, 21, 3)\n",
      "multiple_isolated_cells\n",
      "loosely_clustered_cells\n",
      "tightly_clustered_cells\n",
      "qlcs\n",
      "isolated_cell\n"
     ]
    },
    {
     "name": "stderr",
     "output_type": "stream",
     "text": [
      "Ignoring index file '/lcrc/project/rainfall/jcorner/MODE_data/202006100000/hrrr_t20200609T1800z_wrfsfcf06.grib2.923a8.idx' incompatible with GRIB file\n"
     ]
    },
    {
     "name": "stdout",
     "output_type": "stream",
     "text": [
      "(6, 9, 18, 6)\n",
      "multiple_isolated_cells\n",
      "loosely_clustered_cells\n",
      "tightly_clustered_cells\n",
      "qlcs\n",
      "isolated_cell\n"
     ]
    },
    {
     "name": "stderr",
     "output_type": "stream",
     "text": [
      "Ignoring index file '/lcrc/project/rainfall/jcorner/MODE_data/202006100000/hrrr_t20200609T1500z_wrfsfcf09.grib2.923a8.idx' incompatible with GRIB file\n"
     ]
    },
    {
     "name": "stdout",
     "output_type": "stream",
     "text": [
      "(6, 9, 15, 9)\n",
      "multiple_isolated_cells\n",
      "loosely_clustered_cells\n",
      "tightly_clustered_cells\n",
      "qlcs\n",
      "isolated_cell\n"
     ]
    },
    {
     "name": "stderr",
     "output_type": "stream",
     "text": [
      "Ignoring index file '/lcrc/project/rainfall/jcorner/MODE_data/202006100000/hrrr_t20200609T1200z_wrfsfcf12.grib2.923a8.idx' incompatible with GRIB file\n"
     ]
    },
    {
     "name": "stdout",
     "output_type": "stream",
     "text": [
      "(6, 9, 12, 12)\n",
      "multiple_isolated_cells\n",
      "loosely_clustered_cells\n",
      "tightly_clustered_cells\n",
      "qlcs\n",
      "isolated_cell\n"
     ]
    },
    {
     "name": "stderr",
     "output_type": "stream",
     "text": [
      "Ignoring index file '/lcrc/project/rainfall/jcorner/MODE_data/202006100000/hrrr_t20200609T0900z_wrfsfcf15.grib2.923a8.idx' incompatible with GRIB file\n"
     ]
    },
    {
     "name": "stdout",
     "output_type": "stream",
     "text": [
      "(6, 9, 9, 15)\n",
      "multiple_isolated_cells\n",
      "loosely_clustered_cells\n",
      "tightly_clustered_cells\n",
      "qlcs\n",
      "isolated_cell\n"
     ]
    },
    {
     "name": "stderr",
     "output_type": "stream",
     "text": [
      "Ignoring index file '/lcrc/project/rainfall/jcorner/MODE_data/202006100000/hrrr_t20200609T0600z_wrfsfcf18.grib2.923a8.idx' incompatible with GRIB file\n"
     ]
    },
    {
     "name": "stdout",
     "output_type": "stream",
     "text": [
      "(6, 9, 6, 18)\n",
      "multiple_isolated_cells\n",
      "loosely_clustered_cells\n",
      "tightly_clustered_cells\n",
      "qlcs\n",
      "isolated_cell\n"
     ]
    },
    {
     "name": "stderr",
     "output_type": "stream",
     "text": [
      "Ignoring index file '/lcrc/project/rainfall/jcorner/MODE_data/202006100000/hrrr_t20200609T0000z_wrfsfcf24.grib2.923a8.idx' incompatible with GRIB file\n"
     ]
    },
    {
     "name": "stdout",
     "output_type": "stream",
     "text": [
      "(6, 9, 0, 24)\n",
      "multiple_isolated_cells\n",
      "loosely_clustered_cells\n",
      "tightly_clustered_cells\n",
      "qlcs\n",
      "isolated_cell\n"
     ]
    },
    {
     "name": "stderr",
     "output_type": "stream",
     "text": [
      "Ignoring index file '/lcrc/project/rainfall/jcorner/MODE_data/202006190000/hrrr_t20200617T1800z_wrfsfcf30.grib2.923a8.idx' incompatible with GRIB file\n"
     ]
    },
    {
     "name": "stdout",
     "output_type": "stream",
     "text": [
      "(6, 17, 18, 30)\n",
      "multiple_isolated_cells\n",
      "loosely_clustered_cells\n",
      "tightly_clustered_cells\n",
      "qlcs\n",
      "isolated_cell\n"
     ]
    },
    {
     "name": "stderr",
     "output_type": "stream",
     "text": [
      "Ignoring index file '/lcrc/project/rainfall/jcorner/MODE_data/202006190000/hrrr_t20200617T1200z_wrfsfcf36.grib2.923a8.idx' incompatible with GRIB file\n"
     ]
    },
    {
     "name": "stdout",
     "output_type": "stream",
     "text": [
      "(6, 17, 12, 36)\n",
      "multiple_isolated_cells\n",
      "loosely_clustered_cells\n",
      "tightly_clustered_cells\n",
      "qlcs\n",
      "isolated_cell\n"
     ]
    },
    {
     "name": "stderr",
     "output_type": "stream",
     "text": [
      "Ignoring index file '/lcrc/project/rainfall/jcorner/MODE_data/202006190000/hrrr_t20200618T2100z_wrfsfcf03.grib2.923a8.idx' incompatible with GRIB file\n"
     ]
    },
    {
     "name": "stdout",
     "output_type": "stream",
     "text": [
      "(6, 18, 21, 3)\n",
      "multiple_isolated_cells\n",
      "loosely_clustered_cells\n",
      "tightly_clustered_cells\n",
      "qlcs\n"
     ]
    },
    {
     "name": "stderr",
     "output_type": "stream",
     "text": [
      "Ignoring index file '/lcrc/project/rainfall/jcorner/MODE_data/202006190000/hrrr_t20200618T1800z_wrfsfcf06.grib2.923a8.idx' incompatible with GRIB file\n"
     ]
    },
    {
     "name": "stdout",
     "output_type": "stream",
     "text": [
      "isolated_cell\n",
      "(6, 18, 18, 6)\n",
      "multiple_isolated_cells\n",
      "loosely_clustered_cells\n",
      "tightly_clustered_cells\n",
      "qlcs\n",
      "isolated_cell\n"
     ]
    },
    {
     "name": "stderr",
     "output_type": "stream",
     "text": [
      "Ignoring index file '/lcrc/project/rainfall/jcorner/MODE_data/202006190000/hrrr_t20200618T1500z_wrfsfcf09.grib2.923a8.idx' incompatible with GRIB file\n"
     ]
    },
    {
     "name": "stdout",
     "output_type": "stream",
     "text": [
      "(6, 18, 15, 9)\n",
      "multiple_isolated_cells\n",
      "loosely_clustered_cells\n",
      "tightly_clustered_cells\n",
      "qlcs\n",
      "isolated_cell\n"
     ]
    },
    {
     "name": "stderr",
     "output_type": "stream",
     "text": [
      "Ignoring index file '/lcrc/project/rainfall/jcorner/MODE_data/202006190000/hrrr_t20200618T1200z_wrfsfcf12.grib2.923a8.idx' incompatible with GRIB file\n"
     ]
    },
    {
     "name": "stdout",
     "output_type": "stream",
     "text": [
      "(6, 18, 12, 12)\n",
      "multiple_isolated_cells\n",
      "loosely_clustered_cells\n",
      "tightly_clustered_cells\n",
      "qlcs\n",
      "isolated_cell\n"
     ]
    },
    {
     "name": "stderr",
     "output_type": "stream",
     "text": [
      "Ignoring index file '/lcrc/project/rainfall/jcorner/MODE_data/202006190000/hrrr_t20200618T0900z_wrfsfcf15.grib2.923a8.idx' incompatible with GRIB file\n"
     ]
    },
    {
     "name": "stdout",
     "output_type": "stream",
     "text": [
      "(6, 18, 9, 15)\n",
      "multiple_isolated_cells\n",
      "loosely_clustered_cells\n",
      "tightly_clustered_cells\n",
      "qlcs\n",
      "isolated_cell\n"
     ]
    },
    {
     "name": "stderr",
     "output_type": "stream",
     "text": [
      "Ignoring index file '/lcrc/project/rainfall/jcorner/MODE_data/202006190000/hrrr_t20200618T0600z_wrfsfcf18.grib2.923a8.idx' incompatible with GRIB file\n"
     ]
    },
    {
     "name": "stdout",
     "output_type": "stream",
     "text": [
      "(6, 18, 6, 18)\n",
      "multiple_isolated_cells\n",
      "loosely_clustered_cells\n",
      "tightly_clustered_cells\n",
      "qlcs\n",
      "isolated_cell\n"
     ]
    },
    {
     "name": "stderr",
     "output_type": "stream",
     "text": [
      "Ignoring index file '/lcrc/project/rainfall/jcorner/MODE_data/202006190000/hrrr_t20200618T0000z_wrfsfcf24.grib2.923a8.idx' incompatible with GRIB file\n"
     ]
    },
    {
     "name": "stdout",
     "output_type": "stream",
     "text": [
      "(6, 18, 0, 24)\n",
      "multiple_isolated_cells\n",
      "loosely_clustered_cells\n",
      "tightly_clustered_cells\n",
      "qlcs\n",
      "isolated_cell\n"
     ]
    },
    {
     "name": "stderr",
     "output_type": "stream",
     "text": [
      "Ignoring index file '/lcrc/project/rainfall/jcorner/MODE_data/202006200000/hrrr_t20200618T1800z_wrfsfcf30.grib2.923a8.idx' incompatible with GRIB file\n"
     ]
    },
    {
     "name": "stdout",
     "output_type": "stream",
     "text": [
      "(6, 18, 18, 30)\n",
      "multiple_isolated_cells\n",
      "loosely_clustered_cells\n",
      "tightly_clustered_cells\n",
      "qlcs\n"
     ]
    },
    {
     "name": "stderr",
     "output_type": "stream",
     "text": [
      "Ignoring index file '/lcrc/project/rainfall/jcorner/MODE_data/202006200000/hrrr_t20200618T1200z_wrfsfcf36.grib2.923a8.idx' incompatible with GRIB file\n"
     ]
    },
    {
     "name": "stdout",
     "output_type": "stream",
     "text": [
      "isolated_cell\n",
      "(6, 18, 12, 36)\n",
      "multiple_isolated_cells\n",
      "loosely_clustered_cells\n",
      "tightly_clustered_cells\n",
      "qlcs\n",
      "isolated_cell\n"
     ]
    },
    {
     "name": "stderr",
     "output_type": "stream",
     "text": [
      "Ignoring index file '/lcrc/project/rainfall/jcorner/MODE_data/202006200000/hrrr_t20200619T2100z_wrfsfcf03.grib2.923a8.idx' incompatible with GRIB file\n"
     ]
    },
    {
     "name": "stdout",
     "output_type": "stream",
     "text": [
      "(6, 19, 21, 3)\n",
      "multiple_isolated_cells\n",
      "loosely_clustered_cells\n",
      "tightly_clustered_cells\n",
      "qlcs\n",
      "isolated_cell\n"
     ]
    },
    {
     "name": "stderr",
     "output_type": "stream",
     "text": [
      "Ignoring index file '/lcrc/project/rainfall/jcorner/MODE_data/202006200000/hrrr_t20200619T1800z_wrfsfcf06.grib2.923a8.idx' incompatible with GRIB file\n"
     ]
    },
    {
     "name": "stdout",
     "output_type": "stream",
     "text": [
      "(6, 19, 18, 6)\n",
      "multiple_isolated_cells\n",
      "loosely_clustered_cells\n",
      "tightly_clustered_cells\n",
      "qlcs\n",
      "isolated_cell\n"
     ]
    },
    {
     "name": "stderr",
     "output_type": "stream",
     "text": [
      "Ignoring index file '/lcrc/project/rainfall/jcorner/MODE_data/202006200000/hrrr_t20200619T1500z_wrfsfcf09.grib2.923a8.idx' incompatible with GRIB file\n"
     ]
    },
    {
     "name": "stdout",
     "output_type": "stream",
     "text": [
      "(6, 19, 15, 9)\n",
      "multiple_isolated_cells\n",
      "loosely_clustered_cells\n",
      "tightly_clustered_cells\n",
      "qlcs\n",
      "isolated_cell\n"
     ]
    },
    {
     "name": "stderr",
     "output_type": "stream",
     "text": [
      "Ignoring index file '/lcrc/project/rainfall/jcorner/MODE_data/202006200000/hrrr_t20200619T1200z_wrfsfcf12.grib2.923a8.idx' incompatible with GRIB file\n"
     ]
    },
    {
     "name": "stdout",
     "output_type": "stream",
     "text": [
      "(6, 19, 12, 12)\n",
      "multiple_isolated_cells\n",
      "loosely_clustered_cells\n",
      "tightly_clustered_cells\n",
      "qlcs\n"
     ]
    },
    {
     "name": "stderr",
     "output_type": "stream",
     "text": [
      "Ignoring index file '/lcrc/project/rainfall/jcorner/MODE_data/202006200000/hrrr_t20200619T0900z_wrfsfcf15.grib2.923a8.idx' incompatible with GRIB file\n"
     ]
    },
    {
     "name": "stdout",
     "output_type": "stream",
     "text": [
      "isolated_cell\n",
      "(6, 19, 9, 15)\n",
      "multiple_isolated_cells\n",
      "loosely_clustered_cells\n",
      "tightly_clustered_cells\n",
      "qlcs\n"
     ]
    },
    {
     "name": "stderr",
     "output_type": "stream",
     "text": [
      "Ignoring index file '/lcrc/project/rainfall/jcorner/MODE_data/202006200000/hrrr_t20200619T0600z_wrfsfcf18.grib2.923a8.idx' incompatible with GRIB file\n"
     ]
    },
    {
     "name": "stdout",
     "output_type": "stream",
     "text": [
      "isolated_cell\n",
      "(6, 19, 6, 18)\n",
      "multiple_isolated_cells\n",
      "loosely_clustered_cells\n",
      "tightly_clustered_cells\n",
      "qlcs\n",
      "isolated_cell\n"
     ]
    },
    {
     "name": "stderr",
     "output_type": "stream",
     "text": [
      "Ignoring index file '/lcrc/project/rainfall/jcorner/MODE_data/202006200000/hrrr_t20200619T0000z_wrfsfcf24.grib2.923a8.idx' incompatible with GRIB file\n"
     ]
    },
    {
     "name": "stdout",
     "output_type": "stream",
     "text": [
      "(6, 19, 0, 24)\n",
      "multiple_isolated_cells\n",
      "loosely_clustered_cells\n",
      "tightly_clustered_cells\n",
      "qlcs\n",
      "isolated_cell\n"
     ]
    },
    {
     "name": "stderr",
     "output_type": "stream",
     "text": [
      "Ignoring index file '/lcrc/project/rainfall/jcorner/MODE_data/202006210000/hrrr_t20200619T1800z_wrfsfcf30.grib2.923a8.idx' incompatible with GRIB file\n"
     ]
    },
    {
     "name": "stdout",
     "output_type": "stream",
     "text": [
      "(6, 19, 18, 30)\n",
      "multiple_isolated_cells\n",
      "loosely_clustered_cells\n",
      "tightly_clustered_cells\n",
      "qlcs\n",
      "isolated_cell\n"
     ]
    },
    {
     "name": "stderr",
     "output_type": "stream",
     "text": [
      "Ignoring index file '/lcrc/project/rainfall/jcorner/MODE_data/202006210000/hrrr_t20200619T1200z_wrfsfcf36.grib2.923a8.idx' incompatible with GRIB file\n"
     ]
    },
    {
     "name": "stdout",
     "output_type": "stream",
     "text": [
      "(6, 19, 12, 36)\n",
      "multiple_isolated_cells\n",
      "loosely_clustered_cells\n",
      "tightly_clustered_cells\n",
      "qlcs\n"
     ]
    },
    {
     "name": "stderr",
     "output_type": "stream",
     "text": [
      "Ignoring index file '/lcrc/project/rainfall/jcorner/MODE_data/202006210000/hrrr_t20200620T2100z_wrfsfcf03.grib2.923a8.idx' incompatible with GRIB file\n"
     ]
    },
    {
     "name": "stdout",
     "output_type": "stream",
     "text": [
      "isolated_cell\n",
      "(6, 20, 21, 3)\n",
      "multiple_isolated_cells\n",
      "loosely_clustered_cells\n",
      "tightly_clustered_cells\n",
      "qlcs\n",
      "isolated_cell\n"
     ]
    },
    {
     "name": "stderr",
     "output_type": "stream",
     "text": [
      "Ignoring index file '/lcrc/project/rainfall/jcorner/MODE_data/202006210000/hrrr_t20200620T1800z_wrfsfcf06.grib2.923a8.idx' incompatible with GRIB file\n"
     ]
    },
    {
     "name": "stdout",
     "output_type": "stream",
     "text": [
      "(6, 20, 18, 6)\n",
      "multiple_isolated_cells\n",
      "loosely_clustered_cells\n",
      "tightly_clustered_cells\n",
      "qlcs\n"
     ]
    },
    {
     "name": "stderr",
     "output_type": "stream",
     "text": [
      "Ignoring index file '/lcrc/project/rainfall/jcorner/MODE_data/202006210000/hrrr_t20200620T1500z_wrfsfcf09.grib2.923a8.idx' incompatible with GRIB file\n"
     ]
    },
    {
     "name": "stdout",
     "output_type": "stream",
     "text": [
      "isolated_cell\n",
      "(6, 20, 15, 9)\n",
      "multiple_isolated_cells\n",
      "loosely_clustered_cells\n",
      "tightly_clustered_cells\n",
      "qlcs\n",
      "isolated_cell\n"
     ]
    },
    {
     "name": "stderr",
     "output_type": "stream",
     "text": [
      "Ignoring index file '/lcrc/project/rainfall/jcorner/MODE_data/202006210000/hrrr_t20200620T1200z_wrfsfcf12.grib2.923a8.idx' incompatible with GRIB file\n"
     ]
    },
    {
     "name": "stdout",
     "output_type": "stream",
     "text": [
      "(6, 20, 12, 12)\n",
      "multiple_isolated_cells\n",
      "loosely_clustered_cells\n",
      "tightly_clustered_cells\n",
      "qlcs\n",
      "isolated_cell\n"
     ]
    },
    {
     "name": "stderr",
     "output_type": "stream",
     "text": [
      "Ignoring index file '/lcrc/project/rainfall/jcorner/MODE_data/202006210000/hrrr_t20200620T0900z_wrfsfcf15.grib2.923a8.idx' incompatible with GRIB file\n"
     ]
    },
    {
     "name": "stdout",
     "output_type": "stream",
     "text": [
      "(6, 20, 9, 15)\n",
      "multiple_isolated_cells\n",
      "loosely_clustered_cells\n",
      "tightly_clustered_cells\n",
      "qlcs\n",
      "isolated_cell\n"
     ]
    },
    {
     "name": "stderr",
     "output_type": "stream",
     "text": [
      "Ignoring index file '/lcrc/project/rainfall/jcorner/MODE_data/202006210000/hrrr_t20200620T0600z_wrfsfcf18.grib2.923a8.idx' incompatible with GRIB file\n"
     ]
    },
    {
     "name": "stdout",
     "output_type": "stream",
     "text": [
      "(6, 20, 6, 18)\n",
      "multiple_isolated_cells\n",
      "loosely_clustered_cells\n",
      "tightly_clustered_cells\n",
      "qlcs\n"
     ]
    },
    {
     "name": "stderr",
     "output_type": "stream",
     "text": [
      "Ignoring index file '/lcrc/project/rainfall/jcorner/MODE_data/202006210000/hrrr_t20200620T0000z_wrfsfcf24.grib2.923a8.idx' incompatible with GRIB file\n"
     ]
    },
    {
     "name": "stdout",
     "output_type": "stream",
     "text": [
      "isolated_cell\n",
      "(6, 20, 0, 24)\n",
      "multiple_isolated_cells\n",
      "loosely_clustered_cells\n",
      "tightly_clustered_cells\n",
      "qlcs\n",
      "isolated_cell\n"
     ]
    },
    {
     "name": "stderr",
     "output_type": "stream",
     "text": [
      "Ignoring index file '/lcrc/project/rainfall/jcorner/MODE_data/202006220000/hrrr_t20200620T1800z_wrfsfcf30.grib2.923a8.idx' incompatible with GRIB file\n"
     ]
    },
    {
     "name": "stdout",
     "output_type": "stream",
     "text": [
      "(6, 20, 18, 30)\n",
      "multiple_isolated_cells\n",
      "loosely_clustered_cells\n",
      "tightly_clustered_cells\n",
      "qlcs\n",
      "isolated_cell\n"
     ]
    },
    {
     "name": "stderr",
     "output_type": "stream",
     "text": [
      "Ignoring index file '/lcrc/project/rainfall/jcorner/MODE_data/202006220000/hrrr_t20200620T1200z_wrfsfcf36.grib2.923a8.idx' incompatible with GRIB file\n"
     ]
    },
    {
     "name": "stdout",
     "output_type": "stream",
     "text": [
      "(6, 20, 12, 36)\n",
      "multiple_isolated_cells\n",
      "loosely_clustered_cells\n",
      "tightly_clustered_cells\n",
      "qlcs\n"
     ]
    },
    {
     "name": "stderr",
     "output_type": "stream",
     "text": [
      "Ignoring index file '/lcrc/project/rainfall/jcorner/MODE_data/202006220000/hrrr_t20200621T2100z_wrfsfcf03.grib2.923a8.idx' incompatible with GRIB file\n"
     ]
    },
    {
     "name": "stdout",
     "output_type": "stream",
     "text": [
      "isolated_cell\n",
      "(6, 21, 21, 3)\n",
      "multiple_isolated_cells\n",
      "loosely_clustered_cells\n",
      "tightly_clustered_cells\n",
      "qlcs\n",
      "isolated_cell\n"
     ]
    },
    {
     "name": "stderr",
     "output_type": "stream",
     "text": [
      "Ignoring index file '/lcrc/project/rainfall/jcorner/MODE_data/202006220000/hrrr_t20200621T1800z_wrfsfcf06.grib2.923a8.idx' incompatible with GRIB file\n"
     ]
    },
    {
     "name": "stdout",
     "output_type": "stream",
     "text": [
      "(6, 21, 18, 6)\n",
      "multiple_isolated_cells\n",
      "loosely_clustered_cells\n",
      "tightly_clustered_cells\n",
      "qlcs\n"
     ]
    },
    {
     "name": "stderr",
     "output_type": "stream",
     "text": [
      "Ignoring index file '/lcrc/project/rainfall/jcorner/MODE_data/202006220000/hrrr_t20200621T1500z_wrfsfcf09.grib2.923a8.idx' incompatible with GRIB file\n"
     ]
    },
    {
     "name": "stdout",
     "output_type": "stream",
     "text": [
      "isolated_cell\n",
      "(6, 21, 15, 9)\n",
      "multiple_isolated_cells\n",
      "loosely_clustered_cells\n",
      "tightly_clustered_cells\n",
      "qlcs\n",
      "isolated_cell\n"
     ]
    },
    {
     "name": "stderr",
     "output_type": "stream",
     "text": [
      "Ignoring index file '/lcrc/project/rainfall/jcorner/MODE_data/202006220000/hrrr_t20200621T1200z_wrfsfcf12.grib2.923a8.idx' incompatible with GRIB file\n"
     ]
    },
    {
     "name": "stdout",
     "output_type": "stream",
     "text": [
      "(6, 21, 12, 12)\n",
      "multiple_isolated_cells\n",
      "loosely_clustered_cells\n",
      "tightly_clustered_cells\n",
      "qlcs\n",
      "isolated_cell\n"
     ]
    },
    {
     "name": "stderr",
     "output_type": "stream",
     "text": [
      "Ignoring index file '/lcrc/project/rainfall/jcorner/MODE_data/202006220000/hrrr_t20200621T0900z_wrfsfcf15.grib2.923a8.idx' incompatible with GRIB file\n"
     ]
    },
    {
     "name": "stdout",
     "output_type": "stream",
     "text": [
      "(6, 21, 9, 15)\n",
      "multiple_isolated_cells\n",
      "loosely_clustered_cells\n",
      "tightly_clustered_cells\n",
      "qlcs\n",
      "isolated_cell\n"
     ]
    },
    {
     "name": "stderr",
     "output_type": "stream",
     "text": [
      "Ignoring index file '/lcrc/project/rainfall/jcorner/MODE_data/202006220000/hrrr_t20200621T0600z_wrfsfcf18.grib2.923a8.idx' incompatible with GRIB file\n"
     ]
    },
    {
     "name": "stdout",
     "output_type": "stream",
     "text": [
      "(6, 21, 6, 18)\n",
      "multiple_isolated_cells\n",
      "loosely_clustered_cells\n",
      "tightly_clustered_cells\n",
      "qlcs\n",
      "isolated_cell\n"
     ]
    },
    {
     "name": "stderr",
     "output_type": "stream",
     "text": [
      "Ignoring index file '/lcrc/project/rainfall/jcorner/MODE_data/202006220000/hrrr_t20200621T0000z_wrfsfcf24.grib2.923a8.idx' incompatible with GRIB file\n"
     ]
    },
    {
     "name": "stdout",
     "output_type": "stream",
     "text": [
      "(6, 21, 0, 24)\n",
      "multiple_isolated_cells\n",
      "loosely_clustered_cells\n",
      "tightly_clustered_cells\n",
      "qlcs\n"
     ]
    },
    {
     "name": "stderr",
     "output_type": "stream",
     "text": [
      "Ignoring index file '/lcrc/project/rainfall/jcorner/MODE_data/202006230000/hrrr_t20200621T1800z_wrfsfcf30.grib2.923a8.idx' incompatible with GRIB file\n"
     ]
    },
    {
     "name": "stdout",
     "output_type": "stream",
     "text": [
      "isolated_cell\n",
      "(6, 21, 18, 30)\n",
      "multiple_isolated_cells\n",
      "loosely_clustered_cells\n",
      "tightly_clustered_cells\n",
      "qlcs\n"
     ]
    },
    {
     "name": "stderr",
     "output_type": "stream",
     "text": [
      "Ignoring index file '/lcrc/project/rainfall/jcorner/MODE_data/202006230000/hrrr_t20200621T1200z_wrfsfcf36.grib2.923a8.idx' incompatible with GRIB file\n"
     ]
    },
    {
     "name": "stdout",
     "output_type": "stream",
     "text": [
      "isolated_cell\n",
      "(6, 21, 12, 36)\n",
      "multiple_isolated_cells\n",
      "loosely_clustered_cells\n",
      "tightly_clustered_cells\n",
      "qlcs\n"
     ]
    },
    {
     "name": "stderr",
     "output_type": "stream",
     "text": [
      "Ignoring index file '/lcrc/project/rainfall/jcorner/MODE_data/202006230000/hrrr_t20200622T2100z_wrfsfcf03.grib2.923a8.idx' incompatible with GRIB file\n"
     ]
    },
    {
     "name": "stdout",
     "output_type": "stream",
     "text": [
      "isolated_cell\n",
      "(6, 22, 21, 3)\n",
      "multiple_isolated_cells\n",
      "loosely_clustered_cells\n",
      "tightly_clustered_cells\n",
      "qlcs\n"
     ]
    },
    {
     "name": "stderr",
     "output_type": "stream",
     "text": [
      "Ignoring index file '/lcrc/project/rainfall/jcorner/MODE_data/202006230000/hrrr_t20200622T1800z_wrfsfcf06.grib2.923a8.idx' incompatible with GRIB file\n"
     ]
    },
    {
     "name": "stdout",
     "output_type": "stream",
     "text": [
      "isolated_cell\n",
      "(6, 22, 18, 6)\n",
      "multiple_isolated_cells\n",
      "loosely_clustered_cells\n",
      "tightly_clustered_cells\n",
      "qlcs\n"
     ]
    },
    {
     "name": "stderr",
     "output_type": "stream",
     "text": [
      "Ignoring index file '/lcrc/project/rainfall/jcorner/MODE_data/202006230000/hrrr_t20200622T1500z_wrfsfcf09.grib2.923a8.idx' incompatible with GRIB file\n"
     ]
    },
    {
     "name": "stdout",
     "output_type": "stream",
     "text": [
      "isolated_cell\n",
      "(6, 22, 15, 9)\n",
      "multiple_isolated_cells\n",
      "loosely_clustered_cells\n",
      "tightly_clustered_cells\n",
      "qlcs\n",
      "isolated_cell\n"
     ]
    },
    {
     "name": "stderr",
     "output_type": "stream",
     "text": [
      "Ignoring index file '/lcrc/project/rainfall/jcorner/MODE_data/202006230000/hrrr_t20200622T1200z_wrfsfcf12.grib2.923a8.idx' incompatible with GRIB file\n"
     ]
    },
    {
     "name": "stdout",
     "output_type": "stream",
     "text": [
      "(6, 22, 12, 12)\n",
      "multiple_isolated_cells\n",
      "loosely_clustered_cells\n",
      "tightly_clustered_cells\n",
      "qlcs\n"
     ]
    },
    {
     "name": "stderr",
     "output_type": "stream",
     "text": [
      "Ignoring index file '/lcrc/project/rainfall/jcorner/MODE_data/202006230000/hrrr_t20200622T0900z_wrfsfcf15.grib2.923a8.idx' incompatible with GRIB file\n"
     ]
    },
    {
     "name": "stdout",
     "output_type": "stream",
     "text": [
      "isolated_cell\n",
      "(6, 22, 9, 15)\n",
      "multiple_isolated_cells\n",
      "loosely_clustered_cells\n",
      "tightly_clustered_cells\n",
      "qlcs\n",
      "isolated_cell\n"
     ]
    },
    {
     "name": "stderr",
     "output_type": "stream",
     "text": [
      "Ignoring index file '/lcrc/project/rainfall/jcorner/MODE_data/202006230000/hrrr_t20200622T0600z_wrfsfcf18.grib2.923a8.idx' incompatible with GRIB file\n"
     ]
    },
    {
     "name": "stdout",
     "output_type": "stream",
     "text": [
      "(6, 22, 6, 18)\n",
      "multiple_isolated_cells\n",
      "loosely_clustered_cells\n",
      "tightly_clustered_cells\n",
      "qlcs\n"
     ]
    },
    {
     "name": "stderr",
     "output_type": "stream",
     "text": [
      "Ignoring index file '/lcrc/project/rainfall/jcorner/MODE_data/202006230000/hrrr_t20200622T0000z_wrfsfcf24.grib2.923a8.idx' incompatible with GRIB file\n"
     ]
    },
    {
     "name": "stdout",
     "output_type": "stream",
     "text": [
      "isolated_cell\n",
      "(6, 22, 0, 24)\n",
      "multiple_isolated_cells\n",
      "loosely_clustered_cells\n",
      "tightly_clustered_cells\n",
      "qlcs\n",
      "isolated_cell\n"
     ]
    },
    {
     "name": "stderr",
     "output_type": "stream",
     "text": [
      "Ignoring index file '/lcrc/project/rainfall/jcorner/MODE_data/202006270000/hrrr_t20200625T1800z_wrfsfcf30.grib2.923a8.idx' incompatible with GRIB file\n"
     ]
    },
    {
     "name": "stdout",
     "output_type": "stream",
     "text": [
      "(6, 25, 18, 30)\n",
      "multiple_isolated_cells\n",
      "loosely_clustered_cells\n",
      "tightly_clustered_cells\n",
      "qlcs\n",
      "isolated_cell\n"
     ]
    },
    {
     "name": "stderr",
     "output_type": "stream",
     "text": [
      "Ignoring index file '/lcrc/project/rainfall/jcorner/MODE_data/202006270000/hrrr_t20200625T1200z_wrfsfcf36.grib2.923a8.idx' incompatible with GRIB file\n"
     ]
    },
    {
     "name": "stdout",
     "output_type": "stream",
     "text": [
      "(6, 25, 12, 36)\n",
      "multiple_isolated_cells\n",
      "loosely_clustered_cells\n",
      "tightly_clustered_cells\n",
      "qlcs\n",
      "isolated_cell\n"
     ]
    },
    {
     "name": "stderr",
     "output_type": "stream",
     "text": [
      "Ignoring index file '/lcrc/project/rainfall/jcorner/MODE_data/202006270000/hrrr_t20200626T2100z_wrfsfcf03.grib2.923a8.idx' incompatible with GRIB file\n"
     ]
    },
    {
     "name": "stdout",
     "output_type": "stream",
     "text": [
      "(6, 26, 21, 3)\n",
      "multiple_isolated_cells\n",
      "loosely_clustered_cells\n",
      "tightly_clustered_cells\n",
      "qlcs\n",
      "isolated_cell\n"
     ]
    },
    {
     "name": "stderr",
     "output_type": "stream",
     "text": [
      "Ignoring index file '/lcrc/project/rainfall/jcorner/MODE_data/202006270000/hrrr_t20200626T1800z_wrfsfcf06.grib2.923a8.idx' incompatible with GRIB file\n"
     ]
    },
    {
     "name": "stdout",
     "output_type": "stream",
     "text": [
      "(6, 26, 18, 6)\n",
      "multiple_isolated_cells\n",
      "loosely_clustered_cells\n",
      "tightly_clustered_cells\n",
      "qlcs\n",
      "isolated_cell\n"
     ]
    },
    {
     "name": "stderr",
     "output_type": "stream",
     "text": [
      "Ignoring index file '/lcrc/project/rainfall/jcorner/MODE_data/202006270000/hrrr_t20200626T1500z_wrfsfcf09.grib2.923a8.idx' incompatible with GRIB file\n"
     ]
    },
    {
     "name": "stdout",
     "output_type": "stream",
     "text": [
      "(6, 26, 15, 9)\n",
      "multiple_isolated_cells\n",
      "loosely_clustered_cells\n",
      "tightly_clustered_cells\n",
      "qlcs\n",
      "isolated_cell\n"
     ]
    },
    {
     "name": "stderr",
     "output_type": "stream",
     "text": [
      "Ignoring index file '/lcrc/project/rainfall/jcorner/MODE_data/202006270000/hrrr_t20200626T1200z_wrfsfcf12.grib2.923a8.idx' incompatible with GRIB file\n"
     ]
    },
    {
     "name": "stdout",
     "output_type": "stream",
     "text": [
      "(6, 26, 12, 12)\n",
      "multiple_isolated_cells\n",
      "loosely_clustered_cells\n",
      "tightly_clustered_cells\n",
      "qlcs\n"
     ]
    },
    {
     "name": "stderr",
     "output_type": "stream",
     "text": [
      "Ignoring index file '/lcrc/project/rainfall/jcorner/MODE_data/202006270000/hrrr_t20200626T0900z_wrfsfcf15.grib2.923a8.idx' incompatible with GRIB file\n"
     ]
    },
    {
     "name": "stdout",
     "output_type": "stream",
     "text": [
      "isolated_cell\n",
      "(6, 26, 9, 15)\n",
      "multiple_isolated_cells\n",
      "loosely_clustered_cells\n",
      "tightly_clustered_cells\n",
      "qlcs\n",
      "isolated_cell\n"
     ]
    },
    {
     "name": "stderr",
     "output_type": "stream",
     "text": [
      "Ignoring index file '/lcrc/project/rainfall/jcorner/MODE_data/202006270000/hrrr_t20200626T0600z_wrfsfcf18.grib2.923a8.idx' incompatible with GRIB file\n"
     ]
    },
    {
     "name": "stdout",
     "output_type": "stream",
     "text": [
      "(6, 26, 6, 18)\n",
      "multiple_isolated_cells\n",
      "loosely_clustered_cells\n",
      "tightly_clustered_cells\n",
      "qlcs\n",
      "isolated_cell\n"
     ]
    },
    {
     "name": "stderr",
     "output_type": "stream",
     "text": [
      "Ignoring index file '/lcrc/project/rainfall/jcorner/MODE_data/202006270000/hrrr_t20200626T0000z_wrfsfcf24.grib2.923a8.idx' incompatible with GRIB file\n"
     ]
    },
    {
     "name": "stdout",
     "output_type": "stream",
     "text": [
      "(6, 26, 0, 24)\n",
      "multiple_isolated_cells\n",
      "loosely_clustered_cells\n",
      "tightly_clustered_cells\n",
      "qlcs\n",
      "isolated_cell\n"
     ]
    },
    {
     "name": "stderr",
     "output_type": "stream",
     "text": [
      "Ignoring index file '/lcrc/project/rainfall/jcorner/MODE_data/202006290000/hrrr_t20200627T1800z_wrfsfcf30.grib2.923a8.idx' incompatible with GRIB file\n"
     ]
    },
    {
     "name": "stdout",
     "output_type": "stream",
     "text": [
      "(6, 27, 18, 30)\n",
      "multiple_isolated_cells\n",
      "loosely_clustered_cells\n",
      "tightly_clustered_cells\n",
      "qlcs\n",
      "isolated_cell\n"
     ]
    },
    {
     "name": "stderr",
     "output_type": "stream",
     "text": [
      "Ignoring index file '/lcrc/project/rainfall/jcorner/MODE_data/202006290000/hrrr_t20200627T1200z_wrfsfcf36.grib2.923a8.idx' incompatible with GRIB file\n"
     ]
    },
    {
     "name": "stdout",
     "output_type": "stream",
     "text": [
      "(6, 27, 12, 36)\n",
      "multiple_isolated_cells\n",
      "loosely_clustered_cells\n",
      "tightly_clustered_cells\n",
      "qlcs\n",
      "isolated_cell\n"
     ]
    },
    {
     "name": "stderr",
     "output_type": "stream",
     "text": [
      "Ignoring index file '/lcrc/project/rainfall/jcorner/MODE_data/202006290000/hrrr_t20200628T2100z_wrfsfcf03.grib2.923a8.idx' incompatible with GRIB file\n"
     ]
    },
    {
     "name": "stdout",
     "output_type": "stream",
     "text": [
      "(6, 28, 21, 3)\n",
      "multiple_isolated_cells\n",
      "loosely_clustered_cells\n",
      "tightly_clustered_cells\n",
      "qlcs\n",
      "isolated_cell\n"
     ]
    },
    {
     "name": "stderr",
     "output_type": "stream",
     "text": [
      "Ignoring index file '/lcrc/project/rainfall/jcorner/MODE_data/202006290000/hrrr_t20200628T1800z_wrfsfcf06.grib2.923a8.idx' incompatible with GRIB file\n"
     ]
    },
    {
     "name": "stdout",
     "output_type": "stream",
     "text": [
      "(6, 28, 18, 6)\n",
      "multiple_isolated_cells\n",
      "loosely_clustered_cells\n",
      "tightly_clustered_cells\n",
      "qlcs\n",
      "isolated_cell\n"
     ]
    },
    {
     "name": "stderr",
     "output_type": "stream",
     "text": [
      "Ignoring index file '/lcrc/project/rainfall/jcorner/MODE_data/202006290000/hrrr_t20200628T1500z_wrfsfcf09.grib2.923a8.idx' incompatible with GRIB file\n"
     ]
    },
    {
     "name": "stdout",
     "output_type": "stream",
     "text": [
      "(6, 28, 15, 9)\n",
      "multiple_isolated_cells\n",
      "loosely_clustered_cells\n",
      "tightly_clustered_cells\n",
      "qlcs\n"
     ]
    },
    {
     "name": "stderr",
     "output_type": "stream",
     "text": [
      "Ignoring index file '/lcrc/project/rainfall/jcorner/MODE_data/202006290000/hrrr_t20200628T1200z_wrfsfcf12.grib2.923a8.idx' incompatible with GRIB file\n"
     ]
    },
    {
     "name": "stdout",
     "output_type": "stream",
     "text": [
      "isolated_cell\n",
      "(6, 28, 12, 12)\n",
      "multiple_isolated_cells\n",
      "loosely_clustered_cells\n",
      "tightly_clustered_cells\n",
      "qlcs\n",
      "isolated_cell\n"
     ]
    },
    {
     "name": "stderr",
     "output_type": "stream",
     "text": [
      "Ignoring index file '/lcrc/project/rainfall/jcorner/MODE_data/202006290000/hrrr_t20200628T0900z_wrfsfcf15.grib2.923a8.idx' incompatible with GRIB file\n"
     ]
    },
    {
     "name": "stdout",
     "output_type": "stream",
     "text": [
      "(6, 28, 9, 15)\n",
      "multiple_isolated_cells\n",
      "loosely_clustered_cells\n",
      "tightly_clustered_cells\n",
      "qlcs\n"
     ]
    },
    {
     "name": "stderr",
     "output_type": "stream",
     "text": [
      "Ignoring index file '/lcrc/project/rainfall/jcorner/MODE_data/202006290000/hrrr_t20200628T0600z_wrfsfcf18.grib2.923a8.idx' incompatible with GRIB file\n"
     ]
    },
    {
     "name": "stdout",
     "output_type": "stream",
     "text": [
      "isolated_cell\n",
      "(6, 28, 6, 18)\n",
      "multiple_isolated_cells\n",
      "loosely_clustered_cells\n",
      "tightly_clustered_cells\n",
      "qlcs\n",
      "isolated_cell\n"
     ]
    },
    {
     "name": "stderr",
     "output_type": "stream",
     "text": [
      "Ignoring index file '/lcrc/project/rainfall/jcorner/MODE_data/202006290000/hrrr_t20200628T0000z_wrfsfcf24.grib2.923a8.idx' incompatible with GRIB file\n"
     ]
    },
    {
     "name": "stdout",
     "output_type": "stream",
     "text": [
      "(6, 28, 0, 24)\n",
      "multiple_isolated_cells\n",
      "loosely_clustered_cells\n",
      "tightly_clustered_cells\n",
      "qlcs\n",
      "isolated_cell\n"
     ]
    },
    {
     "name": "stderr",
     "output_type": "stream",
     "text": [
      "Ignoring index file '/lcrc/project/rainfall/jcorner/MODE_data/202006300000/hrrr_t20200628T1800z_wrfsfcf30.grib2.923a8.idx' incompatible with GRIB file\n"
     ]
    },
    {
     "name": "stdout",
     "output_type": "stream",
     "text": [
      "(6, 28, 18, 30)\n",
      "multiple_isolated_cells\n",
      "loosely_clustered_cells\n",
      "tightly_clustered_cells\n",
      "qlcs\n",
      "isolated_cell\n"
     ]
    },
    {
     "name": "stderr",
     "output_type": "stream",
     "text": [
      "Ignoring index file '/lcrc/project/rainfall/jcorner/MODE_data/202006300000/hrrr_t20200628T1200z_wrfsfcf36.grib2.923a8.idx' incompatible with GRIB file\n"
     ]
    },
    {
     "name": "stdout",
     "output_type": "stream",
     "text": [
      "(6, 28, 12, 36)\n",
      "multiple_isolated_cells\n",
      "loosely_clustered_cells\n",
      "tightly_clustered_cells\n",
      "qlcs\n",
      "isolated_cell\n"
     ]
    },
    {
     "name": "stderr",
     "output_type": "stream",
     "text": [
      "Ignoring index file '/lcrc/project/rainfall/jcorner/MODE_data/202006300000/hrrr_t20200629T2100z_wrfsfcf03.grib2.923a8.idx' incompatible with GRIB file\n"
     ]
    },
    {
     "name": "stdout",
     "output_type": "stream",
     "text": [
      "(6, 29, 21, 3)\n",
      "multiple_isolated_cells\n",
      "loosely_clustered_cells\n",
      "tightly_clustered_cells\n",
      "qlcs\n"
     ]
    },
    {
     "name": "stderr",
     "output_type": "stream",
     "text": [
      "Ignoring index file '/lcrc/project/rainfall/jcorner/MODE_data/202006300000/hrrr_t20200629T1800z_wrfsfcf06.grib2.923a8.idx' incompatible with GRIB file\n"
     ]
    },
    {
     "name": "stdout",
     "output_type": "stream",
     "text": [
      "isolated_cell\n",
      "(6, 29, 18, 6)\n",
      "multiple_isolated_cells\n",
      "loosely_clustered_cells\n",
      "tightly_clustered_cells\n",
      "qlcs\n",
      "isolated_cell\n"
     ]
    },
    {
     "name": "stderr",
     "output_type": "stream",
     "text": [
      "Ignoring index file '/lcrc/project/rainfall/jcorner/MODE_data/202006300000/hrrr_t20200629T1500z_wrfsfcf09.grib2.923a8.idx' incompatible with GRIB file\n"
     ]
    },
    {
     "name": "stdout",
     "output_type": "stream",
     "text": [
      "(6, 29, 15, 9)\n",
      "multiple_isolated_cells\n",
      "loosely_clustered_cells\n",
      "tightly_clustered_cells\n",
      "qlcs\n",
      "isolated_cell\n"
     ]
    },
    {
     "name": "stderr",
     "output_type": "stream",
     "text": [
      "Ignoring index file '/lcrc/project/rainfall/jcorner/MODE_data/202006300000/hrrr_t20200629T1200z_wrfsfcf12.grib2.923a8.idx' incompatible with GRIB file\n"
     ]
    },
    {
     "name": "stdout",
     "output_type": "stream",
     "text": [
      "(6, 29, 12, 12)\n",
      "multiple_isolated_cells\n",
      "loosely_clustered_cells\n",
      "tightly_clustered_cells\n",
      "qlcs\n",
      "isolated_cell\n"
     ]
    },
    {
     "name": "stderr",
     "output_type": "stream",
     "text": [
      "Ignoring index file '/lcrc/project/rainfall/jcorner/MODE_data/202006300000/hrrr_t20200629T0900z_wrfsfcf15.grib2.923a8.idx' incompatible with GRIB file\n"
     ]
    },
    {
     "name": "stdout",
     "output_type": "stream",
     "text": [
      "(6, 29, 9, 15)\n",
      "multiple_isolated_cells\n",
      "loosely_clustered_cells\n",
      "tightly_clustered_cells\n",
      "qlcs\n",
      "isolated_cell\n"
     ]
    },
    {
     "name": "stderr",
     "output_type": "stream",
     "text": [
      "Ignoring index file '/lcrc/project/rainfall/jcorner/MODE_data/202006300000/hrrr_t20200629T0600z_wrfsfcf18.grib2.923a8.idx' incompatible with GRIB file\n"
     ]
    },
    {
     "name": "stdout",
     "output_type": "stream",
     "text": [
      "(6, 29, 6, 18)\n",
      "multiple_isolated_cells\n",
      "loosely_clustered_cells\n",
      "tightly_clustered_cells\n",
      "qlcs\n"
     ]
    },
    {
     "name": "stderr",
     "output_type": "stream",
     "text": [
      "Ignoring index file '/lcrc/project/rainfall/jcorner/MODE_data/202006300000/hrrr_t20200629T0000z_wrfsfcf24.grib2.923a8.idx' incompatible with GRIB file\n"
     ]
    },
    {
     "name": "stdout",
     "output_type": "stream",
     "text": [
      "isolated_cell\n",
      "(6, 29, 0, 24)\n",
      "multiple_isolated_cells\n",
      "loosely_clustered_cells\n",
      "tightly_clustered_cells\n",
      "qlcs\n",
      "isolated_cell\n"
     ]
    },
    {
     "name": "stderr",
     "output_type": "stream",
     "text": [
      "Ignoring index file '/lcrc/project/rainfall/jcorner/MODE_data/202007010000/hrrr_t20200629T1800z_wrfsfcf30.grib2.923a8.idx' incompatible with GRIB file\n"
     ]
    },
    {
     "name": "stdout",
     "output_type": "stream",
     "text": [
      "(6, 29, 18, 30)\n",
      "multiple_isolated_cells\n",
      "loosely_clustered_cells\n",
      "tightly_clustered_cells\n",
      "qlcs\n",
      "isolated_cell\n"
     ]
    },
    {
     "name": "stderr",
     "output_type": "stream",
     "text": [
      "Ignoring index file '/lcrc/project/rainfall/jcorner/MODE_data/202007010000/hrrr_t20200629T1200z_wrfsfcf36.grib2.923a8.idx' incompatible with GRIB file\n"
     ]
    },
    {
     "name": "stdout",
     "output_type": "stream",
     "text": [
      "(6, 29, 12, 36)\n",
      "multiple_isolated_cells\n",
      "loosely_clustered_cells\n",
      "tightly_clustered_cells\n",
      "qlcs\n"
     ]
    },
    {
     "name": "stderr",
     "output_type": "stream",
     "text": [
      "Ignoring index file '/lcrc/project/rainfall/jcorner/MODE_data/202007010000/hrrr_t20200630T2100z_wrfsfcf03.grib2.923a8.idx' incompatible with GRIB file\n"
     ]
    },
    {
     "name": "stdout",
     "output_type": "stream",
     "text": [
      "isolated_cell\n",
      "(6, 30, 21, 3)\n",
      "multiple_isolated_cells\n",
      "loosely_clustered_cells\n",
      "tightly_clustered_cells\n",
      "qlcs\n",
      "isolated_cell\n"
     ]
    },
    {
     "name": "stderr",
     "output_type": "stream",
     "text": [
      "Ignoring index file '/lcrc/project/rainfall/jcorner/MODE_data/202007010000/hrrr_t20200630T1800z_wrfsfcf06.grib2.923a8.idx' incompatible with GRIB file\n"
     ]
    },
    {
     "name": "stdout",
     "output_type": "stream",
     "text": [
      "(6, 30, 18, 6)\n",
      "multiple_isolated_cells\n",
      "loosely_clustered_cells\n",
      "tightly_clustered_cells\n",
      "qlcs\n",
      "isolated_cell\n"
     ]
    },
    {
     "name": "stderr",
     "output_type": "stream",
     "text": [
      "Ignoring index file '/lcrc/project/rainfall/jcorner/MODE_data/202007010000/hrrr_t20200630T1500z_wrfsfcf09.grib2.923a8.idx' incompatible with GRIB file\n"
     ]
    },
    {
     "name": "stdout",
     "output_type": "stream",
     "text": [
      "(6, 30, 15, 9)\n",
      "multiple_isolated_cells\n",
      "loosely_clustered_cells\n",
      "tightly_clustered_cells\n",
      "qlcs\n"
     ]
    },
    {
     "name": "stderr",
     "output_type": "stream",
     "text": [
      "Ignoring index file '/lcrc/project/rainfall/jcorner/MODE_data/202007010000/hrrr_t20200630T1200z_wrfsfcf12.grib2.923a8.idx' incompatible with GRIB file\n"
     ]
    },
    {
     "name": "stdout",
     "output_type": "stream",
     "text": [
      "isolated_cell\n",
      "(6, 30, 12, 12)\n",
      "multiple_isolated_cells\n",
      "loosely_clustered_cells\n",
      "tightly_clustered_cells\n",
      "qlcs\n",
      "isolated_cell\n"
     ]
    },
    {
     "name": "stderr",
     "output_type": "stream",
     "text": [
      "Ignoring index file '/lcrc/project/rainfall/jcorner/MODE_data/202007010000/hrrr_t20200630T0900z_wrfsfcf15.grib2.923a8.idx' incompatible with GRIB file\n"
     ]
    },
    {
     "name": "stdout",
     "output_type": "stream",
     "text": [
      "(6, 30, 9, 15)\n",
      "multiple_isolated_cells\n",
      "loosely_clustered_cells\n",
      "tightly_clustered_cells\n",
      "qlcs\n",
      "isolated_cell\n"
     ]
    },
    {
     "name": "stderr",
     "output_type": "stream",
     "text": [
      "Ignoring index file '/lcrc/project/rainfall/jcorner/MODE_data/202007010000/hrrr_t20200630T0600z_wrfsfcf18.grib2.923a8.idx' incompatible with GRIB file\n"
     ]
    },
    {
     "name": "stdout",
     "output_type": "stream",
     "text": [
      "(6, 30, 6, 18)\n",
      "multiple_isolated_cells\n",
      "loosely_clustered_cells\n",
      "tightly_clustered_cells\n",
      "qlcs\n",
      "isolated_cell\n"
     ]
    },
    {
     "name": "stderr",
     "output_type": "stream",
     "text": [
      "Ignoring index file '/lcrc/project/rainfall/jcorner/MODE_data/202007010000/hrrr_t20200630T0000z_wrfsfcf24.grib2.923a8.idx' incompatible with GRIB file\n"
     ]
    },
    {
     "name": "stdout",
     "output_type": "stream",
     "text": [
      "(6, 30, 0, 24)\n",
      "multiple_isolated_cells\n",
      "loosely_clustered_cells\n",
      "tightly_clustered_cells\n",
      "qlcs\n"
     ]
    },
    {
     "name": "stderr",
     "output_type": "stream",
     "text": [
      "Ignoring index file '/lcrc/project/rainfall/jcorner/MODE_data/202007030000/hrrr_t20200701T1800z_wrfsfcf30.grib2.923a8.idx' incompatible with GRIB file\n"
     ]
    },
    {
     "name": "stdout",
     "output_type": "stream",
     "text": [
      "isolated_cell\n",
      "(7, 1, 18, 30)\n",
      "multiple_isolated_cells\n",
      "loosely_clustered_cells\n",
      "tightly_clustered_cells\n",
      "qlcs\n",
      "isolated_cell\n"
     ]
    },
    {
     "name": "stderr",
     "output_type": "stream",
     "text": [
      "Ignoring index file '/lcrc/project/rainfall/jcorner/MODE_data/202007030000/hrrr_t20200701T1200z_wrfsfcf36.grib2.923a8.idx' incompatible with GRIB file\n"
     ]
    },
    {
     "name": "stdout",
     "output_type": "stream",
     "text": [
      "(7, 1, 12, 36)\n",
      "multiple_isolated_cells\n",
      "loosely_clustered_cells\n",
      "tightly_clustered_cells\n",
      "qlcs\n"
     ]
    },
    {
     "name": "stderr",
     "output_type": "stream",
     "text": [
      "Ignoring index file '/lcrc/project/rainfall/jcorner/MODE_data/202007030000/hrrr_t20200702T2100z_wrfsfcf03.grib2.923a8.idx' incompatible with GRIB file\n"
     ]
    },
    {
     "name": "stdout",
     "output_type": "stream",
     "text": [
      "isolated_cell\n",
      "(7, 2, 21, 3)\n",
      "multiple_isolated_cells\n",
      "loosely_clustered_cells\n",
      "tightly_clustered_cells\n",
      "qlcs\n",
      "isolated_cell\n"
     ]
    },
    {
     "name": "stderr",
     "output_type": "stream",
     "text": [
      "Ignoring index file '/lcrc/project/rainfall/jcorner/MODE_data/202007030000/hrrr_t20200702T1800z_wrfsfcf06.grib2.923a8.idx' incompatible with GRIB file\n"
     ]
    },
    {
     "name": "stdout",
     "output_type": "stream",
     "text": [
      "(7, 2, 18, 6)\n",
      "multiple_isolated_cells\n",
      "loosely_clustered_cells\n",
      "tightly_clustered_cells\n",
      "qlcs\n",
      "isolated_cell\n"
     ]
    },
    {
     "name": "stderr",
     "output_type": "stream",
     "text": [
      "Ignoring index file '/lcrc/project/rainfall/jcorner/MODE_data/202007030000/hrrr_t20200702T1500z_wrfsfcf09.grib2.923a8.idx' incompatible with GRIB file\n"
     ]
    },
    {
     "name": "stdout",
     "output_type": "stream",
     "text": [
      "(7, 2, 15, 9)\n",
      "multiple_isolated_cells\n",
      "loosely_clustered_cells\n",
      "tightly_clustered_cells\n",
      "qlcs\n",
      "isolated_cell\n"
     ]
    },
    {
     "name": "stderr",
     "output_type": "stream",
     "text": [
      "Ignoring index file '/lcrc/project/rainfall/jcorner/MODE_data/202007030000/hrrr_t20200702T1200z_wrfsfcf12.grib2.923a8.idx' incompatible with GRIB file\n"
     ]
    },
    {
     "name": "stdout",
     "output_type": "stream",
     "text": [
      "(7, 2, 12, 12)\n",
      "multiple_isolated_cells\n",
      "loosely_clustered_cells\n",
      "tightly_clustered_cells\n",
      "qlcs\n",
      "isolated_cell\n"
     ]
    },
    {
     "name": "stderr",
     "output_type": "stream",
     "text": [
      "Ignoring index file '/lcrc/project/rainfall/jcorner/MODE_data/202007030000/hrrr_t20200702T0900z_wrfsfcf15.grib2.923a8.idx' incompatible with GRIB file\n"
     ]
    },
    {
     "name": "stdout",
     "output_type": "stream",
     "text": [
      "(7, 2, 9, 15)\n",
      "multiple_isolated_cells\n",
      "loosely_clustered_cells\n",
      "tightly_clustered_cells\n",
      "qlcs\n",
      "isolated_cell\n"
     ]
    },
    {
     "name": "stderr",
     "output_type": "stream",
     "text": [
      "Ignoring index file '/lcrc/project/rainfall/jcorner/MODE_data/202007030000/hrrr_t20200702T0600z_wrfsfcf18.grib2.923a8.idx' incompatible with GRIB file\n"
     ]
    },
    {
     "name": "stdout",
     "output_type": "stream",
     "text": [
      "(7, 2, 6, 18)\n",
      "multiple_isolated_cells\n",
      "loosely_clustered_cells\n",
      "tightly_clustered_cells\n",
      "qlcs\n",
      "isolated_cell\n"
     ]
    },
    {
     "name": "stderr",
     "output_type": "stream",
     "text": [
      "Ignoring index file '/lcrc/project/rainfall/jcorner/MODE_data/202007030000/hrrr_t20200702T0000z_wrfsfcf24.grib2.923a8.idx' incompatible with GRIB file\n"
     ]
    },
    {
     "name": "stdout",
     "output_type": "stream",
     "text": [
      "(7, 2, 0, 24)\n",
      "multiple_isolated_cells\n",
      "loosely_clustered_cells\n",
      "tightly_clustered_cells\n",
      "qlcs\n"
     ]
    },
    {
     "name": "stderr",
     "output_type": "stream",
     "text": [
      "Ignoring index file '/lcrc/project/rainfall/jcorner/MODE_data/202007100000/hrrr_t20200708T1800z_wrfsfcf30.grib2.923a8.idx' incompatible with GRIB file\n"
     ]
    },
    {
     "name": "stdout",
     "output_type": "stream",
     "text": [
      "isolated_cell\n",
      "(7, 8, 18, 30)\n",
      "multiple_isolated_cells\n",
      "loosely_clustered_cells\n",
      "tightly_clustered_cells\n",
      "qlcs\n"
     ]
    },
    {
     "name": "stderr",
     "output_type": "stream",
     "text": [
      "Ignoring index file '/lcrc/project/rainfall/jcorner/MODE_data/202007100000/hrrr_t20200708T1200z_wrfsfcf36.grib2.923a8.idx' incompatible with GRIB file\n"
     ]
    },
    {
     "name": "stdout",
     "output_type": "stream",
     "text": [
      "isolated_cell\n",
      "(7, 8, 12, 36)\n",
      "multiple_isolated_cells\n",
      "loosely_clustered_cells\n",
      "tightly_clustered_cells\n",
      "qlcs\n",
      "isolated_cell\n"
     ]
    },
    {
     "name": "stderr",
     "output_type": "stream",
     "text": [
      "Ignoring index file '/lcrc/project/rainfall/jcorner/MODE_data/202007100000/hrrr_t20200709T2100z_wrfsfcf03.grib2.923a8.idx' incompatible with GRIB file\n"
     ]
    },
    {
     "name": "stdout",
     "output_type": "stream",
     "text": [
      "(7, 9, 21, 3)\n",
      "multiple_isolated_cells\n",
      "loosely_clustered_cells\n",
      "tightly_clustered_cells\n",
      "qlcs\n",
      "isolated_cell\n"
     ]
    },
    {
     "name": "stderr",
     "output_type": "stream",
     "text": [
      "Ignoring index file '/lcrc/project/rainfall/jcorner/MODE_data/202007100000/hrrr_t20200709T1800z_wrfsfcf06.grib2.923a8.idx' incompatible with GRIB file\n"
     ]
    },
    {
     "name": "stdout",
     "output_type": "stream",
     "text": [
      "(7, 9, 18, 6)\n",
      "multiple_isolated_cells\n",
      "loosely_clustered_cells\n",
      "tightly_clustered_cells\n",
      "qlcs\n",
      "isolated_cell\n"
     ]
    },
    {
     "name": "stderr",
     "output_type": "stream",
     "text": [
      "Ignoring index file '/lcrc/project/rainfall/jcorner/MODE_data/202007100000/hrrr_t20200709T1500z_wrfsfcf09.grib2.923a8.idx' incompatible with GRIB file\n"
     ]
    },
    {
     "name": "stdout",
     "output_type": "stream",
     "text": [
      "(7, 9, 15, 9)\n",
      "multiple_isolated_cells\n",
      "loosely_clustered_cells\n",
      "tightly_clustered_cells\n",
      "qlcs\n",
      "isolated_cell\n"
     ]
    },
    {
     "name": "stderr",
     "output_type": "stream",
     "text": [
      "Ignoring index file '/lcrc/project/rainfall/jcorner/MODE_data/202007100000/hrrr_t20200709T1200z_wrfsfcf12.grib2.923a8.idx' incompatible with GRIB file\n"
     ]
    },
    {
     "name": "stdout",
     "output_type": "stream",
     "text": [
      "(7, 9, 12, 12)\n",
      "multiple_isolated_cells\n",
      "loosely_clustered_cells\n",
      "tightly_clustered_cells\n",
      "qlcs\n",
      "isolated_cell\n"
     ]
    },
    {
     "name": "stderr",
     "output_type": "stream",
     "text": [
      "Ignoring index file '/lcrc/project/rainfall/jcorner/MODE_data/202007100000/hrrr_t20200709T0900z_wrfsfcf15.grib2.923a8.idx' incompatible with GRIB file\n"
     ]
    },
    {
     "name": "stdout",
     "output_type": "stream",
     "text": [
      "(7, 9, 9, 15)\n",
      "multiple_isolated_cells\n",
      "loosely_clustered_cells\n",
      "tightly_clustered_cells\n",
      "qlcs\n"
     ]
    },
    {
     "name": "stderr",
     "output_type": "stream",
     "text": [
      "Ignoring index file '/lcrc/project/rainfall/jcorner/MODE_data/202007100000/hrrr_t20200709T0600z_wrfsfcf18.grib2.923a8.idx' incompatible with GRIB file\n"
     ]
    },
    {
     "name": "stdout",
     "output_type": "stream",
     "text": [
      "isolated_cell\n",
      "(7, 9, 6, 18)\n",
      "multiple_isolated_cells\n",
      "loosely_clustered_cells\n",
      "tightly_clustered_cells\n",
      "qlcs\n",
      "isolated_cell\n"
     ]
    },
    {
     "name": "stderr",
     "output_type": "stream",
     "text": [
      "Ignoring index file '/lcrc/project/rainfall/jcorner/MODE_data/202007100000/hrrr_t20200709T0000z_wrfsfcf24.grib2.923a8.idx' incompatible with GRIB file\n"
     ]
    },
    {
     "name": "stdout",
     "output_type": "stream",
     "text": [
      "(7, 9, 0, 24)\n",
      "multiple_isolated_cells\n",
      "loosely_clustered_cells\n",
      "tightly_clustered_cells\n",
      "qlcs\n"
     ]
    },
    {
     "name": "stderr",
     "output_type": "stream",
     "text": [
      "Ignoring index file '/lcrc/project/rainfall/jcorner/MODE_data/202007120000/hrrr_t20200710T1800z_wrfsfcf30.grib2.923a8.idx' incompatible with GRIB file\n"
     ]
    },
    {
     "name": "stdout",
     "output_type": "stream",
     "text": [
      "isolated_cell\n",
      "(7, 10, 18, 30)\n",
      "multiple_isolated_cells\n",
      "loosely_clustered_cells\n",
      "tightly_clustered_cells\n",
      "qlcs\n",
      "isolated_cell\n"
     ]
    },
    {
     "name": "stderr",
     "output_type": "stream",
     "text": [
      "Ignoring index file '/lcrc/project/rainfall/jcorner/MODE_data/202007120000/hrrr_t20200710T1200z_wrfsfcf36.grib2.923a8.idx' incompatible with GRIB file\n"
     ]
    },
    {
     "name": "stdout",
     "output_type": "stream",
     "text": [
      "(7, 10, 12, 36)\n",
      "multiple_isolated_cells\n",
      "loosely_clustered_cells\n",
      "tightly_clustered_cells\n",
      "qlcs\n"
     ]
    },
    {
     "name": "stderr",
     "output_type": "stream",
     "text": [
      "Ignoring index file '/lcrc/project/rainfall/jcorner/MODE_data/202007120000/hrrr_t20200711T2100z_wrfsfcf03.grib2.923a8.idx' incompatible with GRIB file\n"
     ]
    },
    {
     "name": "stdout",
     "output_type": "stream",
     "text": [
      "isolated_cell\n",
      "(7, 11, 21, 3)\n",
      "multiple_isolated_cells\n",
      "loosely_clustered_cells\n",
      "tightly_clustered_cells\n",
      "qlcs\n"
     ]
    },
    {
     "name": "stderr",
     "output_type": "stream",
     "text": [
      "Ignoring index file '/lcrc/project/rainfall/jcorner/MODE_data/202007120000/hrrr_t20200711T1800z_wrfsfcf06.grib2.923a8.idx' incompatible with GRIB file\n"
     ]
    },
    {
     "name": "stdout",
     "output_type": "stream",
     "text": [
      "isolated_cell\n",
      "(7, 11, 18, 6)\n",
      "multiple_isolated_cells\n",
      "loosely_clustered_cells\n",
      "tightly_clustered_cells\n",
      "qlcs\n",
      "isolated_cell\n"
     ]
    },
    {
     "name": "stderr",
     "output_type": "stream",
     "text": [
      "Ignoring index file '/lcrc/project/rainfall/jcorner/MODE_data/202007120000/hrrr_t20200711T1500z_wrfsfcf09.grib2.923a8.idx' incompatible with GRIB file\n"
     ]
    },
    {
     "name": "stdout",
     "output_type": "stream",
     "text": [
      "(7, 11, 15, 9)\n",
      "multiple_isolated_cells\n",
      "loosely_clustered_cells\n",
      "tightly_clustered_cells\n",
      "qlcs\n",
      "isolated_cell\n"
     ]
    },
    {
     "name": "stderr",
     "output_type": "stream",
     "text": [
      "Ignoring index file '/lcrc/project/rainfall/jcorner/MODE_data/202007120000/hrrr_t20200711T1200z_wrfsfcf12.grib2.923a8.idx' incompatible with GRIB file\n"
     ]
    },
    {
     "name": "stdout",
     "output_type": "stream",
     "text": [
      "(7, 11, 12, 12)\n",
      "multiple_isolated_cells\n",
      "loosely_clustered_cells\n",
      "tightly_clustered_cells\n",
      "qlcs\n",
      "isolated_cell\n"
     ]
    },
    {
     "name": "stderr",
     "output_type": "stream",
     "text": [
      "Ignoring index file '/lcrc/project/rainfall/jcorner/MODE_data/202007120000/hrrr_t20200711T0900z_wrfsfcf15.grib2.923a8.idx' incompatible with GRIB file\n"
     ]
    },
    {
     "name": "stdout",
     "output_type": "stream",
     "text": [
      "(7, 11, 9, 15)\n",
      "multiple_isolated_cells\n",
      "loosely_clustered_cells\n",
      "tightly_clustered_cells\n",
      "qlcs\n",
      "isolated_cell\n"
     ]
    },
    {
     "name": "stderr",
     "output_type": "stream",
     "text": [
      "Ignoring index file '/lcrc/project/rainfall/jcorner/MODE_data/202007120000/hrrr_t20200711T0600z_wrfsfcf18.grib2.923a8.idx' incompatible with GRIB file\n"
     ]
    },
    {
     "name": "stdout",
     "output_type": "stream",
     "text": [
      "(7, 11, 6, 18)\n",
      "multiple_isolated_cells\n",
      "loosely_clustered_cells\n",
      "tightly_clustered_cells\n",
      "qlcs\n",
      "isolated_cell\n"
     ]
    },
    {
     "name": "stderr",
     "output_type": "stream",
     "text": [
      "Ignoring index file '/lcrc/project/rainfall/jcorner/MODE_data/202007120000/hrrr_t20200711T0000z_wrfsfcf24.grib2.923a8.idx' incompatible with GRIB file\n"
     ]
    },
    {
     "name": "stdout",
     "output_type": "stream",
     "text": [
      "(7, 11, 0, 24)\n",
      "multiple_isolated_cells\n",
      "loosely_clustered_cells\n",
      "tightly_clustered_cells\n",
      "qlcs\n",
      "isolated_cell\n"
     ]
    },
    {
     "name": "stderr",
     "output_type": "stream",
     "text": [
      "Ignoring index file '/lcrc/project/rainfall/jcorner/MODE_data/202007160000/hrrr_t20200714T1800z_wrfsfcf30.grib2.923a8.idx' incompatible with GRIB file\n"
     ]
    },
    {
     "name": "stdout",
     "output_type": "stream",
     "text": [
      "(7, 14, 18, 30)\n",
      "multiple_isolated_cells\n",
      "loosely_clustered_cells\n",
      "tightly_clustered_cells\n",
      "qlcs\n",
      "isolated_cell\n"
     ]
    },
    {
     "name": "stderr",
     "output_type": "stream",
     "text": [
      "Ignoring index file '/lcrc/project/rainfall/jcorner/MODE_data/202007160000/hrrr_t20200714T1200z_wrfsfcf36.grib2.923a8.idx' incompatible with GRIB file\n"
     ]
    },
    {
     "name": "stdout",
     "output_type": "stream",
     "text": [
      "(7, 14, 12, 36)\n",
      "multiple_isolated_cells\n",
      "loosely_clustered_cells\n",
      "tightly_clustered_cells\n",
      "qlcs\n",
      "isolated_cell\n"
     ]
    },
    {
     "name": "stderr",
     "output_type": "stream",
     "text": [
      "Ignoring index file '/lcrc/project/rainfall/jcorner/MODE_data/202007160000/hrrr_t20200715T2100z_wrfsfcf03.grib2.923a8.idx' incompatible with GRIB file\n"
     ]
    },
    {
     "name": "stdout",
     "output_type": "stream",
     "text": [
      "(7, 15, 21, 3)\n",
      "multiple_isolated_cells\n",
      "loosely_clustered_cells\n",
      "tightly_clustered_cells\n",
      "qlcs\n"
     ]
    },
    {
     "name": "stderr",
     "output_type": "stream",
     "text": [
      "Ignoring index file '/lcrc/project/rainfall/jcorner/MODE_data/202007160000/hrrr_t20200715T1800z_wrfsfcf06.grib2.923a8.idx' incompatible with GRIB file\n"
     ]
    },
    {
     "name": "stdout",
     "output_type": "stream",
     "text": [
      "isolated_cell\n",
      "(7, 15, 18, 6)\n",
      "multiple_isolated_cells\n",
      "loosely_clustered_cells\n",
      "tightly_clustered_cells\n",
      "qlcs\n"
     ]
    },
    {
     "name": "stderr",
     "output_type": "stream",
     "text": [
      "Ignoring index file '/lcrc/project/rainfall/jcorner/MODE_data/202007160000/hrrr_t20200715T1500z_wrfsfcf09.grib2.923a8.idx' incompatible with GRIB file\n"
     ]
    },
    {
     "name": "stdout",
     "output_type": "stream",
     "text": [
      "isolated_cell\n",
      "(7, 15, 15, 9)\n",
      "multiple_isolated_cells\n",
      "loosely_clustered_cells\n",
      "tightly_clustered_cells\n",
      "qlcs\n",
      "isolated_cell\n"
     ]
    },
    {
     "name": "stderr",
     "output_type": "stream",
     "text": [
      "Ignoring index file '/lcrc/project/rainfall/jcorner/MODE_data/202007160000/hrrr_t20200715T1200z_wrfsfcf12.grib2.923a8.idx' incompatible with GRIB file\n"
     ]
    },
    {
     "name": "stdout",
     "output_type": "stream",
     "text": [
      "(7, 15, 12, 12)\n",
      "multiple_isolated_cells\n",
      "loosely_clustered_cells\n",
      "tightly_clustered_cells\n",
      "qlcs\n",
      "isolated_cell\n"
     ]
    },
    {
     "name": "stderr",
     "output_type": "stream",
     "text": [
      "Ignoring index file '/lcrc/project/rainfall/jcorner/MODE_data/202007160000/hrrr_t20200715T0900z_wrfsfcf15.grib2.923a8.idx' incompatible with GRIB file\n"
     ]
    },
    {
     "name": "stdout",
     "output_type": "stream",
     "text": [
      "(7, 15, 9, 15)\n",
      "multiple_isolated_cells\n",
      "loosely_clustered_cells\n",
      "tightly_clustered_cells\n",
      "qlcs\n",
      "isolated_cell\n"
     ]
    },
    {
     "name": "stderr",
     "output_type": "stream",
     "text": [
      "Ignoring index file '/lcrc/project/rainfall/jcorner/MODE_data/202007160000/hrrr_t20200715T0600z_wrfsfcf18.grib2.923a8.idx' incompatible with GRIB file\n"
     ]
    },
    {
     "name": "stdout",
     "output_type": "stream",
     "text": [
      "(7, 15, 6, 18)\n",
      "multiple_isolated_cells\n",
      "loosely_clustered_cells\n",
      "tightly_clustered_cells\n",
      "qlcs\n",
      "isolated_cell\n"
     ]
    },
    {
     "name": "stderr",
     "output_type": "stream",
     "text": [
      "Ignoring index file '/lcrc/project/rainfall/jcorner/MODE_data/202007160000/hrrr_t20200715T0000z_wrfsfcf24.grib2.923a8.idx' incompatible with GRIB file\n"
     ]
    },
    {
     "name": "stdout",
     "output_type": "stream",
     "text": [
      "(7, 15, 0, 24)\n",
      "multiple_isolated_cells\n",
      "loosely_clustered_cells\n",
      "tightly_clustered_cells\n",
      "qlcs\n",
      "isolated_cell\n"
     ]
    },
    {
     "name": "stderr",
     "output_type": "stream",
     "text": [
      "Ignoring index file '/lcrc/project/rainfall/jcorner/MODE_data/202007200000/hrrr_t20200718T1800z_wrfsfcf30.grib2.923a8.idx' incompatible with GRIB file\n"
     ]
    },
    {
     "name": "stdout",
     "output_type": "stream",
     "text": [
      "(7, 18, 18, 30)\n",
      "multiple_isolated_cells\n",
      "loosely_clustered_cells\n",
      "tightly_clustered_cells\n",
      "qlcs\n"
     ]
    },
    {
     "name": "stderr",
     "output_type": "stream",
     "text": [
      "Ignoring index file '/lcrc/project/rainfall/jcorner/MODE_data/202007200000/hrrr_t20200718T1200z_wrfsfcf36.grib2.923a8.idx' incompatible with GRIB file\n"
     ]
    },
    {
     "name": "stdout",
     "output_type": "stream",
     "text": [
      "isolated_cell\n",
      "(7, 18, 12, 36)\n",
      "multiple_isolated_cells\n",
      "loosely_clustered_cells\n",
      "tightly_clustered_cells\n",
      "qlcs\n",
      "isolated_cell\n"
     ]
    },
    {
     "name": "stderr",
     "output_type": "stream",
     "text": [
      "Ignoring index file '/lcrc/project/rainfall/jcorner/MODE_data/202007200000/hrrr_t20200719T2100z_wrfsfcf03.grib2.923a8.idx' incompatible with GRIB file\n"
     ]
    },
    {
     "name": "stdout",
     "output_type": "stream",
     "text": [
      "(7, 19, 21, 3)\n",
      "multiple_isolated_cells\n",
      "loosely_clustered_cells\n",
      "tightly_clustered_cells\n",
      "qlcs\n",
      "isolated_cell\n"
     ]
    },
    {
     "name": "stderr",
     "output_type": "stream",
     "text": [
      "Ignoring index file '/lcrc/project/rainfall/jcorner/MODE_data/202007200000/hrrr_t20200719T1800z_wrfsfcf06.grib2.923a8.idx' incompatible with GRIB file\n"
     ]
    },
    {
     "name": "stdout",
     "output_type": "stream",
     "text": [
      "(7, 19, 18, 6)\n",
      "multiple_isolated_cells\n",
      "loosely_clustered_cells\n",
      "tightly_clustered_cells\n",
      "qlcs\n",
      "isolated_cell\n"
     ]
    },
    {
     "name": "stderr",
     "output_type": "stream",
     "text": [
      "Ignoring index file '/lcrc/project/rainfall/jcorner/MODE_data/202007200000/hrrr_t20200719T1500z_wrfsfcf09.grib2.923a8.idx' incompatible with GRIB file\n"
     ]
    },
    {
     "name": "stdout",
     "output_type": "stream",
     "text": [
      "(7, 19, 15, 9)\n",
      "multiple_isolated_cells\n",
      "loosely_clustered_cells\n",
      "tightly_clustered_cells\n",
      "qlcs\n",
      "isolated_cell\n"
     ]
    },
    {
     "name": "stderr",
     "output_type": "stream",
     "text": [
      "Ignoring index file '/lcrc/project/rainfall/jcorner/MODE_data/202007200000/hrrr_t20200719T1200z_wrfsfcf12.grib2.923a8.idx' incompatible with GRIB file\n"
     ]
    },
    {
     "name": "stdout",
     "output_type": "stream",
     "text": [
      "(7, 19, 12, 12)\n",
      "multiple_isolated_cells\n",
      "loosely_clustered_cells\n",
      "tightly_clustered_cells\n",
      "qlcs\n",
      "isolated_cell\n"
     ]
    },
    {
     "name": "stderr",
     "output_type": "stream",
     "text": [
      "Ignoring index file '/lcrc/project/rainfall/jcorner/MODE_data/202007200000/hrrr_t20200719T0900z_wrfsfcf15.grib2.923a8.idx' incompatible with GRIB file\n"
     ]
    },
    {
     "name": "stdout",
     "output_type": "stream",
     "text": [
      "(7, 19, 9, 15)\n",
      "multiple_isolated_cells\n",
      "loosely_clustered_cells\n",
      "tightly_clustered_cells\n",
      "qlcs\n",
      "isolated_cell\n"
     ]
    },
    {
     "name": "stderr",
     "output_type": "stream",
     "text": [
      "Ignoring index file '/lcrc/project/rainfall/jcorner/MODE_data/202007200000/hrrr_t20200719T0600z_wrfsfcf18.grib2.923a8.idx' incompatible with GRIB file\n"
     ]
    },
    {
     "name": "stdout",
     "output_type": "stream",
     "text": [
      "(7, 19, 6, 18)\n",
      "multiple_isolated_cells\n",
      "loosely_clustered_cells\n",
      "tightly_clustered_cells\n",
      "qlcs\n",
      "isolated_cell\n"
     ]
    },
    {
     "name": "stderr",
     "output_type": "stream",
     "text": [
      "Ignoring index file '/lcrc/project/rainfall/jcorner/MODE_data/202007200000/hrrr_t20200719T0000z_wrfsfcf24.grib2.923a8.idx' incompatible with GRIB file\n"
     ]
    },
    {
     "name": "stdout",
     "output_type": "stream",
     "text": [
      "(7, 19, 0, 24)\n",
      "multiple_isolated_cells\n",
      "loosely_clustered_cells\n",
      "tightly_clustered_cells\n",
      "qlcs\n",
      "isolated_cell\n"
     ]
    },
    {
     "name": "stderr",
     "output_type": "stream",
     "text": [
      "Ignoring index file '/lcrc/project/rainfall/jcorner/MODE_data/202007210000/hrrr_t20200719T1800z_wrfsfcf30.grib2.923a8.idx' incompatible with GRIB file\n"
     ]
    },
    {
     "name": "stdout",
     "output_type": "stream",
     "text": [
      "(7, 19, 18, 30)\n",
      "multiple_isolated_cells\n",
      "loosely_clustered_cells\n",
      "tightly_clustered_cells\n",
      "qlcs\n",
      "isolated_cell\n"
     ]
    },
    {
     "name": "stderr",
     "output_type": "stream",
     "text": [
      "Ignoring index file '/lcrc/project/rainfall/jcorner/MODE_data/202007210000/hrrr_t20200719T1200z_wrfsfcf36.grib2.923a8.idx' incompatible with GRIB file\n"
     ]
    },
    {
     "name": "stdout",
     "output_type": "stream",
     "text": [
      "(7, 19, 12, 36)\n",
      "multiple_isolated_cells\n",
      "loosely_clustered_cells\n",
      "tightly_clustered_cells\n",
      "qlcs\n",
      "isolated_cell\n"
     ]
    },
    {
     "name": "stderr",
     "output_type": "stream",
     "text": [
      "Ignoring index file '/lcrc/project/rainfall/jcorner/MODE_data/202007210000/hrrr_t20200720T2100z_wrfsfcf03.grib2.923a8.idx' incompatible with GRIB file\n"
     ]
    },
    {
     "name": "stdout",
     "output_type": "stream",
     "text": [
      "(7, 20, 21, 3)\n",
      "multiple_isolated_cells\n",
      "loosely_clustered_cells\n",
      "tightly_clustered_cells\n",
      "qlcs\n"
     ]
    },
    {
     "name": "stderr",
     "output_type": "stream",
     "text": [
      "Ignoring index file '/lcrc/project/rainfall/jcorner/MODE_data/202007210000/hrrr_t20200720T1800z_wrfsfcf06.grib2.923a8.idx' incompatible with GRIB file\n"
     ]
    },
    {
     "name": "stdout",
     "output_type": "stream",
     "text": [
      "isolated_cell\n",
      "(7, 20, 18, 6)\n",
      "multiple_isolated_cells\n",
      "loosely_clustered_cells\n",
      "tightly_clustered_cells\n",
      "qlcs\n"
     ]
    },
    {
     "name": "stderr",
     "output_type": "stream",
     "text": [
      "Ignoring index file '/lcrc/project/rainfall/jcorner/MODE_data/202007210000/hrrr_t20200720T1500z_wrfsfcf09.grib2.923a8.idx' incompatible with GRIB file\n"
     ]
    },
    {
     "name": "stdout",
     "output_type": "stream",
     "text": [
      "isolated_cell\n",
      "(7, 20, 15, 9)\n",
      "multiple_isolated_cells\n",
      "loosely_clustered_cells\n",
      "tightly_clustered_cells\n",
      "qlcs\n",
      "isolated_cell\n"
     ]
    },
    {
     "name": "stderr",
     "output_type": "stream",
     "text": [
      "Ignoring index file '/lcrc/project/rainfall/jcorner/MODE_data/202007210000/hrrr_t20200720T1200z_wrfsfcf12.grib2.923a8.idx' incompatible with GRIB file\n"
     ]
    },
    {
     "name": "stdout",
     "output_type": "stream",
     "text": [
      "(7, 20, 12, 12)\n",
      "multiple_isolated_cells\n",
      "loosely_clustered_cells\n",
      "tightly_clustered_cells\n",
      "qlcs\n"
     ]
    },
    {
     "name": "stderr",
     "output_type": "stream",
     "text": [
      "Ignoring index file '/lcrc/project/rainfall/jcorner/MODE_data/202007210000/hrrr_t20200720T0900z_wrfsfcf15.grib2.923a8.idx' incompatible with GRIB file\n"
     ]
    },
    {
     "name": "stdout",
     "output_type": "stream",
     "text": [
      "isolated_cell\n",
      "(7, 20, 9, 15)\n",
      "multiple_isolated_cells\n",
      "loosely_clustered_cells\n",
      "tightly_clustered_cells\n",
      "qlcs\n",
      "isolated_cell\n"
     ]
    },
    {
     "name": "stderr",
     "output_type": "stream",
     "text": [
      "Ignoring index file '/lcrc/project/rainfall/jcorner/MODE_data/202007210000/hrrr_t20200720T0600z_wrfsfcf18.grib2.923a8.idx' incompatible with GRIB file\n"
     ]
    },
    {
     "name": "stdout",
     "output_type": "stream",
     "text": [
      "(7, 20, 6, 18)\n",
      "multiple_isolated_cells\n",
      "loosely_clustered_cells\n",
      "tightly_clustered_cells\n",
      "qlcs\n"
     ]
    },
    {
     "name": "stderr",
     "output_type": "stream",
     "text": [
      "Ignoring index file '/lcrc/project/rainfall/jcorner/MODE_data/202007210000/hrrr_t20200720T0000z_wrfsfcf24.grib2.923a8.idx' incompatible with GRIB file\n"
     ]
    },
    {
     "name": "stdout",
     "output_type": "stream",
     "text": [
      "isolated_cell\n",
      "(7, 20, 0, 24)\n",
      "multiple_isolated_cells\n",
      "loosely_clustered_cells\n",
      "tightly_clustered_cells\n",
      "qlcs\n",
      "isolated_cell\n"
     ]
    },
    {
     "name": "stderr",
     "output_type": "stream",
     "text": [
      "Ignoring index file '/lcrc/project/rainfall/jcorner/MODE_data/202007250000/hrrr_t20200723T1800z_wrfsfcf30.grib2.923a8.idx' incompatible with GRIB file\n"
     ]
    },
    {
     "name": "stdout",
     "output_type": "stream",
     "text": [
      "(7, 23, 18, 30)\n",
      "multiple_isolated_cells\n",
      "loosely_clustered_cells\n",
      "tightly_clustered_cells\n",
      "qlcs\n",
      "isolated_cell\n"
     ]
    },
    {
     "name": "stderr",
     "output_type": "stream",
     "text": [
      "Ignoring index file '/lcrc/project/rainfall/jcorner/MODE_data/202007250000/hrrr_t20200723T1200z_wrfsfcf36.grib2.923a8.idx' incompatible with GRIB file\n"
     ]
    },
    {
     "name": "stdout",
     "output_type": "stream",
     "text": [
      "(7, 23, 12, 36)\n",
      "multiple_isolated_cells\n",
      "loosely_clustered_cells\n",
      "tightly_clustered_cells\n",
      "qlcs\n"
     ]
    },
    {
     "name": "stderr",
     "output_type": "stream",
     "text": [
      "Ignoring index file '/lcrc/project/rainfall/jcorner/MODE_data/202007250000/hrrr_t20200724T2100z_wrfsfcf03.grib2.923a8.idx' incompatible with GRIB file\n"
     ]
    },
    {
     "name": "stdout",
     "output_type": "stream",
     "text": [
      "isolated_cell\n",
      "(7, 24, 21, 3)\n",
      "multiple_isolated_cells\n",
      "loosely_clustered_cells\n",
      "tightly_clustered_cells\n",
      "qlcs\n"
     ]
    },
    {
     "name": "stderr",
     "output_type": "stream",
     "text": [
      "Ignoring index file '/lcrc/project/rainfall/jcorner/MODE_data/202007250000/hrrr_t20200724T1800z_wrfsfcf06.grib2.923a8.idx' incompatible with GRIB file\n"
     ]
    },
    {
     "name": "stdout",
     "output_type": "stream",
     "text": [
      "isolated_cell\n",
      "(7, 24, 18, 6)\n",
      "multiple_isolated_cells\n",
      "loosely_clustered_cells\n",
      "tightly_clustered_cells\n",
      "qlcs\n",
      "isolated_cell\n"
     ]
    },
    {
     "name": "stderr",
     "output_type": "stream",
     "text": [
      "Ignoring index file '/lcrc/project/rainfall/jcorner/MODE_data/202007250000/hrrr_t20200724T1500z_wrfsfcf09.grib2.923a8.idx' incompatible with GRIB file\n"
     ]
    },
    {
     "name": "stdout",
     "output_type": "stream",
     "text": [
      "(7, 24, 15, 9)\n",
      "multiple_isolated_cells\n",
      "loosely_clustered_cells\n",
      "tightly_clustered_cells\n",
      "qlcs\n",
      "isolated_cell\n"
     ]
    },
    {
     "name": "stderr",
     "output_type": "stream",
     "text": [
      "Ignoring index file '/lcrc/project/rainfall/jcorner/MODE_data/202007250000/hrrr_t20200724T1200z_wrfsfcf12.grib2.923a8.idx' incompatible with GRIB file\n"
     ]
    },
    {
     "name": "stdout",
     "output_type": "stream",
     "text": [
      "(7, 24, 12, 12)\n",
      "multiple_isolated_cells\n",
      "loosely_clustered_cells\n",
      "tightly_clustered_cells\n",
      "qlcs\n",
      "isolated_cell\n"
     ]
    },
    {
     "name": "stderr",
     "output_type": "stream",
     "text": [
      "Ignoring index file '/lcrc/project/rainfall/jcorner/MODE_data/202007250000/hrrr_t20200724T0900z_wrfsfcf15.grib2.923a8.idx' incompatible with GRIB file\n"
     ]
    },
    {
     "name": "stdout",
     "output_type": "stream",
     "text": [
      "(7, 24, 9, 15)\n",
      "multiple_isolated_cells\n",
      "loosely_clustered_cells\n",
      "tightly_clustered_cells\n",
      "qlcs\n",
      "isolated_cell\n"
     ]
    },
    {
     "name": "stderr",
     "output_type": "stream",
     "text": [
      "Ignoring index file '/lcrc/project/rainfall/jcorner/MODE_data/202007250000/hrrr_t20200724T0600z_wrfsfcf18.grib2.923a8.idx' incompatible with GRIB file\n"
     ]
    },
    {
     "name": "stdout",
     "output_type": "stream",
     "text": [
      "(7, 24, 6, 18)\n",
      "multiple_isolated_cells\n",
      "loosely_clustered_cells\n",
      "tightly_clustered_cells\n",
      "qlcs\n",
      "isolated_cell\n"
     ]
    },
    {
     "name": "stderr",
     "output_type": "stream",
     "text": [
      "Ignoring index file '/lcrc/project/rainfall/jcorner/MODE_data/202007250000/hrrr_t20200724T0000z_wrfsfcf24.grib2.923a8.idx' incompatible with GRIB file\n"
     ]
    },
    {
     "name": "stdout",
     "output_type": "stream",
     "text": [
      "(7, 24, 0, 24)\n",
      "multiple_isolated_cells\n",
      "loosely_clustered_cells\n",
      "tightly_clustered_cells\n",
      "qlcs\n",
      "isolated_cell\n"
     ]
    },
    {
     "name": "stderr",
     "output_type": "stream",
     "text": [
      "Ignoring index file '/lcrc/project/rainfall/jcorner/MODE_data/202007300000/hrrr_t20200728T1800z_wrfsfcf30.grib2.923a8.idx' incompatible with GRIB file\n"
     ]
    },
    {
     "name": "stdout",
     "output_type": "stream",
     "text": [
      "(7, 28, 18, 30)\n",
      "multiple_isolated_cells\n",
      "loosely_clustered_cells\n",
      "tightly_clustered_cells\n",
      "qlcs\n"
     ]
    },
    {
     "name": "stderr",
     "output_type": "stream",
     "text": [
      "Ignoring index file '/lcrc/project/rainfall/jcorner/MODE_data/202007300000/hrrr_t20200728T1200z_wrfsfcf36.grib2.923a8.idx' incompatible with GRIB file\n"
     ]
    },
    {
     "name": "stdout",
     "output_type": "stream",
     "text": [
      "isolated_cell\n",
      "(7, 28, 12, 36)\n",
      "multiple_isolated_cells\n",
      "loosely_clustered_cells\n",
      "tightly_clustered_cells\n",
      "qlcs\n",
      "isolated_cell\n"
     ]
    },
    {
     "name": "stderr",
     "output_type": "stream",
     "text": [
      "Ignoring index file '/lcrc/project/rainfall/jcorner/MODE_data/202007300000/hrrr_t20200729T2100z_wrfsfcf03.grib2.923a8.idx' incompatible with GRIB file\n"
     ]
    },
    {
     "name": "stdout",
     "output_type": "stream",
     "text": [
      "(7, 29, 21, 3)\n",
      "multiple_isolated_cells\n",
      "loosely_clustered_cells\n",
      "tightly_clustered_cells\n",
      "qlcs\n",
      "isolated_cell\n"
     ]
    },
    {
     "name": "stderr",
     "output_type": "stream",
     "text": [
      "Ignoring index file '/lcrc/project/rainfall/jcorner/MODE_data/202007300000/hrrr_t20200729T1800z_wrfsfcf06.grib2.923a8.idx' incompatible with GRIB file\n"
     ]
    },
    {
     "name": "stdout",
     "output_type": "stream",
     "text": [
      "(7, 29, 18, 6)\n",
      "multiple_isolated_cells\n",
      "loosely_clustered_cells\n",
      "tightly_clustered_cells\n",
      "qlcs\n"
     ]
    },
    {
     "name": "stderr",
     "output_type": "stream",
     "text": [
      "Ignoring index file '/lcrc/project/rainfall/jcorner/MODE_data/202007300000/hrrr_t20200729T1500z_wrfsfcf09.grib2.923a8.idx' incompatible with GRIB file\n"
     ]
    },
    {
     "name": "stdout",
     "output_type": "stream",
     "text": [
      "isolated_cell\n",
      "(7, 29, 15, 9)\n",
      "multiple_isolated_cells\n",
      "loosely_clustered_cells\n",
      "tightly_clustered_cells\n",
      "qlcs\n",
      "isolated_cell\n"
     ]
    },
    {
     "name": "stderr",
     "output_type": "stream",
     "text": [
      "Ignoring index file '/lcrc/project/rainfall/jcorner/MODE_data/202007300000/hrrr_t20200729T1200z_wrfsfcf12.grib2.923a8.idx' incompatible with GRIB file\n"
     ]
    },
    {
     "name": "stdout",
     "output_type": "stream",
     "text": [
      "(7, 29, 12, 12)\n",
      "multiple_isolated_cells\n",
      "loosely_clustered_cells\n",
      "tightly_clustered_cells\n",
      "qlcs\n",
      "isolated_cell\n"
     ]
    },
    {
     "name": "stderr",
     "output_type": "stream",
     "text": [
      "Ignoring index file '/lcrc/project/rainfall/jcorner/MODE_data/202007300000/hrrr_t20200729T0900z_wrfsfcf15.grib2.923a8.idx' incompatible with GRIB file\n"
     ]
    },
    {
     "name": "stdout",
     "output_type": "stream",
     "text": [
      "(7, 29, 9, 15)\n",
      "multiple_isolated_cells\n",
      "loosely_clustered_cells\n",
      "tightly_clustered_cells\n",
      "qlcs\n",
      "isolated_cell\n"
     ]
    },
    {
     "name": "stderr",
     "output_type": "stream",
     "text": [
      "Ignoring index file '/lcrc/project/rainfall/jcorner/MODE_data/202007300000/hrrr_t20200729T0600z_wrfsfcf18.grib2.923a8.idx' incompatible with GRIB file\n"
     ]
    },
    {
     "name": "stdout",
     "output_type": "stream",
     "text": [
      "(7, 29, 6, 18)\n",
      "multiple_isolated_cells\n",
      "loosely_clustered_cells\n",
      "tightly_clustered_cells\n",
      "qlcs\n",
      "isolated_cell\n"
     ]
    },
    {
     "name": "stderr",
     "output_type": "stream",
     "text": [
      "Ignoring index file '/lcrc/project/rainfall/jcorner/MODE_data/202007300000/hrrr_t20200729T0000z_wrfsfcf24.grib2.923a8.idx' incompatible with GRIB file\n"
     ]
    },
    {
     "name": "stdout",
     "output_type": "stream",
     "text": [
      "(7, 29, 0, 24)\n",
      "multiple_isolated_cells\n",
      "loosely_clustered_cells\n",
      "tightly_clustered_cells\n",
      "qlcs\n",
      "isolated_cell\n"
     ]
    },
    {
     "name": "stderr",
     "output_type": "stream",
     "text": [
      "Ignoring index file '/lcrc/project/rainfall/jcorner/MODE_data/202008110000/hrrr_t20200809T1800z_wrfsfcf30.grib2.923a8.idx' incompatible with GRIB file\n"
     ]
    },
    {
     "name": "stdout",
     "output_type": "stream",
     "text": [
      "(8, 9, 18, 30)\n",
      "multiple_isolated_cells\n",
      "loosely_clustered_cells\n",
      "tightly_clustered_cells\n",
      "qlcs\n",
      "isolated_cell\n"
     ]
    },
    {
     "name": "stderr",
     "output_type": "stream",
     "text": [
      "Ignoring index file '/lcrc/project/rainfall/jcorner/MODE_data/202008110000/hrrr_t20200809T1200z_wrfsfcf36.grib2.923a8.idx' incompatible with GRIB file\n"
     ]
    },
    {
     "name": "stdout",
     "output_type": "stream",
     "text": [
      "(8, 9, 12, 36)\n",
      "multiple_isolated_cells\n",
      "loosely_clustered_cells\n",
      "tightly_clustered_cells\n",
      "qlcs\n"
     ]
    },
    {
     "name": "stderr",
     "output_type": "stream",
     "text": [
      "Ignoring index file '/lcrc/project/rainfall/jcorner/MODE_data/202008110000/hrrr_t20200810T2100z_wrfsfcf03.grib2.923a8.idx' incompatible with GRIB file\n"
     ]
    },
    {
     "name": "stdout",
     "output_type": "stream",
     "text": [
      "isolated_cell\n",
      "(8, 10, 21, 3)\n",
      "multiple_isolated_cells\n",
      "loosely_clustered_cells\n",
      "tightly_clustered_cells\n",
      "qlcs\n",
      "isolated_cell\n"
     ]
    },
    {
     "name": "stderr",
     "output_type": "stream",
     "text": [
      "Ignoring index file '/lcrc/project/rainfall/jcorner/MODE_data/202008110000/hrrr_t20200810T1800z_wrfsfcf06.grib2.923a8.idx' incompatible with GRIB file\n"
     ]
    },
    {
     "name": "stdout",
     "output_type": "stream",
     "text": [
      "(8, 10, 18, 6)\n",
      "multiple_isolated_cells\n",
      "loosely_clustered_cells\n",
      "tightly_clustered_cells\n",
      "qlcs\n",
      "isolated_cell\n"
     ]
    },
    {
     "name": "stderr",
     "output_type": "stream",
     "text": [
      "Ignoring index file '/lcrc/project/rainfall/jcorner/MODE_data/202008110000/hrrr_t20200810T1500z_wrfsfcf09.grib2.923a8.idx' incompatible with GRIB file\n"
     ]
    },
    {
     "name": "stdout",
     "output_type": "stream",
     "text": [
      "(8, 10, 15, 9)\n",
      "multiple_isolated_cells\n",
      "loosely_clustered_cells\n",
      "tightly_clustered_cells\n",
      "qlcs\n",
      "isolated_cell\n"
     ]
    },
    {
     "name": "stderr",
     "output_type": "stream",
     "text": [
      "Ignoring index file '/lcrc/project/rainfall/jcorner/MODE_data/202008110000/hrrr_t20200810T1200z_wrfsfcf12.grib2.923a8.idx' incompatible with GRIB file\n"
     ]
    },
    {
     "name": "stdout",
     "output_type": "stream",
     "text": [
      "(8, 10, 12, 12)\n",
      "multiple_isolated_cells\n",
      "loosely_clustered_cells\n",
      "tightly_clustered_cells\n",
      "qlcs\n",
      "isolated_cell\n"
     ]
    },
    {
     "name": "stderr",
     "output_type": "stream",
     "text": [
      "Ignoring index file '/lcrc/project/rainfall/jcorner/MODE_data/202008110000/hrrr_t20200810T0900z_wrfsfcf15.grib2.923a8.idx' incompatible with GRIB file\n"
     ]
    },
    {
     "name": "stdout",
     "output_type": "stream",
     "text": [
      "(8, 10, 9, 15)\n",
      "multiple_isolated_cells\n",
      "loosely_clustered_cells\n",
      "tightly_clustered_cells\n",
      "qlcs\n",
      "isolated_cell\n"
     ]
    },
    {
     "name": "stderr",
     "output_type": "stream",
     "text": [
      "Ignoring index file '/lcrc/project/rainfall/jcorner/MODE_data/202008110000/hrrr_t20200810T0600z_wrfsfcf18.grib2.923a8.idx' incompatible with GRIB file\n"
     ]
    },
    {
     "name": "stdout",
     "output_type": "stream",
     "text": [
      "(8, 10, 6, 18)\n",
      "multiple_isolated_cells\n",
      "loosely_clustered_cells\n",
      "tightly_clustered_cells\n",
      "qlcs\n",
      "isolated_cell\n"
     ]
    },
    {
     "name": "stderr",
     "output_type": "stream",
     "text": [
      "Ignoring index file '/lcrc/project/rainfall/jcorner/MODE_data/202008110000/hrrr_t20200810T0000z_wrfsfcf24.grib2.923a8.idx' incompatible with GRIB file\n"
     ]
    },
    {
     "name": "stdout",
     "output_type": "stream",
     "text": [
      "(8, 10, 0, 24)\n",
      "multiple_isolated_cells\n",
      "loosely_clustered_cells\n",
      "tightly_clustered_cells\n",
      "qlcs\n",
      "isolated_cell\n"
     ]
    }
   ],
   "source": [
    "storm_modes = ['multiple_isolated_cells', 'loosely_clustered_cells', 'tightly_clustered_cells', 'qlcs', 'isolated_cell']\n",
    "\n",
    "for i in timesteps:\n",
    "    working_df = result[(result['start_time'] == f'2020-{str(i[0]).zfill(2)}-{str(i[1]).zfill(2)} {str(i[2]).zfill(2)}:{str(i[3]).zfill(2)}:00')]\n",
    "    \n",
    "    str_time = f'2020-{str(i[0]).zfill(2)}-{str(i[1]).zfill(2)} {str(i[2]).zfill(2)}'\n",
    "    datetime_object = dt.datetime.strptime(str_time, '%Y-%m-%d %H') + dt.timedelta(hours = i[3])\n",
    "    \n",
    "    ds = xr.open_dataset(f'/lcrc/project/rainfall/jcorner/MODE_data'\n",
    "                         f'/{datetime_object.year}0{datetime_object.month}{str(datetime_object.day).zfill(2)}0000/'\n",
    "                         f'hrrr_t2020{str(i[0]).zfill(2)}{str(i[1]).zfill(2)}'\n",
    "                         f'T{str(i[2]).zfill(2)}00z_wrfsfcf{str(i[3]).zfill(2)}.grib2', filter_by_keys={'typeOfLevel': 'atmosphere'})\n",
    "    \n",
    "    ds = ds.where(ds['refc'] >= 20, 0)\n",
    "    \n",
    "    print(i)\n",
    "    \n",
    "    for modes in storm_modes:\n",
    "        print(modes)\n",
    "        new_df = working_df[(working_df[modes] > 0.5)]\n",
    "        blanks = np.zeros((ds.refc.shape))\n",
    "        cpy = copy.deepcopy(ds)\n",
    "        \n",
    "\n",
    "        for rid, row in new_df.iterrows():\n",
    "            blanks[row['ymin']:row['ymax']+1, row['xmin']:row['xmax']+1] = 1\n",
    "        \n",
    "        #cpy = ds.copy(deep=True, data= {'refc': ds['refc'].values * blanks,\n",
    "        #                               'unknown': ds['unknown'].values,\n",
    "        #                               'tcc': ds['tcc'].values,\n",
    "        #                               'hail': ds['hail'].values,\n",
    "        #                               'ltng': ds['ltng'].values,\n",
    "        #                               'veril': ds['veril'].values}\n",
    "        \n",
    "        new = cpy.assign(refc=(('lat', 'lon'), ds['refc'].values * blanks, ds['refc'].attrs))\n",
    "        #new2 = new.assign_coords(lat=(('latitude', 'longitude'), ds['latitude'].values, ds['latitude'].attrs), lon=(('latitude', 'longitude'), ds['longitude'].values, ds['longitude'].attrs))\n",
    "        #new3 = new2.rename(latitude = 'lat', longitude = 'lon')\n",
    "        \n",
    "        new.to_netcdf(f'/lcrc/project/rainfall/jcorner/MODE_data/{datetime_object.year}0{datetime_object.month}{str(datetime_object.day).zfill(2)}0000/{modes}/hrrr_t2020{str(i[0]).zfill(2)}{str(i[1]).zfill(2)}T{str(i[2]).zfill(2)}00z_wrfsfcf{str(i[3]).zfill(2)}.nc4')\n",
    "        \n"
   ]
  },
  {
   "cell_type": "code",
   "execution_count": 28,
   "id": "7a3feee0",
   "metadata": {},
   "outputs": [
    {
     "data": {
      "text/html": [
       "<div><svg style=\"position: absolute; width: 0; height: 0; overflow: hidden\">\n",
       "<defs>\n",
       "<symbol id=\"icon-database\" viewBox=\"0 0 32 32\">\n",
       "<path d=\"M16 0c-8.837 0-16 2.239-16 5v4c0 2.761 7.163 5 16 5s16-2.239 16-5v-4c0-2.761-7.163-5-16-5z\"></path>\n",
       "<path d=\"M16 17c-8.837 0-16-2.239-16-5v6c0 2.761 7.163 5 16 5s16-2.239 16-5v-6c0 2.761-7.163 5-16 5z\"></path>\n",
       "<path d=\"M16 26c-8.837 0-16-2.239-16-5v6c0 2.761 7.163 5 16 5s16-2.239 16-5v-6c0 2.761-7.163 5-16 5z\"></path>\n",
       "</symbol>\n",
       "<symbol id=\"icon-file-text2\" viewBox=\"0 0 32 32\">\n",
       "<path d=\"M28.681 7.159c-0.694-0.947-1.662-2.053-2.724-3.116s-2.169-2.030-3.116-2.724c-1.612-1.182-2.393-1.319-2.841-1.319h-15.5c-1.378 0-2.5 1.121-2.5 2.5v27c0 1.378 1.122 2.5 2.5 2.5h23c1.378 0 2.5-1.122 2.5-2.5v-19.5c0-0.448-0.137-1.23-1.319-2.841zM24.543 5.457c0.959 0.959 1.712 1.825 2.268 2.543h-4.811v-4.811c0.718 0.556 1.584 1.309 2.543 2.268zM28 29.5c0 0.271-0.229 0.5-0.5 0.5h-23c-0.271 0-0.5-0.229-0.5-0.5v-27c0-0.271 0.229-0.5 0.5-0.5 0 0 15.499-0 15.5 0v7c0 0.552 0.448 1 1 1h7v19.5z\"></path>\n",
       "<path d=\"M23 26h-14c-0.552 0-1-0.448-1-1s0.448-1 1-1h14c0.552 0 1 0.448 1 1s-0.448 1-1 1z\"></path>\n",
       "<path d=\"M23 22h-14c-0.552 0-1-0.448-1-1s0.448-1 1-1h14c0.552 0 1 0.448 1 1s-0.448 1-1 1z\"></path>\n",
       "<path d=\"M23 18h-14c-0.552 0-1-0.448-1-1s0.448-1 1-1h14c0.552 0 1 0.448 1 1s-0.448 1-1 1z\"></path>\n",
       "</symbol>\n",
       "</defs>\n",
       "</svg>\n",
       "<style>/* CSS stylesheet for displaying xarray objects in jupyterlab.\n",
       " *\n",
       " */\n",
       "\n",
       ":root {\n",
       "  --xr-font-color0: var(--jp-content-font-color0, rgba(0, 0, 0, 1));\n",
       "  --xr-font-color2: var(--jp-content-font-color2, rgba(0, 0, 0, 0.54));\n",
       "  --xr-font-color3: var(--jp-content-font-color3, rgba(0, 0, 0, 0.38));\n",
       "  --xr-border-color: var(--jp-border-color2, #e0e0e0);\n",
       "  --xr-disabled-color: var(--jp-layout-color3, #bdbdbd);\n",
       "  --xr-background-color: var(--jp-layout-color0, white);\n",
       "  --xr-background-color-row-even: var(--jp-layout-color1, white);\n",
       "  --xr-background-color-row-odd: var(--jp-layout-color2, #eeeeee);\n",
       "}\n",
       "\n",
       "html[theme=dark],\n",
       "body.vscode-dark {\n",
       "  --xr-font-color0: rgba(255, 255, 255, 1);\n",
       "  --xr-font-color2: rgba(255, 255, 255, 0.54);\n",
       "  --xr-font-color3: rgba(255, 255, 255, 0.38);\n",
       "  --xr-border-color: #1F1F1F;\n",
       "  --xr-disabled-color: #515151;\n",
       "  --xr-background-color: #111111;\n",
       "  --xr-background-color-row-even: #111111;\n",
       "  --xr-background-color-row-odd: #313131;\n",
       "}\n",
       "\n",
       ".xr-wrap {\n",
       "  display: block;\n",
       "  min-width: 300px;\n",
       "  max-width: 700px;\n",
       "}\n",
       "\n",
       ".xr-text-repr-fallback {\n",
       "  /* fallback to plain text repr when CSS is not injected (untrusted notebook) */\n",
       "  display: none;\n",
       "}\n",
       "\n",
       ".xr-header {\n",
       "  padding-top: 6px;\n",
       "  padding-bottom: 6px;\n",
       "  margin-bottom: 4px;\n",
       "  border-bottom: solid 1px var(--xr-border-color);\n",
       "}\n",
       "\n",
       ".xr-header > div,\n",
       ".xr-header > ul {\n",
       "  display: inline;\n",
       "  margin-top: 0;\n",
       "  margin-bottom: 0;\n",
       "}\n",
       "\n",
       ".xr-obj-type,\n",
       ".xr-array-name {\n",
       "  margin-left: 2px;\n",
       "  margin-right: 10px;\n",
       "}\n",
       "\n",
       ".xr-obj-type {\n",
       "  color: var(--xr-font-color2);\n",
       "}\n",
       "\n",
       ".xr-sections {\n",
       "  padding-left: 0 !important;\n",
       "  display: grid;\n",
       "  grid-template-columns: 150px auto auto 1fr 20px 20px;\n",
       "}\n",
       "\n",
       ".xr-section-item {\n",
       "  display: contents;\n",
       "}\n",
       "\n",
       ".xr-section-item input {\n",
       "  display: none;\n",
       "}\n",
       "\n",
       ".xr-section-item input + label {\n",
       "  color: var(--xr-disabled-color);\n",
       "}\n",
       "\n",
       ".xr-section-item input:enabled + label {\n",
       "  cursor: pointer;\n",
       "  color: var(--xr-font-color2);\n",
       "}\n",
       "\n",
       ".xr-section-item input:enabled + label:hover {\n",
       "  color: var(--xr-font-color0);\n",
       "}\n",
       "\n",
       ".xr-section-summary {\n",
       "  grid-column: 1;\n",
       "  color: var(--xr-font-color2);\n",
       "  font-weight: 500;\n",
       "}\n",
       "\n",
       ".xr-section-summary > span {\n",
       "  display: inline-block;\n",
       "  padding-left: 0.5em;\n",
       "}\n",
       "\n",
       ".xr-section-summary-in:disabled + label {\n",
       "  color: var(--xr-font-color2);\n",
       "}\n",
       "\n",
       ".xr-section-summary-in + label:before {\n",
       "  display: inline-block;\n",
       "  content: '►';\n",
       "  font-size: 11px;\n",
       "  width: 15px;\n",
       "  text-align: center;\n",
       "}\n",
       "\n",
       ".xr-section-summary-in:disabled + label:before {\n",
       "  color: var(--xr-disabled-color);\n",
       "}\n",
       "\n",
       ".xr-section-summary-in:checked + label:before {\n",
       "  content: '▼';\n",
       "}\n",
       "\n",
       ".xr-section-summary-in:checked + label > span {\n",
       "  display: none;\n",
       "}\n",
       "\n",
       ".xr-section-summary,\n",
       ".xr-section-inline-details {\n",
       "  padding-top: 4px;\n",
       "  padding-bottom: 4px;\n",
       "}\n",
       "\n",
       ".xr-section-inline-details {\n",
       "  grid-column: 2 / -1;\n",
       "}\n",
       "\n",
       ".xr-section-details {\n",
       "  display: none;\n",
       "  grid-column: 1 / -1;\n",
       "  margin-bottom: 5px;\n",
       "}\n",
       "\n",
       ".xr-section-summary-in:checked ~ .xr-section-details {\n",
       "  display: contents;\n",
       "}\n",
       "\n",
       ".xr-array-wrap {\n",
       "  grid-column: 1 / -1;\n",
       "  display: grid;\n",
       "  grid-template-columns: 20px auto;\n",
       "}\n",
       "\n",
       ".xr-array-wrap > label {\n",
       "  grid-column: 1;\n",
       "  vertical-align: top;\n",
       "}\n",
       "\n",
       ".xr-preview {\n",
       "  color: var(--xr-font-color3);\n",
       "}\n",
       "\n",
       ".xr-array-preview,\n",
       ".xr-array-data {\n",
       "  padding: 0 5px !important;\n",
       "  grid-column: 2;\n",
       "}\n",
       "\n",
       ".xr-array-data,\n",
       ".xr-array-in:checked ~ .xr-array-preview {\n",
       "  display: none;\n",
       "}\n",
       "\n",
       ".xr-array-in:checked ~ .xr-array-data,\n",
       ".xr-array-preview {\n",
       "  display: inline-block;\n",
       "}\n",
       "\n",
       ".xr-dim-list {\n",
       "  display: inline-block !important;\n",
       "  list-style: none;\n",
       "  padding: 0 !important;\n",
       "  margin: 0;\n",
       "}\n",
       "\n",
       ".xr-dim-list li {\n",
       "  display: inline-block;\n",
       "  padding: 0;\n",
       "  margin: 0;\n",
       "}\n",
       "\n",
       ".xr-dim-list:before {\n",
       "  content: '(';\n",
       "}\n",
       "\n",
       ".xr-dim-list:after {\n",
       "  content: ')';\n",
       "}\n",
       "\n",
       ".xr-dim-list li:not(:last-child):after {\n",
       "  content: ',';\n",
       "  padding-right: 5px;\n",
       "}\n",
       "\n",
       ".xr-has-index {\n",
       "  font-weight: bold;\n",
       "}\n",
       "\n",
       ".xr-var-list,\n",
       ".xr-var-item {\n",
       "  display: contents;\n",
       "}\n",
       "\n",
       ".xr-var-item > div,\n",
       ".xr-var-item label,\n",
       ".xr-var-item > .xr-var-name span {\n",
       "  background-color: var(--xr-background-color-row-even);\n",
       "  margin-bottom: 0;\n",
       "}\n",
       "\n",
       ".xr-var-item > .xr-var-name:hover span {\n",
       "  padding-right: 5px;\n",
       "}\n",
       "\n",
       ".xr-var-list > li:nth-child(odd) > div,\n",
       ".xr-var-list > li:nth-child(odd) > label,\n",
       ".xr-var-list > li:nth-child(odd) > .xr-var-name span {\n",
       "  background-color: var(--xr-background-color-row-odd);\n",
       "}\n",
       "\n",
       ".xr-var-name {\n",
       "  grid-column: 1;\n",
       "}\n",
       "\n",
       ".xr-var-dims {\n",
       "  grid-column: 2;\n",
       "}\n",
       "\n",
       ".xr-var-dtype {\n",
       "  grid-column: 3;\n",
       "  text-align: right;\n",
       "  color: var(--xr-font-color2);\n",
       "}\n",
       "\n",
       ".xr-var-preview {\n",
       "  grid-column: 4;\n",
       "}\n",
       "\n",
       ".xr-var-name,\n",
       ".xr-var-dims,\n",
       ".xr-var-dtype,\n",
       ".xr-preview,\n",
       ".xr-attrs dt {\n",
       "  white-space: nowrap;\n",
       "  overflow: hidden;\n",
       "  text-overflow: ellipsis;\n",
       "  padding-right: 10px;\n",
       "}\n",
       "\n",
       ".xr-var-name:hover,\n",
       ".xr-var-dims:hover,\n",
       ".xr-var-dtype:hover,\n",
       ".xr-attrs dt:hover {\n",
       "  overflow: visible;\n",
       "  width: auto;\n",
       "  z-index: 1;\n",
       "}\n",
       "\n",
       ".xr-var-attrs,\n",
       ".xr-var-data {\n",
       "  display: none;\n",
       "  background-color: var(--xr-background-color) !important;\n",
       "  padding-bottom: 5px !important;\n",
       "}\n",
       "\n",
       ".xr-var-attrs-in:checked ~ .xr-var-attrs,\n",
       ".xr-var-data-in:checked ~ .xr-var-data {\n",
       "  display: block;\n",
       "}\n",
       "\n",
       ".xr-var-data > table {\n",
       "  float: right;\n",
       "}\n",
       "\n",
       ".xr-var-name span,\n",
       ".xr-var-data,\n",
       ".xr-attrs {\n",
       "  padding-left: 25px !important;\n",
       "}\n",
       "\n",
       ".xr-attrs,\n",
       ".xr-var-attrs,\n",
       ".xr-var-data {\n",
       "  grid-column: 1 / -1;\n",
       "}\n",
       "\n",
       "dl.xr-attrs {\n",
       "  padding: 0;\n",
       "  margin: 0;\n",
       "  display: grid;\n",
       "  grid-template-columns: 125px auto;\n",
       "}\n",
       "\n",
       ".xr-attrs dt,\n",
       ".xr-attrs dd {\n",
       "  padding: 0;\n",
       "  margin: 0;\n",
       "  float: left;\n",
       "  padding-right: 10px;\n",
       "  width: auto;\n",
       "}\n",
       "\n",
       ".xr-attrs dt {\n",
       "  font-weight: normal;\n",
       "  grid-column: 1;\n",
       "}\n",
       "\n",
       ".xr-attrs dt:hover span {\n",
       "  display: inline-block;\n",
       "  background: var(--xr-background-color);\n",
       "  padding-right: 10px;\n",
       "}\n",
       "\n",
       ".xr-attrs dd {\n",
       "  grid-column: 2;\n",
       "  white-space: pre-wrap;\n",
       "  word-break: break-all;\n",
       "}\n",
       "\n",
       ".xr-icon-database,\n",
       ".xr-icon-file-text2 {\n",
       "  display: inline-block;\n",
       "  vertical-align: middle;\n",
       "  width: 1em;\n",
       "  height: 1.5em !important;\n",
       "  stroke-width: 0;\n",
       "  stroke: currentColor;\n",
       "  fill: currentColor;\n",
       "}\n",
       "</style><pre class='xr-text-repr-fallback'>&lt;xarray.Dataset&gt;\n",
       "Dimensions:     (lat: 1059, lon: 1799, y: 1059, x: 1799, latitude: 1059, longitude: 1799)\n",
       "Coordinates:\n",
       "    time        datetime64[ns] 2020-08-10\n",
       "    step        timedelta64[ns] 1 days\n",
       "    atmosphere  float64 0.0\n",
       "    latitude    (y, x) float64 21.14 21.15 21.15 21.16 ... 47.86 47.85 47.84\n",
       "    longitude   (y, x) float64 237.3 237.3 237.3 237.4 ... 299.0 299.0 299.1\n",
       "    valid_time  datetime64[ns] 2020-08-11\n",
       "    lat         (latitude, longitude) float64 21.14 21.15 21.15 ... 47.85 47.84\n",
       "    lon         (latitude, longitude) float64 237.3 237.3 237.3 ... 299.0 299.1\n",
       "    y           (latitude, longitude) float64 21.14 21.15 21.15 ... 47.85 47.84\n",
       "    x           (latitude, longitude) float64 237.3 237.3 237.3 ... 299.0 299.1\n",
       "Data variables:\n",
       "    refc        (lat, lon) float64 0.0 0.0 0.0 0.0 0.0 ... 0.0 0.0 0.0 0.0 0.0\n",
       "    veril       (y, x) float32 0.0 0.0 0.0 0.0 0.0 0.0 ... 0.0 0.0 0.0 0.0 0.0\n",
       "    hail        (y, x) float32 0.0 0.0 0.0 0.0 0.0 0.0 ... 0.0 0.0 0.0 0.0 0.0\n",
       "    ltng        (y, x) float32 0.0 0.0 0.0 0.0 0.0 0.0 ... 0.0 0.0 0.0 0.0 0.0\n",
       "    tcc         (y, x) float32 0.0 0.0 0.0 0.0 0.0 0.0 ... 0.0 0.0 0.0 0.0 0.0\n",
       "    unknown     (y, x) float32 0.0 0.0 0.0 0.0 0.0 0.0 ... 0.0 0.0 0.0 0.0 0.0\n",
       "Attributes:\n",
       "    GRIB_edition:            2\n",
       "    GRIB_centre:             kwbc\n",
       "    GRIB_centreDescription:  US National Weather Service - NCEP\n",
       "    GRIB_subCentre:          0\n",
       "    Conventions:             CF-1.7\n",
       "    institution:             US National Weather Service - NCEP\n",
       "    history:                 2023-01-26T16:58 GRIB to CDM+CF via cfgrib-0.9.9...</pre><div class='xr-wrap' hidden><div class='xr-header'><div class='xr-obj-type'>xarray.Dataset</div></div><ul class='xr-sections'><li class='xr-section-item'><input id='section-bf57ff1a-5a95-40be-91f2-474809e7d4ba' class='xr-section-summary-in' type='checkbox' disabled ><label for='section-bf57ff1a-5a95-40be-91f2-474809e7d4ba' class='xr-section-summary'  title='Expand/collapse section'>Dimensions:</label><div class='xr-section-inline-details'><ul class='xr-dim-list'><li><span class='xr-has-index'>lat</span>: 1059</li><li><span class='xr-has-index'>lon</span>: 1799</li><li><span class='xr-has-index'>y</span>: 1059</li><li><span class='xr-has-index'>x</span>: 1799</li><li><span class='xr-has-index'>latitude</span>: 1059</li><li><span class='xr-has-index'>longitude</span>: 1799</li></ul></div><div class='xr-section-details'></div></li><li class='xr-section-item'><input id='section-be901597-063d-4efe-bb47-922b8ccf39b5' class='xr-section-summary-in' type='checkbox'  checked><label for='section-be901597-063d-4efe-bb47-922b8ccf39b5' class='xr-section-summary' >Coordinates: <span>(10)</span></label><div class='xr-section-inline-details'></div><div class='xr-section-details'><ul class='xr-var-list'><li class='xr-var-item'><div class='xr-var-name'><span>time</span></div><div class='xr-var-dims'>()</div><div class='xr-var-dtype'>datetime64[ns]</div><div class='xr-var-preview xr-preview'>2020-08-10</div><input id='attrs-530128c9-6229-4967-9559-9b7b0226eadb' class='xr-var-attrs-in' type='checkbox' ><label for='attrs-530128c9-6229-4967-9559-9b7b0226eadb' title='Show/Hide attributes'><svg class='icon xr-icon-file-text2'><use xlink:href='#icon-file-text2'></use></svg></label><input id='data-33165b0f-283d-4fa4-81b9-16fc78bf4b5e' class='xr-var-data-in' type='checkbox'><label for='data-33165b0f-283d-4fa4-81b9-16fc78bf4b5e' title='Show/Hide data repr'><svg class='icon xr-icon-database'><use xlink:href='#icon-database'></use></svg></label><div class='xr-var-attrs'><dl class='xr-attrs'><dt><span>long_name :</span></dt><dd>initial time of forecast</dd><dt><span>standard_name :</span></dt><dd>forecast_reference_time</dd></dl></div><div class='xr-var-data'><pre>array(&#x27;2020-08-10T00:00:00.000000000&#x27;, dtype=&#x27;datetime64[ns]&#x27;)</pre></div></li><li class='xr-var-item'><div class='xr-var-name'><span>step</span></div><div class='xr-var-dims'>()</div><div class='xr-var-dtype'>timedelta64[ns]</div><div class='xr-var-preview xr-preview'>1 days</div><input id='attrs-1413ea85-d4bf-4ef2-b6c3-4b7eaeec16ca' class='xr-var-attrs-in' type='checkbox' ><label for='attrs-1413ea85-d4bf-4ef2-b6c3-4b7eaeec16ca' title='Show/Hide attributes'><svg class='icon xr-icon-file-text2'><use xlink:href='#icon-file-text2'></use></svg></label><input id='data-c94dfe8a-2d2e-4e00-ab06-c86e7a08e2ab' class='xr-var-data-in' type='checkbox'><label for='data-c94dfe8a-2d2e-4e00-ab06-c86e7a08e2ab' title='Show/Hide data repr'><svg class='icon xr-icon-database'><use xlink:href='#icon-database'></use></svg></label><div class='xr-var-attrs'><dl class='xr-attrs'><dt><span>long_name :</span></dt><dd>time since forecast_reference_time</dd><dt><span>standard_name :</span></dt><dd>forecast_period</dd></dl></div><div class='xr-var-data'><pre>array(86400000000000, dtype=&#x27;timedelta64[ns]&#x27;)</pre></div></li><li class='xr-var-item'><div class='xr-var-name'><span>atmosphere</span></div><div class='xr-var-dims'>()</div><div class='xr-var-dtype'>float64</div><div class='xr-var-preview xr-preview'>0.0</div><input id='attrs-89b14dc0-a641-48f5-b2d2-187e754e00b3' class='xr-var-attrs-in' type='checkbox' ><label for='attrs-89b14dc0-a641-48f5-b2d2-187e754e00b3' title='Show/Hide attributes'><svg class='icon xr-icon-file-text2'><use xlink:href='#icon-file-text2'></use></svg></label><input id='data-f2879501-8aff-48a2-ab7a-8cf06269e13e' class='xr-var-data-in' type='checkbox'><label for='data-f2879501-8aff-48a2-ab7a-8cf06269e13e' title='Show/Hide data repr'><svg class='icon xr-icon-database'><use xlink:href='#icon-database'></use></svg></label><div class='xr-var-attrs'><dl class='xr-attrs'><dt><span>long_name :</span></dt><dd>original GRIB coordinate for key: level(atmosphere)</dd><dt><span>units :</span></dt><dd>1</dd></dl></div><div class='xr-var-data'><pre>array(0.)</pre></div></li><li class='xr-var-item'><div class='xr-var-name'><span>latitude</span></div><div class='xr-var-dims'>(y, x)</div><div class='xr-var-dtype'>float64</div><div class='xr-var-preview xr-preview'>21.14 21.15 21.15 ... 47.85 47.84</div><input id='attrs-3003a7f0-1f00-488c-8b18-e721fee55e08' class='xr-var-attrs-in' type='checkbox' ><label for='attrs-3003a7f0-1f00-488c-8b18-e721fee55e08' title='Show/Hide attributes'><svg class='icon xr-icon-file-text2'><use xlink:href='#icon-file-text2'></use></svg></label><input id='data-0a97ecd4-718e-4fd2-9f70-ab6f2a00124e' class='xr-var-data-in' type='checkbox'><label for='data-0a97ecd4-718e-4fd2-9f70-ab6f2a00124e' title='Show/Hide data repr'><svg class='icon xr-icon-database'><use xlink:href='#icon-database'></use></svg></label><div class='xr-var-attrs'><dl class='xr-attrs'><dt><span>units :</span></dt><dd>degrees_north</dd><dt><span>standard_name :</span></dt><dd>latitude</dd><dt><span>long_name :</span></dt><dd>latitude</dd></dl></div><div class='xr-var-data'><pre>array([[21.138123  , 21.14511004, 21.1520901 , ..., 21.1545089 ,\n",
       "        21.14753125, 21.14054663],\n",
       "       [21.16299459, 21.1699845 , 21.17696744, ..., 21.17938723,\n",
       "        21.1724067 , 21.16541921],\n",
       "       [21.18786863, 21.19486142, 21.20184723, ..., 21.20426802,\n",
       "        21.19728462, 21.19029425],\n",
       "       ...,\n",
       "       [47.78955926, 47.799849  , 47.81012868, ..., 47.81369093,\n",
       "        47.80341474, 47.79312849],\n",
       "       [47.81409316, 47.82438621, 47.8346692 , ..., 47.83823259,\n",
       "        47.8279531 , 47.81766354],\n",
       "       [47.8386235 , 47.84891986, 47.85920615, ..., 47.86277069,\n",
       "        47.85248789, 47.84219502]])</pre></div></li><li class='xr-var-item'><div class='xr-var-name'><span>longitude</span></div><div class='xr-var-dims'>(y, x)</div><div class='xr-var-dtype'>float64</div><div class='xr-var-preview xr-preview'>237.3 237.3 237.3 ... 299.0 299.1</div><input id='attrs-88f0e7ff-fe93-41cb-bad4-847661dced40' class='xr-var-attrs-in' type='checkbox' ><label for='attrs-88f0e7ff-fe93-41cb-bad4-847661dced40' title='Show/Hide attributes'><svg class='icon xr-icon-file-text2'><use xlink:href='#icon-file-text2'></use></svg></label><input id='data-da38c624-ae64-4916-8a07-d86463098db4' class='xr-var-data-in' type='checkbox'><label for='data-da38c624-ae64-4916-8a07-d86463098db4' title='Show/Hide data repr'><svg class='icon xr-icon-database'><use xlink:href='#icon-database'></use></svg></label><div class='xr-var-attrs'><dl class='xr-attrs'><dt><span>units :</span></dt><dd>degrees_east</dd><dt><span>standard_name :</span></dt><dd>longitude</dd><dt><span>long_name :</span></dt><dd>longitude</dd></dl></div><div class='xr-var-data'><pre>array([[237.280472  , 237.30713868, 237.3338097 , ..., 287.6569408 ,\n",
       "        287.68361332, 287.71028151],\n",
       "       [237.27297501, 237.29964881, 237.32632695, ..., 287.66442108,\n",
       "        287.69110073, 287.71777603],\n",
       "       [237.26547368, 237.2921546 , 237.31883986, ..., 287.6719057 ,\n",
       "        287.69859247, 287.7252749 ],\n",
       "       ...,\n",
       "       [225.9351904 , 225.97171577, 226.00825329, ..., 298.97907406,\n",
       "        299.0156158 , 299.05214538],\n",
       "       [225.91986142, 225.95639874, 225.99294822, ..., 298.99437498,\n",
       "        299.03092868, 299.06747022],\n",
       "       [225.90452027, 225.94106954, 225.97763099, ..., 299.00968806,\n",
       "        299.04625373, 299.08280723]])</pre></div></li><li class='xr-var-item'><div class='xr-var-name'><span>valid_time</span></div><div class='xr-var-dims'>()</div><div class='xr-var-dtype'>datetime64[ns]</div><div class='xr-var-preview xr-preview'>2020-08-11</div><input id='attrs-a468da03-8f03-453f-89d8-bfbbb046c6cb' class='xr-var-attrs-in' type='checkbox' ><label for='attrs-a468da03-8f03-453f-89d8-bfbbb046c6cb' title='Show/Hide attributes'><svg class='icon xr-icon-file-text2'><use xlink:href='#icon-file-text2'></use></svg></label><input id='data-45c94474-89a5-483a-8df6-9607278af81d' class='xr-var-data-in' type='checkbox'><label for='data-45c94474-89a5-483a-8df6-9607278af81d' title='Show/Hide data repr'><svg class='icon xr-icon-database'><use xlink:href='#icon-database'></use></svg></label><div class='xr-var-attrs'><dl class='xr-attrs'><dt><span>standard_name :</span></dt><dd>time</dd><dt><span>long_name :</span></dt><dd>time</dd></dl></div><div class='xr-var-data'><pre>array(&#x27;2020-08-11T00:00:00.000000000&#x27;, dtype=&#x27;datetime64[ns]&#x27;)</pre></div></li><li class='xr-var-item'><div class='xr-var-name'><span>lat</span></div><div class='xr-var-dims'>(latitude, longitude)</div><div class='xr-var-dtype'>float64</div><div class='xr-var-preview xr-preview'>21.14 21.15 21.15 ... 47.85 47.84</div><input id='attrs-0af648d4-0b2e-47fc-ac18-b4420e588d73' class='xr-var-attrs-in' type='checkbox' ><label for='attrs-0af648d4-0b2e-47fc-ac18-b4420e588d73' title='Show/Hide attributes'><svg class='icon xr-icon-file-text2'><use xlink:href='#icon-file-text2'></use></svg></label><input id='data-3f67a2eb-c54a-40aa-aa26-c9e9b426aee7' class='xr-var-data-in' type='checkbox'><label for='data-3f67a2eb-c54a-40aa-aa26-c9e9b426aee7' title='Show/Hide data repr'><svg class='icon xr-icon-database'><use xlink:href='#icon-database'></use></svg></label><div class='xr-var-attrs'><dl class='xr-attrs'><dt><span>units :</span></dt><dd>degrees_north</dd><dt><span>standard_name :</span></dt><dd>latitude</dd><dt><span>long_name :</span></dt><dd>latitude</dd></dl></div><div class='xr-var-data'><pre>array([[21.138123  , 21.14511004, 21.1520901 , ..., 21.1545089 ,\n",
       "        21.14753125, 21.14054663],\n",
       "       [21.16299459, 21.1699845 , 21.17696744, ..., 21.17938723,\n",
       "        21.1724067 , 21.16541921],\n",
       "       [21.18786863, 21.19486142, 21.20184723, ..., 21.20426802,\n",
       "        21.19728462, 21.19029425],\n",
       "       ...,\n",
       "       [47.78955926, 47.799849  , 47.81012868, ..., 47.81369093,\n",
       "        47.80341474, 47.79312849],\n",
       "       [47.81409316, 47.82438621, 47.8346692 , ..., 47.83823259,\n",
       "        47.8279531 , 47.81766354],\n",
       "       [47.8386235 , 47.84891986, 47.85920615, ..., 47.86277069,\n",
       "        47.85248789, 47.84219502]])</pre></div></li><li class='xr-var-item'><div class='xr-var-name'><span>lon</span></div><div class='xr-var-dims'>(latitude, longitude)</div><div class='xr-var-dtype'>float64</div><div class='xr-var-preview xr-preview'>237.3 237.3 237.3 ... 299.0 299.1</div><input id='attrs-c6fdd62b-68cc-4118-a4a4-032022951cd1' class='xr-var-attrs-in' type='checkbox' ><label for='attrs-c6fdd62b-68cc-4118-a4a4-032022951cd1' title='Show/Hide attributes'><svg class='icon xr-icon-file-text2'><use xlink:href='#icon-file-text2'></use></svg></label><input id='data-1f81e083-ab94-4279-af02-c9835be44103' class='xr-var-data-in' type='checkbox'><label for='data-1f81e083-ab94-4279-af02-c9835be44103' title='Show/Hide data repr'><svg class='icon xr-icon-database'><use xlink:href='#icon-database'></use></svg></label><div class='xr-var-attrs'><dl class='xr-attrs'><dt><span>units :</span></dt><dd>degrees_east</dd><dt><span>standard_name :</span></dt><dd>longitude</dd><dt><span>long_name :</span></dt><dd>longitude</dd></dl></div><div class='xr-var-data'><pre>array([[237.280472  , 237.30713868, 237.3338097 , ..., 287.6569408 ,\n",
       "        287.68361332, 287.71028151],\n",
       "       [237.27297501, 237.29964881, 237.32632695, ..., 287.66442108,\n",
       "        287.69110073, 287.71777603],\n",
       "       [237.26547368, 237.2921546 , 237.31883986, ..., 287.6719057 ,\n",
       "        287.69859247, 287.7252749 ],\n",
       "       ...,\n",
       "       [225.9351904 , 225.97171577, 226.00825329, ..., 298.97907406,\n",
       "        299.0156158 , 299.05214538],\n",
       "       [225.91986142, 225.95639874, 225.99294822, ..., 298.99437498,\n",
       "        299.03092868, 299.06747022],\n",
       "       [225.90452027, 225.94106954, 225.97763099, ..., 299.00968806,\n",
       "        299.04625373, 299.08280723]])</pre></div></li><li class='xr-var-item'><div class='xr-var-name'><span>y</span></div><div class='xr-var-dims'>(latitude, longitude)</div><div class='xr-var-dtype'>float64</div><div class='xr-var-preview xr-preview'>21.14 21.15 21.15 ... 47.85 47.84</div><input id='attrs-e2dd927b-2344-4822-bfdb-5902ea1f1ed3' class='xr-var-attrs-in' type='checkbox' ><label for='attrs-e2dd927b-2344-4822-bfdb-5902ea1f1ed3' title='Show/Hide attributes'><svg class='icon xr-icon-file-text2'><use xlink:href='#icon-file-text2'></use></svg></label><input id='data-ca6d9856-081d-4a72-a287-9e68283dfc1d' class='xr-var-data-in' type='checkbox'><label for='data-ca6d9856-081d-4a72-a287-9e68283dfc1d' title='Show/Hide data repr'><svg class='icon xr-icon-database'><use xlink:href='#icon-database'></use></svg></label><div class='xr-var-attrs'><dl class='xr-attrs'><dt><span>units :</span></dt><dd>degrees_north</dd><dt><span>standard_name :</span></dt><dd>latitude</dd><dt><span>long_name :</span></dt><dd>latitude</dd></dl></div><div class='xr-var-data'><pre>array([[21.138123  , 21.14511004, 21.1520901 , ..., 21.1545089 ,\n",
       "        21.14753125, 21.14054663],\n",
       "       [21.16299459, 21.1699845 , 21.17696744, ..., 21.17938723,\n",
       "        21.1724067 , 21.16541921],\n",
       "       [21.18786863, 21.19486142, 21.20184723, ..., 21.20426802,\n",
       "        21.19728462, 21.19029425],\n",
       "       ...,\n",
       "       [47.78955926, 47.799849  , 47.81012868, ..., 47.81369093,\n",
       "        47.80341474, 47.79312849],\n",
       "       [47.81409316, 47.82438621, 47.8346692 , ..., 47.83823259,\n",
       "        47.8279531 , 47.81766354],\n",
       "       [47.8386235 , 47.84891986, 47.85920615, ..., 47.86277069,\n",
       "        47.85248789, 47.84219502]])</pre></div></li><li class='xr-var-item'><div class='xr-var-name'><span>x</span></div><div class='xr-var-dims'>(latitude, longitude)</div><div class='xr-var-dtype'>float64</div><div class='xr-var-preview xr-preview'>237.3 237.3 237.3 ... 299.0 299.1</div><input id='attrs-2422c1a4-72bd-4157-b5be-af67f9d650c8' class='xr-var-attrs-in' type='checkbox' ><label for='attrs-2422c1a4-72bd-4157-b5be-af67f9d650c8' title='Show/Hide attributes'><svg class='icon xr-icon-file-text2'><use xlink:href='#icon-file-text2'></use></svg></label><input id='data-20290bc5-0bd4-4c08-8354-b428dfbdbbbc' class='xr-var-data-in' type='checkbox'><label for='data-20290bc5-0bd4-4c08-8354-b428dfbdbbbc' title='Show/Hide data repr'><svg class='icon xr-icon-database'><use xlink:href='#icon-database'></use></svg></label><div class='xr-var-attrs'><dl class='xr-attrs'><dt><span>units :</span></dt><dd>degrees_east</dd><dt><span>standard_name :</span></dt><dd>longitude</dd><dt><span>long_name :</span></dt><dd>longitude</dd></dl></div><div class='xr-var-data'><pre>array([[237.280472  , 237.30713868, 237.3338097 , ..., 287.6569408 ,\n",
       "        287.68361332, 287.71028151],\n",
       "       [237.27297501, 237.29964881, 237.32632695, ..., 287.66442108,\n",
       "        287.69110073, 287.71777603],\n",
       "       [237.26547368, 237.2921546 , 237.31883986, ..., 287.6719057 ,\n",
       "        287.69859247, 287.7252749 ],\n",
       "       ...,\n",
       "       [225.9351904 , 225.97171577, 226.00825329, ..., 298.97907406,\n",
       "        299.0156158 , 299.05214538],\n",
       "       [225.91986142, 225.95639874, 225.99294822, ..., 298.99437498,\n",
       "        299.03092868, 299.06747022],\n",
       "       [225.90452027, 225.94106954, 225.97763099, ..., 299.00968806,\n",
       "        299.04625373, 299.08280723]])</pre></div></li></ul></div></li><li class='xr-section-item'><input id='section-350d7516-d6a0-4640-ba6d-be2cb9ffb769' class='xr-section-summary-in' type='checkbox'  checked><label for='section-350d7516-d6a0-4640-ba6d-be2cb9ffb769' class='xr-section-summary' >Data variables: <span>(6)</span></label><div class='xr-section-inline-details'></div><div class='xr-section-details'><ul class='xr-var-list'><li class='xr-var-item'><div class='xr-var-name'><span>refc</span></div><div class='xr-var-dims'>(lat, lon)</div><div class='xr-var-dtype'>float64</div><div class='xr-var-preview xr-preview'>0.0 0.0 0.0 0.0 ... 0.0 0.0 0.0 0.0</div><input id='attrs-32db85fb-ee88-4071-b775-4754a9f27786' class='xr-var-attrs-in' type='checkbox' ><label for='attrs-32db85fb-ee88-4071-b775-4754a9f27786' title='Show/Hide attributes'><svg class='icon xr-icon-file-text2'><use xlink:href='#icon-file-text2'></use></svg></label><input id='data-bebd62b9-75d7-4879-917e-dea4fc494e01' class='xr-var-data-in' type='checkbox'><label for='data-bebd62b9-75d7-4879-917e-dea4fc494e01' title='Show/Hide data repr'><svg class='icon xr-icon-database'><use xlink:href='#icon-database'></use></svg></label><div class='xr-var-attrs'><dl class='xr-attrs'><dt><span>GRIB_paramId :</span></dt><dd>260390</dd><dt><span>GRIB_dataType :</span></dt><dd>fc</dd><dt><span>GRIB_numberOfPoints :</span></dt><dd>1905141</dd><dt><span>GRIB_typeOfLevel :</span></dt><dd>atmosphere</dd><dt><span>GRIB_stepUnits :</span></dt><dd>1</dd><dt><span>GRIB_stepType :</span></dt><dd>instant</dd><dt><span>GRIB_gridType :</span></dt><dd>lambert</dd><dt><span>GRIB_DxInMetres :</span></dt><dd>3000.0</dd><dt><span>GRIB_DyInMetres :</span></dt><dd>3000.0</dd><dt><span>GRIB_LaDInDegrees :</span></dt><dd>38.5</dd><dt><span>GRIB_Latin1InDegrees :</span></dt><dd>38.5</dd><dt><span>GRIB_Latin2InDegrees :</span></dt><dd>38.5</dd><dt><span>GRIB_LoVInDegrees :</span></dt><dd>262.5</dd><dt><span>GRIB_NV :</span></dt><dd>0</dd><dt><span>GRIB_Nx :</span></dt><dd>1799</dd><dt><span>GRIB_Ny :</span></dt><dd>1059</dd><dt><span>GRIB_cfName :</span></dt><dd>unknown</dd><dt><span>GRIB_cfVarName :</span></dt><dd>unknown</dd><dt><span>GRIB_gridDefinitionDescription :</span></dt><dd>Lambert Conformal can be secant or tangent, conical or bipolar</dd><dt><span>GRIB_iScansNegatively :</span></dt><dd>0</dd><dt><span>GRIB_jPointsAreConsecutive :</span></dt><dd>0</dd><dt><span>GRIB_jScansPositively :</span></dt><dd>1</dd><dt><span>GRIB_latitudeOfFirstGridPointInDegrees :</span></dt><dd>21.138123</dd><dt><span>GRIB_latitudeOfSouthernPoleInDegrees :</span></dt><dd>0.0</dd><dt><span>GRIB_longitudeOfFirstGridPointInDegrees :</span></dt><dd>237.280472</dd><dt><span>GRIB_longitudeOfSouthernPoleInDegrees :</span></dt><dd>0.0</dd><dt><span>GRIB_missingValue :</span></dt><dd>9999</dd><dt><span>GRIB_name :</span></dt><dd>Maximum/Composite radar reflectivity</dd><dt><span>GRIB_shortName :</span></dt><dd>refc</dd><dt><span>GRIB_units :</span></dt><dd>dB</dd><dt><span>long_name :</span></dt><dd>Maximum/Composite radar reflectivity</dd><dt><span>units :</span></dt><dd>dB</dd><dt><span>standard_name :</span></dt><dd>unknown</dd></dl></div><div class='xr-var-data'><pre>array([[0., 0., 0., ..., 0., 0., 0.],\n",
       "       [0., 0., 0., ..., 0., 0., 0.],\n",
       "       [0., 0., 0., ..., 0., 0., 0.],\n",
       "       ...,\n",
       "       [0., 0., 0., ..., 0., 0., 0.],\n",
       "       [0., 0., 0., ..., 0., 0., 0.],\n",
       "       [0., 0., 0., ..., 0., 0., 0.]])</pre></div></li><li class='xr-var-item'><div class='xr-var-name'><span>veril</span></div><div class='xr-var-dims'>(y, x)</div><div class='xr-var-dtype'>float32</div><div class='xr-var-preview xr-preview'>0.0 0.0 0.0 0.0 ... 0.0 0.0 0.0 0.0</div><input id='attrs-66ee5e79-4e9b-441c-8d19-32ab5e023d1d' class='xr-var-attrs-in' type='checkbox' ><label for='attrs-66ee5e79-4e9b-441c-8d19-32ab5e023d1d' title='Show/Hide attributes'><svg class='icon xr-icon-file-text2'><use xlink:href='#icon-file-text2'></use></svg></label><input id='data-fb0cb008-233f-4313-849f-c52957c23f81' class='xr-var-data-in' type='checkbox'><label for='data-fb0cb008-233f-4313-849f-c52957c23f81' title='Show/Hide data repr'><svg class='icon xr-icon-database'><use xlink:href='#icon-database'></use></svg></label><div class='xr-var-attrs'><dl class='xr-attrs'><dt><span>GRIB_paramId :</span></dt><dd>260136</dd><dt><span>GRIB_dataType :</span></dt><dd>fc</dd><dt><span>GRIB_numberOfPoints :</span></dt><dd>1905141</dd><dt><span>GRIB_typeOfLevel :</span></dt><dd>atmosphere</dd><dt><span>GRIB_stepUnits :</span></dt><dd>1</dd><dt><span>GRIB_stepType :</span></dt><dd>instant</dd><dt><span>GRIB_gridType :</span></dt><dd>lambert</dd><dt><span>GRIB_DxInMetres :</span></dt><dd>3000.0</dd><dt><span>GRIB_DyInMetres :</span></dt><dd>3000.0</dd><dt><span>GRIB_LaDInDegrees :</span></dt><dd>38.5</dd><dt><span>GRIB_Latin1InDegrees :</span></dt><dd>38.5</dd><dt><span>GRIB_Latin2InDegrees :</span></dt><dd>38.5</dd><dt><span>GRIB_LoVInDegrees :</span></dt><dd>262.5</dd><dt><span>GRIB_NV :</span></dt><dd>0</dd><dt><span>GRIB_Nx :</span></dt><dd>1799</dd><dt><span>GRIB_Ny :</span></dt><dd>1059</dd><dt><span>GRIB_cfName :</span></dt><dd>unknown</dd><dt><span>GRIB_cfVarName :</span></dt><dd>veril</dd><dt><span>GRIB_gridDefinitionDescription :</span></dt><dd>Lambert Conformal can be secant or tangent, conical or bipolar</dd><dt><span>GRIB_iScansNegatively :</span></dt><dd>0</dd><dt><span>GRIB_jPointsAreConsecutive :</span></dt><dd>0</dd><dt><span>GRIB_jScansPositively :</span></dt><dd>1</dd><dt><span>GRIB_latitudeOfFirstGridPointInDegrees :</span></dt><dd>21.138123</dd><dt><span>GRIB_latitudeOfSouthernPoleInDegrees :</span></dt><dd>0.0</dd><dt><span>GRIB_longitudeOfFirstGridPointInDegrees :</span></dt><dd>237.280472</dd><dt><span>GRIB_longitudeOfSouthernPoleInDegrees :</span></dt><dd>0.0</dd><dt><span>GRIB_missingValue :</span></dt><dd>9999</dd><dt><span>GRIB_name :</span></dt><dd>Vertically-integrated liquid</dd><dt><span>GRIB_shortName :</span></dt><dd>veril</dd><dt><span>GRIB_units :</span></dt><dd>kg m**-1</dd><dt><span>long_name :</span></dt><dd>Vertically-integrated liquid</dd><dt><span>units :</span></dt><dd>kg m**-1</dd><dt><span>standard_name :</span></dt><dd>unknown</dd></dl></div><div class='xr-var-data'><pre>array([[0., 0., 0., ..., 0., 0., 0.],\n",
       "       [0., 0., 0., ..., 0., 0., 0.],\n",
       "       [0., 0., 0., ..., 0., 0., 0.],\n",
       "       ...,\n",
       "       [0., 0., 0., ..., 0., 0., 0.],\n",
       "       [0., 0., 0., ..., 0., 0., 0.],\n",
       "       [0., 0., 0., ..., 0., 0., 0.]], dtype=float32)</pre></div></li><li class='xr-var-item'><div class='xr-var-name'><span>hail</span></div><div class='xr-var-dims'>(y, x)</div><div class='xr-var-dtype'>float32</div><div class='xr-var-preview xr-preview'>0.0 0.0 0.0 0.0 ... 0.0 0.0 0.0 0.0</div><input id='attrs-d571fb7b-5a76-4a06-8dbd-ab69002e04e3' class='xr-var-attrs-in' type='checkbox' ><label for='attrs-d571fb7b-5a76-4a06-8dbd-ab69002e04e3' title='Show/Hide attributes'><svg class='icon xr-icon-file-text2'><use xlink:href='#icon-file-text2'></use></svg></label><input id='data-1e24c19a-b64f-4f8b-85ff-f60c7dce7d83' class='xr-var-data-in' type='checkbox'><label for='data-1e24c19a-b64f-4f8b-85ff-f60c7dce7d83' title='Show/Hide data repr'><svg class='icon xr-icon-database'><use xlink:href='#icon-database'></use></svg></label><div class='xr-var-attrs'><dl class='xr-attrs'><dt><span>GRIB_paramId :</span></dt><dd>260027</dd><dt><span>GRIB_dataType :</span></dt><dd>fc</dd><dt><span>GRIB_numberOfPoints :</span></dt><dd>1905141</dd><dt><span>GRIB_typeOfLevel :</span></dt><dd>atmosphere</dd><dt><span>GRIB_stepUnits :</span></dt><dd>1</dd><dt><span>GRIB_stepType :</span></dt><dd>max</dd><dt><span>GRIB_gridType :</span></dt><dd>lambert</dd><dt><span>GRIB_DxInMetres :</span></dt><dd>3000.0</dd><dt><span>GRIB_DyInMetres :</span></dt><dd>3000.0</dd><dt><span>GRIB_LaDInDegrees :</span></dt><dd>38.5</dd><dt><span>GRIB_Latin1InDegrees :</span></dt><dd>38.5</dd><dt><span>GRIB_Latin2InDegrees :</span></dt><dd>38.5</dd><dt><span>GRIB_LoVInDegrees :</span></dt><dd>262.5</dd><dt><span>GRIB_NV :</span></dt><dd>0</dd><dt><span>GRIB_Nx :</span></dt><dd>1799</dd><dt><span>GRIB_Ny :</span></dt><dd>1059</dd><dt><span>GRIB_cfName :</span></dt><dd>unknown</dd><dt><span>GRIB_cfVarName :</span></dt><dd>hail</dd><dt><span>GRIB_gridDefinitionDescription :</span></dt><dd>Lambert Conformal can be secant or tangent, conical or bipolar</dd><dt><span>GRIB_iScansNegatively :</span></dt><dd>0</dd><dt><span>GRIB_jPointsAreConsecutive :</span></dt><dd>0</dd><dt><span>GRIB_jScansPositively :</span></dt><dd>1</dd><dt><span>GRIB_latitudeOfFirstGridPointInDegrees :</span></dt><dd>21.138123</dd><dt><span>GRIB_latitudeOfSouthernPoleInDegrees :</span></dt><dd>0.0</dd><dt><span>GRIB_longitudeOfFirstGridPointInDegrees :</span></dt><dd>237.280472</dd><dt><span>GRIB_longitudeOfSouthernPoleInDegrees :</span></dt><dd>0.0</dd><dt><span>GRIB_missingValue :</span></dt><dd>9999</dd><dt><span>GRIB_name :</span></dt><dd>Hail</dd><dt><span>GRIB_shortName :</span></dt><dd>hail</dd><dt><span>GRIB_units :</span></dt><dd>m</dd><dt><span>long_name :</span></dt><dd>Hail</dd><dt><span>units :</span></dt><dd>m</dd><dt><span>standard_name :</span></dt><dd>unknown</dd></dl></div><div class='xr-var-data'><pre>array([[0., 0., 0., ..., 0., 0., 0.],\n",
       "       [0., 0., 0., ..., 0., 0., 0.],\n",
       "       [0., 0., 0., ..., 0., 0., 0.],\n",
       "       ...,\n",
       "       [0., 0., 0., ..., 0., 0., 0.],\n",
       "       [0., 0., 0., ..., 0., 0., 0.],\n",
       "       [0., 0., 0., ..., 0., 0., 0.]], dtype=float32)</pre></div></li><li class='xr-var-item'><div class='xr-var-name'><span>ltng</span></div><div class='xr-var-dims'>(y, x)</div><div class='xr-var-dtype'>float32</div><div class='xr-var-preview xr-preview'>0.0 0.0 0.0 0.0 ... 0.0 0.0 0.0 0.0</div><input id='attrs-7c39e713-67f8-40e4-9d16-15c452362061' class='xr-var-attrs-in' type='checkbox' ><label for='attrs-7c39e713-67f8-40e4-9d16-15c452362061' title='Show/Hide attributes'><svg class='icon xr-icon-file-text2'><use xlink:href='#icon-file-text2'></use></svg></label><input id='data-e4fd7f09-fad7-4f20-ba9b-fc75e707279a' class='xr-var-data-in' type='checkbox'><label for='data-e4fd7f09-fad7-4f20-ba9b-fc75e707279a' title='Show/Hide data repr'><svg class='icon xr-icon-database'><use xlink:href='#icon-database'></use></svg></label><div class='xr-var-attrs'><dl class='xr-attrs'><dt><span>GRIB_paramId :</span></dt><dd>260391</dd><dt><span>GRIB_dataType :</span></dt><dd>fc</dd><dt><span>GRIB_numberOfPoints :</span></dt><dd>1905141</dd><dt><span>GRIB_typeOfLevel :</span></dt><dd>atmosphere</dd><dt><span>GRIB_stepUnits :</span></dt><dd>1</dd><dt><span>GRIB_stepType :</span></dt><dd>instant</dd><dt><span>GRIB_gridType :</span></dt><dd>lambert</dd><dt><span>GRIB_DxInMetres :</span></dt><dd>3000.0</dd><dt><span>GRIB_DyInMetres :</span></dt><dd>3000.0</dd><dt><span>GRIB_LaDInDegrees :</span></dt><dd>38.5</dd><dt><span>GRIB_Latin1InDegrees :</span></dt><dd>38.5</dd><dt><span>GRIB_Latin2InDegrees :</span></dt><dd>38.5</dd><dt><span>GRIB_LoVInDegrees :</span></dt><dd>262.5</dd><dt><span>GRIB_NV :</span></dt><dd>0</dd><dt><span>GRIB_Nx :</span></dt><dd>1799</dd><dt><span>GRIB_Ny :</span></dt><dd>1059</dd><dt><span>GRIB_cfName :</span></dt><dd>unknown</dd><dt><span>GRIB_cfVarName :</span></dt><dd>unknown</dd><dt><span>GRIB_gridDefinitionDescription :</span></dt><dd>Lambert Conformal can be secant or tangent, conical or bipolar</dd><dt><span>GRIB_iScansNegatively :</span></dt><dd>0</dd><dt><span>GRIB_jPointsAreConsecutive :</span></dt><dd>0</dd><dt><span>GRIB_jScansPositively :</span></dt><dd>1</dd><dt><span>GRIB_latitudeOfFirstGridPointInDegrees :</span></dt><dd>21.138123</dd><dt><span>GRIB_latitudeOfSouthernPoleInDegrees :</span></dt><dd>0.0</dd><dt><span>GRIB_longitudeOfFirstGridPointInDegrees :</span></dt><dd>237.280472</dd><dt><span>GRIB_longitudeOfSouthernPoleInDegrees :</span></dt><dd>0.0</dd><dt><span>GRIB_missingValue :</span></dt><dd>9999</dd><dt><span>GRIB_name :</span></dt><dd>Lightning</dd><dt><span>GRIB_shortName :</span></dt><dd>ltng</dd><dt><span>GRIB_units :</span></dt><dd>dimensionless</dd><dt><span>long_name :</span></dt><dd>Lightning</dd><dt><span>units :</span></dt><dd>dimensionless</dd><dt><span>standard_name :</span></dt><dd>unknown</dd></dl></div><div class='xr-var-data'><pre>array([[0., 0., 0., ..., 0., 0., 0.],\n",
       "       [0., 0., 0., ..., 0., 0., 0.],\n",
       "       [0., 0., 0., ..., 0., 0., 0.],\n",
       "       ...,\n",
       "       [0., 0., 0., ..., 0., 0., 0.],\n",
       "       [0., 0., 0., ..., 0., 0., 0.],\n",
       "       [0., 0., 0., ..., 0., 0., 0.]], dtype=float32)</pre></div></li><li class='xr-var-item'><div class='xr-var-name'><span>tcc</span></div><div class='xr-var-dims'>(y, x)</div><div class='xr-var-dtype'>float32</div><div class='xr-var-preview xr-preview'>0.0 0.0 0.0 0.0 ... 0.0 0.0 0.0 0.0</div><input id='attrs-253a8e05-268c-4ac0-9089-e4469606d7a1' class='xr-var-attrs-in' type='checkbox' ><label for='attrs-253a8e05-268c-4ac0-9089-e4469606d7a1' title='Show/Hide attributes'><svg class='icon xr-icon-file-text2'><use xlink:href='#icon-file-text2'></use></svg></label><input id='data-5555af40-7630-4e44-9f19-afd4a64e23ef' class='xr-var-data-in' type='checkbox'><label for='data-5555af40-7630-4e44-9f19-afd4a64e23ef' title='Show/Hide data repr'><svg class='icon xr-icon-database'><use xlink:href='#icon-database'></use></svg></label><div class='xr-var-attrs'><dl class='xr-attrs'><dt><span>GRIB_paramId :</span></dt><dd>228164</dd><dt><span>GRIB_dataType :</span></dt><dd>fc</dd><dt><span>GRIB_numberOfPoints :</span></dt><dd>1905141</dd><dt><span>GRIB_typeOfLevel :</span></dt><dd>atmosphere</dd><dt><span>GRIB_stepUnits :</span></dt><dd>1</dd><dt><span>GRIB_stepType :</span></dt><dd>instant</dd><dt><span>GRIB_gridType :</span></dt><dd>lambert</dd><dt><span>GRIB_DxInMetres :</span></dt><dd>3000.0</dd><dt><span>GRIB_DyInMetres :</span></dt><dd>3000.0</dd><dt><span>GRIB_LaDInDegrees :</span></dt><dd>38.5</dd><dt><span>GRIB_Latin1InDegrees :</span></dt><dd>38.5</dd><dt><span>GRIB_Latin2InDegrees :</span></dt><dd>38.5</dd><dt><span>GRIB_LoVInDegrees :</span></dt><dd>262.5</dd><dt><span>GRIB_NV :</span></dt><dd>0</dd><dt><span>GRIB_Nx :</span></dt><dd>1799</dd><dt><span>GRIB_Ny :</span></dt><dd>1059</dd><dt><span>GRIB_cfName :</span></dt><dd>unknown</dd><dt><span>GRIB_cfVarName :</span></dt><dd>unknown</dd><dt><span>GRIB_gridDefinitionDescription :</span></dt><dd>Lambert Conformal can be secant or tangent, conical or bipolar</dd><dt><span>GRIB_iScansNegatively :</span></dt><dd>0</dd><dt><span>GRIB_jPointsAreConsecutive :</span></dt><dd>0</dd><dt><span>GRIB_jScansPositively :</span></dt><dd>1</dd><dt><span>GRIB_latitudeOfFirstGridPointInDegrees :</span></dt><dd>21.138123</dd><dt><span>GRIB_latitudeOfSouthernPoleInDegrees :</span></dt><dd>0.0</dd><dt><span>GRIB_longitudeOfFirstGridPointInDegrees :</span></dt><dd>237.280472</dd><dt><span>GRIB_longitudeOfSouthernPoleInDegrees :</span></dt><dd>0.0</dd><dt><span>GRIB_missingValue :</span></dt><dd>9999</dd><dt><span>GRIB_name :</span></dt><dd>Total Cloud Cover</dd><dt><span>GRIB_shortName :</span></dt><dd>tcc</dd><dt><span>GRIB_units :</span></dt><dd>%</dd><dt><span>long_name :</span></dt><dd>Total Cloud Cover</dd><dt><span>units :</span></dt><dd>%</dd><dt><span>standard_name :</span></dt><dd>unknown</dd></dl></div><div class='xr-var-data'><pre>array([[0., 0., 0., ..., 0., 0., 0.],\n",
       "       [0., 0., 0., ..., 0., 0., 0.],\n",
       "       [0., 0., 0., ..., 0., 0., 0.],\n",
       "       ...,\n",
       "       [0., 0., 0., ..., 0., 0., 0.],\n",
       "       [0., 0., 0., ..., 0., 0., 0.],\n",
       "       [0., 0., 0., ..., 0., 0., 0.]], dtype=float32)</pre></div></li><li class='xr-var-item'><div class='xr-var-name'><span>unknown</span></div><div class='xr-var-dims'>(y, x)</div><div class='xr-var-dtype'>float32</div><div class='xr-var-preview xr-preview'>0.0 0.0 0.0 0.0 ... 0.0 0.0 0.0 0.0</div><input id='attrs-ca26ebb6-e9cb-4788-a7ea-a018d8e6b13c' class='xr-var-attrs-in' type='checkbox' ><label for='attrs-ca26ebb6-e9cb-4788-a7ea-a018d8e6b13c' title='Show/Hide attributes'><svg class='icon xr-icon-file-text2'><use xlink:href='#icon-file-text2'></use></svg></label><input id='data-4d905767-deb3-42c4-9e48-b5e13851a69c' class='xr-var-data-in' type='checkbox'><label for='data-4d905767-deb3-42c4-9e48-b5e13851a69c' title='Show/Hide data repr'><svg class='icon xr-icon-database'><use xlink:href='#icon-database'></use></svg></label><div class='xr-var-attrs'><dl class='xr-attrs'><dt><span>GRIB_paramId :</span></dt><dd>0</dd><dt><span>GRIB_dataType :</span></dt><dd>fc</dd><dt><span>GRIB_numberOfPoints :</span></dt><dd>1905141</dd><dt><span>GRIB_typeOfLevel :</span></dt><dd>atmosphere</dd><dt><span>GRIB_stepUnits :</span></dt><dd>1</dd><dt><span>GRIB_stepType :</span></dt><dd>instant</dd><dt><span>GRIB_gridType :</span></dt><dd>lambert</dd><dt><span>GRIB_DxInMetres :</span></dt><dd>3000.0</dd><dt><span>GRIB_DyInMetres :</span></dt><dd>3000.0</dd><dt><span>GRIB_LaDInDegrees :</span></dt><dd>38.5</dd><dt><span>GRIB_Latin1InDegrees :</span></dt><dd>38.5</dd><dt><span>GRIB_Latin2InDegrees :</span></dt><dd>38.5</dd><dt><span>GRIB_LoVInDegrees :</span></dt><dd>262.5</dd><dt><span>GRIB_NV :</span></dt><dd>0</dd><dt><span>GRIB_Nx :</span></dt><dd>1799</dd><dt><span>GRIB_Ny :</span></dt><dd>1059</dd><dt><span>GRIB_cfName :</span></dt><dd>unknown</dd><dt><span>GRIB_cfVarName :</span></dt><dd>unknown</dd><dt><span>GRIB_gridDefinitionDescription :</span></dt><dd>Lambert Conformal can be secant or tangent, conical or bipolar</dd><dt><span>GRIB_iScansNegatively :</span></dt><dd>0</dd><dt><span>GRIB_jPointsAreConsecutive :</span></dt><dd>0</dd><dt><span>GRIB_jScansPositively :</span></dt><dd>1</dd><dt><span>GRIB_latitudeOfFirstGridPointInDegrees :</span></dt><dd>21.138123</dd><dt><span>GRIB_latitudeOfSouthernPoleInDegrees :</span></dt><dd>0.0</dd><dt><span>GRIB_longitudeOfFirstGridPointInDegrees :</span></dt><dd>237.280472</dd><dt><span>GRIB_longitudeOfSouthernPoleInDegrees :</span></dt><dd>0.0</dd><dt><span>GRIB_missingValue :</span></dt><dd>9999</dd><dt><span>GRIB_name :</span></dt><dd>unknown</dd><dt><span>GRIB_shortName :</span></dt><dd>unknown</dd><dt><span>GRIB_units :</span></dt><dd>unknown</dd><dt><span>long_name :</span></dt><dd>unknown</dd><dt><span>units :</span></dt><dd>unknown</dd><dt><span>standard_name :</span></dt><dd>unknown</dd></dl></div><div class='xr-var-data'><pre>array([[0., 0., 0., ..., 0., 0., 0.],\n",
       "       [0., 0., 0., ..., 0., 0., 0.],\n",
       "       [0., 0., 0., ..., 0., 0., 0.],\n",
       "       ...,\n",
       "       [0., 0., 0., ..., 0., 0., 0.],\n",
       "       [0., 0., 0., ..., 0., 0., 0.],\n",
       "       [0., 0., 0., ..., 0., 0., 0.]], dtype=float32)</pre></div></li></ul></div></li><li class='xr-section-item'><input id='section-d3da965d-1ffb-439d-ac9d-1fc014e5b34e' class='xr-section-summary-in' type='checkbox'  checked><label for='section-d3da965d-1ffb-439d-ac9d-1fc014e5b34e' class='xr-section-summary' >Attributes: <span>(7)</span></label><div class='xr-section-inline-details'></div><div class='xr-section-details'><dl class='xr-attrs'><dt><span>GRIB_edition :</span></dt><dd>2</dd><dt><span>GRIB_centre :</span></dt><dd>kwbc</dd><dt><span>GRIB_centreDescription :</span></dt><dd>US National Weather Service - NCEP</dd><dt><span>GRIB_subCentre :</span></dt><dd>0</dd><dt><span>Conventions :</span></dt><dd>CF-1.7</dd><dt><span>institution :</span></dt><dd>US National Weather Service - NCEP</dd><dt><span>history :</span></dt><dd>2023-01-26T16:58 GRIB to CDM+CF via cfgrib-0.9.9.1/ecCodes-2.27.1 with {&quot;source&quot;: &quot;/lcrc/project/rainfall/jcorner/MODE_data/202008110000/hrrr_t20200810T0000z_wrfsfcf24.grib2&quot;, &quot;filter_by_keys&quot;: {&quot;typeOfLevel&quot;: &quot;atmosphere&quot;}, &quot;encode_cf&quot;: [&quot;parameter&quot;, &quot;time&quot;, &quot;geography&quot;, &quot;vertical&quot;]}</dd></dl></div></li></ul></div></div>"
      ],
      "text/plain": [
       "<xarray.Dataset>\n",
       "Dimensions:     (lat: 1059, lon: 1799, y: 1059, x: 1799, latitude: 1059, longitude: 1799)\n",
       "Coordinates:\n",
       "    time        datetime64[ns] 2020-08-10\n",
       "    step        timedelta64[ns] 1 days\n",
       "    atmosphere  float64 0.0\n",
       "    latitude    (y, x) float64 21.14 21.15 21.15 21.16 ... 47.86 47.85 47.84\n",
       "    longitude   (y, x) float64 237.3 237.3 237.3 237.4 ... 299.0 299.0 299.1\n",
       "    valid_time  datetime64[ns] 2020-08-11\n",
       "    lat         (latitude, longitude) float64 21.14 21.15 21.15 ... 47.85 47.84\n",
       "    lon         (latitude, longitude) float64 237.3 237.3 237.3 ... 299.0 299.1\n",
       "    y           (latitude, longitude) float64 21.14 21.15 21.15 ... 47.85 47.84\n",
       "    x           (latitude, longitude) float64 237.3 237.3 237.3 ... 299.0 299.1\n",
       "Data variables:\n",
       "    refc        (lat, lon) float64 0.0 0.0 0.0 0.0 0.0 ... 0.0 0.0 0.0 0.0 0.0\n",
       "    veril       (y, x) float32 0.0 0.0 0.0 0.0 0.0 0.0 ... 0.0 0.0 0.0 0.0 0.0\n",
       "    hail        (y, x) float32 0.0 0.0 0.0 0.0 0.0 0.0 ... 0.0 0.0 0.0 0.0 0.0\n",
       "    ltng        (y, x) float32 0.0 0.0 0.0 0.0 0.0 0.0 ... 0.0 0.0 0.0 0.0 0.0\n",
       "    tcc         (y, x) float32 0.0 0.0 0.0 0.0 0.0 0.0 ... 0.0 0.0 0.0 0.0 0.0\n",
       "    unknown     (y, x) float32 0.0 0.0 0.0 0.0 0.0 0.0 ... 0.0 0.0 0.0 0.0 0.0\n",
       "Attributes:\n",
       "    GRIB_edition:            2\n",
       "    GRIB_centre:             kwbc\n",
       "    GRIB_centreDescription:  US National Weather Service - NCEP\n",
       "    GRIB_subCentre:          0\n",
       "    Conventions:             CF-1.7\n",
       "    institution:             US National Weather Service - NCEP\n",
       "    history:                 2023-01-26T16:58 GRIB to CDM+CF via cfgrib-0.9.9..."
      ]
     },
     "execution_count": 28,
     "metadata": {},
     "output_type": "execute_result"
    }
   ],
   "source": [
    "new2"
   ]
  },
  {
   "cell_type": "code",
   "execution_count": 6,
   "id": "2dbaade9",
   "metadata": {
    "scrolled": false
   },
   "outputs": [
    {
     "name": "stderr",
     "output_type": "stream",
     "text": [
      "Ignoring index file '/lcrc/project/rainfall/jcorner/MODE_data/202008110000/hrrr_t20200810T0000z_wrfsfcf24.grib2.923a8.idx' incompatible with GRIB file\n"
     ]
    },
    {
     "data": {
      "text/html": [
       "<div><svg style=\"position: absolute; width: 0; height: 0; overflow: hidden\">\n",
       "<defs>\n",
       "<symbol id=\"icon-database\" viewBox=\"0 0 32 32\">\n",
       "<path d=\"M16 0c-8.837 0-16 2.239-16 5v4c0 2.761 7.163 5 16 5s16-2.239 16-5v-4c0-2.761-7.163-5-16-5z\"></path>\n",
       "<path d=\"M16 17c-8.837 0-16-2.239-16-5v6c0 2.761 7.163 5 16 5s16-2.239 16-5v-6c0 2.761-7.163 5-16 5z\"></path>\n",
       "<path d=\"M16 26c-8.837 0-16-2.239-16-5v6c0 2.761 7.163 5 16 5s16-2.239 16-5v-6c0 2.761-7.163 5-16 5z\"></path>\n",
       "</symbol>\n",
       "<symbol id=\"icon-file-text2\" viewBox=\"0 0 32 32\">\n",
       "<path d=\"M28.681 7.159c-0.694-0.947-1.662-2.053-2.724-3.116s-2.169-2.030-3.116-2.724c-1.612-1.182-2.393-1.319-2.841-1.319h-15.5c-1.378 0-2.5 1.121-2.5 2.5v27c0 1.378 1.122 2.5 2.5 2.5h23c1.378 0 2.5-1.122 2.5-2.5v-19.5c0-0.448-0.137-1.23-1.319-2.841zM24.543 5.457c0.959 0.959 1.712 1.825 2.268 2.543h-4.811v-4.811c0.718 0.556 1.584 1.309 2.543 2.268zM28 29.5c0 0.271-0.229 0.5-0.5 0.5h-23c-0.271 0-0.5-0.229-0.5-0.5v-27c0-0.271 0.229-0.5 0.5-0.5 0 0 15.499-0 15.5 0v7c0 0.552 0.448 1 1 1h7v19.5z\"></path>\n",
       "<path d=\"M23 26h-14c-0.552 0-1-0.448-1-1s0.448-1 1-1h14c0.552 0 1 0.448 1 1s-0.448 1-1 1z\"></path>\n",
       "<path d=\"M23 22h-14c-0.552 0-1-0.448-1-1s0.448-1 1-1h14c0.552 0 1 0.448 1 1s-0.448 1-1 1z\"></path>\n",
       "<path d=\"M23 18h-14c-0.552 0-1-0.448-1-1s0.448-1 1-1h14c0.552 0 1 0.448 1 1s-0.448 1-1 1z\"></path>\n",
       "</symbol>\n",
       "</defs>\n",
       "</svg>\n",
       "<style>/* CSS stylesheet for displaying xarray objects in jupyterlab.\n",
       " *\n",
       " */\n",
       "\n",
       ":root {\n",
       "  --xr-font-color0: var(--jp-content-font-color0, rgba(0, 0, 0, 1));\n",
       "  --xr-font-color2: var(--jp-content-font-color2, rgba(0, 0, 0, 0.54));\n",
       "  --xr-font-color3: var(--jp-content-font-color3, rgba(0, 0, 0, 0.38));\n",
       "  --xr-border-color: var(--jp-border-color2, #e0e0e0);\n",
       "  --xr-disabled-color: var(--jp-layout-color3, #bdbdbd);\n",
       "  --xr-background-color: var(--jp-layout-color0, white);\n",
       "  --xr-background-color-row-even: var(--jp-layout-color1, white);\n",
       "  --xr-background-color-row-odd: var(--jp-layout-color2, #eeeeee);\n",
       "}\n",
       "\n",
       "html[theme=dark],\n",
       "body.vscode-dark {\n",
       "  --xr-font-color0: rgba(255, 255, 255, 1);\n",
       "  --xr-font-color2: rgba(255, 255, 255, 0.54);\n",
       "  --xr-font-color3: rgba(255, 255, 255, 0.38);\n",
       "  --xr-border-color: #1F1F1F;\n",
       "  --xr-disabled-color: #515151;\n",
       "  --xr-background-color: #111111;\n",
       "  --xr-background-color-row-even: #111111;\n",
       "  --xr-background-color-row-odd: #313131;\n",
       "}\n",
       "\n",
       ".xr-wrap {\n",
       "  display: block;\n",
       "  min-width: 300px;\n",
       "  max-width: 700px;\n",
       "}\n",
       "\n",
       ".xr-text-repr-fallback {\n",
       "  /* fallback to plain text repr when CSS is not injected (untrusted notebook) */\n",
       "  display: none;\n",
       "}\n",
       "\n",
       ".xr-header {\n",
       "  padding-top: 6px;\n",
       "  padding-bottom: 6px;\n",
       "  margin-bottom: 4px;\n",
       "  border-bottom: solid 1px var(--xr-border-color);\n",
       "}\n",
       "\n",
       ".xr-header > div,\n",
       ".xr-header > ul {\n",
       "  display: inline;\n",
       "  margin-top: 0;\n",
       "  margin-bottom: 0;\n",
       "}\n",
       "\n",
       ".xr-obj-type,\n",
       ".xr-array-name {\n",
       "  margin-left: 2px;\n",
       "  margin-right: 10px;\n",
       "}\n",
       "\n",
       ".xr-obj-type {\n",
       "  color: var(--xr-font-color2);\n",
       "}\n",
       "\n",
       ".xr-sections {\n",
       "  padding-left: 0 !important;\n",
       "  display: grid;\n",
       "  grid-template-columns: 150px auto auto 1fr 20px 20px;\n",
       "}\n",
       "\n",
       ".xr-section-item {\n",
       "  display: contents;\n",
       "}\n",
       "\n",
       ".xr-section-item input {\n",
       "  display: none;\n",
       "}\n",
       "\n",
       ".xr-section-item input + label {\n",
       "  color: var(--xr-disabled-color);\n",
       "}\n",
       "\n",
       ".xr-section-item input:enabled + label {\n",
       "  cursor: pointer;\n",
       "  color: var(--xr-font-color2);\n",
       "}\n",
       "\n",
       ".xr-section-item input:enabled + label:hover {\n",
       "  color: var(--xr-font-color0);\n",
       "}\n",
       "\n",
       ".xr-section-summary {\n",
       "  grid-column: 1;\n",
       "  color: var(--xr-font-color2);\n",
       "  font-weight: 500;\n",
       "}\n",
       "\n",
       ".xr-section-summary > span {\n",
       "  display: inline-block;\n",
       "  padding-left: 0.5em;\n",
       "}\n",
       "\n",
       ".xr-section-summary-in:disabled + label {\n",
       "  color: var(--xr-font-color2);\n",
       "}\n",
       "\n",
       ".xr-section-summary-in + label:before {\n",
       "  display: inline-block;\n",
       "  content: '►';\n",
       "  font-size: 11px;\n",
       "  width: 15px;\n",
       "  text-align: center;\n",
       "}\n",
       "\n",
       ".xr-section-summary-in:disabled + label:before {\n",
       "  color: var(--xr-disabled-color);\n",
       "}\n",
       "\n",
       ".xr-section-summary-in:checked + label:before {\n",
       "  content: '▼';\n",
       "}\n",
       "\n",
       ".xr-section-summary-in:checked + label > span {\n",
       "  display: none;\n",
       "}\n",
       "\n",
       ".xr-section-summary,\n",
       ".xr-section-inline-details {\n",
       "  padding-top: 4px;\n",
       "  padding-bottom: 4px;\n",
       "}\n",
       "\n",
       ".xr-section-inline-details {\n",
       "  grid-column: 2 / -1;\n",
       "}\n",
       "\n",
       ".xr-section-details {\n",
       "  display: none;\n",
       "  grid-column: 1 / -1;\n",
       "  margin-bottom: 5px;\n",
       "}\n",
       "\n",
       ".xr-section-summary-in:checked ~ .xr-section-details {\n",
       "  display: contents;\n",
       "}\n",
       "\n",
       ".xr-array-wrap {\n",
       "  grid-column: 1 / -1;\n",
       "  display: grid;\n",
       "  grid-template-columns: 20px auto;\n",
       "}\n",
       "\n",
       ".xr-array-wrap > label {\n",
       "  grid-column: 1;\n",
       "  vertical-align: top;\n",
       "}\n",
       "\n",
       ".xr-preview {\n",
       "  color: var(--xr-font-color3);\n",
       "}\n",
       "\n",
       ".xr-array-preview,\n",
       ".xr-array-data {\n",
       "  padding: 0 5px !important;\n",
       "  grid-column: 2;\n",
       "}\n",
       "\n",
       ".xr-array-data,\n",
       ".xr-array-in:checked ~ .xr-array-preview {\n",
       "  display: none;\n",
       "}\n",
       "\n",
       ".xr-array-in:checked ~ .xr-array-data,\n",
       ".xr-array-preview {\n",
       "  display: inline-block;\n",
       "}\n",
       "\n",
       ".xr-dim-list {\n",
       "  display: inline-block !important;\n",
       "  list-style: none;\n",
       "  padding: 0 !important;\n",
       "  margin: 0;\n",
       "}\n",
       "\n",
       ".xr-dim-list li {\n",
       "  display: inline-block;\n",
       "  padding: 0;\n",
       "  margin: 0;\n",
       "}\n",
       "\n",
       ".xr-dim-list:before {\n",
       "  content: '(';\n",
       "}\n",
       "\n",
       ".xr-dim-list:after {\n",
       "  content: ')';\n",
       "}\n",
       "\n",
       ".xr-dim-list li:not(:last-child):after {\n",
       "  content: ',';\n",
       "  padding-right: 5px;\n",
       "}\n",
       "\n",
       ".xr-has-index {\n",
       "  font-weight: bold;\n",
       "}\n",
       "\n",
       ".xr-var-list,\n",
       ".xr-var-item {\n",
       "  display: contents;\n",
       "}\n",
       "\n",
       ".xr-var-item > div,\n",
       ".xr-var-item label,\n",
       ".xr-var-item > .xr-var-name span {\n",
       "  background-color: var(--xr-background-color-row-even);\n",
       "  margin-bottom: 0;\n",
       "}\n",
       "\n",
       ".xr-var-item > .xr-var-name:hover span {\n",
       "  padding-right: 5px;\n",
       "}\n",
       "\n",
       ".xr-var-list > li:nth-child(odd) > div,\n",
       ".xr-var-list > li:nth-child(odd) > label,\n",
       ".xr-var-list > li:nth-child(odd) > .xr-var-name span {\n",
       "  background-color: var(--xr-background-color-row-odd);\n",
       "}\n",
       "\n",
       ".xr-var-name {\n",
       "  grid-column: 1;\n",
       "}\n",
       "\n",
       ".xr-var-dims {\n",
       "  grid-column: 2;\n",
       "}\n",
       "\n",
       ".xr-var-dtype {\n",
       "  grid-column: 3;\n",
       "  text-align: right;\n",
       "  color: var(--xr-font-color2);\n",
       "}\n",
       "\n",
       ".xr-var-preview {\n",
       "  grid-column: 4;\n",
       "}\n",
       "\n",
       ".xr-var-name,\n",
       ".xr-var-dims,\n",
       ".xr-var-dtype,\n",
       ".xr-preview,\n",
       ".xr-attrs dt {\n",
       "  white-space: nowrap;\n",
       "  overflow: hidden;\n",
       "  text-overflow: ellipsis;\n",
       "  padding-right: 10px;\n",
       "}\n",
       "\n",
       ".xr-var-name:hover,\n",
       ".xr-var-dims:hover,\n",
       ".xr-var-dtype:hover,\n",
       ".xr-attrs dt:hover {\n",
       "  overflow: visible;\n",
       "  width: auto;\n",
       "  z-index: 1;\n",
       "}\n",
       "\n",
       ".xr-var-attrs,\n",
       ".xr-var-data {\n",
       "  display: none;\n",
       "  background-color: var(--xr-background-color) !important;\n",
       "  padding-bottom: 5px !important;\n",
       "}\n",
       "\n",
       ".xr-var-attrs-in:checked ~ .xr-var-attrs,\n",
       ".xr-var-data-in:checked ~ .xr-var-data {\n",
       "  display: block;\n",
       "}\n",
       "\n",
       ".xr-var-data > table {\n",
       "  float: right;\n",
       "}\n",
       "\n",
       ".xr-var-name span,\n",
       ".xr-var-data,\n",
       ".xr-attrs {\n",
       "  padding-left: 25px !important;\n",
       "}\n",
       "\n",
       ".xr-attrs,\n",
       ".xr-var-attrs,\n",
       ".xr-var-data {\n",
       "  grid-column: 1 / -1;\n",
       "}\n",
       "\n",
       "dl.xr-attrs {\n",
       "  padding: 0;\n",
       "  margin: 0;\n",
       "  display: grid;\n",
       "  grid-template-columns: 125px auto;\n",
       "}\n",
       "\n",
       ".xr-attrs dt,\n",
       ".xr-attrs dd {\n",
       "  padding: 0;\n",
       "  margin: 0;\n",
       "  float: left;\n",
       "  padding-right: 10px;\n",
       "  width: auto;\n",
       "}\n",
       "\n",
       ".xr-attrs dt {\n",
       "  font-weight: normal;\n",
       "  grid-column: 1;\n",
       "}\n",
       "\n",
       ".xr-attrs dt:hover span {\n",
       "  display: inline-block;\n",
       "  background: var(--xr-background-color);\n",
       "  padding-right: 10px;\n",
       "}\n",
       "\n",
       ".xr-attrs dd {\n",
       "  grid-column: 2;\n",
       "  white-space: pre-wrap;\n",
       "  word-break: break-all;\n",
       "}\n",
       "\n",
       ".xr-icon-database,\n",
       ".xr-icon-file-text2 {\n",
       "  display: inline-block;\n",
       "  vertical-align: middle;\n",
       "  width: 1em;\n",
       "  height: 1.5em !important;\n",
       "  stroke-width: 0;\n",
       "  stroke: currentColor;\n",
       "  fill: currentColor;\n",
       "}\n",
       "</style><pre class='xr-text-repr-fallback'>&lt;xarray.Dataset&gt;\n",
       "Dimensions:     (y: 1059, x: 1799)\n",
       "Coordinates:\n",
       "    time        datetime64[ns] 2020-08-10\n",
       "    step        timedelta64[ns] 1 days\n",
       "    atmosphere  float64 0.0\n",
       "    latitude    (y, x) float64 ...\n",
       "    longitude   (y, x) float64 ...\n",
       "    valid_time  datetime64[ns] 2020-08-11\n",
       "Dimensions without coordinates: y, x\n",
       "Data variables:\n",
       "    refc        (y, x) float32 ...\n",
       "    veril       (y, x) float32 ...\n",
       "    hail        (y, x) float32 ...\n",
       "    ltng        (y, x) float32 ...\n",
       "    tcc         (y, x) float32 ...\n",
       "    unknown     (y, x) float32 ...\n",
       "Attributes:\n",
       "    GRIB_edition:            2\n",
       "    GRIB_centre:             kwbc\n",
       "    GRIB_centreDescription:  US National Weather Service - NCEP\n",
       "    GRIB_subCentre:          0\n",
       "    Conventions:             CF-1.7\n",
       "    institution:             US National Weather Service - NCEP\n",
       "    history:                 2023-01-26T16:00 GRIB to CDM+CF via cfgrib-0.9.9...</pre><div class='xr-wrap' hidden><div class='xr-header'><div class='xr-obj-type'>xarray.Dataset</div></div><ul class='xr-sections'><li class='xr-section-item'><input id='section-37618343-c5da-44ce-b46f-89850089f1d5' class='xr-section-summary-in' type='checkbox' disabled ><label for='section-37618343-c5da-44ce-b46f-89850089f1d5' class='xr-section-summary'  title='Expand/collapse section'>Dimensions:</label><div class='xr-section-inline-details'><ul class='xr-dim-list'><li><span>y</span>: 1059</li><li><span>x</span>: 1799</li></ul></div><div class='xr-section-details'></div></li><li class='xr-section-item'><input id='section-bdce6556-64fa-4f88-ae2c-59aca71a230b' class='xr-section-summary-in' type='checkbox'  checked><label for='section-bdce6556-64fa-4f88-ae2c-59aca71a230b' class='xr-section-summary' >Coordinates: <span>(6)</span></label><div class='xr-section-inline-details'></div><div class='xr-section-details'><ul class='xr-var-list'><li class='xr-var-item'><div class='xr-var-name'><span>time</span></div><div class='xr-var-dims'>()</div><div class='xr-var-dtype'>datetime64[ns]</div><div class='xr-var-preview xr-preview'>...</div><input id='attrs-de3b2ab9-1389-47ae-b75d-5be370ce6298' class='xr-var-attrs-in' type='checkbox' ><label for='attrs-de3b2ab9-1389-47ae-b75d-5be370ce6298' title='Show/Hide attributes'><svg class='icon xr-icon-file-text2'><use xlink:href='#icon-file-text2'></use></svg></label><input id='data-0c4a5cd7-3a97-4b2c-ab6e-6e0f5b939997' class='xr-var-data-in' type='checkbox'><label for='data-0c4a5cd7-3a97-4b2c-ab6e-6e0f5b939997' title='Show/Hide data repr'><svg class='icon xr-icon-database'><use xlink:href='#icon-database'></use></svg></label><div class='xr-var-attrs'><dl class='xr-attrs'><dt><span>long_name :</span></dt><dd>initial time of forecast</dd><dt><span>standard_name :</span></dt><dd>forecast_reference_time</dd></dl></div><div class='xr-var-data'><pre>array(&#x27;2020-08-10T00:00:00.000000000&#x27;, dtype=&#x27;datetime64[ns]&#x27;)</pre></div></li><li class='xr-var-item'><div class='xr-var-name'><span>step</span></div><div class='xr-var-dims'>()</div><div class='xr-var-dtype'>timedelta64[ns]</div><div class='xr-var-preview xr-preview'>...</div><input id='attrs-99451600-4d81-4e16-91b3-12f63b6ca4e7' class='xr-var-attrs-in' type='checkbox' ><label for='attrs-99451600-4d81-4e16-91b3-12f63b6ca4e7' title='Show/Hide attributes'><svg class='icon xr-icon-file-text2'><use xlink:href='#icon-file-text2'></use></svg></label><input id='data-beadabf5-b536-43c3-8363-b13cdd186770' class='xr-var-data-in' type='checkbox'><label for='data-beadabf5-b536-43c3-8363-b13cdd186770' title='Show/Hide data repr'><svg class='icon xr-icon-database'><use xlink:href='#icon-database'></use></svg></label><div class='xr-var-attrs'><dl class='xr-attrs'><dt><span>long_name :</span></dt><dd>time since forecast_reference_time</dd><dt><span>standard_name :</span></dt><dd>forecast_period</dd></dl></div><div class='xr-var-data'><pre>array(86400000000000, dtype=&#x27;timedelta64[ns]&#x27;)</pre></div></li><li class='xr-var-item'><div class='xr-var-name'><span>atmosphere</span></div><div class='xr-var-dims'>()</div><div class='xr-var-dtype'>float64</div><div class='xr-var-preview xr-preview'>...</div><input id='attrs-1c89e0c5-2294-4339-add2-1dfffeef21b3' class='xr-var-attrs-in' type='checkbox' ><label for='attrs-1c89e0c5-2294-4339-add2-1dfffeef21b3' title='Show/Hide attributes'><svg class='icon xr-icon-file-text2'><use xlink:href='#icon-file-text2'></use></svg></label><input id='data-b766a677-f397-474a-9ed5-cb12466eae61' class='xr-var-data-in' type='checkbox'><label for='data-b766a677-f397-474a-9ed5-cb12466eae61' title='Show/Hide data repr'><svg class='icon xr-icon-database'><use xlink:href='#icon-database'></use></svg></label><div class='xr-var-attrs'><dl class='xr-attrs'><dt><span>long_name :</span></dt><dd>original GRIB coordinate for key: level(atmosphere)</dd><dt><span>units :</span></dt><dd>1</dd></dl></div><div class='xr-var-data'><pre>array(0.)</pre></div></li><li class='xr-var-item'><div class='xr-var-name'><span>latitude</span></div><div class='xr-var-dims'>(y, x)</div><div class='xr-var-dtype'>float64</div><div class='xr-var-preview xr-preview'>...</div><input id='attrs-286835d8-86cd-4745-a8bf-4fac0894d0e6' class='xr-var-attrs-in' type='checkbox' ><label for='attrs-286835d8-86cd-4745-a8bf-4fac0894d0e6' title='Show/Hide attributes'><svg class='icon xr-icon-file-text2'><use xlink:href='#icon-file-text2'></use></svg></label><input id='data-e6c7bf19-6f46-4590-aa1f-4393c665832a' class='xr-var-data-in' type='checkbox'><label for='data-e6c7bf19-6f46-4590-aa1f-4393c665832a' title='Show/Hide data repr'><svg class='icon xr-icon-database'><use xlink:href='#icon-database'></use></svg></label><div class='xr-var-attrs'><dl class='xr-attrs'><dt><span>units :</span></dt><dd>degrees_north</dd><dt><span>standard_name :</span></dt><dd>latitude</dd><dt><span>long_name :</span></dt><dd>latitude</dd></dl></div><div class='xr-var-data'><pre>[1905141 values with dtype=float64]</pre></div></li><li class='xr-var-item'><div class='xr-var-name'><span>longitude</span></div><div class='xr-var-dims'>(y, x)</div><div class='xr-var-dtype'>float64</div><div class='xr-var-preview xr-preview'>...</div><input id='attrs-840c8676-6000-4ca0-b48a-59dec844d57e' class='xr-var-attrs-in' type='checkbox' ><label for='attrs-840c8676-6000-4ca0-b48a-59dec844d57e' title='Show/Hide attributes'><svg class='icon xr-icon-file-text2'><use xlink:href='#icon-file-text2'></use></svg></label><input id='data-7007f0c7-da03-4663-a2fd-644e7b0c815e' class='xr-var-data-in' type='checkbox'><label for='data-7007f0c7-da03-4663-a2fd-644e7b0c815e' title='Show/Hide data repr'><svg class='icon xr-icon-database'><use xlink:href='#icon-database'></use></svg></label><div class='xr-var-attrs'><dl class='xr-attrs'><dt><span>units :</span></dt><dd>degrees_east</dd><dt><span>standard_name :</span></dt><dd>longitude</dd><dt><span>long_name :</span></dt><dd>longitude</dd></dl></div><div class='xr-var-data'><pre>[1905141 values with dtype=float64]</pre></div></li><li class='xr-var-item'><div class='xr-var-name'><span>valid_time</span></div><div class='xr-var-dims'>()</div><div class='xr-var-dtype'>datetime64[ns]</div><div class='xr-var-preview xr-preview'>...</div><input id='attrs-abdde52a-33d3-4fa0-bda7-3375598086df' class='xr-var-attrs-in' type='checkbox' ><label for='attrs-abdde52a-33d3-4fa0-bda7-3375598086df' title='Show/Hide attributes'><svg class='icon xr-icon-file-text2'><use xlink:href='#icon-file-text2'></use></svg></label><input id='data-4f032a19-a52c-4aa9-8349-0e565abd4a58' class='xr-var-data-in' type='checkbox'><label for='data-4f032a19-a52c-4aa9-8349-0e565abd4a58' title='Show/Hide data repr'><svg class='icon xr-icon-database'><use xlink:href='#icon-database'></use></svg></label><div class='xr-var-attrs'><dl class='xr-attrs'><dt><span>standard_name :</span></dt><dd>time</dd><dt><span>long_name :</span></dt><dd>time</dd></dl></div><div class='xr-var-data'><pre>array(&#x27;2020-08-11T00:00:00.000000000&#x27;, dtype=&#x27;datetime64[ns]&#x27;)</pre></div></li></ul></div></li><li class='xr-section-item'><input id='section-f928aaae-29fa-45b1-9fd6-835b3af21f39' class='xr-section-summary-in' type='checkbox'  checked><label for='section-f928aaae-29fa-45b1-9fd6-835b3af21f39' class='xr-section-summary' >Data variables: <span>(6)</span></label><div class='xr-section-inline-details'></div><div class='xr-section-details'><ul class='xr-var-list'><li class='xr-var-item'><div class='xr-var-name'><span>refc</span></div><div class='xr-var-dims'>(y, x)</div><div class='xr-var-dtype'>float32</div><div class='xr-var-preview xr-preview'>...</div><input id='attrs-43789b1b-7aa4-4c25-b54c-38f594ad113f' class='xr-var-attrs-in' type='checkbox' ><label for='attrs-43789b1b-7aa4-4c25-b54c-38f594ad113f' title='Show/Hide attributes'><svg class='icon xr-icon-file-text2'><use xlink:href='#icon-file-text2'></use></svg></label><input id='data-ca0d4e25-08e6-4b83-9a55-6fc869e498bc' class='xr-var-data-in' type='checkbox'><label for='data-ca0d4e25-08e6-4b83-9a55-6fc869e498bc' title='Show/Hide data repr'><svg class='icon xr-icon-database'><use xlink:href='#icon-database'></use></svg></label><div class='xr-var-attrs'><dl class='xr-attrs'><dt><span>GRIB_paramId :</span></dt><dd>260390</dd><dt><span>GRIB_dataType :</span></dt><dd>fc</dd><dt><span>GRIB_numberOfPoints :</span></dt><dd>1905141</dd><dt><span>GRIB_typeOfLevel :</span></dt><dd>atmosphere</dd><dt><span>GRIB_stepUnits :</span></dt><dd>1</dd><dt><span>GRIB_stepType :</span></dt><dd>instant</dd><dt><span>GRIB_gridType :</span></dt><dd>lambert</dd><dt><span>GRIB_DxInMetres :</span></dt><dd>3000.0</dd><dt><span>GRIB_DyInMetres :</span></dt><dd>3000.0</dd><dt><span>GRIB_LaDInDegrees :</span></dt><dd>38.5</dd><dt><span>GRIB_Latin1InDegrees :</span></dt><dd>38.5</dd><dt><span>GRIB_Latin2InDegrees :</span></dt><dd>38.5</dd><dt><span>GRIB_LoVInDegrees :</span></dt><dd>262.5</dd><dt><span>GRIB_NV :</span></dt><dd>0</dd><dt><span>GRIB_Nx :</span></dt><dd>1799</dd><dt><span>GRIB_Ny :</span></dt><dd>1059</dd><dt><span>GRIB_cfName :</span></dt><dd>unknown</dd><dt><span>GRIB_cfVarName :</span></dt><dd>unknown</dd><dt><span>GRIB_gridDefinitionDescription :</span></dt><dd>Lambert Conformal can be secant or tangent, conical or bipolar</dd><dt><span>GRIB_iScansNegatively :</span></dt><dd>0</dd><dt><span>GRIB_jPointsAreConsecutive :</span></dt><dd>0</dd><dt><span>GRIB_jScansPositively :</span></dt><dd>1</dd><dt><span>GRIB_latitudeOfFirstGridPointInDegrees :</span></dt><dd>21.138123</dd><dt><span>GRIB_latitudeOfSouthernPoleInDegrees :</span></dt><dd>0.0</dd><dt><span>GRIB_longitudeOfFirstGridPointInDegrees :</span></dt><dd>237.280472</dd><dt><span>GRIB_longitudeOfSouthernPoleInDegrees :</span></dt><dd>0.0</dd><dt><span>GRIB_missingValue :</span></dt><dd>9999</dd><dt><span>GRIB_name :</span></dt><dd>Maximum/Composite radar reflectivity</dd><dt><span>GRIB_shortName :</span></dt><dd>refc</dd><dt><span>GRIB_units :</span></dt><dd>dB</dd><dt><span>long_name :</span></dt><dd>Maximum/Composite radar reflectivity</dd><dt><span>units :</span></dt><dd>dB</dd><dt><span>standard_name :</span></dt><dd>unknown</dd></dl></div><div class='xr-var-data'><pre>[1905141 values with dtype=float32]</pre></div></li><li class='xr-var-item'><div class='xr-var-name'><span>veril</span></div><div class='xr-var-dims'>(y, x)</div><div class='xr-var-dtype'>float32</div><div class='xr-var-preview xr-preview'>...</div><input id='attrs-43135551-1b0f-48c0-94f0-9ce6be842fc8' class='xr-var-attrs-in' type='checkbox' ><label for='attrs-43135551-1b0f-48c0-94f0-9ce6be842fc8' title='Show/Hide attributes'><svg class='icon xr-icon-file-text2'><use xlink:href='#icon-file-text2'></use></svg></label><input id='data-c540b61e-d057-4a4f-8316-9d7ddac08051' class='xr-var-data-in' type='checkbox'><label for='data-c540b61e-d057-4a4f-8316-9d7ddac08051' title='Show/Hide data repr'><svg class='icon xr-icon-database'><use xlink:href='#icon-database'></use></svg></label><div class='xr-var-attrs'><dl class='xr-attrs'><dt><span>GRIB_paramId :</span></dt><dd>260136</dd><dt><span>GRIB_dataType :</span></dt><dd>fc</dd><dt><span>GRIB_numberOfPoints :</span></dt><dd>1905141</dd><dt><span>GRIB_typeOfLevel :</span></dt><dd>atmosphere</dd><dt><span>GRIB_stepUnits :</span></dt><dd>1</dd><dt><span>GRIB_stepType :</span></dt><dd>instant</dd><dt><span>GRIB_gridType :</span></dt><dd>lambert</dd><dt><span>GRIB_DxInMetres :</span></dt><dd>3000.0</dd><dt><span>GRIB_DyInMetres :</span></dt><dd>3000.0</dd><dt><span>GRIB_LaDInDegrees :</span></dt><dd>38.5</dd><dt><span>GRIB_Latin1InDegrees :</span></dt><dd>38.5</dd><dt><span>GRIB_Latin2InDegrees :</span></dt><dd>38.5</dd><dt><span>GRIB_LoVInDegrees :</span></dt><dd>262.5</dd><dt><span>GRIB_NV :</span></dt><dd>0</dd><dt><span>GRIB_Nx :</span></dt><dd>1799</dd><dt><span>GRIB_Ny :</span></dt><dd>1059</dd><dt><span>GRIB_cfName :</span></dt><dd>unknown</dd><dt><span>GRIB_cfVarName :</span></dt><dd>veril</dd><dt><span>GRIB_gridDefinitionDescription :</span></dt><dd>Lambert Conformal can be secant or tangent, conical or bipolar</dd><dt><span>GRIB_iScansNegatively :</span></dt><dd>0</dd><dt><span>GRIB_jPointsAreConsecutive :</span></dt><dd>0</dd><dt><span>GRIB_jScansPositively :</span></dt><dd>1</dd><dt><span>GRIB_latitudeOfFirstGridPointInDegrees :</span></dt><dd>21.138123</dd><dt><span>GRIB_latitudeOfSouthernPoleInDegrees :</span></dt><dd>0.0</dd><dt><span>GRIB_longitudeOfFirstGridPointInDegrees :</span></dt><dd>237.280472</dd><dt><span>GRIB_longitudeOfSouthernPoleInDegrees :</span></dt><dd>0.0</dd><dt><span>GRIB_missingValue :</span></dt><dd>9999</dd><dt><span>GRIB_name :</span></dt><dd>Vertically-integrated liquid</dd><dt><span>GRIB_shortName :</span></dt><dd>veril</dd><dt><span>GRIB_units :</span></dt><dd>kg m**-1</dd><dt><span>long_name :</span></dt><dd>Vertically-integrated liquid</dd><dt><span>units :</span></dt><dd>kg m**-1</dd><dt><span>standard_name :</span></dt><dd>unknown</dd></dl></div><div class='xr-var-data'><pre>[1905141 values with dtype=float32]</pre></div></li><li class='xr-var-item'><div class='xr-var-name'><span>hail</span></div><div class='xr-var-dims'>(y, x)</div><div class='xr-var-dtype'>float32</div><div class='xr-var-preview xr-preview'>...</div><input id='attrs-ff43d0df-cd65-4874-87d6-1459602661cc' class='xr-var-attrs-in' type='checkbox' ><label for='attrs-ff43d0df-cd65-4874-87d6-1459602661cc' title='Show/Hide attributes'><svg class='icon xr-icon-file-text2'><use xlink:href='#icon-file-text2'></use></svg></label><input id='data-8eadca35-a840-43f9-9f1a-f6c76b961e67' class='xr-var-data-in' type='checkbox'><label for='data-8eadca35-a840-43f9-9f1a-f6c76b961e67' title='Show/Hide data repr'><svg class='icon xr-icon-database'><use xlink:href='#icon-database'></use></svg></label><div class='xr-var-attrs'><dl class='xr-attrs'><dt><span>GRIB_paramId :</span></dt><dd>260027</dd><dt><span>GRIB_dataType :</span></dt><dd>fc</dd><dt><span>GRIB_numberOfPoints :</span></dt><dd>1905141</dd><dt><span>GRIB_typeOfLevel :</span></dt><dd>atmosphere</dd><dt><span>GRIB_stepUnits :</span></dt><dd>1</dd><dt><span>GRIB_stepType :</span></dt><dd>max</dd><dt><span>GRIB_gridType :</span></dt><dd>lambert</dd><dt><span>GRIB_DxInMetres :</span></dt><dd>3000.0</dd><dt><span>GRIB_DyInMetres :</span></dt><dd>3000.0</dd><dt><span>GRIB_LaDInDegrees :</span></dt><dd>38.5</dd><dt><span>GRIB_Latin1InDegrees :</span></dt><dd>38.5</dd><dt><span>GRIB_Latin2InDegrees :</span></dt><dd>38.5</dd><dt><span>GRIB_LoVInDegrees :</span></dt><dd>262.5</dd><dt><span>GRIB_NV :</span></dt><dd>0</dd><dt><span>GRIB_Nx :</span></dt><dd>1799</dd><dt><span>GRIB_Ny :</span></dt><dd>1059</dd><dt><span>GRIB_cfName :</span></dt><dd>unknown</dd><dt><span>GRIB_cfVarName :</span></dt><dd>hail</dd><dt><span>GRIB_gridDefinitionDescription :</span></dt><dd>Lambert Conformal can be secant or tangent, conical or bipolar</dd><dt><span>GRIB_iScansNegatively :</span></dt><dd>0</dd><dt><span>GRIB_jPointsAreConsecutive :</span></dt><dd>0</dd><dt><span>GRIB_jScansPositively :</span></dt><dd>1</dd><dt><span>GRIB_latitudeOfFirstGridPointInDegrees :</span></dt><dd>21.138123</dd><dt><span>GRIB_latitudeOfSouthernPoleInDegrees :</span></dt><dd>0.0</dd><dt><span>GRIB_longitudeOfFirstGridPointInDegrees :</span></dt><dd>237.280472</dd><dt><span>GRIB_longitudeOfSouthernPoleInDegrees :</span></dt><dd>0.0</dd><dt><span>GRIB_missingValue :</span></dt><dd>9999</dd><dt><span>GRIB_name :</span></dt><dd>Hail</dd><dt><span>GRIB_shortName :</span></dt><dd>hail</dd><dt><span>GRIB_units :</span></dt><dd>m</dd><dt><span>long_name :</span></dt><dd>Hail</dd><dt><span>units :</span></dt><dd>m</dd><dt><span>standard_name :</span></dt><dd>unknown</dd></dl></div><div class='xr-var-data'><pre>[1905141 values with dtype=float32]</pre></div></li><li class='xr-var-item'><div class='xr-var-name'><span>ltng</span></div><div class='xr-var-dims'>(y, x)</div><div class='xr-var-dtype'>float32</div><div class='xr-var-preview xr-preview'>...</div><input id='attrs-55cdca46-9694-4a31-a849-34aa1351d06e' class='xr-var-attrs-in' type='checkbox' ><label for='attrs-55cdca46-9694-4a31-a849-34aa1351d06e' title='Show/Hide attributes'><svg class='icon xr-icon-file-text2'><use xlink:href='#icon-file-text2'></use></svg></label><input id='data-6201d5bb-ca18-4bf9-946b-224dabc0d762' class='xr-var-data-in' type='checkbox'><label for='data-6201d5bb-ca18-4bf9-946b-224dabc0d762' title='Show/Hide data repr'><svg class='icon xr-icon-database'><use xlink:href='#icon-database'></use></svg></label><div class='xr-var-attrs'><dl class='xr-attrs'><dt><span>GRIB_paramId :</span></dt><dd>260391</dd><dt><span>GRIB_dataType :</span></dt><dd>fc</dd><dt><span>GRIB_numberOfPoints :</span></dt><dd>1905141</dd><dt><span>GRIB_typeOfLevel :</span></dt><dd>atmosphere</dd><dt><span>GRIB_stepUnits :</span></dt><dd>1</dd><dt><span>GRIB_stepType :</span></dt><dd>instant</dd><dt><span>GRIB_gridType :</span></dt><dd>lambert</dd><dt><span>GRIB_DxInMetres :</span></dt><dd>3000.0</dd><dt><span>GRIB_DyInMetres :</span></dt><dd>3000.0</dd><dt><span>GRIB_LaDInDegrees :</span></dt><dd>38.5</dd><dt><span>GRIB_Latin1InDegrees :</span></dt><dd>38.5</dd><dt><span>GRIB_Latin2InDegrees :</span></dt><dd>38.5</dd><dt><span>GRIB_LoVInDegrees :</span></dt><dd>262.5</dd><dt><span>GRIB_NV :</span></dt><dd>0</dd><dt><span>GRIB_Nx :</span></dt><dd>1799</dd><dt><span>GRIB_Ny :</span></dt><dd>1059</dd><dt><span>GRIB_cfName :</span></dt><dd>unknown</dd><dt><span>GRIB_cfVarName :</span></dt><dd>unknown</dd><dt><span>GRIB_gridDefinitionDescription :</span></dt><dd>Lambert Conformal can be secant or tangent, conical or bipolar</dd><dt><span>GRIB_iScansNegatively :</span></dt><dd>0</dd><dt><span>GRIB_jPointsAreConsecutive :</span></dt><dd>0</dd><dt><span>GRIB_jScansPositively :</span></dt><dd>1</dd><dt><span>GRIB_latitudeOfFirstGridPointInDegrees :</span></dt><dd>21.138123</dd><dt><span>GRIB_latitudeOfSouthernPoleInDegrees :</span></dt><dd>0.0</dd><dt><span>GRIB_longitudeOfFirstGridPointInDegrees :</span></dt><dd>237.280472</dd><dt><span>GRIB_longitudeOfSouthernPoleInDegrees :</span></dt><dd>0.0</dd><dt><span>GRIB_missingValue :</span></dt><dd>9999</dd><dt><span>GRIB_name :</span></dt><dd>Lightning</dd><dt><span>GRIB_shortName :</span></dt><dd>ltng</dd><dt><span>GRIB_units :</span></dt><dd>dimensionless</dd><dt><span>long_name :</span></dt><dd>Lightning</dd><dt><span>units :</span></dt><dd>dimensionless</dd><dt><span>standard_name :</span></dt><dd>unknown</dd></dl></div><div class='xr-var-data'><pre>[1905141 values with dtype=float32]</pre></div></li><li class='xr-var-item'><div class='xr-var-name'><span>tcc</span></div><div class='xr-var-dims'>(y, x)</div><div class='xr-var-dtype'>float32</div><div class='xr-var-preview xr-preview'>...</div><input id='attrs-1778103f-f416-49be-809b-b07ac869a394' class='xr-var-attrs-in' type='checkbox' ><label for='attrs-1778103f-f416-49be-809b-b07ac869a394' title='Show/Hide attributes'><svg class='icon xr-icon-file-text2'><use xlink:href='#icon-file-text2'></use></svg></label><input id='data-4cedab4c-e4d2-425a-b435-29b92544cb48' class='xr-var-data-in' type='checkbox'><label for='data-4cedab4c-e4d2-425a-b435-29b92544cb48' title='Show/Hide data repr'><svg class='icon xr-icon-database'><use xlink:href='#icon-database'></use></svg></label><div class='xr-var-attrs'><dl class='xr-attrs'><dt><span>GRIB_paramId :</span></dt><dd>228164</dd><dt><span>GRIB_dataType :</span></dt><dd>fc</dd><dt><span>GRIB_numberOfPoints :</span></dt><dd>1905141</dd><dt><span>GRIB_typeOfLevel :</span></dt><dd>atmosphere</dd><dt><span>GRIB_stepUnits :</span></dt><dd>1</dd><dt><span>GRIB_stepType :</span></dt><dd>instant</dd><dt><span>GRIB_gridType :</span></dt><dd>lambert</dd><dt><span>GRIB_DxInMetres :</span></dt><dd>3000.0</dd><dt><span>GRIB_DyInMetres :</span></dt><dd>3000.0</dd><dt><span>GRIB_LaDInDegrees :</span></dt><dd>38.5</dd><dt><span>GRIB_Latin1InDegrees :</span></dt><dd>38.5</dd><dt><span>GRIB_Latin2InDegrees :</span></dt><dd>38.5</dd><dt><span>GRIB_LoVInDegrees :</span></dt><dd>262.5</dd><dt><span>GRIB_NV :</span></dt><dd>0</dd><dt><span>GRIB_Nx :</span></dt><dd>1799</dd><dt><span>GRIB_Ny :</span></dt><dd>1059</dd><dt><span>GRIB_cfName :</span></dt><dd>unknown</dd><dt><span>GRIB_cfVarName :</span></dt><dd>unknown</dd><dt><span>GRIB_gridDefinitionDescription :</span></dt><dd>Lambert Conformal can be secant or tangent, conical or bipolar</dd><dt><span>GRIB_iScansNegatively :</span></dt><dd>0</dd><dt><span>GRIB_jPointsAreConsecutive :</span></dt><dd>0</dd><dt><span>GRIB_jScansPositively :</span></dt><dd>1</dd><dt><span>GRIB_latitudeOfFirstGridPointInDegrees :</span></dt><dd>21.138123</dd><dt><span>GRIB_latitudeOfSouthernPoleInDegrees :</span></dt><dd>0.0</dd><dt><span>GRIB_longitudeOfFirstGridPointInDegrees :</span></dt><dd>237.280472</dd><dt><span>GRIB_longitudeOfSouthernPoleInDegrees :</span></dt><dd>0.0</dd><dt><span>GRIB_missingValue :</span></dt><dd>9999</dd><dt><span>GRIB_name :</span></dt><dd>Total Cloud Cover</dd><dt><span>GRIB_shortName :</span></dt><dd>tcc</dd><dt><span>GRIB_units :</span></dt><dd>%</dd><dt><span>long_name :</span></dt><dd>Total Cloud Cover</dd><dt><span>units :</span></dt><dd>%</dd><dt><span>standard_name :</span></dt><dd>unknown</dd></dl></div><div class='xr-var-data'><pre>[1905141 values with dtype=float32]</pre></div></li><li class='xr-var-item'><div class='xr-var-name'><span>unknown</span></div><div class='xr-var-dims'>(y, x)</div><div class='xr-var-dtype'>float32</div><div class='xr-var-preview xr-preview'>...</div><input id='attrs-b4157552-53a0-46cd-bdc7-8e1afc303d9e' class='xr-var-attrs-in' type='checkbox' ><label for='attrs-b4157552-53a0-46cd-bdc7-8e1afc303d9e' title='Show/Hide attributes'><svg class='icon xr-icon-file-text2'><use xlink:href='#icon-file-text2'></use></svg></label><input id='data-49ca4885-2331-4119-bd28-22783c822ece' class='xr-var-data-in' type='checkbox'><label for='data-49ca4885-2331-4119-bd28-22783c822ece' title='Show/Hide data repr'><svg class='icon xr-icon-database'><use xlink:href='#icon-database'></use></svg></label><div class='xr-var-attrs'><dl class='xr-attrs'><dt><span>GRIB_paramId :</span></dt><dd>0</dd><dt><span>GRIB_dataType :</span></dt><dd>fc</dd><dt><span>GRIB_numberOfPoints :</span></dt><dd>1905141</dd><dt><span>GRIB_typeOfLevel :</span></dt><dd>atmosphere</dd><dt><span>GRIB_stepUnits :</span></dt><dd>1</dd><dt><span>GRIB_stepType :</span></dt><dd>instant</dd><dt><span>GRIB_gridType :</span></dt><dd>lambert</dd><dt><span>GRIB_DxInMetres :</span></dt><dd>3000.0</dd><dt><span>GRIB_DyInMetres :</span></dt><dd>3000.0</dd><dt><span>GRIB_LaDInDegrees :</span></dt><dd>38.5</dd><dt><span>GRIB_Latin1InDegrees :</span></dt><dd>38.5</dd><dt><span>GRIB_Latin2InDegrees :</span></dt><dd>38.5</dd><dt><span>GRIB_LoVInDegrees :</span></dt><dd>262.5</dd><dt><span>GRIB_NV :</span></dt><dd>0</dd><dt><span>GRIB_Nx :</span></dt><dd>1799</dd><dt><span>GRIB_Ny :</span></dt><dd>1059</dd><dt><span>GRIB_cfName :</span></dt><dd>unknown</dd><dt><span>GRIB_cfVarName :</span></dt><dd>unknown</dd><dt><span>GRIB_gridDefinitionDescription :</span></dt><dd>Lambert Conformal can be secant or tangent, conical or bipolar</dd><dt><span>GRIB_iScansNegatively :</span></dt><dd>0</dd><dt><span>GRIB_jPointsAreConsecutive :</span></dt><dd>0</dd><dt><span>GRIB_jScansPositively :</span></dt><dd>1</dd><dt><span>GRIB_latitudeOfFirstGridPointInDegrees :</span></dt><dd>21.138123</dd><dt><span>GRIB_latitudeOfSouthernPoleInDegrees :</span></dt><dd>0.0</dd><dt><span>GRIB_longitudeOfFirstGridPointInDegrees :</span></dt><dd>237.280472</dd><dt><span>GRIB_longitudeOfSouthernPoleInDegrees :</span></dt><dd>0.0</dd><dt><span>GRIB_missingValue :</span></dt><dd>9999</dd><dt><span>GRIB_name :</span></dt><dd>unknown</dd><dt><span>GRIB_shortName :</span></dt><dd>unknown</dd><dt><span>GRIB_units :</span></dt><dd>unknown</dd><dt><span>long_name :</span></dt><dd>unknown</dd><dt><span>units :</span></dt><dd>unknown</dd><dt><span>standard_name :</span></dt><dd>unknown</dd></dl></div><div class='xr-var-data'><pre>[1905141 values with dtype=float32]</pre></div></li></ul></div></li><li class='xr-section-item'><input id='section-68687fec-0cf1-415f-9832-10ba6dcc0ba5' class='xr-section-summary-in' type='checkbox'  checked><label for='section-68687fec-0cf1-415f-9832-10ba6dcc0ba5' class='xr-section-summary' >Attributes: <span>(7)</span></label><div class='xr-section-inline-details'></div><div class='xr-section-details'><dl class='xr-attrs'><dt><span>GRIB_edition :</span></dt><dd>2</dd><dt><span>GRIB_centre :</span></dt><dd>kwbc</dd><dt><span>GRIB_centreDescription :</span></dt><dd>US National Weather Service - NCEP</dd><dt><span>GRIB_subCentre :</span></dt><dd>0</dd><dt><span>Conventions :</span></dt><dd>CF-1.7</dd><dt><span>institution :</span></dt><dd>US National Weather Service - NCEP</dd><dt><span>history :</span></dt><dd>2023-01-26T16:00 GRIB to CDM+CF via cfgrib-0.9.9.1/ecCodes-2.27.1 with {&quot;source&quot;: &quot;/lcrc/project/rainfall/jcorner/MODE_data/202008110000/hrrr_t20200810T0000z_wrfsfcf24.grib2&quot;, &quot;filter_by_keys&quot;: {&quot;typeOfLevel&quot;: &quot;atmosphere&quot;}, &quot;encode_cf&quot;: [&quot;parameter&quot;, &quot;time&quot;, &quot;geography&quot;, &quot;vertical&quot;]}</dd></dl></div></li></ul></div></div>"
      ],
      "text/plain": [
       "<xarray.Dataset>\n",
       "Dimensions:     (y: 1059, x: 1799)\n",
       "Coordinates:\n",
       "    time        datetime64[ns] ...\n",
       "    step        timedelta64[ns] ...\n",
       "    atmosphere  float64 ...\n",
       "    latitude    (y, x) float64 ...\n",
       "    longitude   (y, x) float64 ...\n",
       "    valid_time  datetime64[ns] ...\n",
       "Dimensions without coordinates: y, x\n",
       "Data variables:\n",
       "    refc        (y, x) float32 ...\n",
       "    veril       (y, x) float32 ...\n",
       "    hail        (y, x) float32 ...\n",
       "    ltng        (y, x) float32 ...\n",
       "    tcc         (y, x) float32 ...\n",
       "    unknown     (y, x) float32 ...\n",
       "Attributes:\n",
       "    GRIB_edition:            2\n",
       "    GRIB_centre:             kwbc\n",
       "    GRIB_centreDescription:  US National Weather Service - NCEP\n",
       "    GRIB_subCentre:          0\n",
       "    Conventions:             CF-1.7\n",
       "    institution:             US National Weather Service - NCEP\n",
       "    history:                 2023-01-26T16:00 GRIB to CDM+CF via cfgrib-0.9.9..."
      ]
     },
     "execution_count": 6,
     "metadata": {},
     "output_type": "execute_result"
    }
   ],
   "source": [
    "grib = cfgrib.open_dataset(f'/lcrc/project/rainfall/jcorner/MODE_data'\n",
    "                         f'/{datetime_object.year}0{datetime_object.month}{str(datetime_object.day).zfill(2)}0000/'\n",
    "                         f'hrrr_t2020{str(i[0]).zfill(2)}{str(i[1]).zfill(2)}'\n",
    "                         f'T{str(i[2]).zfill(2)}00z_wrfsfcf{str(i[3]).zfill(2)}.grib2', filter_by_keys={'typeOfLevel': 'atmosphere'})\n",
    "grib"
   ]
  },
  {
   "cell_type": "code",
   "execution_count": 7,
   "id": "46b424d9",
   "metadata": {},
   "outputs": [
    {
     "data": {
      "text/html": [
       "<div><svg style=\"position: absolute; width: 0; height: 0; overflow: hidden\">\n",
       "<defs>\n",
       "<symbol id=\"icon-database\" viewBox=\"0 0 32 32\">\n",
       "<path d=\"M16 0c-8.837 0-16 2.239-16 5v4c0 2.761 7.163 5 16 5s16-2.239 16-5v-4c0-2.761-7.163-5-16-5z\"></path>\n",
       "<path d=\"M16 17c-8.837 0-16-2.239-16-5v6c0 2.761 7.163 5 16 5s16-2.239 16-5v-6c0 2.761-7.163 5-16 5z\"></path>\n",
       "<path d=\"M16 26c-8.837 0-16-2.239-16-5v6c0 2.761 7.163 5 16 5s16-2.239 16-5v-6c0 2.761-7.163 5-16 5z\"></path>\n",
       "</symbol>\n",
       "<symbol id=\"icon-file-text2\" viewBox=\"0 0 32 32\">\n",
       "<path d=\"M28.681 7.159c-0.694-0.947-1.662-2.053-2.724-3.116s-2.169-2.030-3.116-2.724c-1.612-1.182-2.393-1.319-2.841-1.319h-15.5c-1.378 0-2.5 1.121-2.5 2.5v27c0 1.378 1.122 2.5 2.5 2.5h23c1.378 0 2.5-1.122 2.5-2.5v-19.5c0-0.448-0.137-1.23-1.319-2.841zM24.543 5.457c0.959 0.959 1.712 1.825 2.268 2.543h-4.811v-4.811c0.718 0.556 1.584 1.309 2.543 2.268zM28 29.5c0 0.271-0.229 0.5-0.5 0.5h-23c-0.271 0-0.5-0.229-0.5-0.5v-27c0-0.271 0.229-0.5 0.5-0.5 0 0 15.499-0 15.5 0v7c0 0.552 0.448 1 1 1h7v19.5z\"></path>\n",
       "<path d=\"M23 26h-14c-0.552 0-1-0.448-1-1s0.448-1 1-1h14c0.552 0 1 0.448 1 1s-0.448 1-1 1z\"></path>\n",
       "<path d=\"M23 22h-14c-0.552 0-1-0.448-1-1s0.448-1 1-1h14c0.552 0 1 0.448 1 1s-0.448 1-1 1z\"></path>\n",
       "<path d=\"M23 18h-14c-0.552 0-1-0.448-1-1s0.448-1 1-1h14c0.552 0 1 0.448 1 1s-0.448 1-1 1z\"></path>\n",
       "</symbol>\n",
       "</defs>\n",
       "</svg>\n",
       "<style>/* CSS stylesheet for displaying xarray objects in jupyterlab.\n",
       " *\n",
       " */\n",
       "\n",
       ":root {\n",
       "  --xr-font-color0: var(--jp-content-font-color0, rgba(0, 0, 0, 1));\n",
       "  --xr-font-color2: var(--jp-content-font-color2, rgba(0, 0, 0, 0.54));\n",
       "  --xr-font-color3: var(--jp-content-font-color3, rgba(0, 0, 0, 0.38));\n",
       "  --xr-border-color: var(--jp-border-color2, #e0e0e0);\n",
       "  --xr-disabled-color: var(--jp-layout-color3, #bdbdbd);\n",
       "  --xr-background-color: var(--jp-layout-color0, white);\n",
       "  --xr-background-color-row-even: var(--jp-layout-color1, white);\n",
       "  --xr-background-color-row-odd: var(--jp-layout-color2, #eeeeee);\n",
       "}\n",
       "\n",
       "html[theme=dark],\n",
       "body.vscode-dark {\n",
       "  --xr-font-color0: rgba(255, 255, 255, 1);\n",
       "  --xr-font-color2: rgba(255, 255, 255, 0.54);\n",
       "  --xr-font-color3: rgba(255, 255, 255, 0.38);\n",
       "  --xr-border-color: #1F1F1F;\n",
       "  --xr-disabled-color: #515151;\n",
       "  --xr-background-color: #111111;\n",
       "  --xr-background-color-row-even: #111111;\n",
       "  --xr-background-color-row-odd: #313131;\n",
       "}\n",
       "\n",
       ".xr-wrap {\n",
       "  display: block;\n",
       "  min-width: 300px;\n",
       "  max-width: 700px;\n",
       "}\n",
       "\n",
       ".xr-text-repr-fallback {\n",
       "  /* fallback to plain text repr when CSS is not injected (untrusted notebook) */\n",
       "  display: none;\n",
       "}\n",
       "\n",
       ".xr-header {\n",
       "  padding-top: 6px;\n",
       "  padding-bottom: 6px;\n",
       "  margin-bottom: 4px;\n",
       "  border-bottom: solid 1px var(--xr-border-color);\n",
       "}\n",
       "\n",
       ".xr-header > div,\n",
       ".xr-header > ul {\n",
       "  display: inline;\n",
       "  margin-top: 0;\n",
       "  margin-bottom: 0;\n",
       "}\n",
       "\n",
       ".xr-obj-type,\n",
       ".xr-array-name {\n",
       "  margin-left: 2px;\n",
       "  margin-right: 10px;\n",
       "}\n",
       "\n",
       ".xr-obj-type {\n",
       "  color: var(--xr-font-color2);\n",
       "}\n",
       "\n",
       ".xr-sections {\n",
       "  padding-left: 0 !important;\n",
       "  display: grid;\n",
       "  grid-template-columns: 150px auto auto 1fr 20px 20px;\n",
       "}\n",
       "\n",
       ".xr-section-item {\n",
       "  display: contents;\n",
       "}\n",
       "\n",
       ".xr-section-item input {\n",
       "  display: none;\n",
       "}\n",
       "\n",
       ".xr-section-item input + label {\n",
       "  color: var(--xr-disabled-color);\n",
       "}\n",
       "\n",
       ".xr-section-item input:enabled + label {\n",
       "  cursor: pointer;\n",
       "  color: var(--xr-font-color2);\n",
       "}\n",
       "\n",
       ".xr-section-item input:enabled + label:hover {\n",
       "  color: var(--xr-font-color0);\n",
       "}\n",
       "\n",
       ".xr-section-summary {\n",
       "  grid-column: 1;\n",
       "  color: var(--xr-font-color2);\n",
       "  font-weight: 500;\n",
       "}\n",
       "\n",
       ".xr-section-summary > span {\n",
       "  display: inline-block;\n",
       "  padding-left: 0.5em;\n",
       "}\n",
       "\n",
       ".xr-section-summary-in:disabled + label {\n",
       "  color: var(--xr-font-color2);\n",
       "}\n",
       "\n",
       ".xr-section-summary-in + label:before {\n",
       "  display: inline-block;\n",
       "  content: '►';\n",
       "  font-size: 11px;\n",
       "  width: 15px;\n",
       "  text-align: center;\n",
       "}\n",
       "\n",
       ".xr-section-summary-in:disabled + label:before {\n",
       "  color: var(--xr-disabled-color);\n",
       "}\n",
       "\n",
       ".xr-section-summary-in:checked + label:before {\n",
       "  content: '▼';\n",
       "}\n",
       "\n",
       ".xr-section-summary-in:checked + label > span {\n",
       "  display: none;\n",
       "}\n",
       "\n",
       ".xr-section-summary,\n",
       ".xr-section-inline-details {\n",
       "  padding-top: 4px;\n",
       "  padding-bottom: 4px;\n",
       "}\n",
       "\n",
       ".xr-section-inline-details {\n",
       "  grid-column: 2 / -1;\n",
       "}\n",
       "\n",
       ".xr-section-details {\n",
       "  display: none;\n",
       "  grid-column: 1 / -1;\n",
       "  margin-bottom: 5px;\n",
       "}\n",
       "\n",
       ".xr-section-summary-in:checked ~ .xr-section-details {\n",
       "  display: contents;\n",
       "}\n",
       "\n",
       ".xr-array-wrap {\n",
       "  grid-column: 1 / -1;\n",
       "  display: grid;\n",
       "  grid-template-columns: 20px auto;\n",
       "}\n",
       "\n",
       ".xr-array-wrap > label {\n",
       "  grid-column: 1;\n",
       "  vertical-align: top;\n",
       "}\n",
       "\n",
       ".xr-preview {\n",
       "  color: var(--xr-font-color3);\n",
       "}\n",
       "\n",
       ".xr-array-preview,\n",
       ".xr-array-data {\n",
       "  padding: 0 5px !important;\n",
       "  grid-column: 2;\n",
       "}\n",
       "\n",
       ".xr-array-data,\n",
       ".xr-array-in:checked ~ .xr-array-preview {\n",
       "  display: none;\n",
       "}\n",
       "\n",
       ".xr-array-in:checked ~ .xr-array-data,\n",
       ".xr-array-preview {\n",
       "  display: inline-block;\n",
       "}\n",
       "\n",
       ".xr-dim-list {\n",
       "  display: inline-block !important;\n",
       "  list-style: none;\n",
       "  padding: 0 !important;\n",
       "  margin: 0;\n",
       "}\n",
       "\n",
       ".xr-dim-list li {\n",
       "  display: inline-block;\n",
       "  padding: 0;\n",
       "  margin: 0;\n",
       "}\n",
       "\n",
       ".xr-dim-list:before {\n",
       "  content: '(';\n",
       "}\n",
       "\n",
       ".xr-dim-list:after {\n",
       "  content: ')';\n",
       "}\n",
       "\n",
       ".xr-dim-list li:not(:last-child):after {\n",
       "  content: ',';\n",
       "  padding-right: 5px;\n",
       "}\n",
       "\n",
       ".xr-has-index {\n",
       "  font-weight: bold;\n",
       "}\n",
       "\n",
       ".xr-var-list,\n",
       ".xr-var-item {\n",
       "  display: contents;\n",
       "}\n",
       "\n",
       ".xr-var-item > div,\n",
       ".xr-var-item label,\n",
       ".xr-var-item > .xr-var-name span {\n",
       "  background-color: var(--xr-background-color-row-even);\n",
       "  margin-bottom: 0;\n",
       "}\n",
       "\n",
       ".xr-var-item > .xr-var-name:hover span {\n",
       "  padding-right: 5px;\n",
       "}\n",
       "\n",
       ".xr-var-list > li:nth-child(odd) > div,\n",
       ".xr-var-list > li:nth-child(odd) > label,\n",
       ".xr-var-list > li:nth-child(odd) > .xr-var-name span {\n",
       "  background-color: var(--xr-background-color-row-odd);\n",
       "}\n",
       "\n",
       ".xr-var-name {\n",
       "  grid-column: 1;\n",
       "}\n",
       "\n",
       ".xr-var-dims {\n",
       "  grid-column: 2;\n",
       "}\n",
       "\n",
       ".xr-var-dtype {\n",
       "  grid-column: 3;\n",
       "  text-align: right;\n",
       "  color: var(--xr-font-color2);\n",
       "}\n",
       "\n",
       ".xr-var-preview {\n",
       "  grid-column: 4;\n",
       "}\n",
       "\n",
       ".xr-var-name,\n",
       ".xr-var-dims,\n",
       ".xr-var-dtype,\n",
       ".xr-preview,\n",
       ".xr-attrs dt {\n",
       "  white-space: nowrap;\n",
       "  overflow: hidden;\n",
       "  text-overflow: ellipsis;\n",
       "  padding-right: 10px;\n",
       "}\n",
       "\n",
       ".xr-var-name:hover,\n",
       ".xr-var-dims:hover,\n",
       ".xr-var-dtype:hover,\n",
       ".xr-attrs dt:hover {\n",
       "  overflow: visible;\n",
       "  width: auto;\n",
       "  z-index: 1;\n",
       "}\n",
       "\n",
       ".xr-var-attrs,\n",
       ".xr-var-data {\n",
       "  display: none;\n",
       "  background-color: var(--xr-background-color) !important;\n",
       "  padding-bottom: 5px !important;\n",
       "}\n",
       "\n",
       ".xr-var-attrs-in:checked ~ .xr-var-attrs,\n",
       ".xr-var-data-in:checked ~ .xr-var-data {\n",
       "  display: block;\n",
       "}\n",
       "\n",
       ".xr-var-data > table {\n",
       "  float: right;\n",
       "}\n",
       "\n",
       ".xr-var-name span,\n",
       ".xr-var-data,\n",
       ".xr-attrs {\n",
       "  padding-left: 25px !important;\n",
       "}\n",
       "\n",
       ".xr-attrs,\n",
       ".xr-var-attrs,\n",
       ".xr-var-data {\n",
       "  grid-column: 1 / -1;\n",
       "}\n",
       "\n",
       "dl.xr-attrs {\n",
       "  padding: 0;\n",
       "  margin: 0;\n",
       "  display: grid;\n",
       "  grid-template-columns: 125px auto;\n",
       "}\n",
       "\n",
       ".xr-attrs dt,\n",
       ".xr-attrs dd {\n",
       "  padding: 0;\n",
       "  margin: 0;\n",
       "  float: left;\n",
       "  padding-right: 10px;\n",
       "  width: auto;\n",
       "}\n",
       "\n",
       ".xr-attrs dt {\n",
       "  font-weight: normal;\n",
       "  grid-column: 1;\n",
       "}\n",
       "\n",
       ".xr-attrs dt:hover span {\n",
       "  display: inline-block;\n",
       "  background: var(--xr-background-color);\n",
       "  padding-right: 10px;\n",
       "}\n",
       "\n",
       ".xr-attrs dd {\n",
       "  grid-column: 2;\n",
       "  white-space: pre-wrap;\n",
       "  word-break: break-all;\n",
       "}\n",
       "\n",
       ".xr-icon-database,\n",
       ".xr-icon-file-text2 {\n",
       "  display: inline-block;\n",
       "  vertical-align: middle;\n",
       "  width: 1em;\n",
       "  height: 1.5em !important;\n",
       "  stroke-width: 0;\n",
       "  stroke: currentColor;\n",
       "  fill: currentColor;\n",
       "}\n",
       "</style><pre class='xr-text-repr-fallback'>&lt;xarray.Dataset&gt;\n",
       "Dimensions:     (lat: 1059, lon: 1799, y: 1059, x: 1799)\n",
       "Coordinates:\n",
       "    time        datetime64[ns] 2020-08-10\n",
       "    step        timedelta64[ns] 1 days\n",
       "    atmosphere  float64 0.0\n",
       "    latitude    (lat, lon) float64 ...\n",
       "    longitude   (lat, lon) float64 ...\n",
       "    valid_time  datetime64[ns] 2020-08-11\n",
       "Dimensions without coordinates: lat, lon, y, x\n",
       "Data variables:\n",
       "    refc        (lat, lon) float64 ...\n",
       "    veril       (y, x) float32 ...\n",
       "    hail        (y, x) float32 ...\n",
       "    ltng        (y, x) float32 ...\n",
       "    tcc         (y, x) float32 ...\n",
       "    unknown     (y, x) float32 ...\n",
       "Attributes:\n",
       "    GRIB_edition:            2\n",
       "    GRIB_centre:             kwbc\n",
       "    GRIB_centreDescription:  US National Weather Service - NCEP\n",
       "    GRIB_subCentre:          0\n",
       "    Conventions:             CF-1.7\n",
       "    institution:             US National Weather Service - NCEP\n",
       "    history:                 2023-01-26T16:00 GRIB to CDM+CF via cfgrib-0.9.9...</pre><div class='xr-wrap' hidden><div class='xr-header'><div class='xr-obj-type'>xarray.Dataset</div></div><ul class='xr-sections'><li class='xr-section-item'><input id='section-f6f2671a-7f6e-4e23-8408-9b776fe7fb44' class='xr-section-summary-in' type='checkbox' disabled ><label for='section-f6f2671a-7f6e-4e23-8408-9b776fe7fb44' class='xr-section-summary'  title='Expand/collapse section'>Dimensions:</label><div class='xr-section-inline-details'><ul class='xr-dim-list'><li><span>lat</span>: 1059</li><li><span>lon</span>: 1799</li><li><span>y</span>: 1059</li><li><span>x</span>: 1799</li></ul></div><div class='xr-section-details'></div></li><li class='xr-section-item'><input id='section-15e83d20-251b-45aa-8890-00639730fb2c' class='xr-section-summary-in' type='checkbox'  checked><label for='section-15e83d20-251b-45aa-8890-00639730fb2c' class='xr-section-summary' >Coordinates: <span>(6)</span></label><div class='xr-section-inline-details'></div><div class='xr-section-details'><ul class='xr-var-list'><li class='xr-var-item'><div class='xr-var-name'><span>time</span></div><div class='xr-var-dims'>()</div><div class='xr-var-dtype'>datetime64[ns]</div><div class='xr-var-preview xr-preview'>...</div><input id='attrs-f0c9e90f-5800-4156-b785-63b7cbcfbd2f' class='xr-var-attrs-in' type='checkbox' ><label for='attrs-f0c9e90f-5800-4156-b785-63b7cbcfbd2f' title='Show/Hide attributes'><svg class='icon xr-icon-file-text2'><use xlink:href='#icon-file-text2'></use></svg></label><input id='data-9ae18bec-ed4d-4bea-a83c-77e2185e5e52' class='xr-var-data-in' type='checkbox'><label for='data-9ae18bec-ed4d-4bea-a83c-77e2185e5e52' title='Show/Hide data repr'><svg class='icon xr-icon-database'><use xlink:href='#icon-database'></use></svg></label><div class='xr-var-attrs'><dl class='xr-attrs'><dt><span>long_name :</span></dt><dd>initial time of forecast</dd><dt><span>standard_name :</span></dt><dd>forecast_reference_time</dd></dl></div><div class='xr-var-data'><pre>array(&#x27;2020-08-10T00:00:00.000000000&#x27;, dtype=&#x27;datetime64[ns]&#x27;)</pre></div></li><li class='xr-var-item'><div class='xr-var-name'><span>step</span></div><div class='xr-var-dims'>()</div><div class='xr-var-dtype'>timedelta64[ns]</div><div class='xr-var-preview xr-preview'>...</div><input id='attrs-d00d5cd5-f706-48de-a825-68684b1a1a75' class='xr-var-attrs-in' type='checkbox' ><label for='attrs-d00d5cd5-f706-48de-a825-68684b1a1a75' title='Show/Hide attributes'><svg class='icon xr-icon-file-text2'><use xlink:href='#icon-file-text2'></use></svg></label><input id='data-78505bf7-3b32-4719-8beb-c43f901c6142' class='xr-var-data-in' type='checkbox'><label for='data-78505bf7-3b32-4719-8beb-c43f901c6142' title='Show/Hide data repr'><svg class='icon xr-icon-database'><use xlink:href='#icon-database'></use></svg></label><div class='xr-var-attrs'><dl class='xr-attrs'><dt><span>long_name :</span></dt><dd>time since forecast_reference_time</dd><dt><span>standard_name :</span></dt><dd>forecast_period</dd></dl></div><div class='xr-var-data'><pre>array(86400000000000, dtype=&#x27;timedelta64[ns]&#x27;)</pre></div></li><li class='xr-var-item'><div class='xr-var-name'><span>atmosphere</span></div><div class='xr-var-dims'>()</div><div class='xr-var-dtype'>float64</div><div class='xr-var-preview xr-preview'>...</div><input id='attrs-a6e65413-d6b5-41ef-9091-51e795806622' class='xr-var-attrs-in' type='checkbox' ><label for='attrs-a6e65413-d6b5-41ef-9091-51e795806622' title='Show/Hide attributes'><svg class='icon xr-icon-file-text2'><use xlink:href='#icon-file-text2'></use></svg></label><input id='data-87ee3898-fbed-4a37-8460-92abed713101' class='xr-var-data-in' type='checkbox'><label for='data-87ee3898-fbed-4a37-8460-92abed713101' title='Show/Hide data repr'><svg class='icon xr-icon-database'><use xlink:href='#icon-database'></use></svg></label><div class='xr-var-attrs'><dl class='xr-attrs'><dt><span>long_name :</span></dt><dd>original GRIB coordinate for key: level(atmosphere)</dd><dt><span>units :</span></dt><dd>1</dd></dl></div><div class='xr-var-data'><pre>array(0.)</pre></div></li><li class='xr-var-item'><div class='xr-var-name'><span>latitude</span></div><div class='xr-var-dims'>(lat, lon)</div><div class='xr-var-dtype'>float64</div><div class='xr-var-preview xr-preview'>...</div><input id='attrs-5545bca3-735a-4399-8c60-155559f668dc' class='xr-var-attrs-in' type='checkbox' ><label for='attrs-5545bca3-735a-4399-8c60-155559f668dc' title='Show/Hide attributes'><svg class='icon xr-icon-file-text2'><use xlink:href='#icon-file-text2'></use></svg></label><input id='data-0f978fbd-42e3-4791-9bb2-2bff45dfcc46' class='xr-var-data-in' type='checkbox'><label for='data-0f978fbd-42e3-4791-9bb2-2bff45dfcc46' title='Show/Hide data repr'><svg class='icon xr-icon-database'><use xlink:href='#icon-database'></use></svg></label><div class='xr-var-attrs'><dl class='xr-attrs'><dt><span>units :</span></dt><dd>degrees_north</dd><dt><span>standard_name :</span></dt><dd>latitude</dd><dt><span>long_name :</span></dt><dd>latitude</dd></dl></div><div class='xr-var-data'><pre>[1905141 values with dtype=float64]</pre></div></li><li class='xr-var-item'><div class='xr-var-name'><span>longitude</span></div><div class='xr-var-dims'>(lat, lon)</div><div class='xr-var-dtype'>float64</div><div class='xr-var-preview xr-preview'>...</div><input id='attrs-f55839a5-d980-46d5-85f8-0b21e4063e1a' class='xr-var-attrs-in' type='checkbox' ><label for='attrs-f55839a5-d980-46d5-85f8-0b21e4063e1a' title='Show/Hide attributes'><svg class='icon xr-icon-file-text2'><use xlink:href='#icon-file-text2'></use></svg></label><input id='data-ba1476b3-f1fd-42c5-a7bf-35e35779627b' class='xr-var-data-in' type='checkbox'><label for='data-ba1476b3-f1fd-42c5-a7bf-35e35779627b' title='Show/Hide data repr'><svg class='icon xr-icon-database'><use xlink:href='#icon-database'></use></svg></label><div class='xr-var-attrs'><dl class='xr-attrs'><dt><span>units :</span></dt><dd>degrees_east</dd><dt><span>standard_name :</span></dt><dd>longitude</dd><dt><span>long_name :</span></dt><dd>longitude</dd></dl></div><div class='xr-var-data'><pre>[1905141 values with dtype=float64]</pre></div></li><li class='xr-var-item'><div class='xr-var-name'><span>valid_time</span></div><div class='xr-var-dims'>()</div><div class='xr-var-dtype'>datetime64[ns]</div><div class='xr-var-preview xr-preview'>...</div><input id='attrs-3f4dc8e5-fdd3-4c5c-97b1-a9cd65938820' class='xr-var-attrs-in' type='checkbox' ><label for='attrs-3f4dc8e5-fdd3-4c5c-97b1-a9cd65938820' title='Show/Hide attributes'><svg class='icon xr-icon-file-text2'><use xlink:href='#icon-file-text2'></use></svg></label><input id='data-bd144ab1-f8d0-4704-872b-ffa9b6646553' class='xr-var-data-in' type='checkbox'><label for='data-bd144ab1-f8d0-4704-872b-ffa9b6646553' title='Show/Hide data repr'><svg class='icon xr-icon-database'><use xlink:href='#icon-database'></use></svg></label><div class='xr-var-attrs'><dl class='xr-attrs'><dt><span>standard_name :</span></dt><dd>time</dd><dt><span>long_name :</span></dt><dd>time</dd></dl></div><div class='xr-var-data'><pre>array(&#x27;2020-08-11T00:00:00.000000000&#x27;, dtype=&#x27;datetime64[ns]&#x27;)</pre></div></li></ul></div></li><li class='xr-section-item'><input id='section-6a4ff779-a44f-4f86-8544-79b39887673d' class='xr-section-summary-in' type='checkbox'  checked><label for='section-6a4ff779-a44f-4f86-8544-79b39887673d' class='xr-section-summary' >Data variables: <span>(6)</span></label><div class='xr-section-inline-details'></div><div class='xr-section-details'><ul class='xr-var-list'><li class='xr-var-item'><div class='xr-var-name'><span>refc</span></div><div class='xr-var-dims'>(lat, lon)</div><div class='xr-var-dtype'>float64</div><div class='xr-var-preview xr-preview'>...</div><input id='attrs-f26a0c73-4322-4097-a911-6b8b51d67c7c' class='xr-var-attrs-in' type='checkbox' ><label for='attrs-f26a0c73-4322-4097-a911-6b8b51d67c7c' title='Show/Hide attributes'><svg class='icon xr-icon-file-text2'><use xlink:href='#icon-file-text2'></use></svg></label><input id='data-c1fba1d7-acca-462f-8f9c-6fb296f7ad0d' class='xr-var-data-in' type='checkbox'><label for='data-c1fba1d7-acca-462f-8f9c-6fb296f7ad0d' title='Show/Hide data repr'><svg class='icon xr-icon-database'><use xlink:href='#icon-database'></use></svg></label><div class='xr-var-attrs'><dl class='xr-attrs'><dt><span>GRIB_paramId :</span></dt><dd>260390</dd><dt><span>GRIB_dataType :</span></dt><dd>fc</dd><dt><span>GRIB_numberOfPoints :</span></dt><dd>1905141</dd><dt><span>GRIB_typeOfLevel :</span></dt><dd>atmosphere</dd><dt><span>GRIB_stepUnits :</span></dt><dd>1</dd><dt><span>GRIB_stepType :</span></dt><dd>instant</dd><dt><span>GRIB_gridType :</span></dt><dd>lambert</dd><dt><span>GRIB_DxInMetres :</span></dt><dd>3000.0</dd><dt><span>GRIB_DyInMetres :</span></dt><dd>3000.0</dd><dt><span>GRIB_LaDInDegrees :</span></dt><dd>38.5</dd><dt><span>GRIB_Latin1InDegrees :</span></dt><dd>38.5</dd><dt><span>GRIB_Latin2InDegrees :</span></dt><dd>38.5</dd><dt><span>GRIB_LoVInDegrees :</span></dt><dd>262.5</dd><dt><span>GRIB_NV :</span></dt><dd>0</dd><dt><span>GRIB_Nx :</span></dt><dd>1799</dd><dt><span>GRIB_Ny :</span></dt><dd>1059</dd><dt><span>GRIB_cfName :</span></dt><dd>unknown</dd><dt><span>GRIB_cfVarName :</span></dt><dd>unknown</dd><dt><span>GRIB_gridDefinitionDescription :</span></dt><dd>Lambert Conformal can be secant or tangent, conical or bipolar</dd><dt><span>GRIB_iScansNegatively :</span></dt><dd>0</dd><dt><span>GRIB_jPointsAreConsecutive :</span></dt><dd>0</dd><dt><span>GRIB_jScansPositively :</span></dt><dd>1</dd><dt><span>GRIB_latitudeOfFirstGridPointInDegrees :</span></dt><dd>21.138123</dd><dt><span>GRIB_latitudeOfSouthernPoleInDegrees :</span></dt><dd>0.0</dd><dt><span>GRIB_longitudeOfFirstGridPointInDegrees :</span></dt><dd>237.280472</dd><dt><span>GRIB_longitudeOfSouthernPoleInDegrees :</span></dt><dd>0.0</dd><dt><span>GRIB_missingValue :</span></dt><dd>9999</dd><dt><span>GRIB_name :</span></dt><dd>Maximum/Composite radar reflectivity</dd><dt><span>GRIB_shortName :</span></dt><dd>refc</dd><dt><span>GRIB_units :</span></dt><dd>dB</dd><dt><span>long_name :</span></dt><dd>Maximum/Composite radar reflectivity</dd><dt><span>units :</span></dt><dd>dB</dd><dt><span>standard_name :</span></dt><dd>unknown</dd></dl></div><div class='xr-var-data'><pre>[1905141 values with dtype=float64]</pre></div></li><li class='xr-var-item'><div class='xr-var-name'><span>veril</span></div><div class='xr-var-dims'>(y, x)</div><div class='xr-var-dtype'>float32</div><div class='xr-var-preview xr-preview'>...</div><input id='attrs-c43eb10d-6fe6-4ccf-81b4-26b5214a8997' class='xr-var-attrs-in' type='checkbox' ><label for='attrs-c43eb10d-6fe6-4ccf-81b4-26b5214a8997' title='Show/Hide attributes'><svg class='icon xr-icon-file-text2'><use xlink:href='#icon-file-text2'></use></svg></label><input id='data-1846684e-2387-4c10-98f9-ff39ba4760ed' class='xr-var-data-in' type='checkbox'><label for='data-1846684e-2387-4c10-98f9-ff39ba4760ed' title='Show/Hide data repr'><svg class='icon xr-icon-database'><use xlink:href='#icon-database'></use></svg></label><div class='xr-var-attrs'><dl class='xr-attrs'><dt><span>GRIB_paramId :</span></dt><dd>260136</dd><dt><span>GRIB_dataType :</span></dt><dd>fc</dd><dt><span>GRIB_numberOfPoints :</span></dt><dd>1905141</dd><dt><span>GRIB_typeOfLevel :</span></dt><dd>atmosphere</dd><dt><span>GRIB_stepUnits :</span></dt><dd>1</dd><dt><span>GRIB_stepType :</span></dt><dd>instant</dd><dt><span>GRIB_gridType :</span></dt><dd>lambert</dd><dt><span>GRIB_DxInMetres :</span></dt><dd>3000.0</dd><dt><span>GRIB_DyInMetres :</span></dt><dd>3000.0</dd><dt><span>GRIB_LaDInDegrees :</span></dt><dd>38.5</dd><dt><span>GRIB_Latin1InDegrees :</span></dt><dd>38.5</dd><dt><span>GRIB_Latin2InDegrees :</span></dt><dd>38.5</dd><dt><span>GRIB_LoVInDegrees :</span></dt><dd>262.5</dd><dt><span>GRIB_NV :</span></dt><dd>0</dd><dt><span>GRIB_Nx :</span></dt><dd>1799</dd><dt><span>GRIB_Ny :</span></dt><dd>1059</dd><dt><span>GRIB_cfName :</span></dt><dd>unknown</dd><dt><span>GRIB_cfVarName :</span></dt><dd>veril</dd><dt><span>GRIB_gridDefinitionDescription :</span></dt><dd>Lambert Conformal can be secant or tangent, conical or bipolar</dd><dt><span>GRIB_iScansNegatively :</span></dt><dd>0</dd><dt><span>GRIB_jPointsAreConsecutive :</span></dt><dd>0</dd><dt><span>GRIB_jScansPositively :</span></dt><dd>1</dd><dt><span>GRIB_latitudeOfFirstGridPointInDegrees :</span></dt><dd>21.138123</dd><dt><span>GRIB_latitudeOfSouthernPoleInDegrees :</span></dt><dd>0.0</dd><dt><span>GRIB_longitudeOfFirstGridPointInDegrees :</span></dt><dd>237.280472</dd><dt><span>GRIB_longitudeOfSouthernPoleInDegrees :</span></dt><dd>0.0</dd><dt><span>GRIB_missingValue :</span></dt><dd>9999</dd><dt><span>GRIB_name :</span></dt><dd>Vertically-integrated liquid</dd><dt><span>GRIB_shortName :</span></dt><dd>veril</dd><dt><span>GRIB_units :</span></dt><dd>kg m**-1</dd><dt><span>long_name :</span></dt><dd>Vertically-integrated liquid</dd><dt><span>units :</span></dt><dd>kg m**-1</dd><dt><span>standard_name :</span></dt><dd>unknown</dd></dl></div><div class='xr-var-data'><pre>[1905141 values with dtype=float32]</pre></div></li><li class='xr-var-item'><div class='xr-var-name'><span>hail</span></div><div class='xr-var-dims'>(y, x)</div><div class='xr-var-dtype'>float32</div><div class='xr-var-preview xr-preview'>...</div><input id='attrs-50f5c5b8-713b-42a6-82cb-89127a65cd8d' class='xr-var-attrs-in' type='checkbox' ><label for='attrs-50f5c5b8-713b-42a6-82cb-89127a65cd8d' title='Show/Hide attributes'><svg class='icon xr-icon-file-text2'><use xlink:href='#icon-file-text2'></use></svg></label><input id='data-afd1ec19-37f1-4f26-86c2-b1f1d7f5b00d' class='xr-var-data-in' type='checkbox'><label for='data-afd1ec19-37f1-4f26-86c2-b1f1d7f5b00d' title='Show/Hide data repr'><svg class='icon xr-icon-database'><use xlink:href='#icon-database'></use></svg></label><div class='xr-var-attrs'><dl class='xr-attrs'><dt><span>GRIB_paramId :</span></dt><dd>260027</dd><dt><span>GRIB_dataType :</span></dt><dd>fc</dd><dt><span>GRIB_numberOfPoints :</span></dt><dd>1905141</dd><dt><span>GRIB_typeOfLevel :</span></dt><dd>atmosphere</dd><dt><span>GRIB_stepUnits :</span></dt><dd>1</dd><dt><span>GRIB_stepType :</span></dt><dd>max</dd><dt><span>GRIB_gridType :</span></dt><dd>lambert</dd><dt><span>GRIB_DxInMetres :</span></dt><dd>3000.0</dd><dt><span>GRIB_DyInMetres :</span></dt><dd>3000.0</dd><dt><span>GRIB_LaDInDegrees :</span></dt><dd>38.5</dd><dt><span>GRIB_Latin1InDegrees :</span></dt><dd>38.5</dd><dt><span>GRIB_Latin2InDegrees :</span></dt><dd>38.5</dd><dt><span>GRIB_LoVInDegrees :</span></dt><dd>262.5</dd><dt><span>GRIB_NV :</span></dt><dd>0</dd><dt><span>GRIB_Nx :</span></dt><dd>1799</dd><dt><span>GRIB_Ny :</span></dt><dd>1059</dd><dt><span>GRIB_cfName :</span></dt><dd>unknown</dd><dt><span>GRIB_cfVarName :</span></dt><dd>hail</dd><dt><span>GRIB_gridDefinitionDescription :</span></dt><dd>Lambert Conformal can be secant or tangent, conical or bipolar</dd><dt><span>GRIB_iScansNegatively :</span></dt><dd>0</dd><dt><span>GRIB_jPointsAreConsecutive :</span></dt><dd>0</dd><dt><span>GRIB_jScansPositively :</span></dt><dd>1</dd><dt><span>GRIB_latitudeOfFirstGridPointInDegrees :</span></dt><dd>21.138123</dd><dt><span>GRIB_latitudeOfSouthernPoleInDegrees :</span></dt><dd>0.0</dd><dt><span>GRIB_longitudeOfFirstGridPointInDegrees :</span></dt><dd>237.280472</dd><dt><span>GRIB_longitudeOfSouthernPoleInDegrees :</span></dt><dd>0.0</dd><dt><span>GRIB_missingValue :</span></dt><dd>9999</dd><dt><span>GRIB_name :</span></dt><dd>Hail</dd><dt><span>GRIB_shortName :</span></dt><dd>hail</dd><dt><span>GRIB_units :</span></dt><dd>m</dd><dt><span>long_name :</span></dt><dd>Hail</dd><dt><span>units :</span></dt><dd>m</dd><dt><span>standard_name :</span></dt><dd>unknown</dd></dl></div><div class='xr-var-data'><pre>[1905141 values with dtype=float32]</pre></div></li><li class='xr-var-item'><div class='xr-var-name'><span>ltng</span></div><div class='xr-var-dims'>(y, x)</div><div class='xr-var-dtype'>float32</div><div class='xr-var-preview xr-preview'>...</div><input id='attrs-388ad363-beff-4bfa-a01a-056d683f62d5' class='xr-var-attrs-in' type='checkbox' ><label for='attrs-388ad363-beff-4bfa-a01a-056d683f62d5' title='Show/Hide attributes'><svg class='icon xr-icon-file-text2'><use xlink:href='#icon-file-text2'></use></svg></label><input id='data-7ee3ad46-c42b-4d61-8282-0df936e3b53a' class='xr-var-data-in' type='checkbox'><label for='data-7ee3ad46-c42b-4d61-8282-0df936e3b53a' title='Show/Hide data repr'><svg class='icon xr-icon-database'><use xlink:href='#icon-database'></use></svg></label><div class='xr-var-attrs'><dl class='xr-attrs'><dt><span>GRIB_paramId :</span></dt><dd>260391</dd><dt><span>GRIB_dataType :</span></dt><dd>fc</dd><dt><span>GRIB_numberOfPoints :</span></dt><dd>1905141</dd><dt><span>GRIB_typeOfLevel :</span></dt><dd>atmosphere</dd><dt><span>GRIB_stepUnits :</span></dt><dd>1</dd><dt><span>GRIB_stepType :</span></dt><dd>instant</dd><dt><span>GRIB_gridType :</span></dt><dd>lambert</dd><dt><span>GRIB_DxInMetres :</span></dt><dd>3000.0</dd><dt><span>GRIB_DyInMetres :</span></dt><dd>3000.0</dd><dt><span>GRIB_LaDInDegrees :</span></dt><dd>38.5</dd><dt><span>GRIB_Latin1InDegrees :</span></dt><dd>38.5</dd><dt><span>GRIB_Latin2InDegrees :</span></dt><dd>38.5</dd><dt><span>GRIB_LoVInDegrees :</span></dt><dd>262.5</dd><dt><span>GRIB_NV :</span></dt><dd>0</dd><dt><span>GRIB_Nx :</span></dt><dd>1799</dd><dt><span>GRIB_Ny :</span></dt><dd>1059</dd><dt><span>GRIB_cfName :</span></dt><dd>unknown</dd><dt><span>GRIB_cfVarName :</span></dt><dd>unknown</dd><dt><span>GRIB_gridDefinitionDescription :</span></dt><dd>Lambert Conformal can be secant or tangent, conical or bipolar</dd><dt><span>GRIB_iScansNegatively :</span></dt><dd>0</dd><dt><span>GRIB_jPointsAreConsecutive :</span></dt><dd>0</dd><dt><span>GRIB_jScansPositively :</span></dt><dd>1</dd><dt><span>GRIB_latitudeOfFirstGridPointInDegrees :</span></dt><dd>21.138123</dd><dt><span>GRIB_latitudeOfSouthernPoleInDegrees :</span></dt><dd>0.0</dd><dt><span>GRIB_longitudeOfFirstGridPointInDegrees :</span></dt><dd>237.280472</dd><dt><span>GRIB_longitudeOfSouthernPoleInDegrees :</span></dt><dd>0.0</dd><dt><span>GRIB_missingValue :</span></dt><dd>9999</dd><dt><span>GRIB_name :</span></dt><dd>Lightning</dd><dt><span>GRIB_shortName :</span></dt><dd>ltng</dd><dt><span>GRIB_units :</span></dt><dd>dimensionless</dd><dt><span>long_name :</span></dt><dd>Lightning</dd><dt><span>units :</span></dt><dd>dimensionless</dd><dt><span>standard_name :</span></dt><dd>unknown</dd></dl></div><div class='xr-var-data'><pre>[1905141 values with dtype=float32]</pre></div></li><li class='xr-var-item'><div class='xr-var-name'><span>tcc</span></div><div class='xr-var-dims'>(y, x)</div><div class='xr-var-dtype'>float32</div><div class='xr-var-preview xr-preview'>...</div><input id='attrs-cc9f609c-aa90-4a54-8f72-b3195ef8bb9a' class='xr-var-attrs-in' type='checkbox' ><label for='attrs-cc9f609c-aa90-4a54-8f72-b3195ef8bb9a' title='Show/Hide attributes'><svg class='icon xr-icon-file-text2'><use xlink:href='#icon-file-text2'></use></svg></label><input id='data-7dfbe284-6c2a-44dd-8075-e2d45391d034' class='xr-var-data-in' type='checkbox'><label for='data-7dfbe284-6c2a-44dd-8075-e2d45391d034' title='Show/Hide data repr'><svg class='icon xr-icon-database'><use xlink:href='#icon-database'></use></svg></label><div class='xr-var-attrs'><dl class='xr-attrs'><dt><span>GRIB_paramId :</span></dt><dd>228164</dd><dt><span>GRIB_dataType :</span></dt><dd>fc</dd><dt><span>GRIB_numberOfPoints :</span></dt><dd>1905141</dd><dt><span>GRIB_typeOfLevel :</span></dt><dd>atmosphere</dd><dt><span>GRIB_stepUnits :</span></dt><dd>1</dd><dt><span>GRIB_stepType :</span></dt><dd>instant</dd><dt><span>GRIB_gridType :</span></dt><dd>lambert</dd><dt><span>GRIB_DxInMetres :</span></dt><dd>3000.0</dd><dt><span>GRIB_DyInMetres :</span></dt><dd>3000.0</dd><dt><span>GRIB_LaDInDegrees :</span></dt><dd>38.5</dd><dt><span>GRIB_Latin1InDegrees :</span></dt><dd>38.5</dd><dt><span>GRIB_Latin2InDegrees :</span></dt><dd>38.5</dd><dt><span>GRIB_LoVInDegrees :</span></dt><dd>262.5</dd><dt><span>GRIB_NV :</span></dt><dd>0</dd><dt><span>GRIB_Nx :</span></dt><dd>1799</dd><dt><span>GRIB_Ny :</span></dt><dd>1059</dd><dt><span>GRIB_cfName :</span></dt><dd>unknown</dd><dt><span>GRIB_cfVarName :</span></dt><dd>unknown</dd><dt><span>GRIB_gridDefinitionDescription :</span></dt><dd>Lambert Conformal can be secant or tangent, conical or bipolar</dd><dt><span>GRIB_iScansNegatively :</span></dt><dd>0</dd><dt><span>GRIB_jPointsAreConsecutive :</span></dt><dd>0</dd><dt><span>GRIB_jScansPositively :</span></dt><dd>1</dd><dt><span>GRIB_latitudeOfFirstGridPointInDegrees :</span></dt><dd>21.138123</dd><dt><span>GRIB_latitudeOfSouthernPoleInDegrees :</span></dt><dd>0.0</dd><dt><span>GRIB_longitudeOfFirstGridPointInDegrees :</span></dt><dd>237.280472</dd><dt><span>GRIB_longitudeOfSouthernPoleInDegrees :</span></dt><dd>0.0</dd><dt><span>GRIB_missingValue :</span></dt><dd>9999</dd><dt><span>GRIB_name :</span></dt><dd>Total Cloud Cover</dd><dt><span>GRIB_shortName :</span></dt><dd>tcc</dd><dt><span>GRIB_units :</span></dt><dd>%</dd><dt><span>long_name :</span></dt><dd>Total Cloud Cover</dd><dt><span>units :</span></dt><dd>%</dd><dt><span>standard_name :</span></dt><dd>unknown</dd></dl></div><div class='xr-var-data'><pre>[1905141 values with dtype=float32]</pre></div></li><li class='xr-var-item'><div class='xr-var-name'><span>unknown</span></div><div class='xr-var-dims'>(y, x)</div><div class='xr-var-dtype'>float32</div><div class='xr-var-preview xr-preview'>...</div><input id='attrs-d5954163-bde0-4111-8cc4-16addbe77c4d' class='xr-var-attrs-in' type='checkbox' ><label for='attrs-d5954163-bde0-4111-8cc4-16addbe77c4d' title='Show/Hide attributes'><svg class='icon xr-icon-file-text2'><use xlink:href='#icon-file-text2'></use></svg></label><input id='data-202fe63f-c2d4-4a20-bd56-70e24bb53bc8' class='xr-var-data-in' type='checkbox'><label for='data-202fe63f-c2d4-4a20-bd56-70e24bb53bc8' title='Show/Hide data repr'><svg class='icon xr-icon-database'><use xlink:href='#icon-database'></use></svg></label><div class='xr-var-attrs'><dl class='xr-attrs'><dt><span>GRIB_paramId :</span></dt><dd>0</dd><dt><span>GRIB_dataType :</span></dt><dd>fc</dd><dt><span>GRIB_numberOfPoints :</span></dt><dd>1905141</dd><dt><span>GRIB_typeOfLevel :</span></dt><dd>atmosphere</dd><dt><span>GRIB_stepUnits :</span></dt><dd>1</dd><dt><span>GRIB_stepType :</span></dt><dd>instant</dd><dt><span>GRIB_gridType :</span></dt><dd>lambert</dd><dt><span>GRIB_DxInMetres :</span></dt><dd>3000.0</dd><dt><span>GRIB_DyInMetres :</span></dt><dd>3000.0</dd><dt><span>GRIB_LaDInDegrees :</span></dt><dd>38.5</dd><dt><span>GRIB_Latin1InDegrees :</span></dt><dd>38.5</dd><dt><span>GRIB_Latin2InDegrees :</span></dt><dd>38.5</dd><dt><span>GRIB_LoVInDegrees :</span></dt><dd>262.5</dd><dt><span>GRIB_NV :</span></dt><dd>0</dd><dt><span>GRIB_Nx :</span></dt><dd>1799</dd><dt><span>GRIB_Ny :</span></dt><dd>1059</dd><dt><span>GRIB_cfName :</span></dt><dd>unknown</dd><dt><span>GRIB_cfVarName :</span></dt><dd>unknown</dd><dt><span>GRIB_gridDefinitionDescription :</span></dt><dd>Lambert Conformal can be secant or tangent, conical or bipolar</dd><dt><span>GRIB_iScansNegatively :</span></dt><dd>0</dd><dt><span>GRIB_jPointsAreConsecutive :</span></dt><dd>0</dd><dt><span>GRIB_jScansPositively :</span></dt><dd>1</dd><dt><span>GRIB_latitudeOfFirstGridPointInDegrees :</span></dt><dd>21.138123</dd><dt><span>GRIB_latitudeOfSouthernPoleInDegrees :</span></dt><dd>0.0</dd><dt><span>GRIB_longitudeOfFirstGridPointInDegrees :</span></dt><dd>237.280472</dd><dt><span>GRIB_longitudeOfSouthernPoleInDegrees :</span></dt><dd>0.0</dd><dt><span>GRIB_missingValue :</span></dt><dd>9999</dd><dt><span>GRIB_name :</span></dt><dd>unknown</dd><dt><span>GRIB_shortName :</span></dt><dd>unknown</dd><dt><span>GRIB_units :</span></dt><dd>unknown</dd><dt><span>long_name :</span></dt><dd>unknown</dd><dt><span>units :</span></dt><dd>unknown</dd><dt><span>standard_name :</span></dt><dd>unknown</dd></dl></div><div class='xr-var-data'><pre>[1905141 values with dtype=float32]</pre></div></li></ul></div></li><li class='xr-section-item'><input id='section-8ae2d03d-3866-46cb-b5a7-01592ff15b70' class='xr-section-summary-in' type='checkbox'  checked><label for='section-8ae2d03d-3866-46cb-b5a7-01592ff15b70' class='xr-section-summary' >Attributes: <span>(7)</span></label><div class='xr-section-inline-details'></div><div class='xr-section-details'><dl class='xr-attrs'><dt><span>GRIB_edition :</span></dt><dd>2</dd><dt><span>GRIB_centre :</span></dt><dd>kwbc</dd><dt><span>GRIB_centreDescription :</span></dt><dd>US National Weather Service - NCEP</dd><dt><span>GRIB_subCentre :</span></dt><dd>0</dd><dt><span>Conventions :</span></dt><dd>CF-1.7</dd><dt><span>institution :</span></dt><dd>US National Weather Service - NCEP</dd><dt><span>history :</span></dt><dd>2023-01-26T16:00 GRIB to CDM+CF via cfgrib-0.9.9.1/ecCodes-2.27.1 with {&quot;source&quot;: &quot;/lcrc/project/rainfall/jcorner/MODE_data/202008110000/hrrr_t20200810T0000z_wrfsfcf24.grib2&quot;, &quot;filter_by_keys&quot;: {&quot;typeOfLevel&quot;: &quot;atmosphere&quot;}, &quot;encode_cf&quot;: [&quot;parameter&quot;, &quot;time&quot;, &quot;geography&quot;, &quot;vertical&quot;]}</dd></dl></div></li></ul></div></div>"
      ],
      "text/plain": [
       "<xarray.Dataset>\n",
       "Dimensions:     (lat: 1059, lon: 1799, y: 1059, x: 1799)\n",
       "Coordinates:\n",
       "    time        datetime64[ns] ...\n",
       "    step        timedelta64[ns] ...\n",
       "    atmosphere  float64 ...\n",
       "    latitude    (lat, lon) float64 ...\n",
       "    longitude   (lat, lon) float64 ...\n",
       "    valid_time  datetime64[ns] ...\n",
       "Dimensions without coordinates: lat, lon, y, x\n",
       "Data variables:\n",
       "    refc        (lat, lon) float64 ...\n",
       "    veril       (y, x) float32 ...\n",
       "    hail        (y, x) float32 ...\n",
       "    ltng        (y, x) float32 ...\n",
       "    tcc         (y, x) float32 ...\n",
       "    unknown     (y, x) float32 ...\n",
       "Attributes:\n",
       "    GRIB_edition:            2\n",
       "    GRIB_centre:             kwbc\n",
       "    GRIB_centreDescription:  US National Weather Service - NCEP\n",
       "    GRIB_subCentre:          0\n",
       "    Conventions:             CF-1.7\n",
       "    institution:             US National Weather Service - NCEP\n",
       "    history:                 2023-01-26T16:00 GRIB to CDM+CF via cfgrib-0.9.9..."
      ]
     },
     "execution_count": 7,
     "metadata": {},
     "output_type": "execute_result"
    }
   ],
   "source": [
    "test = xr.open_dataset(f'/lcrc/project/rainfall/jcorner/MODE_data/{datetime_object.year}0{datetime_object.month}{str(datetime_object.day).zfill(2)}0000/{modes}/hrrr_t2020{str(i[0]).zfill(2)}{str(i[1]).zfill(2)}T{str(i[2]).zfill(2)}00z_wrfsfcf{str(i[3]).zfill(2)}.nc4')\n",
    "test"
   ]
  },
  {
   "cell_type": "code",
   "execution_count": 26,
   "id": "d0e9c28e",
   "metadata": {},
   "outputs": [
    {
     "data": {
      "text/html": [
       "<div><svg style=\"position: absolute; width: 0; height: 0; overflow: hidden\">\n",
       "<defs>\n",
       "<symbol id=\"icon-database\" viewBox=\"0 0 32 32\">\n",
       "<path d=\"M16 0c-8.837 0-16 2.239-16 5v4c0 2.761 7.163 5 16 5s16-2.239 16-5v-4c0-2.761-7.163-5-16-5z\"></path>\n",
       "<path d=\"M16 17c-8.837 0-16-2.239-16-5v6c0 2.761 7.163 5 16 5s16-2.239 16-5v-6c0 2.761-7.163 5-16 5z\"></path>\n",
       "<path d=\"M16 26c-8.837 0-16-2.239-16-5v6c0 2.761 7.163 5 16 5s16-2.239 16-5v-6c0 2.761-7.163 5-16 5z\"></path>\n",
       "</symbol>\n",
       "<symbol id=\"icon-file-text2\" viewBox=\"0 0 32 32\">\n",
       "<path d=\"M28.681 7.159c-0.694-0.947-1.662-2.053-2.724-3.116s-2.169-2.030-3.116-2.724c-1.612-1.182-2.393-1.319-2.841-1.319h-15.5c-1.378 0-2.5 1.121-2.5 2.5v27c0 1.378 1.122 2.5 2.5 2.5h23c1.378 0 2.5-1.122 2.5-2.5v-19.5c0-0.448-0.137-1.23-1.319-2.841zM24.543 5.457c0.959 0.959 1.712 1.825 2.268 2.543h-4.811v-4.811c0.718 0.556 1.584 1.309 2.543 2.268zM28 29.5c0 0.271-0.229 0.5-0.5 0.5h-23c-0.271 0-0.5-0.229-0.5-0.5v-27c0-0.271 0.229-0.5 0.5-0.5 0 0 15.499-0 15.5 0v7c0 0.552 0.448 1 1 1h7v19.5z\"></path>\n",
       "<path d=\"M23 26h-14c-0.552 0-1-0.448-1-1s0.448-1 1-1h14c0.552 0 1 0.448 1 1s-0.448 1-1 1z\"></path>\n",
       "<path d=\"M23 22h-14c-0.552 0-1-0.448-1-1s0.448-1 1-1h14c0.552 0 1 0.448 1 1s-0.448 1-1 1z\"></path>\n",
       "<path d=\"M23 18h-14c-0.552 0-1-0.448-1-1s0.448-1 1-1h14c0.552 0 1 0.448 1 1s-0.448 1-1 1z\"></path>\n",
       "</symbol>\n",
       "</defs>\n",
       "</svg>\n",
       "<style>/* CSS stylesheet for displaying xarray objects in jupyterlab.\n",
       " *\n",
       " */\n",
       "\n",
       ":root {\n",
       "  --xr-font-color0: var(--jp-content-font-color0, rgba(0, 0, 0, 1));\n",
       "  --xr-font-color2: var(--jp-content-font-color2, rgba(0, 0, 0, 0.54));\n",
       "  --xr-font-color3: var(--jp-content-font-color3, rgba(0, 0, 0, 0.38));\n",
       "  --xr-border-color: var(--jp-border-color2, #e0e0e0);\n",
       "  --xr-disabled-color: var(--jp-layout-color3, #bdbdbd);\n",
       "  --xr-background-color: var(--jp-layout-color0, white);\n",
       "  --xr-background-color-row-even: var(--jp-layout-color1, white);\n",
       "  --xr-background-color-row-odd: var(--jp-layout-color2, #eeeeee);\n",
       "}\n",
       "\n",
       "html[theme=dark],\n",
       "body.vscode-dark {\n",
       "  --xr-font-color0: rgba(255, 255, 255, 1);\n",
       "  --xr-font-color2: rgba(255, 255, 255, 0.54);\n",
       "  --xr-font-color3: rgba(255, 255, 255, 0.38);\n",
       "  --xr-border-color: #1F1F1F;\n",
       "  --xr-disabled-color: #515151;\n",
       "  --xr-background-color: #111111;\n",
       "  --xr-background-color-row-even: #111111;\n",
       "  --xr-background-color-row-odd: #313131;\n",
       "}\n",
       "\n",
       ".xr-wrap {\n",
       "  display: block;\n",
       "  min-width: 300px;\n",
       "  max-width: 700px;\n",
       "}\n",
       "\n",
       ".xr-text-repr-fallback {\n",
       "  /* fallback to plain text repr when CSS is not injected (untrusted notebook) */\n",
       "  display: none;\n",
       "}\n",
       "\n",
       ".xr-header {\n",
       "  padding-top: 6px;\n",
       "  padding-bottom: 6px;\n",
       "  margin-bottom: 4px;\n",
       "  border-bottom: solid 1px var(--xr-border-color);\n",
       "}\n",
       "\n",
       ".xr-header > div,\n",
       ".xr-header > ul {\n",
       "  display: inline;\n",
       "  margin-top: 0;\n",
       "  margin-bottom: 0;\n",
       "}\n",
       "\n",
       ".xr-obj-type,\n",
       ".xr-array-name {\n",
       "  margin-left: 2px;\n",
       "  margin-right: 10px;\n",
       "}\n",
       "\n",
       ".xr-obj-type {\n",
       "  color: var(--xr-font-color2);\n",
       "}\n",
       "\n",
       ".xr-sections {\n",
       "  padding-left: 0 !important;\n",
       "  display: grid;\n",
       "  grid-template-columns: 150px auto auto 1fr 20px 20px;\n",
       "}\n",
       "\n",
       ".xr-section-item {\n",
       "  display: contents;\n",
       "}\n",
       "\n",
       ".xr-section-item input {\n",
       "  display: none;\n",
       "}\n",
       "\n",
       ".xr-section-item input + label {\n",
       "  color: var(--xr-disabled-color);\n",
       "}\n",
       "\n",
       ".xr-section-item input:enabled + label {\n",
       "  cursor: pointer;\n",
       "  color: var(--xr-font-color2);\n",
       "}\n",
       "\n",
       ".xr-section-item input:enabled + label:hover {\n",
       "  color: var(--xr-font-color0);\n",
       "}\n",
       "\n",
       ".xr-section-summary {\n",
       "  grid-column: 1;\n",
       "  color: var(--xr-font-color2);\n",
       "  font-weight: 500;\n",
       "}\n",
       "\n",
       ".xr-section-summary > span {\n",
       "  display: inline-block;\n",
       "  padding-left: 0.5em;\n",
       "}\n",
       "\n",
       ".xr-section-summary-in:disabled + label {\n",
       "  color: var(--xr-font-color2);\n",
       "}\n",
       "\n",
       ".xr-section-summary-in + label:before {\n",
       "  display: inline-block;\n",
       "  content: '►';\n",
       "  font-size: 11px;\n",
       "  width: 15px;\n",
       "  text-align: center;\n",
       "}\n",
       "\n",
       ".xr-section-summary-in:disabled + label:before {\n",
       "  color: var(--xr-disabled-color);\n",
       "}\n",
       "\n",
       ".xr-section-summary-in:checked + label:before {\n",
       "  content: '▼';\n",
       "}\n",
       "\n",
       ".xr-section-summary-in:checked + label > span {\n",
       "  display: none;\n",
       "}\n",
       "\n",
       ".xr-section-summary,\n",
       ".xr-section-inline-details {\n",
       "  padding-top: 4px;\n",
       "  padding-bottom: 4px;\n",
       "}\n",
       "\n",
       ".xr-section-inline-details {\n",
       "  grid-column: 2 / -1;\n",
       "}\n",
       "\n",
       ".xr-section-details {\n",
       "  display: none;\n",
       "  grid-column: 1 / -1;\n",
       "  margin-bottom: 5px;\n",
       "}\n",
       "\n",
       ".xr-section-summary-in:checked ~ .xr-section-details {\n",
       "  display: contents;\n",
       "}\n",
       "\n",
       ".xr-array-wrap {\n",
       "  grid-column: 1 / -1;\n",
       "  display: grid;\n",
       "  grid-template-columns: 20px auto;\n",
       "}\n",
       "\n",
       ".xr-array-wrap > label {\n",
       "  grid-column: 1;\n",
       "  vertical-align: top;\n",
       "}\n",
       "\n",
       ".xr-preview {\n",
       "  color: var(--xr-font-color3);\n",
       "}\n",
       "\n",
       ".xr-array-preview,\n",
       ".xr-array-data {\n",
       "  padding: 0 5px !important;\n",
       "  grid-column: 2;\n",
       "}\n",
       "\n",
       ".xr-array-data,\n",
       ".xr-array-in:checked ~ .xr-array-preview {\n",
       "  display: none;\n",
       "}\n",
       "\n",
       ".xr-array-in:checked ~ .xr-array-data,\n",
       ".xr-array-preview {\n",
       "  display: inline-block;\n",
       "}\n",
       "\n",
       ".xr-dim-list {\n",
       "  display: inline-block !important;\n",
       "  list-style: none;\n",
       "  padding: 0 !important;\n",
       "  margin: 0;\n",
       "}\n",
       "\n",
       ".xr-dim-list li {\n",
       "  display: inline-block;\n",
       "  padding: 0;\n",
       "  margin: 0;\n",
       "}\n",
       "\n",
       ".xr-dim-list:before {\n",
       "  content: '(';\n",
       "}\n",
       "\n",
       ".xr-dim-list:after {\n",
       "  content: ')';\n",
       "}\n",
       "\n",
       ".xr-dim-list li:not(:last-child):after {\n",
       "  content: ',';\n",
       "  padding-right: 5px;\n",
       "}\n",
       "\n",
       ".xr-has-index {\n",
       "  font-weight: bold;\n",
       "}\n",
       "\n",
       ".xr-var-list,\n",
       ".xr-var-item {\n",
       "  display: contents;\n",
       "}\n",
       "\n",
       ".xr-var-item > div,\n",
       ".xr-var-item label,\n",
       ".xr-var-item > .xr-var-name span {\n",
       "  background-color: var(--xr-background-color-row-even);\n",
       "  margin-bottom: 0;\n",
       "}\n",
       "\n",
       ".xr-var-item > .xr-var-name:hover span {\n",
       "  padding-right: 5px;\n",
       "}\n",
       "\n",
       ".xr-var-list > li:nth-child(odd) > div,\n",
       ".xr-var-list > li:nth-child(odd) > label,\n",
       ".xr-var-list > li:nth-child(odd) > .xr-var-name span {\n",
       "  background-color: var(--xr-background-color-row-odd);\n",
       "}\n",
       "\n",
       ".xr-var-name {\n",
       "  grid-column: 1;\n",
       "}\n",
       "\n",
       ".xr-var-dims {\n",
       "  grid-column: 2;\n",
       "}\n",
       "\n",
       ".xr-var-dtype {\n",
       "  grid-column: 3;\n",
       "  text-align: right;\n",
       "  color: var(--xr-font-color2);\n",
       "}\n",
       "\n",
       ".xr-var-preview {\n",
       "  grid-column: 4;\n",
       "}\n",
       "\n",
       ".xr-var-name,\n",
       ".xr-var-dims,\n",
       ".xr-var-dtype,\n",
       ".xr-preview,\n",
       ".xr-attrs dt {\n",
       "  white-space: nowrap;\n",
       "  overflow: hidden;\n",
       "  text-overflow: ellipsis;\n",
       "  padding-right: 10px;\n",
       "}\n",
       "\n",
       ".xr-var-name:hover,\n",
       ".xr-var-dims:hover,\n",
       ".xr-var-dtype:hover,\n",
       ".xr-attrs dt:hover {\n",
       "  overflow: visible;\n",
       "  width: auto;\n",
       "  z-index: 1;\n",
       "}\n",
       "\n",
       ".xr-var-attrs,\n",
       ".xr-var-data {\n",
       "  display: none;\n",
       "  background-color: var(--xr-background-color) !important;\n",
       "  padding-bottom: 5px !important;\n",
       "}\n",
       "\n",
       ".xr-var-attrs-in:checked ~ .xr-var-attrs,\n",
       ".xr-var-data-in:checked ~ .xr-var-data {\n",
       "  display: block;\n",
       "}\n",
       "\n",
       ".xr-var-data > table {\n",
       "  float: right;\n",
       "}\n",
       "\n",
       ".xr-var-name span,\n",
       ".xr-var-data,\n",
       ".xr-attrs {\n",
       "  padding-left: 25px !important;\n",
       "}\n",
       "\n",
       ".xr-attrs,\n",
       ".xr-var-attrs,\n",
       ".xr-var-data {\n",
       "  grid-column: 1 / -1;\n",
       "}\n",
       "\n",
       "dl.xr-attrs {\n",
       "  padding: 0;\n",
       "  margin: 0;\n",
       "  display: grid;\n",
       "  grid-template-columns: 125px auto;\n",
       "}\n",
       "\n",
       ".xr-attrs dt,\n",
       ".xr-attrs dd {\n",
       "  padding: 0;\n",
       "  margin: 0;\n",
       "  float: left;\n",
       "  padding-right: 10px;\n",
       "  width: auto;\n",
       "}\n",
       "\n",
       ".xr-attrs dt {\n",
       "  font-weight: normal;\n",
       "  grid-column: 1;\n",
       "}\n",
       "\n",
       ".xr-attrs dt:hover span {\n",
       "  display: inline-block;\n",
       "  background: var(--xr-background-color);\n",
       "  padding-right: 10px;\n",
       "}\n",
       "\n",
       ".xr-attrs dd {\n",
       "  grid-column: 2;\n",
       "  white-space: pre-wrap;\n",
       "  word-break: break-all;\n",
       "}\n",
       "\n",
       ".xr-icon-database,\n",
       ".xr-icon-file-text2 {\n",
       "  display: inline-block;\n",
       "  vertical-align: middle;\n",
       "  width: 1em;\n",
       "  height: 1.5em !important;\n",
       "  stroke-width: 0;\n",
       "  stroke: currentColor;\n",
       "  fill: currentColor;\n",
       "}\n",
       "</style><pre class='xr-text-repr-fallback'>&lt;xarray.Dataset&gt;\n",
       "Dimensions:     (y: 1059, x: 1799)\n",
       "Coordinates:\n",
       "    time        datetime64[ns] 2014-07-30T18:00:00\n",
       "    step        timedelta64[ns] 00:30:00\n",
       "    atmosphere  float64 0.0\n",
       "    latitude    (y, x) float64 ...\n",
       "    longitude   (y, x) float64 ...\n",
       "    valid_time  datetime64[ns] 2014-07-30T18:30:00\n",
       "Dimensions without coordinates: y, x\n",
       "Data variables:\n",
       "    refc        (y, x) float32 ...\n",
       "    veril       (y, x) float32 ...\n",
       "Attributes:\n",
       "    GRIB_edition:            2\n",
       "    GRIB_centre:             kwbc\n",
       "    GRIB_centreDescription:  US National Weather Service - NCEP\n",
       "    GRIB_subCentre:          0\n",
       "    Conventions:             CF-1.7\n",
       "    institution:             US National Weather Service - NCEP\n",
       "    history:                 2023-01-26T16:39 GRIB to CDM+CF via cfgrib-0.9.9...</pre><div class='xr-wrap' hidden><div class='xr-header'><div class='xr-obj-type'>xarray.Dataset</div></div><ul class='xr-sections'><li class='xr-section-item'><input id='section-c2248eba-cec1-41be-b452-a3db4493e185' class='xr-section-summary-in' type='checkbox' disabled ><label for='section-c2248eba-cec1-41be-b452-a3db4493e185' class='xr-section-summary'  title='Expand/collapse section'>Dimensions:</label><div class='xr-section-inline-details'><ul class='xr-dim-list'><li><span>y</span>: 1059</li><li><span>x</span>: 1799</li></ul></div><div class='xr-section-details'></div></li><li class='xr-section-item'><input id='section-09f1b3ad-324e-4f2f-bbb4-5252e6e658a6' class='xr-section-summary-in' type='checkbox'  checked><label for='section-09f1b3ad-324e-4f2f-bbb4-5252e6e658a6' class='xr-section-summary' >Coordinates: <span>(6)</span></label><div class='xr-section-inline-details'></div><div class='xr-section-details'><ul class='xr-var-list'><li class='xr-var-item'><div class='xr-var-name'><span>time</span></div><div class='xr-var-dims'>()</div><div class='xr-var-dtype'>datetime64[ns]</div><div class='xr-var-preview xr-preview'>...</div><input id='attrs-d3747de7-026d-4f1d-8060-6a9df413eed8' class='xr-var-attrs-in' type='checkbox' ><label for='attrs-d3747de7-026d-4f1d-8060-6a9df413eed8' title='Show/Hide attributes'><svg class='icon xr-icon-file-text2'><use xlink:href='#icon-file-text2'></use></svg></label><input id='data-f8aa5031-4890-43e6-bf63-8d297f0780a6' class='xr-var-data-in' type='checkbox'><label for='data-f8aa5031-4890-43e6-bf63-8d297f0780a6' title='Show/Hide data repr'><svg class='icon xr-icon-database'><use xlink:href='#icon-database'></use></svg></label><div class='xr-var-attrs'><dl class='xr-attrs'><dt><span>long_name :</span></dt><dd>initial time of forecast</dd><dt><span>standard_name :</span></dt><dd>forecast_reference_time</dd></dl></div><div class='xr-var-data'><pre>array(&#x27;2014-07-30T18:00:00.000000000&#x27;, dtype=&#x27;datetime64[ns]&#x27;)</pre></div></li><li class='xr-var-item'><div class='xr-var-name'><span>step</span></div><div class='xr-var-dims'>()</div><div class='xr-var-dtype'>timedelta64[ns]</div><div class='xr-var-preview xr-preview'>...</div><input id='attrs-69fd4ccb-03d9-4aaa-9509-c99063c58e6c' class='xr-var-attrs-in' type='checkbox' ><label for='attrs-69fd4ccb-03d9-4aaa-9509-c99063c58e6c' title='Show/Hide attributes'><svg class='icon xr-icon-file-text2'><use xlink:href='#icon-file-text2'></use></svg></label><input id='data-eb4989ab-df61-4852-a91b-66cc508a8bd0' class='xr-var-data-in' type='checkbox'><label for='data-eb4989ab-df61-4852-a91b-66cc508a8bd0' title='Show/Hide data repr'><svg class='icon xr-icon-database'><use xlink:href='#icon-database'></use></svg></label><div class='xr-var-attrs'><dl class='xr-attrs'><dt><span>long_name :</span></dt><dd>time since forecast_reference_time</dd><dt><span>standard_name :</span></dt><dd>forecast_period</dd></dl></div><div class='xr-var-data'><pre>array(1800000000000, dtype=&#x27;timedelta64[ns]&#x27;)</pre></div></li><li class='xr-var-item'><div class='xr-var-name'><span>atmosphere</span></div><div class='xr-var-dims'>()</div><div class='xr-var-dtype'>float64</div><div class='xr-var-preview xr-preview'>...</div><input id='attrs-69a94933-a689-41ea-9879-c6cfb51b4ad9' class='xr-var-attrs-in' type='checkbox' ><label for='attrs-69a94933-a689-41ea-9879-c6cfb51b4ad9' title='Show/Hide attributes'><svg class='icon xr-icon-file-text2'><use xlink:href='#icon-file-text2'></use></svg></label><input id='data-41f7f405-1a04-4097-a9b4-37942dde42d5' class='xr-var-data-in' type='checkbox'><label for='data-41f7f405-1a04-4097-a9b4-37942dde42d5' title='Show/Hide data repr'><svg class='icon xr-icon-database'><use xlink:href='#icon-database'></use></svg></label><div class='xr-var-attrs'><dl class='xr-attrs'><dt><span>long_name :</span></dt><dd>original GRIB coordinate for key: level(atmosphere)</dd><dt><span>units :</span></dt><dd>1</dd></dl></div><div class='xr-var-data'><pre>array(0.)</pre></div></li><li class='xr-var-item'><div class='xr-var-name'><span>latitude</span></div><div class='xr-var-dims'>(y, x)</div><div class='xr-var-dtype'>float64</div><div class='xr-var-preview xr-preview'>...</div><input id='attrs-c1daf9ca-fed3-4bbc-b766-e1806f024e2f' class='xr-var-attrs-in' type='checkbox' ><label for='attrs-c1daf9ca-fed3-4bbc-b766-e1806f024e2f' title='Show/Hide attributes'><svg class='icon xr-icon-file-text2'><use xlink:href='#icon-file-text2'></use></svg></label><input id='data-7a47183b-81c4-4d9b-896c-5fafa5bb125d' class='xr-var-data-in' type='checkbox'><label for='data-7a47183b-81c4-4d9b-896c-5fafa5bb125d' title='Show/Hide data repr'><svg class='icon xr-icon-database'><use xlink:href='#icon-database'></use></svg></label><div class='xr-var-attrs'><dl class='xr-attrs'><dt><span>units :</span></dt><dd>degrees_north</dd><dt><span>standard_name :</span></dt><dd>latitude</dd><dt><span>long_name :</span></dt><dd>latitude</dd></dl></div><div class='xr-var-data'><pre>[1905141 values with dtype=float64]</pre></div></li><li class='xr-var-item'><div class='xr-var-name'><span>longitude</span></div><div class='xr-var-dims'>(y, x)</div><div class='xr-var-dtype'>float64</div><div class='xr-var-preview xr-preview'>...</div><input id='attrs-fc46fe90-83d2-4f35-97c4-c469814e46b3' class='xr-var-attrs-in' type='checkbox' ><label for='attrs-fc46fe90-83d2-4f35-97c4-c469814e46b3' title='Show/Hide attributes'><svg class='icon xr-icon-file-text2'><use xlink:href='#icon-file-text2'></use></svg></label><input id='data-8c7c9788-3cff-45e0-b968-70bd8f8678d5' class='xr-var-data-in' type='checkbox'><label for='data-8c7c9788-3cff-45e0-b968-70bd8f8678d5' title='Show/Hide data repr'><svg class='icon xr-icon-database'><use xlink:href='#icon-database'></use></svg></label><div class='xr-var-attrs'><dl class='xr-attrs'><dt><span>units :</span></dt><dd>degrees_east</dd><dt><span>standard_name :</span></dt><dd>longitude</dd><dt><span>long_name :</span></dt><dd>longitude</dd></dl></div><div class='xr-var-data'><pre>[1905141 values with dtype=float64]</pre></div></li><li class='xr-var-item'><div class='xr-var-name'><span>valid_time</span></div><div class='xr-var-dims'>()</div><div class='xr-var-dtype'>datetime64[ns]</div><div class='xr-var-preview xr-preview'>...</div><input id='attrs-18c4c29b-3952-4763-9a98-8baf31356ff1' class='xr-var-attrs-in' type='checkbox' ><label for='attrs-18c4c29b-3952-4763-9a98-8baf31356ff1' title='Show/Hide attributes'><svg class='icon xr-icon-file-text2'><use xlink:href='#icon-file-text2'></use></svg></label><input id='data-4ba8f535-fe25-48e2-b09c-54ba057f70a4' class='xr-var-data-in' type='checkbox'><label for='data-4ba8f535-fe25-48e2-b09c-54ba057f70a4' title='Show/Hide data repr'><svg class='icon xr-icon-database'><use xlink:href='#icon-database'></use></svg></label><div class='xr-var-attrs'><dl class='xr-attrs'><dt><span>standard_name :</span></dt><dd>time</dd><dt><span>long_name :</span></dt><dd>time</dd></dl></div><div class='xr-var-data'><pre>array(&#x27;2014-07-30T18:30:00.000000000&#x27;, dtype=&#x27;datetime64[ns]&#x27;)</pre></div></li></ul></div></li><li class='xr-section-item'><input id='section-ee8d2059-31e3-4d36-8e81-cd8558f90312' class='xr-section-summary-in' type='checkbox'  checked><label for='section-ee8d2059-31e3-4d36-8e81-cd8558f90312' class='xr-section-summary' >Data variables: <span>(2)</span></label><div class='xr-section-inline-details'></div><div class='xr-section-details'><ul class='xr-var-list'><li class='xr-var-item'><div class='xr-var-name'><span>refc</span></div><div class='xr-var-dims'>(y, x)</div><div class='xr-var-dtype'>float32</div><div class='xr-var-preview xr-preview'>...</div><input id='attrs-5247446d-1dec-481a-890e-30dc276bfd4e' class='xr-var-attrs-in' type='checkbox' ><label for='attrs-5247446d-1dec-481a-890e-30dc276bfd4e' title='Show/Hide attributes'><svg class='icon xr-icon-file-text2'><use xlink:href='#icon-file-text2'></use></svg></label><input id='data-39b8be09-e96f-46ed-9264-e079e038b696' class='xr-var-data-in' type='checkbox'><label for='data-39b8be09-e96f-46ed-9264-e079e038b696' title='Show/Hide data repr'><svg class='icon xr-icon-database'><use xlink:href='#icon-database'></use></svg></label><div class='xr-var-attrs'><dl class='xr-attrs'><dt><span>GRIB_paramId :</span></dt><dd>260390</dd><dt><span>GRIB_dataType :</span></dt><dd>fc</dd><dt><span>GRIB_numberOfPoints :</span></dt><dd>1905141</dd><dt><span>GRIB_typeOfLevel :</span></dt><dd>atmosphere</dd><dt><span>GRIB_stepUnits :</span></dt><dd>0</dd><dt><span>GRIB_stepType :</span></dt><dd>instant</dd><dt><span>GRIB_gridType :</span></dt><dd>lambert</dd><dt><span>GRIB_DxInMetres :</span></dt><dd>3000.0</dd><dt><span>GRIB_DyInMetres :</span></dt><dd>3000.0</dd><dt><span>GRIB_LaDInDegrees :</span></dt><dd>38.5</dd><dt><span>GRIB_Latin1InDegrees :</span></dt><dd>38.5</dd><dt><span>GRIB_Latin2InDegrees :</span></dt><dd>38.5</dd><dt><span>GRIB_LoVInDegrees :</span></dt><dd>262.5</dd><dt><span>GRIB_NV :</span></dt><dd>0</dd><dt><span>GRIB_Nx :</span></dt><dd>1799</dd><dt><span>GRIB_Ny :</span></dt><dd>1059</dd><dt><span>GRIB_cfName :</span></dt><dd>unknown</dd><dt><span>GRIB_cfVarName :</span></dt><dd>unknown</dd><dt><span>GRIB_gridDefinitionDescription :</span></dt><dd>Lambert Conformal can be secant or tangent, conical or bipolar</dd><dt><span>GRIB_iScansNegatively :</span></dt><dd>0</dd><dt><span>GRIB_jPointsAreConsecutive :</span></dt><dd>0</dd><dt><span>GRIB_jScansPositively :</span></dt><dd>1</dd><dt><span>GRIB_latitudeOfFirstGridPointInDegrees :</span></dt><dd>21.138</dd><dt><span>GRIB_latitudeOfSouthernPoleInDegrees :</span></dt><dd>0.0</dd><dt><span>GRIB_longitudeOfFirstGridPointInDegrees :</span></dt><dd>237.28</dd><dt><span>GRIB_longitudeOfSouthernPoleInDegrees :</span></dt><dd>0.0</dd><dt><span>GRIB_missingValue :</span></dt><dd>9999</dd><dt><span>GRIB_name :</span></dt><dd>Maximum/Composite radar reflectivity</dd><dt><span>GRIB_shortName :</span></dt><dd>refc</dd><dt><span>GRIB_units :</span></dt><dd>dB</dd><dt><span>long_name :</span></dt><dd>Maximum/Composite radar reflectivity</dd><dt><span>units :</span></dt><dd>dB</dd><dt><span>standard_name :</span></dt><dd>unknown</dd></dl></div><div class='xr-var-data'><pre>[1905141 values with dtype=float32]</pre></div></li><li class='xr-var-item'><div class='xr-var-name'><span>veril</span></div><div class='xr-var-dims'>(y, x)</div><div class='xr-var-dtype'>float32</div><div class='xr-var-preview xr-preview'>...</div><input id='attrs-8796f0fb-4ecc-4356-9a0f-631c90a99cbb' class='xr-var-attrs-in' type='checkbox' ><label for='attrs-8796f0fb-4ecc-4356-9a0f-631c90a99cbb' title='Show/Hide attributes'><svg class='icon xr-icon-file-text2'><use xlink:href='#icon-file-text2'></use></svg></label><input id='data-b223c47e-157f-4a34-bb67-89f94cb33850' class='xr-var-data-in' type='checkbox'><label for='data-b223c47e-157f-4a34-bb67-89f94cb33850' title='Show/Hide data repr'><svg class='icon xr-icon-database'><use xlink:href='#icon-database'></use></svg></label><div class='xr-var-attrs'><dl class='xr-attrs'><dt><span>GRIB_paramId :</span></dt><dd>260136</dd><dt><span>GRIB_dataType :</span></dt><dd>fc</dd><dt><span>GRIB_numberOfPoints :</span></dt><dd>1905141</dd><dt><span>GRIB_typeOfLevel :</span></dt><dd>atmosphere</dd><dt><span>GRIB_stepUnits :</span></dt><dd>0</dd><dt><span>GRIB_stepType :</span></dt><dd>instant</dd><dt><span>GRIB_gridType :</span></dt><dd>lambert</dd><dt><span>GRIB_DxInMetres :</span></dt><dd>3000.0</dd><dt><span>GRIB_DyInMetres :</span></dt><dd>3000.0</dd><dt><span>GRIB_LaDInDegrees :</span></dt><dd>38.5</dd><dt><span>GRIB_Latin1InDegrees :</span></dt><dd>38.5</dd><dt><span>GRIB_Latin2InDegrees :</span></dt><dd>38.5</dd><dt><span>GRIB_LoVInDegrees :</span></dt><dd>262.5</dd><dt><span>GRIB_NV :</span></dt><dd>0</dd><dt><span>GRIB_Nx :</span></dt><dd>1799</dd><dt><span>GRIB_Ny :</span></dt><dd>1059</dd><dt><span>GRIB_cfName :</span></dt><dd>unknown</dd><dt><span>GRIB_cfVarName :</span></dt><dd>veril</dd><dt><span>GRIB_gridDefinitionDescription :</span></dt><dd>Lambert Conformal can be secant or tangent, conical or bipolar</dd><dt><span>GRIB_iScansNegatively :</span></dt><dd>0</dd><dt><span>GRIB_jPointsAreConsecutive :</span></dt><dd>0</dd><dt><span>GRIB_jScansPositively :</span></dt><dd>1</dd><dt><span>GRIB_latitudeOfFirstGridPointInDegrees :</span></dt><dd>21.138</dd><dt><span>GRIB_latitudeOfSouthernPoleInDegrees :</span></dt><dd>0.0</dd><dt><span>GRIB_longitudeOfFirstGridPointInDegrees :</span></dt><dd>237.28</dd><dt><span>GRIB_longitudeOfSouthernPoleInDegrees :</span></dt><dd>0.0</dd><dt><span>GRIB_missingValue :</span></dt><dd>9999</dd><dt><span>GRIB_name :</span></dt><dd>Vertically-integrated liquid</dd><dt><span>GRIB_shortName :</span></dt><dd>veril</dd><dt><span>GRIB_units :</span></dt><dd>kg m**-1</dd><dt><span>long_name :</span></dt><dd>Vertically-integrated liquid</dd><dt><span>units :</span></dt><dd>kg m**-1</dd><dt><span>standard_name :</span></dt><dd>unknown</dd></dl></div><div class='xr-var-data'><pre>[1905141 values with dtype=float32]</pre></div></li></ul></div></li><li class='xr-section-item'><input id='section-bd31b12b-c537-49db-add1-ccb41b276549' class='xr-section-summary-in' type='checkbox'  checked><label for='section-bd31b12b-c537-49db-add1-ccb41b276549' class='xr-section-summary' >Attributes: <span>(7)</span></label><div class='xr-section-inline-details'></div><div class='xr-section-details'><dl class='xr-attrs'><dt><span>GRIB_edition :</span></dt><dd>2</dd><dt><span>GRIB_centre :</span></dt><dd>kwbc</dd><dt><span>GRIB_centreDescription :</span></dt><dd>US National Weather Service - NCEP</dd><dt><span>GRIB_subCentre :</span></dt><dd>0</dd><dt><span>Conventions :</span></dt><dd>CF-1.7</dd><dt><span>institution :</span></dt><dd>US National Weather Service - NCEP</dd><dt><span>history :</span></dt><dd>2023-01-26T16:39 GRIB to CDM+CF via cfgrib-0.9.9.1/ecCodes-2.27.1 with {&quot;source&quot;: &quot;/gpfs/fs1/home/ac.jcorner/NIU/Masters_Thesis/metplus/metplus_input/hrrr.t18z.wrfsubhf0030.grib2&quot;, &quot;filter_by_keys&quot;: {&quot;typeOfLevel&quot;: &quot;atmosphere&quot;}, &quot;encode_cf&quot;: [&quot;parameter&quot;, &quot;time&quot;, &quot;geography&quot;, &quot;vertical&quot;]}</dd></dl></div></li></ul></div></div>"
      ],
      "text/plain": [
       "<xarray.Dataset>\n",
       "Dimensions:     (y: 1059, x: 1799)\n",
       "Coordinates:\n",
       "    time        datetime64[ns] ...\n",
       "    step        timedelta64[ns] ...\n",
       "    atmosphere  float64 ...\n",
       "    latitude    (y, x) float64 ...\n",
       "    longitude   (y, x) float64 ...\n",
       "    valid_time  datetime64[ns] ...\n",
       "Dimensions without coordinates: y, x\n",
       "Data variables:\n",
       "    refc        (y, x) float32 ...\n",
       "    veril       (y, x) float32 ...\n",
       "Attributes:\n",
       "    GRIB_edition:            2\n",
       "    GRIB_centre:             kwbc\n",
       "    GRIB_centreDescription:  US National Weather Service - NCEP\n",
       "    GRIB_subCentre:          0\n",
       "    Conventions:             CF-1.7\n",
       "    institution:             US National Weather Service - NCEP\n",
       "    history:                 2023-01-26T16:39 GRIB to CDM+CF via cfgrib-0.9.9..."
      ]
     },
     "execution_count": 26,
     "metadata": {},
     "output_type": "execute_result"
    }
   ],
   "source": [
    "newds = xr.open_dataset('/gpfs/fs1/home/ac.jcorner/NIU/Masters_Thesis/metplus/metplus_input/hrrr.t18z.wrfsubhf0030.grib2', filter_by_keys={'typeOfLevel': 'atmosphere'})\n",
    "newds"
   ]
  },
  {
   "cell_type": "code",
   "execution_count": null,
   "id": "a2b2fe9a",
   "metadata": {},
   "outputs": [],
   "source": []
  },
  {
   "cell_type": "code",
   "execution_count": null,
   "id": "0eb76afa",
   "metadata": {},
   "outputs": [],
   "source": []
  },
  {
   "cell_type": "code",
   "execution_count": null,
   "id": "cd01cc16",
   "metadata": {},
   "outputs": [],
   "source": []
  },
  {
   "cell_type": "code",
   "execution_count": 12,
   "id": "03684dff",
   "metadata": {},
   "outputs": [
    {
     "data": {
      "text/plain": [
       "array([[21.138123  , 21.14511004, 21.1520901 , ..., 21.1545089 ,\n",
       "        21.14753125, 21.14054663],\n",
       "       [21.16299459, 21.1699845 , 21.17696744, ..., 21.17938723,\n",
       "        21.1724067 , 21.16541921],\n",
       "       [21.18786863, 21.19486142, 21.20184723, ..., 21.20426802,\n",
       "        21.19728462, 21.19029425],\n",
       "       ...,\n",
       "       [47.78955926, 47.799849  , 47.81012868, ..., 47.81369093,\n",
       "        47.80341474, 47.79312849],\n",
       "       [47.81409316, 47.82438621, 47.8346692 , ..., 47.83823259,\n",
       "        47.8279531 , 47.81766354],\n",
       "       [47.8386235 , 47.84891986, 47.85920615, ..., 47.86277069,\n",
       "        47.85248789, 47.84219502]])"
      ]
     },
     "execution_count": 12,
     "metadata": {},
     "output_type": "execute_result"
    }
   ],
   "source": [
    "test_ds = xr.open_dataset('/lcrc/project/rainfall/jcorner/MODE_data/202006080000/tightly_clustered_cells/hrrr_t20200607T0000z_wrfsfcf24.nc4')\n",
    "test_ds.latitude.values"
   ]
  },
  {
   "cell_type": "code",
   "execution_count": 11,
   "id": "e2389895",
   "metadata": {},
   "outputs": [
    {
     "name": "stderr",
     "output_type": "stream",
     "text": [
      "Ignoring index file '/lcrc/project/rainfall/jcorner/MODE_data/202006080000/hrrr_t20200606T1200z_wrfsfcf36.grib2.923a8.idx' incompatible with GRIB file\n"
     ]
    },
    {
     "data": {
      "text/plain": [
       "array([[21.138123  , 21.14511004, 21.1520901 , ..., 21.1545089 ,\n",
       "        21.14753125, 21.14054663],\n",
       "       [21.16299459, 21.1699845 , 21.17696744, ..., 21.17938723,\n",
       "        21.1724067 , 21.16541921],\n",
       "       [21.18786863, 21.19486142, 21.20184723, ..., 21.20426802,\n",
       "        21.19728462, 21.19029425],\n",
       "       ...,\n",
       "       [47.78955926, 47.799849  , 47.81012868, ..., 47.81369093,\n",
       "        47.80341474, 47.79312849],\n",
       "       [47.81409316, 47.82438621, 47.8346692 , ..., 47.83823259,\n",
       "        47.8279531 , 47.81766354],\n",
       "       [47.8386235 , 47.84891986, 47.85920615, ..., 47.86277069,\n",
       "        47.85248789, 47.84219502]])"
      ]
     },
     "execution_count": 11,
     "metadata": {},
     "output_type": "execute_result"
    }
   ],
   "source": [
    "working_ds = xr.open_dataset('/lcrc/project/rainfall/jcorner/MODE_data/202006080000/hrrr_t20200606T1200z_wrfsfcf36.grib2', filter_by_keys={'typeOfLevel': 'atmosphere'})\n",
    "working_ds.latitude.values"
   ]
  },
  {
   "cell_type": "code",
   "execution_count": null,
   "id": "d7fd8594",
   "metadata": {},
   "outputs": [],
   "source": []
  },
  {
   "cell_type": "code",
   "execution_count": null,
   "id": "7dc09c9e",
   "metadata": {
    "scrolled": true
   },
   "outputs": [],
   "source": []
  },
  {
   "cell_type": "code",
   "execution_count": 12,
   "id": "5e4af3a3",
   "metadata": {},
   "outputs": [
    {
     "name": "stderr",
     "output_type": "stream",
     "text": [
      "Ignoring index file '/lcrc/project/rainfall/jcorner/MODE_data/202008110000/hrrr_t20200810T0000z_wrfsfcf24.grib2.923a8.idx' incompatible with GRIB file\n"
     ]
    },
    {
     "data": {
      "text/html": [
       "<div><svg style=\"position: absolute; width: 0; height: 0; overflow: hidden\">\n",
       "<defs>\n",
       "<symbol id=\"icon-database\" viewBox=\"0 0 32 32\">\n",
       "<path d=\"M16 0c-8.837 0-16 2.239-16 5v4c0 2.761 7.163 5 16 5s16-2.239 16-5v-4c0-2.761-7.163-5-16-5z\"></path>\n",
       "<path d=\"M16 17c-8.837 0-16-2.239-16-5v6c0 2.761 7.163 5 16 5s16-2.239 16-5v-6c0 2.761-7.163 5-16 5z\"></path>\n",
       "<path d=\"M16 26c-8.837 0-16-2.239-16-5v6c0 2.761 7.163 5 16 5s16-2.239 16-5v-6c0 2.761-7.163 5-16 5z\"></path>\n",
       "</symbol>\n",
       "<symbol id=\"icon-file-text2\" viewBox=\"0 0 32 32\">\n",
       "<path d=\"M28.681 7.159c-0.694-0.947-1.662-2.053-2.724-3.116s-2.169-2.030-3.116-2.724c-1.612-1.182-2.393-1.319-2.841-1.319h-15.5c-1.378 0-2.5 1.121-2.5 2.5v27c0 1.378 1.122 2.5 2.5 2.5h23c1.378 0 2.5-1.122 2.5-2.5v-19.5c0-0.448-0.137-1.23-1.319-2.841zM24.543 5.457c0.959 0.959 1.712 1.825 2.268 2.543h-4.811v-4.811c0.718 0.556 1.584 1.309 2.543 2.268zM28 29.5c0 0.271-0.229 0.5-0.5 0.5h-23c-0.271 0-0.5-0.229-0.5-0.5v-27c0-0.271 0.229-0.5 0.5-0.5 0 0 15.499-0 15.5 0v7c0 0.552 0.448 1 1 1h7v19.5z\"></path>\n",
       "<path d=\"M23 26h-14c-0.552 0-1-0.448-1-1s0.448-1 1-1h14c0.552 0 1 0.448 1 1s-0.448 1-1 1z\"></path>\n",
       "<path d=\"M23 22h-14c-0.552 0-1-0.448-1-1s0.448-1 1-1h14c0.552 0 1 0.448 1 1s-0.448 1-1 1z\"></path>\n",
       "<path d=\"M23 18h-14c-0.552 0-1-0.448-1-1s0.448-1 1-1h14c0.552 0 1 0.448 1 1s-0.448 1-1 1z\"></path>\n",
       "</symbol>\n",
       "</defs>\n",
       "</svg>\n",
       "<style>/* CSS stylesheet for displaying xarray objects in jupyterlab.\n",
       " *\n",
       " */\n",
       "\n",
       ":root {\n",
       "  --xr-font-color0: var(--jp-content-font-color0, rgba(0, 0, 0, 1));\n",
       "  --xr-font-color2: var(--jp-content-font-color2, rgba(0, 0, 0, 0.54));\n",
       "  --xr-font-color3: var(--jp-content-font-color3, rgba(0, 0, 0, 0.38));\n",
       "  --xr-border-color: var(--jp-border-color2, #e0e0e0);\n",
       "  --xr-disabled-color: var(--jp-layout-color3, #bdbdbd);\n",
       "  --xr-background-color: var(--jp-layout-color0, white);\n",
       "  --xr-background-color-row-even: var(--jp-layout-color1, white);\n",
       "  --xr-background-color-row-odd: var(--jp-layout-color2, #eeeeee);\n",
       "}\n",
       "\n",
       "html[theme=dark],\n",
       "body.vscode-dark {\n",
       "  --xr-font-color0: rgba(255, 255, 255, 1);\n",
       "  --xr-font-color2: rgba(255, 255, 255, 0.54);\n",
       "  --xr-font-color3: rgba(255, 255, 255, 0.38);\n",
       "  --xr-border-color: #1F1F1F;\n",
       "  --xr-disabled-color: #515151;\n",
       "  --xr-background-color: #111111;\n",
       "  --xr-background-color-row-even: #111111;\n",
       "  --xr-background-color-row-odd: #313131;\n",
       "}\n",
       "\n",
       ".xr-wrap {\n",
       "  display: block;\n",
       "  min-width: 300px;\n",
       "  max-width: 700px;\n",
       "}\n",
       "\n",
       ".xr-text-repr-fallback {\n",
       "  /* fallback to plain text repr when CSS is not injected (untrusted notebook) */\n",
       "  display: none;\n",
       "}\n",
       "\n",
       ".xr-header {\n",
       "  padding-top: 6px;\n",
       "  padding-bottom: 6px;\n",
       "  margin-bottom: 4px;\n",
       "  border-bottom: solid 1px var(--xr-border-color);\n",
       "}\n",
       "\n",
       ".xr-header > div,\n",
       ".xr-header > ul {\n",
       "  display: inline;\n",
       "  margin-top: 0;\n",
       "  margin-bottom: 0;\n",
       "}\n",
       "\n",
       ".xr-obj-type,\n",
       ".xr-array-name {\n",
       "  margin-left: 2px;\n",
       "  margin-right: 10px;\n",
       "}\n",
       "\n",
       ".xr-obj-type {\n",
       "  color: var(--xr-font-color2);\n",
       "}\n",
       "\n",
       ".xr-sections {\n",
       "  padding-left: 0 !important;\n",
       "  display: grid;\n",
       "  grid-template-columns: 150px auto auto 1fr 20px 20px;\n",
       "}\n",
       "\n",
       ".xr-section-item {\n",
       "  display: contents;\n",
       "}\n",
       "\n",
       ".xr-section-item input {\n",
       "  display: none;\n",
       "}\n",
       "\n",
       ".xr-section-item input + label {\n",
       "  color: var(--xr-disabled-color);\n",
       "}\n",
       "\n",
       ".xr-section-item input:enabled + label {\n",
       "  cursor: pointer;\n",
       "  color: var(--xr-font-color2);\n",
       "}\n",
       "\n",
       ".xr-section-item input:enabled + label:hover {\n",
       "  color: var(--xr-font-color0);\n",
       "}\n",
       "\n",
       ".xr-section-summary {\n",
       "  grid-column: 1;\n",
       "  color: var(--xr-font-color2);\n",
       "  font-weight: 500;\n",
       "}\n",
       "\n",
       ".xr-section-summary > span {\n",
       "  display: inline-block;\n",
       "  padding-left: 0.5em;\n",
       "}\n",
       "\n",
       ".xr-section-summary-in:disabled + label {\n",
       "  color: var(--xr-font-color2);\n",
       "}\n",
       "\n",
       ".xr-section-summary-in + label:before {\n",
       "  display: inline-block;\n",
       "  content: '►';\n",
       "  font-size: 11px;\n",
       "  width: 15px;\n",
       "  text-align: center;\n",
       "}\n",
       "\n",
       ".xr-section-summary-in:disabled + label:before {\n",
       "  color: var(--xr-disabled-color);\n",
       "}\n",
       "\n",
       ".xr-section-summary-in:checked + label:before {\n",
       "  content: '▼';\n",
       "}\n",
       "\n",
       ".xr-section-summary-in:checked + label > span {\n",
       "  display: none;\n",
       "}\n",
       "\n",
       ".xr-section-summary,\n",
       ".xr-section-inline-details {\n",
       "  padding-top: 4px;\n",
       "  padding-bottom: 4px;\n",
       "}\n",
       "\n",
       ".xr-section-inline-details {\n",
       "  grid-column: 2 / -1;\n",
       "}\n",
       "\n",
       ".xr-section-details {\n",
       "  display: none;\n",
       "  grid-column: 1 / -1;\n",
       "  margin-bottom: 5px;\n",
       "}\n",
       "\n",
       ".xr-section-summary-in:checked ~ .xr-section-details {\n",
       "  display: contents;\n",
       "}\n",
       "\n",
       ".xr-array-wrap {\n",
       "  grid-column: 1 / -1;\n",
       "  display: grid;\n",
       "  grid-template-columns: 20px auto;\n",
       "}\n",
       "\n",
       ".xr-array-wrap > label {\n",
       "  grid-column: 1;\n",
       "  vertical-align: top;\n",
       "}\n",
       "\n",
       ".xr-preview {\n",
       "  color: var(--xr-font-color3);\n",
       "}\n",
       "\n",
       ".xr-array-preview,\n",
       ".xr-array-data {\n",
       "  padding: 0 5px !important;\n",
       "  grid-column: 2;\n",
       "}\n",
       "\n",
       ".xr-array-data,\n",
       ".xr-array-in:checked ~ .xr-array-preview {\n",
       "  display: none;\n",
       "}\n",
       "\n",
       ".xr-array-in:checked ~ .xr-array-data,\n",
       ".xr-array-preview {\n",
       "  display: inline-block;\n",
       "}\n",
       "\n",
       ".xr-dim-list {\n",
       "  display: inline-block !important;\n",
       "  list-style: none;\n",
       "  padding: 0 !important;\n",
       "  margin: 0;\n",
       "}\n",
       "\n",
       ".xr-dim-list li {\n",
       "  display: inline-block;\n",
       "  padding: 0;\n",
       "  margin: 0;\n",
       "}\n",
       "\n",
       ".xr-dim-list:before {\n",
       "  content: '(';\n",
       "}\n",
       "\n",
       ".xr-dim-list:after {\n",
       "  content: ')';\n",
       "}\n",
       "\n",
       ".xr-dim-list li:not(:last-child):after {\n",
       "  content: ',';\n",
       "  padding-right: 5px;\n",
       "}\n",
       "\n",
       ".xr-has-index {\n",
       "  font-weight: bold;\n",
       "}\n",
       "\n",
       ".xr-var-list,\n",
       ".xr-var-item {\n",
       "  display: contents;\n",
       "}\n",
       "\n",
       ".xr-var-item > div,\n",
       ".xr-var-item label,\n",
       ".xr-var-item > .xr-var-name span {\n",
       "  background-color: var(--xr-background-color-row-even);\n",
       "  margin-bottom: 0;\n",
       "}\n",
       "\n",
       ".xr-var-item > .xr-var-name:hover span {\n",
       "  padding-right: 5px;\n",
       "}\n",
       "\n",
       ".xr-var-list > li:nth-child(odd) > div,\n",
       ".xr-var-list > li:nth-child(odd) > label,\n",
       ".xr-var-list > li:nth-child(odd) > .xr-var-name span {\n",
       "  background-color: var(--xr-background-color-row-odd);\n",
       "}\n",
       "\n",
       ".xr-var-name {\n",
       "  grid-column: 1;\n",
       "}\n",
       "\n",
       ".xr-var-dims {\n",
       "  grid-column: 2;\n",
       "}\n",
       "\n",
       ".xr-var-dtype {\n",
       "  grid-column: 3;\n",
       "  text-align: right;\n",
       "  color: var(--xr-font-color2);\n",
       "}\n",
       "\n",
       ".xr-var-preview {\n",
       "  grid-column: 4;\n",
       "}\n",
       "\n",
       ".xr-var-name,\n",
       ".xr-var-dims,\n",
       ".xr-var-dtype,\n",
       ".xr-preview,\n",
       ".xr-attrs dt {\n",
       "  white-space: nowrap;\n",
       "  overflow: hidden;\n",
       "  text-overflow: ellipsis;\n",
       "  padding-right: 10px;\n",
       "}\n",
       "\n",
       ".xr-var-name:hover,\n",
       ".xr-var-dims:hover,\n",
       ".xr-var-dtype:hover,\n",
       ".xr-attrs dt:hover {\n",
       "  overflow: visible;\n",
       "  width: auto;\n",
       "  z-index: 1;\n",
       "}\n",
       "\n",
       ".xr-var-attrs,\n",
       ".xr-var-data {\n",
       "  display: none;\n",
       "  background-color: var(--xr-background-color) !important;\n",
       "  padding-bottom: 5px !important;\n",
       "}\n",
       "\n",
       ".xr-var-attrs-in:checked ~ .xr-var-attrs,\n",
       ".xr-var-data-in:checked ~ .xr-var-data {\n",
       "  display: block;\n",
       "}\n",
       "\n",
       ".xr-var-data > table {\n",
       "  float: right;\n",
       "}\n",
       "\n",
       ".xr-var-name span,\n",
       ".xr-var-data,\n",
       ".xr-attrs {\n",
       "  padding-left: 25px !important;\n",
       "}\n",
       "\n",
       ".xr-attrs,\n",
       ".xr-var-attrs,\n",
       ".xr-var-data {\n",
       "  grid-column: 1 / -1;\n",
       "}\n",
       "\n",
       "dl.xr-attrs {\n",
       "  padding: 0;\n",
       "  margin: 0;\n",
       "  display: grid;\n",
       "  grid-template-columns: 125px auto;\n",
       "}\n",
       "\n",
       ".xr-attrs dt,\n",
       ".xr-attrs dd {\n",
       "  padding: 0;\n",
       "  margin: 0;\n",
       "  float: left;\n",
       "  padding-right: 10px;\n",
       "  width: auto;\n",
       "}\n",
       "\n",
       ".xr-attrs dt {\n",
       "  font-weight: normal;\n",
       "  grid-column: 1;\n",
       "}\n",
       "\n",
       ".xr-attrs dt:hover span {\n",
       "  display: inline-block;\n",
       "  background: var(--xr-background-color);\n",
       "  padding-right: 10px;\n",
       "}\n",
       "\n",
       ".xr-attrs dd {\n",
       "  grid-column: 2;\n",
       "  white-space: pre-wrap;\n",
       "  word-break: break-all;\n",
       "}\n",
       "\n",
       ".xr-icon-database,\n",
       ".xr-icon-file-text2 {\n",
       "  display: inline-block;\n",
       "  vertical-align: middle;\n",
       "  width: 1em;\n",
       "  height: 1.5em !important;\n",
       "  stroke-width: 0;\n",
       "  stroke: currentColor;\n",
       "  fill: currentColor;\n",
       "}\n",
       "</style><pre class='xr-text-repr-fallback'>&lt;xarray.Dataset&gt;\n",
       "Dimensions:     (y: 1059, x: 1799)\n",
       "Coordinates:\n",
       "    time        datetime64[ns] 2020-08-10\n",
       "    step        timedelta64[ns] 1 days\n",
       "    atmosphere  float64 0.0\n",
       "    latitude    (y, x) float64 ...\n",
       "    longitude   (y, x) float64 ...\n",
       "    valid_time  datetime64[ns] 2020-08-11\n",
       "Dimensions without coordinates: y, x\n",
       "Data variables:\n",
       "    refc        (y, x) float32 ...\n",
       "    veril       (y, x) float32 ...\n",
       "    hail        (y, x) float32 ...\n",
       "    ltng        (y, x) float32 ...\n",
       "    tcc         (y, x) float32 ...\n",
       "    unknown     (y, x) float32 ...\n",
       "Attributes:\n",
       "    GRIB_edition:            2\n",
       "    GRIB_centre:             kwbc\n",
       "    GRIB_centreDescription:  US National Weather Service - NCEP\n",
       "    GRIB_subCentre:          0\n",
       "    Conventions:             CF-1.7\n",
       "    institution:             US National Weather Service - NCEP\n",
       "    history:                 2023-01-25T12:40 GRIB to CDM+CF via cfgrib-0.9.9...</pre><div class='xr-wrap' hidden><div class='xr-header'><div class='xr-obj-type'>xarray.Dataset</div></div><ul class='xr-sections'><li class='xr-section-item'><input id='section-504bf647-a9ad-4dbb-bc5f-667349a47f64' class='xr-section-summary-in' type='checkbox' disabled ><label for='section-504bf647-a9ad-4dbb-bc5f-667349a47f64' class='xr-section-summary'  title='Expand/collapse section'>Dimensions:</label><div class='xr-section-inline-details'><ul class='xr-dim-list'><li><span>y</span>: 1059</li><li><span>x</span>: 1799</li></ul></div><div class='xr-section-details'></div></li><li class='xr-section-item'><input id='section-48ffe35b-3b7b-48fe-8976-1a56483998c2' class='xr-section-summary-in' type='checkbox'  checked><label for='section-48ffe35b-3b7b-48fe-8976-1a56483998c2' class='xr-section-summary' >Coordinates: <span>(6)</span></label><div class='xr-section-inline-details'></div><div class='xr-section-details'><ul class='xr-var-list'><li class='xr-var-item'><div class='xr-var-name'><span>time</span></div><div class='xr-var-dims'>()</div><div class='xr-var-dtype'>datetime64[ns]</div><div class='xr-var-preview xr-preview'>...</div><input id='attrs-dd7088cb-c33d-4f86-ab9e-b5d3227e23d9' class='xr-var-attrs-in' type='checkbox' ><label for='attrs-dd7088cb-c33d-4f86-ab9e-b5d3227e23d9' title='Show/Hide attributes'><svg class='icon xr-icon-file-text2'><use xlink:href='#icon-file-text2'></use></svg></label><input id='data-2f4e8c11-fa7f-46c7-ac80-821ca6e7fd1b' class='xr-var-data-in' type='checkbox'><label for='data-2f4e8c11-fa7f-46c7-ac80-821ca6e7fd1b' title='Show/Hide data repr'><svg class='icon xr-icon-database'><use xlink:href='#icon-database'></use></svg></label><div class='xr-var-attrs'><dl class='xr-attrs'><dt><span>long_name :</span></dt><dd>initial time of forecast</dd><dt><span>standard_name :</span></dt><dd>forecast_reference_time</dd></dl></div><div class='xr-var-data'><pre>array(&#x27;2020-08-10T00:00:00.000000000&#x27;, dtype=&#x27;datetime64[ns]&#x27;)</pre></div></li><li class='xr-var-item'><div class='xr-var-name'><span>step</span></div><div class='xr-var-dims'>()</div><div class='xr-var-dtype'>timedelta64[ns]</div><div class='xr-var-preview xr-preview'>...</div><input id='attrs-c7082188-2f20-4eab-ba5b-51b0dc4b0923' class='xr-var-attrs-in' type='checkbox' ><label for='attrs-c7082188-2f20-4eab-ba5b-51b0dc4b0923' title='Show/Hide attributes'><svg class='icon xr-icon-file-text2'><use xlink:href='#icon-file-text2'></use></svg></label><input id='data-4144c089-53fd-46c8-b000-7848233dd322' class='xr-var-data-in' type='checkbox'><label for='data-4144c089-53fd-46c8-b000-7848233dd322' title='Show/Hide data repr'><svg class='icon xr-icon-database'><use xlink:href='#icon-database'></use></svg></label><div class='xr-var-attrs'><dl class='xr-attrs'><dt><span>long_name :</span></dt><dd>time since forecast_reference_time</dd><dt><span>standard_name :</span></dt><dd>forecast_period</dd></dl></div><div class='xr-var-data'><pre>array(86400000000000, dtype=&#x27;timedelta64[ns]&#x27;)</pre></div></li><li class='xr-var-item'><div class='xr-var-name'><span>atmosphere</span></div><div class='xr-var-dims'>()</div><div class='xr-var-dtype'>float64</div><div class='xr-var-preview xr-preview'>...</div><input id='attrs-df6165ad-6201-4f42-a459-8b1e189afee7' class='xr-var-attrs-in' type='checkbox' ><label for='attrs-df6165ad-6201-4f42-a459-8b1e189afee7' title='Show/Hide attributes'><svg class='icon xr-icon-file-text2'><use xlink:href='#icon-file-text2'></use></svg></label><input id='data-f4893a97-c810-42a3-be20-24afc052468b' class='xr-var-data-in' type='checkbox'><label for='data-f4893a97-c810-42a3-be20-24afc052468b' title='Show/Hide data repr'><svg class='icon xr-icon-database'><use xlink:href='#icon-database'></use></svg></label><div class='xr-var-attrs'><dl class='xr-attrs'><dt><span>long_name :</span></dt><dd>original GRIB coordinate for key: level(atmosphere)</dd><dt><span>units :</span></dt><dd>1</dd></dl></div><div class='xr-var-data'><pre>array(0.)</pre></div></li><li class='xr-var-item'><div class='xr-var-name'><span>latitude</span></div><div class='xr-var-dims'>(y, x)</div><div class='xr-var-dtype'>float64</div><div class='xr-var-preview xr-preview'>...</div><input id='attrs-52d6360a-fe91-4d55-98ed-c73342c3af4f' class='xr-var-attrs-in' type='checkbox' ><label for='attrs-52d6360a-fe91-4d55-98ed-c73342c3af4f' title='Show/Hide attributes'><svg class='icon xr-icon-file-text2'><use xlink:href='#icon-file-text2'></use></svg></label><input id='data-81510eb3-2bbe-41a3-a5f6-33a0aff06de2' class='xr-var-data-in' type='checkbox'><label for='data-81510eb3-2bbe-41a3-a5f6-33a0aff06de2' title='Show/Hide data repr'><svg class='icon xr-icon-database'><use xlink:href='#icon-database'></use></svg></label><div class='xr-var-attrs'><dl class='xr-attrs'><dt><span>units :</span></dt><dd>degrees_north</dd><dt><span>standard_name :</span></dt><dd>latitude</dd><dt><span>long_name :</span></dt><dd>latitude</dd></dl></div><div class='xr-var-data'><pre>[1905141 values with dtype=float64]</pre></div></li><li class='xr-var-item'><div class='xr-var-name'><span>longitude</span></div><div class='xr-var-dims'>(y, x)</div><div class='xr-var-dtype'>float64</div><div class='xr-var-preview xr-preview'>...</div><input id='attrs-bd03dbc0-bb5c-4032-9747-5347530268a6' class='xr-var-attrs-in' type='checkbox' ><label for='attrs-bd03dbc0-bb5c-4032-9747-5347530268a6' title='Show/Hide attributes'><svg class='icon xr-icon-file-text2'><use xlink:href='#icon-file-text2'></use></svg></label><input id='data-7edee103-3eed-4b17-9fe1-41812ac1529e' class='xr-var-data-in' type='checkbox'><label for='data-7edee103-3eed-4b17-9fe1-41812ac1529e' title='Show/Hide data repr'><svg class='icon xr-icon-database'><use xlink:href='#icon-database'></use></svg></label><div class='xr-var-attrs'><dl class='xr-attrs'><dt><span>units :</span></dt><dd>degrees_east</dd><dt><span>standard_name :</span></dt><dd>longitude</dd><dt><span>long_name :</span></dt><dd>longitude</dd></dl></div><div class='xr-var-data'><pre>[1905141 values with dtype=float64]</pre></div></li><li class='xr-var-item'><div class='xr-var-name'><span>valid_time</span></div><div class='xr-var-dims'>()</div><div class='xr-var-dtype'>datetime64[ns]</div><div class='xr-var-preview xr-preview'>...</div><input id='attrs-2c4f0bea-ae05-4fa6-82f5-946d1f11f5f3' class='xr-var-attrs-in' type='checkbox' ><label for='attrs-2c4f0bea-ae05-4fa6-82f5-946d1f11f5f3' title='Show/Hide attributes'><svg class='icon xr-icon-file-text2'><use xlink:href='#icon-file-text2'></use></svg></label><input id='data-271cc947-2a09-4404-bcbc-24d09c9ba2b9' class='xr-var-data-in' type='checkbox'><label for='data-271cc947-2a09-4404-bcbc-24d09c9ba2b9' title='Show/Hide data repr'><svg class='icon xr-icon-database'><use xlink:href='#icon-database'></use></svg></label><div class='xr-var-attrs'><dl class='xr-attrs'><dt><span>standard_name :</span></dt><dd>time</dd><dt><span>long_name :</span></dt><dd>time</dd></dl></div><div class='xr-var-data'><pre>array(&#x27;2020-08-11T00:00:00.000000000&#x27;, dtype=&#x27;datetime64[ns]&#x27;)</pre></div></li></ul></div></li><li class='xr-section-item'><input id='section-777293bd-619b-4830-915f-969777e3dd23' class='xr-section-summary-in' type='checkbox'  checked><label for='section-777293bd-619b-4830-915f-969777e3dd23' class='xr-section-summary' >Data variables: <span>(6)</span></label><div class='xr-section-inline-details'></div><div class='xr-section-details'><ul class='xr-var-list'><li class='xr-var-item'><div class='xr-var-name'><span>refc</span></div><div class='xr-var-dims'>(y, x)</div><div class='xr-var-dtype'>float32</div><div class='xr-var-preview xr-preview'>...</div><input id='attrs-3b3f978d-85c5-4a9b-a9ff-4793ffe3ff0f' class='xr-var-attrs-in' type='checkbox' ><label for='attrs-3b3f978d-85c5-4a9b-a9ff-4793ffe3ff0f' title='Show/Hide attributes'><svg class='icon xr-icon-file-text2'><use xlink:href='#icon-file-text2'></use></svg></label><input id='data-187cb522-40f5-4caa-b0d7-0c3c91235129' class='xr-var-data-in' type='checkbox'><label for='data-187cb522-40f5-4caa-b0d7-0c3c91235129' title='Show/Hide data repr'><svg class='icon xr-icon-database'><use xlink:href='#icon-database'></use></svg></label><div class='xr-var-attrs'><dl class='xr-attrs'><dt><span>GRIB_paramId :</span></dt><dd>260390</dd><dt><span>GRIB_dataType :</span></dt><dd>fc</dd><dt><span>GRIB_numberOfPoints :</span></dt><dd>1905141</dd><dt><span>GRIB_typeOfLevel :</span></dt><dd>atmosphere</dd><dt><span>GRIB_stepUnits :</span></dt><dd>1</dd><dt><span>GRIB_stepType :</span></dt><dd>instant</dd><dt><span>GRIB_gridType :</span></dt><dd>lambert</dd><dt><span>GRIB_DxInMetres :</span></dt><dd>3000.0</dd><dt><span>GRIB_DyInMetres :</span></dt><dd>3000.0</dd><dt><span>GRIB_LaDInDegrees :</span></dt><dd>38.5</dd><dt><span>GRIB_Latin1InDegrees :</span></dt><dd>38.5</dd><dt><span>GRIB_Latin2InDegrees :</span></dt><dd>38.5</dd><dt><span>GRIB_LoVInDegrees :</span></dt><dd>262.5</dd><dt><span>GRIB_NV :</span></dt><dd>0</dd><dt><span>GRIB_Nx :</span></dt><dd>1799</dd><dt><span>GRIB_Ny :</span></dt><dd>1059</dd><dt><span>GRIB_cfName :</span></dt><dd>unknown</dd><dt><span>GRIB_cfVarName :</span></dt><dd>unknown</dd><dt><span>GRIB_gridDefinitionDescription :</span></dt><dd>Lambert Conformal can be secant or tangent, conical or bipolar</dd><dt><span>GRIB_iScansNegatively :</span></dt><dd>0</dd><dt><span>GRIB_jPointsAreConsecutive :</span></dt><dd>0</dd><dt><span>GRIB_jScansPositively :</span></dt><dd>1</dd><dt><span>GRIB_latitudeOfFirstGridPointInDegrees :</span></dt><dd>21.138123</dd><dt><span>GRIB_latitudeOfSouthernPoleInDegrees :</span></dt><dd>0.0</dd><dt><span>GRIB_longitudeOfFirstGridPointInDegrees :</span></dt><dd>237.280472</dd><dt><span>GRIB_longitudeOfSouthernPoleInDegrees :</span></dt><dd>0.0</dd><dt><span>GRIB_missingValue :</span></dt><dd>9999</dd><dt><span>GRIB_name :</span></dt><dd>Maximum/Composite radar reflectivity</dd><dt><span>GRIB_shortName :</span></dt><dd>refc</dd><dt><span>GRIB_units :</span></dt><dd>dB</dd><dt><span>long_name :</span></dt><dd>Maximum/Composite radar reflectivity</dd><dt><span>units :</span></dt><dd>dB</dd><dt><span>standard_name :</span></dt><dd>unknown</dd></dl></div><div class='xr-var-data'><pre>[1905141 values with dtype=float32]</pre></div></li><li class='xr-var-item'><div class='xr-var-name'><span>veril</span></div><div class='xr-var-dims'>(y, x)</div><div class='xr-var-dtype'>float32</div><div class='xr-var-preview xr-preview'>...</div><input id='attrs-dfae746f-91c6-4849-b1f4-de78f5539bee' class='xr-var-attrs-in' type='checkbox' ><label for='attrs-dfae746f-91c6-4849-b1f4-de78f5539bee' title='Show/Hide attributes'><svg class='icon xr-icon-file-text2'><use xlink:href='#icon-file-text2'></use></svg></label><input id='data-70cff53b-5d5f-4c71-9007-c23a9962fbb1' class='xr-var-data-in' type='checkbox'><label for='data-70cff53b-5d5f-4c71-9007-c23a9962fbb1' title='Show/Hide data repr'><svg class='icon xr-icon-database'><use xlink:href='#icon-database'></use></svg></label><div class='xr-var-attrs'><dl class='xr-attrs'><dt><span>GRIB_paramId :</span></dt><dd>260136</dd><dt><span>GRIB_dataType :</span></dt><dd>fc</dd><dt><span>GRIB_numberOfPoints :</span></dt><dd>1905141</dd><dt><span>GRIB_typeOfLevel :</span></dt><dd>atmosphere</dd><dt><span>GRIB_stepUnits :</span></dt><dd>1</dd><dt><span>GRIB_stepType :</span></dt><dd>instant</dd><dt><span>GRIB_gridType :</span></dt><dd>lambert</dd><dt><span>GRIB_DxInMetres :</span></dt><dd>3000.0</dd><dt><span>GRIB_DyInMetres :</span></dt><dd>3000.0</dd><dt><span>GRIB_LaDInDegrees :</span></dt><dd>38.5</dd><dt><span>GRIB_Latin1InDegrees :</span></dt><dd>38.5</dd><dt><span>GRIB_Latin2InDegrees :</span></dt><dd>38.5</dd><dt><span>GRIB_LoVInDegrees :</span></dt><dd>262.5</dd><dt><span>GRIB_NV :</span></dt><dd>0</dd><dt><span>GRIB_Nx :</span></dt><dd>1799</dd><dt><span>GRIB_Ny :</span></dt><dd>1059</dd><dt><span>GRIB_cfName :</span></dt><dd>unknown</dd><dt><span>GRIB_cfVarName :</span></dt><dd>veril</dd><dt><span>GRIB_gridDefinitionDescription :</span></dt><dd>Lambert Conformal can be secant or tangent, conical or bipolar</dd><dt><span>GRIB_iScansNegatively :</span></dt><dd>0</dd><dt><span>GRIB_jPointsAreConsecutive :</span></dt><dd>0</dd><dt><span>GRIB_jScansPositively :</span></dt><dd>1</dd><dt><span>GRIB_latitudeOfFirstGridPointInDegrees :</span></dt><dd>21.138123</dd><dt><span>GRIB_latitudeOfSouthernPoleInDegrees :</span></dt><dd>0.0</dd><dt><span>GRIB_longitudeOfFirstGridPointInDegrees :</span></dt><dd>237.280472</dd><dt><span>GRIB_longitudeOfSouthernPoleInDegrees :</span></dt><dd>0.0</dd><dt><span>GRIB_missingValue :</span></dt><dd>9999</dd><dt><span>GRIB_name :</span></dt><dd>Vertically-integrated liquid</dd><dt><span>GRIB_shortName :</span></dt><dd>veril</dd><dt><span>GRIB_units :</span></dt><dd>kg m**-1</dd><dt><span>long_name :</span></dt><dd>Vertically-integrated liquid</dd><dt><span>units :</span></dt><dd>kg m**-1</dd><dt><span>standard_name :</span></dt><dd>unknown</dd></dl></div><div class='xr-var-data'><pre>[1905141 values with dtype=float32]</pre></div></li><li class='xr-var-item'><div class='xr-var-name'><span>hail</span></div><div class='xr-var-dims'>(y, x)</div><div class='xr-var-dtype'>float32</div><div class='xr-var-preview xr-preview'>...</div><input id='attrs-ff285e5e-220f-4fcf-bbc1-db3926a227bf' class='xr-var-attrs-in' type='checkbox' ><label for='attrs-ff285e5e-220f-4fcf-bbc1-db3926a227bf' title='Show/Hide attributes'><svg class='icon xr-icon-file-text2'><use xlink:href='#icon-file-text2'></use></svg></label><input id='data-620473a8-a199-41ca-bc4b-4db01f678587' class='xr-var-data-in' type='checkbox'><label for='data-620473a8-a199-41ca-bc4b-4db01f678587' title='Show/Hide data repr'><svg class='icon xr-icon-database'><use xlink:href='#icon-database'></use></svg></label><div class='xr-var-attrs'><dl class='xr-attrs'><dt><span>GRIB_paramId :</span></dt><dd>260027</dd><dt><span>GRIB_dataType :</span></dt><dd>fc</dd><dt><span>GRIB_numberOfPoints :</span></dt><dd>1905141</dd><dt><span>GRIB_typeOfLevel :</span></dt><dd>atmosphere</dd><dt><span>GRIB_stepUnits :</span></dt><dd>1</dd><dt><span>GRIB_stepType :</span></dt><dd>max</dd><dt><span>GRIB_gridType :</span></dt><dd>lambert</dd><dt><span>GRIB_DxInMetres :</span></dt><dd>3000.0</dd><dt><span>GRIB_DyInMetres :</span></dt><dd>3000.0</dd><dt><span>GRIB_LaDInDegrees :</span></dt><dd>38.5</dd><dt><span>GRIB_Latin1InDegrees :</span></dt><dd>38.5</dd><dt><span>GRIB_Latin2InDegrees :</span></dt><dd>38.5</dd><dt><span>GRIB_LoVInDegrees :</span></dt><dd>262.5</dd><dt><span>GRIB_NV :</span></dt><dd>0</dd><dt><span>GRIB_Nx :</span></dt><dd>1799</dd><dt><span>GRIB_Ny :</span></dt><dd>1059</dd><dt><span>GRIB_cfName :</span></dt><dd>unknown</dd><dt><span>GRIB_cfVarName :</span></dt><dd>hail</dd><dt><span>GRIB_gridDefinitionDescription :</span></dt><dd>Lambert Conformal can be secant or tangent, conical or bipolar</dd><dt><span>GRIB_iScansNegatively :</span></dt><dd>0</dd><dt><span>GRIB_jPointsAreConsecutive :</span></dt><dd>0</dd><dt><span>GRIB_jScansPositively :</span></dt><dd>1</dd><dt><span>GRIB_latitudeOfFirstGridPointInDegrees :</span></dt><dd>21.138123</dd><dt><span>GRIB_latitudeOfSouthernPoleInDegrees :</span></dt><dd>0.0</dd><dt><span>GRIB_longitudeOfFirstGridPointInDegrees :</span></dt><dd>237.280472</dd><dt><span>GRIB_longitudeOfSouthernPoleInDegrees :</span></dt><dd>0.0</dd><dt><span>GRIB_missingValue :</span></dt><dd>9999</dd><dt><span>GRIB_name :</span></dt><dd>Hail</dd><dt><span>GRIB_shortName :</span></dt><dd>hail</dd><dt><span>GRIB_units :</span></dt><dd>m</dd><dt><span>long_name :</span></dt><dd>Hail</dd><dt><span>units :</span></dt><dd>m</dd><dt><span>standard_name :</span></dt><dd>unknown</dd></dl></div><div class='xr-var-data'><pre>[1905141 values with dtype=float32]</pre></div></li><li class='xr-var-item'><div class='xr-var-name'><span>ltng</span></div><div class='xr-var-dims'>(y, x)</div><div class='xr-var-dtype'>float32</div><div class='xr-var-preview xr-preview'>...</div><input id='attrs-7acfcd3a-b211-415f-b584-71b69abd1827' class='xr-var-attrs-in' type='checkbox' ><label for='attrs-7acfcd3a-b211-415f-b584-71b69abd1827' title='Show/Hide attributes'><svg class='icon xr-icon-file-text2'><use xlink:href='#icon-file-text2'></use></svg></label><input id='data-728199a8-d4a7-4882-9897-96c4f163f2c2' class='xr-var-data-in' type='checkbox'><label for='data-728199a8-d4a7-4882-9897-96c4f163f2c2' title='Show/Hide data repr'><svg class='icon xr-icon-database'><use xlink:href='#icon-database'></use></svg></label><div class='xr-var-attrs'><dl class='xr-attrs'><dt><span>GRIB_paramId :</span></dt><dd>260391</dd><dt><span>GRIB_dataType :</span></dt><dd>fc</dd><dt><span>GRIB_numberOfPoints :</span></dt><dd>1905141</dd><dt><span>GRIB_typeOfLevel :</span></dt><dd>atmosphere</dd><dt><span>GRIB_stepUnits :</span></dt><dd>1</dd><dt><span>GRIB_stepType :</span></dt><dd>instant</dd><dt><span>GRIB_gridType :</span></dt><dd>lambert</dd><dt><span>GRIB_DxInMetres :</span></dt><dd>3000.0</dd><dt><span>GRIB_DyInMetres :</span></dt><dd>3000.0</dd><dt><span>GRIB_LaDInDegrees :</span></dt><dd>38.5</dd><dt><span>GRIB_Latin1InDegrees :</span></dt><dd>38.5</dd><dt><span>GRIB_Latin2InDegrees :</span></dt><dd>38.5</dd><dt><span>GRIB_LoVInDegrees :</span></dt><dd>262.5</dd><dt><span>GRIB_NV :</span></dt><dd>0</dd><dt><span>GRIB_Nx :</span></dt><dd>1799</dd><dt><span>GRIB_Ny :</span></dt><dd>1059</dd><dt><span>GRIB_cfName :</span></dt><dd>unknown</dd><dt><span>GRIB_cfVarName :</span></dt><dd>unknown</dd><dt><span>GRIB_gridDefinitionDescription :</span></dt><dd>Lambert Conformal can be secant or tangent, conical or bipolar</dd><dt><span>GRIB_iScansNegatively :</span></dt><dd>0</dd><dt><span>GRIB_jPointsAreConsecutive :</span></dt><dd>0</dd><dt><span>GRIB_jScansPositively :</span></dt><dd>1</dd><dt><span>GRIB_latitudeOfFirstGridPointInDegrees :</span></dt><dd>21.138123</dd><dt><span>GRIB_latitudeOfSouthernPoleInDegrees :</span></dt><dd>0.0</dd><dt><span>GRIB_longitudeOfFirstGridPointInDegrees :</span></dt><dd>237.280472</dd><dt><span>GRIB_longitudeOfSouthernPoleInDegrees :</span></dt><dd>0.0</dd><dt><span>GRIB_missingValue :</span></dt><dd>9999</dd><dt><span>GRIB_name :</span></dt><dd>Lightning</dd><dt><span>GRIB_shortName :</span></dt><dd>ltng</dd><dt><span>GRIB_units :</span></dt><dd>dimensionless</dd><dt><span>long_name :</span></dt><dd>Lightning</dd><dt><span>units :</span></dt><dd>dimensionless</dd><dt><span>standard_name :</span></dt><dd>unknown</dd></dl></div><div class='xr-var-data'><pre>[1905141 values with dtype=float32]</pre></div></li><li class='xr-var-item'><div class='xr-var-name'><span>tcc</span></div><div class='xr-var-dims'>(y, x)</div><div class='xr-var-dtype'>float32</div><div class='xr-var-preview xr-preview'>...</div><input id='attrs-d145a3e7-b683-42a7-9b05-670cbc2f6db3' class='xr-var-attrs-in' type='checkbox' ><label for='attrs-d145a3e7-b683-42a7-9b05-670cbc2f6db3' title='Show/Hide attributes'><svg class='icon xr-icon-file-text2'><use xlink:href='#icon-file-text2'></use></svg></label><input id='data-86969f9f-d6c1-4f39-9893-5829ada718e6' class='xr-var-data-in' type='checkbox'><label for='data-86969f9f-d6c1-4f39-9893-5829ada718e6' title='Show/Hide data repr'><svg class='icon xr-icon-database'><use xlink:href='#icon-database'></use></svg></label><div class='xr-var-attrs'><dl class='xr-attrs'><dt><span>GRIB_paramId :</span></dt><dd>228164</dd><dt><span>GRIB_dataType :</span></dt><dd>fc</dd><dt><span>GRIB_numberOfPoints :</span></dt><dd>1905141</dd><dt><span>GRIB_typeOfLevel :</span></dt><dd>atmosphere</dd><dt><span>GRIB_stepUnits :</span></dt><dd>1</dd><dt><span>GRIB_stepType :</span></dt><dd>instant</dd><dt><span>GRIB_gridType :</span></dt><dd>lambert</dd><dt><span>GRIB_DxInMetres :</span></dt><dd>3000.0</dd><dt><span>GRIB_DyInMetres :</span></dt><dd>3000.0</dd><dt><span>GRIB_LaDInDegrees :</span></dt><dd>38.5</dd><dt><span>GRIB_Latin1InDegrees :</span></dt><dd>38.5</dd><dt><span>GRIB_Latin2InDegrees :</span></dt><dd>38.5</dd><dt><span>GRIB_LoVInDegrees :</span></dt><dd>262.5</dd><dt><span>GRIB_NV :</span></dt><dd>0</dd><dt><span>GRIB_Nx :</span></dt><dd>1799</dd><dt><span>GRIB_Ny :</span></dt><dd>1059</dd><dt><span>GRIB_cfName :</span></dt><dd>unknown</dd><dt><span>GRIB_cfVarName :</span></dt><dd>unknown</dd><dt><span>GRIB_gridDefinitionDescription :</span></dt><dd>Lambert Conformal can be secant or tangent, conical or bipolar</dd><dt><span>GRIB_iScansNegatively :</span></dt><dd>0</dd><dt><span>GRIB_jPointsAreConsecutive :</span></dt><dd>0</dd><dt><span>GRIB_jScansPositively :</span></dt><dd>1</dd><dt><span>GRIB_latitudeOfFirstGridPointInDegrees :</span></dt><dd>21.138123</dd><dt><span>GRIB_latitudeOfSouthernPoleInDegrees :</span></dt><dd>0.0</dd><dt><span>GRIB_longitudeOfFirstGridPointInDegrees :</span></dt><dd>237.280472</dd><dt><span>GRIB_longitudeOfSouthernPoleInDegrees :</span></dt><dd>0.0</dd><dt><span>GRIB_missingValue :</span></dt><dd>9999</dd><dt><span>GRIB_name :</span></dt><dd>Total Cloud Cover</dd><dt><span>GRIB_shortName :</span></dt><dd>tcc</dd><dt><span>GRIB_units :</span></dt><dd>%</dd><dt><span>long_name :</span></dt><dd>Total Cloud Cover</dd><dt><span>units :</span></dt><dd>%</dd><dt><span>standard_name :</span></dt><dd>unknown</dd></dl></div><div class='xr-var-data'><pre>[1905141 values with dtype=float32]</pre></div></li><li class='xr-var-item'><div class='xr-var-name'><span>unknown</span></div><div class='xr-var-dims'>(y, x)</div><div class='xr-var-dtype'>float32</div><div class='xr-var-preview xr-preview'>...</div><input id='attrs-99a88851-20c0-4360-a54e-bb63681e045d' class='xr-var-attrs-in' type='checkbox' ><label for='attrs-99a88851-20c0-4360-a54e-bb63681e045d' title='Show/Hide attributes'><svg class='icon xr-icon-file-text2'><use xlink:href='#icon-file-text2'></use></svg></label><input id='data-d5b424bf-cadd-41eb-860e-48590a67071d' class='xr-var-data-in' type='checkbox'><label for='data-d5b424bf-cadd-41eb-860e-48590a67071d' title='Show/Hide data repr'><svg class='icon xr-icon-database'><use xlink:href='#icon-database'></use></svg></label><div class='xr-var-attrs'><dl class='xr-attrs'><dt><span>GRIB_paramId :</span></dt><dd>0</dd><dt><span>GRIB_dataType :</span></dt><dd>fc</dd><dt><span>GRIB_numberOfPoints :</span></dt><dd>1905141</dd><dt><span>GRIB_typeOfLevel :</span></dt><dd>atmosphere</dd><dt><span>GRIB_stepUnits :</span></dt><dd>1</dd><dt><span>GRIB_stepType :</span></dt><dd>instant</dd><dt><span>GRIB_gridType :</span></dt><dd>lambert</dd><dt><span>GRIB_DxInMetres :</span></dt><dd>3000.0</dd><dt><span>GRIB_DyInMetres :</span></dt><dd>3000.0</dd><dt><span>GRIB_LaDInDegrees :</span></dt><dd>38.5</dd><dt><span>GRIB_Latin1InDegrees :</span></dt><dd>38.5</dd><dt><span>GRIB_Latin2InDegrees :</span></dt><dd>38.5</dd><dt><span>GRIB_LoVInDegrees :</span></dt><dd>262.5</dd><dt><span>GRIB_NV :</span></dt><dd>0</dd><dt><span>GRIB_Nx :</span></dt><dd>1799</dd><dt><span>GRIB_Ny :</span></dt><dd>1059</dd><dt><span>GRIB_cfName :</span></dt><dd>unknown</dd><dt><span>GRIB_cfVarName :</span></dt><dd>unknown</dd><dt><span>GRIB_gridDefinitionDescription :</span></dt><dd>Lambert Conformal can be secant or tangent, conical or bipolar</dd><dt><span>GRIB_iScansNegatively :</span></dt><dd>0</dd><dt><span>GRIB_jPointsAreConsecutive :</span></dt><dd>0</dd><dt><span>GRIB_jScansPositively :</span></dt><dd>1</dd><dt><span>GRIB_latitudeOfFirstGridPointInDegrees :</span></dt><dd>21.138123</dd><dt><span>GRIB_latitudeOfSouthernPoleInDegrees :</span></dt><dd>0.0</dd><dt><span>GRIB_longitudeOfFirstGridPointInDegrees :</span></dt><dd>237.280472</dd><dt><span>GRIB_longitudeOfSouthernPoleInDegrees :</span></dt><dd>0.0</dd><dt><span>GRIB_missingValue :</span></dt><dd>9999</dd><dt><span>GRIB_name :</span></dt><dd>unknown</dd><dt><span>GRIB_shortName :</span></dt><dd>unknown</dd><dt><span>GRIB_units :</span></dt><dd>unknown</dd><dt><span>long_name :</span></dt><dd>unknown</dd><dt><span>units :</span></dt><dd>unknown</dd><dt><span>standard_name :</span></dt><dd>unknown</dd></dl></div><div class='xr-var-data'><pre>[1905141 values with dtype=float32]</pre></div></li></ul></div></li><li class='xr-section-item'><input id='section-71817bee-ec6a-48ad-aead-739705ee7d69' class='xr-section-summary-in' type='checkbox'  checked><label for='section-71817bee-ec6a-48ad-aead-739705ee7d69' class='xr-section-summary' >Attributes: <span>(7)</span></label><div class='xr-section-inline-details'></div><div class='xr-section-details'><dl class='xr-attrs'><dt><span>GRIB_edition :</span></dt><dd>2</dd><dt><span>GRIB_centre :</span></dt><dd>kwbc</dd><dt><span>GRIB_centreDescription :</span></dt><dd>US National Weather Service - NCEP</dd><dt><span>GRIB_subCentre :</span></dt><dd>0</dd><dt><span>Conventions :</span></dt><dd>CF-1.7</dd><dt><span>institution :</span></dt><dd>US National Weather Service - NCEP</dd><dt><span>history :</span></dt><dd>2023-01-25T12:40 GRIB to CDM+CF via cfgrib-0.9.9.1/ecCodes-2.27.1 with {&quot;source&quot;: &quot;/lcrc/project/rainfall/jcorner/MODE_data/202008110000/hrrr_t20200810T0000z_wrfsfcf24.grib2&quot;, &quot;filter_by_keys&quot;: {&quot;typeOfLevel&quot;: &quot;atmosphere&quot;}, &quot;encode_cf&quot;: [&quot;parameter&quot;, &quot;time&quot;, &quot;geography&quot;, &quot;vertical&quot;]}</dd></dl></div></li></ul></div></div>"
      ],
      "text/plain": [
       "<xarray.Dataset>\n",
       "Dimensions:     (y: 1059, x: 1799)\n",
       "Coordinates:\n",
       "    time        datetime64[ns] ...\n",
       "    step        timedelta64[ns] ...\n",
       "    atmosphere  float64 ...\n",
       "    latitude    (y, x) float64 ...\n",
       "    longitude   (y, x) float64 ...\n",
       "    valid_time  datetime64[ns] ...\n",
       "Dimensions without coordinates: y, x\n",
       "Data variables:\n",
       "    refc        (y, x) float32 ...\n",
       "    veril       (y, x) float32 ...\n",
       "    hail        (y, x) float32 ...\n",
       "    ltng        (y, x) float32 ...\n",
       "    tcc         (y, x) float32 ...\n",
       "    unknown     (y, x) float32 ...\n",
       "Attributes:\n",
       "    GRIB_edition:            2\n",
       "    GRIB_centre:             kwbc\n",
       "    GRIB_centreDescription:  US National Weather Service - NCEP\n",
       "    GRIB_subCentre:          0\n",
       "    Conventions:             CF-1.7\n",
       "    institution:             US National Weather Service - NCEP\n",
       "    history:                 2023-01-25T12:40 GRIB to CDM+CF via cfgrib-0.9.9..."
      ]
     },
     "execution_count": 12,
     "metadata": {},
     "output_type": "execute_result"
    }
   ],
   "source": [
    "grib = cfgrib.open_dataset(f'/lcrc/project/rainfall/jcorner/MODE_data'\n",
    "                         f'/{datetime_object.year}0{datetime_object.month}{str(datetime_object.day).zfill(2)}0000/'\n",
    "                         f'hrrr_t2020{str(i[0]).zfill(2)}{str(i[1]).zfill(2)}'\n",
    "                         f'T{str(i[2]).zfill(2)}00z_wrfsfcf{str(i[3]).zfill(2)}.grib2', filter_by_keys={'typeOfLevel': 'atmosphere'})\n",
    "grib"
   ]
  },
  {
   "cell_type": "code",
   "execution_count": null,
   "id": "913344db",
   "metadata": {},
   "outputs": [],
   "source": []
  },
  {
   "cell_type": "code",
   "execution_count": 13,
   "id": "b1b4e38a",
   "metadata": {},
   "outputs": [
    {
     "data": {
      "text/html": [
       "<div><svg style=\"position: absolute; width: 0; height: 0; overflow: hidden\">\n",
       "<defs>\n",
       "<symbol id=\"icon-database\" viewBox=\"0 0 32 32\">\n",
       "<path d=\"M16 0c-8.837 0-16 2.239-16 5v4c0 2.761 7.163 5 16 5s16-2.239 16-5v-4c0-2.761-7.163-5-16-5z\"></path>\n",
       "<path d=\"M16 17c-8.837 0-16-2.239-16-5v6c0 2.761 7.163 5 16 5s16-2.239 16-5v-6c0 2.761-7.163 5-16 5z\"></path>\n",
       "<path d=\"M16 26c-8.837 0-16-2.239-16-5v6c0 2.761 7.163 5 16 5s16-2.239 16-5v-6c0 2.761-7.163 5-16 5z\"></path>\n",
       "</symbol>\n",
       "<symbol id=\"icon-file-text2\" viewBox=\"0 0 32 32\">\n",
       "<path d=\"M28.681 7.159c-0.694-0.947-1.662-2.053-2.724-3.116s-2.169-2.030-3.116-2.724c-1.612-1.182-2.393-1.319-2.841-1.319h-15.5c-1.378 0-2.5 1.121-2.5 2.5v27c0 1.378 1.122 2.5 2.5 2.5h23c1.378 0 2.5-1.122 2.5-2.5v-19.5c0-0.448-0.137-1.23-1.319-2.841zM24.543 5.457c0.959 0.959 1.712 1.825 2.268 2.543h-4.811v-4.811c0.718 0.556 1.584 1.309 2.543 2.268zM28 29.5c0 0.271-0.229 0.5-0.5 0.5h-23c-0.271 0-0.5-0.229-0.5-0.5v-27c0-0.271 0.229-0.5 0.5-0.5 0 0 15.499-0 15.5 0v7c0 0.552 0.448 1 1 1h7v19.5z\"></path>\n",
       "<path d=\"M23 26h-14c-0.552 0-1-0.448-1-1s0.448-1 1-1h14c0.552 0 1 0.448 1 1s-0.448 1-1 1z\"></path>\n",
       "<path d=\"M23 22h-14c-0.552 0-1-0.448-1-1s0.448-1 1-1h14c0.552 0 1 0.448 1 1s-0.448 1-1 1z\"></path>\n",
       "<path d=\"M23 18h-14c-0.552 0-1-0.448-1-1s0.448-1 1-1h14c0.552 0 1 0.448 1 1s-0.448 1-1 1z\"></path>\n",
       "</symbol>\n",
       "</defs>\n",
       "</svg>\n",
       "<style>/* CSS stylesheet for displaying xarray objects in jupyterlab.\n",
       " *\n",
       " */\n",
       "\n",
       ":root {\n",
       "  --xr-font-color0: var(--jp-content-font-color0, rgba(0, 0, 0, 1));\n",
       "  --xr-font-color2: var(--jp-content-font-color2, rgba(0, 0, 0, 0.54));\n",
       "  --xr-font-color3: var(--jp-content-font-color3, rgba(0, 0, 0, 0.38));\n",
       "  --xr-border-color: var(--jp-border-color2, #e0e0e0);\n",
       "  --xr-disabled-color: var(--jp-layout-color3, #bdbdbd);\n",
       "  --xr-background-color: var(--jp-layout-color0, white);\n",
       "  --xr-background-color-row-even: var(--jp-layout-color1, white);\n",
       "  --xr-background-color-row-odd: var(--jp-layout-color2, #eeeeee);\n",
       "}\n",
       "\n",
       "html[theme=dark],\n",
       "body.vscode-dark {\n",
       "  --xr-font-color0: rgba(255, 255, 255, 1);\n",
       "  --xr-font-color2: rgba(255, 255, 255, 0.54);\n",
       "  --xr-font-color3: rgba(255, 255, 255, 0.38);\n",
       "  --xr-border-color: #1F1F1F;\n",
       "  --xr-disabled-color: #515151;\n",
       "  --xr-background-color: #111111;\n",
       "  --xr-background-color-row-even: #111111;\n",
       "  --xr-background-color-row-odd: #313131;\n",
       "}\n",
       "\n",
       ".xr-wrap {\n",
       "  display: block;\n",
       "  min-width: 300px;\n",
       "  max-width: 700px;\n",
       "}\n",
       "\n",
       ".xr-text-repr-fallback {\n",
       "  /* fallback to plain text repr when CSS is not injected (untrusted notebook) */\n",
       "  display: none;\n",
       "}\n",
       "\n",
       ".xr-header {\n",
       "  padding-top: 6px;\n",
       "  padding-bottom: 6px;\n",
       "  margin-bottom: 4px;\n",
       "  border-bottom: solid 1px var(--xr-border-color);\n",
       "}\n",
       "\n",
       ".xr-header > div,\n",
       ".xr-header > ul {\n",
       "  display: inline;\n",
       "  margin-top: 0;\n",
       "  margin-bottom: 0;\n",
       "}\n",
       "\n",
       ".xr-obj-type,\n",
       ".xr-array-name {\n",
       "  margin-left: 2px;\n",
       "  margin-right: 10px;\n",
       "}\n",
       "\n",
       ".xr-obj-type {\n",
       "  color: var(--xr-font-color2);\n",
       "}\n",
       "\n",
       ".xr-sections {\n",
       "  padding-left: 0 !important;\n",
       "  display: grid;\n",
       "  grid-template-columns: 150px auto auto 1fr 20px 20px;\n",
       "}\n",
       "\n",
       ".xr-section-item {\n",
       "  display: contents;\n",
       "}\n",
       "\n",
       ".xr-section-item input {\n",
       "  display: none;\n",
       "}\n",
       "\n",
       ".xr-section-item input + label {\n",
       "  color: var(--xr-disabled-color);\n",
       "}\n",
       "\n",
       ".xr-section-item input:enabled + label {\n",
       "  cursor: pointer;\n",
       "  color: var(--xr-font-color2);\n",
       "}\n",
       "\n",
       ".xr-section-item input:enabled + label:hover {\n",
       "  color: var(--xr-font-color0);\n",
       "}\n",
       "\n",
       ".xr-section-summary {\n",
       "  grid-column: 1;\n",
       "  color: var(--xr-font-color2);\n",
       "  font-weight: 500;\n",
       "}\n",
       "\n",
       ".xr-section-summary > span {\n",
       "  display: inline-block;\n",
       "  padding-left: 0.5em;\n",
       "}\n",
       "\n",
       ".xr-section-summary-in:disabled + label {\n",
       "  color: var(--xr-font-color2);\n",
       "}\n",
       "\n",
       ".xr-section-summary-in + label:before {\n",
       "  display: inline-block;\n",
       "  content: '►';\n",
       "  font-size: 11px;\n",
       "  width: 15px;\n",
       "  text-align: center;\n",
       "}\n",
       "\n",
       ".xr-section-summary-in:disabled + label:before {\n",
       "  color: var(--xr-disabled-color);\n",
       "}\n",
       "\n",
       ".xr-section-summary-in:checked + label:before {\n",
       "  content: '▼';\n",
       "}\n",
       "\n",
       ".xr-section-summary-in:checked + label > span {\n",
       "  display: none;\n",
       "}\n",
       "\n",
       ".xr-section-summary,\n",
       ".xr-section-inline-details {\n",
       "  padding-top: 4px;\n",
       "  padding-bottom: 4px;\n",
       "}\n",
       "\n",
       ".xr-section-inline-details {\n",
       "  grid-column: 2 / -1;\n",
       "}\n",
       "\n",
       ".xr-section-details {\n",
       "  display: none;\n",
       "  grid-column: 1 / -1;\n",
       "  margin-bottom: 5px;\n",
       "}\n",
       "\n",
       ".xr-section-summary-in:checked ~ .xr-section-details {\n",
       "  display: contents;\n",
       "}\n",
       "\n",
       ".xr-array-wrap {\n",
       "  grid-column: 1 / -1;\n",
       "  display: grid;\n",
       "  grid-template-columns: 20px auto;\n",
       "}\n",
       "\n",
       ".xr-array-wrap > label {\n",
       "  grid-column: 1;\n",
       "  vertical-align: top;\n",
       "}\n",
       "\n",
       ".xr-preview {\n",
       "  color: var(--xr-font-color3);\n",
       "}\n",
       "\n",
       ".xr-array-preview,\n",
       ".xr-array-data {\n",
       "  padding: 0 5px !important;\n",
       "  grid-column: 2;\n",
       "}\n",
       "\n",
       ".xr-array-data,\n",
       ".xr-array-in:checked ~ .xr-array-preview {\n",
       "  display: none;\n",
       "}\n",
       "\n",
       ".xr-array-in:checked ~ .xr-array-data,\n",
       ".xr-array-preview {\n",
       "  display: inline-block;\n",
       "}\n",
       "\n",
       ".xr-dim-list {\n",
       "  display: inline-block !important;\n",
       "  list-style: none;\n",
       "  padding: 0 !important;\n",
       "  margin: 0;\n",
       "}\n",
       "\n",
       ".xr-dim-list li {\n",
       "  display: inline-block;\n",
       "  padding: 0;\n",
       "  margin: 0;\n",
       "}\n",
       "\n",
       ".xr-dim-list:before {\n",
       "  content: '(';\n",
       "}\n",
       "\n",
       ".xr-dim-list:after {\n",
       "  content: ')';\n",
       "}\n",
       "\n",
       ".xr-dim-list li:not(:last-child):after {\n",
       "  content: ',';\n",
       "  padding-right: 5px;\n",
       "}\n",
       "\n",
       ".xr-has-index {\n",
       "  font-weight: bold;\n",
       "}\n",
       "\n",
       ".xr-var-list,\n",
       ".xr-var-item {\n",
       "  display: contents;\n",
       "}\n",
       "\n",
       ".xr-var-item > div,\n",
       ".xr-var-item label,\n",
       ".xr-var-item > .xr-var-name span {\n",
       "  background-color: var(--xr-background-color-row-even);\n",
       "  margin-bottom: 0;\n",
       "}\n",
       "\n",
       ".xr-var-item > .xr-var-name:hover span {\n",
       "  padding-right: 5px;\n",
       "}\n",
       "\n",
       ".xr-var-list > li:nth-child(odd) > div,\n",
       ".xr-var-list > li:nth-child(odd) > label,\n",
       ".xr-var-list > li:nth-child(odd) > .xr-var-name span {\n",
       "  background-color: var(--xr-background-color-row-odd);\n",
       "}\n",
       "\n",
       ".xr-var-name {\n",
       "  grid-column: 1;\n",
       "}\n",
       "\n",
       ".xr-var-dims {\n",
       "  grid-column: 2;\n",
       "}\n",
       "\n",
       ".xr-var-dtype {\n",
       "  grid-column: 3;\n",
       "  text-align: right;\n",
       "  color: var(--xr-font-color2);\n",
       "}\n",
       "\n",
       ".xr-var-preview {\n",
       "  grid-column: 4;\n",
       "}\n",
       "\n",
       ".xr-var-name,\n",
       ".xr-var-dims,\n",
       ".xr-var-dtype,\n",
       ".xr-preview,\n",
       ".xr-attrs dt {\n",
       "  white-space: nowrap;\n",
       "  overflow: hidden;\n",
       "  text-overflow: ellipsis;\n",
       "  padding-right: 10px;\n",
       "}\n",
       "\n",
       ".xr-var-name:hover,\n",
       ".xr-var-dims:hover,\n",
       ".xr-var-dtype:hover,\n",
       ".xr-attrs dt:hover {\n",
       "  overflow: visible;\n",
       "  width: auto;\n",
       "  z-index: 1;\n",
       "}\n",
       "\n",
       ".xr-var-attrs,\n",
       ".xr-var-data {\n",
       "  display: none;\n",
       "  background-color: var(--xr-background-color) !important;\n",
       "  padding-bottom: 5px !important;\n",
       "}\n",
       "\n",
       ".xr-var-attrs-in:checked ~ .xr-var-attrs,\n",
       ".xr-var-data-in:checked ~ .xr-var-data {\n",
       "  display: block;\n",
       "}\n",
       "\n",
       ".xr-var-data > table {\n",
       "  float: right;\n",
       "}\n",
       "\n",
       ".xr-var-name span,\n",
       ".xr-var-data,\n",
       ".xr-attrs {\n",
       "  padding-left: 25px !important;\n",
       "}\n",
       "\n",
       ".xr-attrs,\n",
       ".xr-var-attrs,\n",
       ".xr-var-data {\n",
       "  grid-column: 1 / -1;\n",
       "}\n",
       "\n",
       "dl.xr-attrs {\n",
       "  padding: 0;\n",
       "  margin: 0;\n",
       "  display: grid;\n",
       "  grid-template-columns: 125px auto;\n",
       "}\n",
       "\n",
       ".xr-attrs dt,\n",
       ".xr-attrs dd {\n",
       "  padding: 0;\n",
       "  margin: 0;\n",
       "  float: left;\n",
       "  padding-right: 10px;\n",
       "  width: auto;\n",
       "}\n",
       "\n",
       ".xr-attrs dt {\n",
       "  font-weight: normal;\n",
       "  grid-column: 1;\n",
       "}\n",
       "\n",
       ".xr-attrs dt:hover span {\n",
       "  display: inline-block;\n",
       "  background: var(--xr-background-color);\n",
       "  padding-right: 10px;\n",
       "}\n",
       "\n",
       ".xr-attrs dd {\n",
       "  grid-column: 2;\n",
       "  white-space: pre-wrap;\n",
       "  word-break: break-all;\n",
       "}\n",
       "\n",
       ".xr-icon-database,\n",
       ".xr-icon-file-text2 {\n",
       "  display: inline-block;\n",
       "  vertical-align: middle;\n",
       "  width: 1em;\n",
       "  height: 1.5em !important;\n",
       "  stroke-width: 0;\n",
       "  stroke: currentColor;\n",
       "  fill: currentColor;\n",
       "}\n",
       "</style><pre class='xr-text-repr-fallback'>&lt;xarray.Dataset&gt;\n",
       "Dimensions:     (latitude: 1059, longitude: 1799, y: 1059, x: 1799, lat: 1059, lon: 1799)\n",
       "Coordinates:\n",
       "    time        datetime64[ns] 2020-08-10\n",
       "    step        timedelta64[ns] 1 days\n",
       "    atmosphere  float64 0.0\n",
       "    latitude    (lat, lon) float64 ...\n",
       "    longitude   (lat, lon) float64 ...\n",
       "    valid_time  datetime64[ns] 2020-08-11\n",
       "Dimensions without coordinates: y, x, lat, lon\n",
       "Data variables:\n",
       "    refc        (latitude, longitude) float64 ...\n",
       "    veril       (y, x) float32 ...\n",
       "    hail        (y, x) float32 ...\n",
       "    ltng        (y, x) float32 ...\n",
       "    tcc         (y, x) float32 ...\n",
       "    unknown     (y, x) float32 ...\n",
       "Attributes:\n",
       "    GRIB_edition:            2\n",
       "    GRIB_centre:             kwbc\n",
       "    GRIB_centreDescription:  US National Weather Service - NCEP\n",
       "    GRIB_subCentre:          0\n",
       "    Conventions:             CF-1.7\n",
       "    institution:             US National Weather Service - NCEP\n",
       "    history:                 2023-01-25T12:40 GRIB to CDM+CF via cfgrib-0.9.9...</pre><div class='xr-wrap' hidden><div class='xr-header'><div class='xr-obj-type'>xarray.Dataset</div></div><ul class='xr-sections'><li class='xr-section-item'><input id='section-1eec27c5-0a53-4854-b6f4-89b6c8331f44' class='xr-section-summary-in' type='checkbox' disabled ><label for='section-1eec27c5-0a53-4854-b6f4-89b6c8331f44' class='xr-section-summary'  title='Expand/collapse section'>Dimensions:</label><div class='xr-section-inline-details'><ul class='xr-dim-list'><li><span class='xr-has-index'>latitude</span>: 1059</li><li><span class='xr-has-index'>longitude</span>: 1799</li><li><span>y</span>: 1059</li><li><span>x</span>: 1799</li><li><span>lat</span>: 1059</li><li><span>lon</span>: 1799</li></ul></div><div class='xr-section-details'></div></li><li class='xr-section-item'><input id='section-09a8f64c-e86d-4730-931b-403eeb57b031' class='xr-section-summary-in' type='checkbox'  checked><label for='section-09a8f64c-e86d-4730-931b-403eeb57b031' class='xr-section-summary' >Coordinates: <span>(6)</span></label><div class='xr-section-inline-details'></div><div class='xr-section-details'><ul class='xr-var-list'><li class='xr-var-item'><div class='xr-var-name'><span>time</span></div><div class='xr-var-dims'>()</div><div class='xr-var-dtype'>datetime64[ns]</div><div class='xr-var-preview xr-preview'>...</div><input id='attrs-fbcc0b7b-08fe-4e45-9bc4-beed16c9f54d' class='xr-var-attrs-in' type='checkbox' ><label for='attrs-fbcc0b7b-08fe-4e45-9bc4-beed16c9f54d' title='Show/Hide attributes'><svg class='icon xr-icon-file-text2'><use xlink:href='#icon-file-text2'></use></svg></label><input id='data-76b6f9a1-212e-491b-803b-7ce3ce7cf17d' class='xr-var-data-in' type='checkbox'><label for='data-76b6f9a1-212e-491b-803b-7ce3ce7cf17d' title='Show/Hide data repr'><svg class='icon xr-icon-database'><use xlink:href='#icon-database'></use></svg></label><div class='xr-var-attrs'><dl class='xr-attrs'><dt><span>long_name :</span></dt><dd>initial time of forecast</dd><dt><span>standard_name :</span></dt><dd>forecast_reference_time</dd></dl></div><div class='xr-var-data'><pre>array(&#x27;2020-08-10T00:00:00.000000000&#x27;, dtype=&#x27;datetime64[ns]&#x27;)</pre></div></li><li class='xr-var-item'><div class='xr-var-name'><span>step</span></div><div class='xr-var-dims'>()</div><div class='xr-var-dtype'>timedelta64[ns]</div><div class='xr-var-preview xr-preview'>...</div><input id='attrs-f6a40917-8d8e-4944-84a4-036424a617bf' class='xr-var-attrs-in' type='checkbox' ><label for='attrs-f6a40917-8d8e-4944-84a4-036424a617bf' title='Show/Hide attributes'><svg class='icon xr-icon-file-text2'><use xlink:href='#icon-file-text2'></use></svg></label><input id='data-95b38246-5f84-4687-8746-0f74871a664c' class='xr-var-data-in' type='checkbox'><label for='data-95b38246-5f84-4687-8746-0f74871a664c' title='Show/Hide data repr'><svg class='icon xr-icon-database'><use xlink:href='#icon-database'></use></svg></label><div class='xr-var-attrs'><dl class='xr-attrs'><dt><span>long_name :</span></dt><dd>time since forecast_reference_time</dd><dt><span>standard_name :</span></dt><dd>forecast_period</dd></dl></div><div class='xr-var-data'><pre>array(86400000000000, dtype=&#x27;timedelta64[ns]&#x27;)</pre></div></li><li class='xr-var-item'><div class='xr-var-name'><span>atmosphere</span></div><div class='xr-var-dims'>()</div><div class='xr-var-dtype'>float64</div><div class='xr-var-preview xr-preview'>...</div><input id='attrs-510c0a79-a79d-4b4e-a75b-bdd0e1a76bea' class='xr-var-attrs-in' type='checkbox' ><label for='attrs-510c0a79-a79d-4b4e-a75b-bdd0e1a76bea' title='Show/Hide attributes'><svg class='icon xr-icon-file-text2'><use xlink:href='#icon-file-text2'></use></svg></label><input id='data-df54611d-0214-4349-9ca6-007c0be3520a' class='xr-var-data-in' type='checkbox'><label for='data-df54611d-0214-4349-9ca6-007c0be3520a' title='Show/Hide data repr'><svg class='icon xr-icon-database'><use xlink:href='#icon-database'></use></svg></label><div class='xr-var-attrs'><dl class='xr-attrs'><dt><span>long_name :</span></dt><dd>original GRIB coordinate for key: level(atmosphere)</dd><dt><span>units :</span></dt><dd>1</dd></dl></div><div class='xr-var-data'><pre>array(0.)</pre></div></li><li class='xr-var-item'><div class='xr-var-name'><span>latitude</span></div><div class='xr-var-dims'>(lat, lon)</div><div class='xr-var-dtype'>float64</div><div class='xr-var-preview xr-preview'>...</div><input id='attrs-03cffd94-6067-4da9-af5a-81aea2689407' class='xr-var-attrs-in' type='checkbox' disabled><label for='attrs-03cffd94-6067-4da9-af5a-81aea2689407' title='Show/Hide attributes'><svg class='icon xr-icon-file-text2'><use xlink:href='#icon-file-text2'></use></svg></label><input id='data-fe32e5bd-e954-4186-9719-fcbd1ad53344' class='xr-var-data-in' type='checkbox'><label for='data-fe32e5bd-e954-4186-9719-fcbd1ad53344' title='Show/Hide data repr'><svg class='icon xr-icon-database'><use xlink:href='#icon-database'></use></svg></label><div class='xr-var-attrs'><dl class='xr-attrs'></dl></div><div class='xr-var-data'><pre>[1905141 values with dtype=float64]</pre></div></li><li class='xr-var-item'><div class='xr-var-name'><span>longitude</span></div><div class='xr-var-dims'>(lat, lon)</div><div class='xr-var-dtype'>float64</div><div class='xr-var-preview xr-preview'>...</div><input id='attrs-0a3fdd0d-da51-421c-9fdc-8edf3b0fbce8' class='xr-var-attrs-in' type='checkbox' disabled><label for='attrs-0a3fdd0d-da51-421c-9fdc-8edf3b0fbce8' title='Show/Hide attributes'><svg class='icon xr-icon-file-text2'><use xlink:href='#icon-file-text2'></use></svg></label><input id='data-cb278999-7a43-477a-84cd-a569abfa0b7a' class='xr-var-data-in' type='checkbox'><label for='data-cb278999-7a43-477a-84cd-a569abfa0b7a' title='Show/Hide data repr'><svg class='icon xr-icon-database'><use xlink:href='#icon-database'></use></svg></label><div class='xr-var-attrs'><dl class='xr-attrs'></dl></div><div class='xr-var-data'><pre>[1905141 values with dtype=float64]</pre></div></li><li class='xr-var-item'><div class='xr-var-name'><span>valid_time</span></div><div class='xr-var-dims'>()</div><div class='xr-var-dtype'>datetime64[ns]</div><div class='xr-var-preview xr-preview'>...</div><input id='attrs-a6dcb50a-a79b-4adc-9467-05f0a56b26c3' class='xr-var-attrs-in' type='checkbox' ><label for='attrs-a6dcb50a-a79b-4adc-9467-05f0a56b26c3' title='Show/Hide attributes'><svg class='icon xr-icon-file-text2'><use xlink:href='#icon-file-text2'></use></svg></label><input id='data-cc5602a4-22e0-4a7f-b17d-3cf012c5e735' class='xr-var-data-in' type='checkbox'><label for='data-cc5602a4-22e0-4a7f-b17d-3cf012c5e735' title='Show/Hide data repr'><svg class='icon xr-icon-database'><use xlink:href='#icon-database'></use></svg></label><div class='xr-var-attrs'><dl class='xr-attrs'><dt><span>standard_name :</span></dt><dd>time</dd><dt><span>long_name :</span></dt><dd>time</dd></dl></div><div class='xr-var-data'><pre>array(&#x27;2020-08-11T00:00:00.000000000&#x27;, dtype=&#x27;datetime64[ns]&#x27;)</pre></div></li></ul></div></li><li class='xr-section-item'><input id='section-8acc96f8-b982-40da-af50-c4813a43f061' class='xr-section-summary-in' type='checkbox'  checked><label for='section-8acc96f8-b982-40da-af50-c4813a43f061' class='xr-section-summary' >Data variables: <span>(6)</span></label><div class='xr-section-inline-details'></div><div class='xr-section-details'><ul class='xr-var-list'><li class='xr-var-item'><div class='xr-var-name'><span>refc</span></div><div class='xr-var-dims'>(latitude, longitude)</div><div class='xr-var-dtype'>float64</div><div class='xr-var-preview xr-preview'>...</div><input id='attrs-c281a553-6c1e-450f-97dc-f5612a687195' class='xr-var-attrs-in' type='checkbox' disabled><label for='attrs-c281a553-6c1e-450f-97dc-f5612a687195' title='Show/Hide attributes'><svg class='icon xr-icon-file-text2'><use xlink:href='#icon-file-text2'></use></svg></label><input id='data-01adb8db-041b-4a36-a123-5911dc86cade' class='xr-var-data-in' type='checkbox'><label for='data-01adb8db-041b-4a36-a123-5911dc86cade' title='Show/Hide data repr'><svg class='icon xr-icon-database'><use xlink:href='#icon-database'></use></svg></label><div class='xr-var-attrs'><dl class='xr-attrs'></dl></div><div class='xr-var-data'><pre>[1905141 values with dtype=float64]</pre></div></li><li class='xr-var-item'><div class='xr-var-name'><span>veril</span></div><div class='xr-var-dims'>(y, x)</div><div class='xr-var-dtype'>float32</div><div class='xr-var-preview xr-preview'>...</div><input id='attrs-c2ed295d-fff0-492b-9ea2-99df549d6a08' class='xr-var-attrs-in' type='checkbox' ><label for='attrs-c2ed295d-fff0-492b-9ea2-99df549d6a08' title='Show/Hide attributes'><svg class='icon xr-icon-file-text2'><use xlink:href='#icon-file-text2'></use></svg></label><input id='data-87cead68-6628-4ac4-85b8-2e086cea110a' class='xr-var-data-in' type='checkbox'><label for='data-87cead68-6628-4ac4-85b8-2e086cea110a' title='Show/Hide data repr'><svg class='icon xr-icon-database'><use xlink:href='#icon-database'></use></svg></label><div class='xr-var-attrs'><dl class='xr-attrs'><dt><span>GRIB_paramId :</span></dt><dd>260136</dd><dt><span>GRIB_dataType :</span></dt><dd>fc</dd><dt><span>GRIB_numberOfPoints :</span></dt><dd>1905141</dd><dt><span>GRIB_typeOfLevel :</span></dt><dd>atmosphere</dd><dt><span>GRIB_stepUnits :</span></dt><dd>1</dd><dt><span>GRIB_stepType :</span></dt><dd>instant</dd><dt><span>GRIB_gridType :</span></dt><dd>lambert</dd><dt><span>GRIB_DxInMetres :</span></dt><dd>3000.0</dd><dt><span>GRIB_DyInMetres :</span></dt><dd>3000.0</dd><dt><span>GRIB_LaDInDegrees :</span></dt><dd>38.5</dd><dt><span>GRIB_Latin1InDegrees :</span></dt><dd>38.5</dd><dt><span>GRIB_Latin2InDegrees :</span></dt><dd>38.5</dd><dt><span>GRIB_LoVInDegrees :</span></dt><dd>262.5</dd><dt><span>GRIB_NV :</span></dt><dd>0</dd><dt><span>GRIB_Nx :</span></dt><dd>1799</dd><dt><span>GRIB_Ny :</span></dt><dd>1059</dd><dt><span>GRIB_cfName :</span></dt><dd>unknown</dd><dt><span>GRIB_cfVarName :</span></dt><dd>veril</dd><dt><span>GRIB_gridDefinitionDescription :</span></dt><dd>Lambert Conformal can be secant or tangent, conical or bipolar</dd><dt><span>GRIB_iScansNegatively :</span></dt><dd>0</dd><dt><span>GRIB_jPointsAreConsecutive :</span></dt><dd>0</dd><dt><span>GRIB_jScansPositively :</span></dt><dd>1</dd><dt><span>GRIB_latitudeOfFirstGridPointInDegrees :</span></dt><dd>21.138123</dd><dt><span>GRIB_latitudeOfSouthernPoleInDegrees :</span></dt><dd>0.0</dd><dt><span>GRIB_longitudeOfFirstGridPointInDegrees :</span></dt><dd>237.280472</dd><dt><span>GRIB_longitudeOfSouthernPoleInDegrees :</span></dt><dd>0.0</dd><dt><span>GRIB_missingValue :</span></dt><dd>9999</dd><dt><span>GRIB_name :</span></dt><dd>Vertically-integrated liquid</dd><dt><span>GRIB_shortName :</span></dt><dd>veril</dd><dt><span>GRIB_units :</span></dt><dd>kg m**-1</dd><dt><span>long_name :</span></dt><dd>Vertically-integrated liquid</dd><dt><span>units :</span></dt><dd>kg m**-1</dd><dt><span>standard_name :</span></dt><dd>unknown</dd></dl></div><div class='xr-var-data'><pre>[1905141 values with dtype=float32]</pre></div></li><li class='xr-var-item'><div class='xr-var-name'><span>hail</span></div><div class='xr-var-dims'>(y, x)</div><div class='xr-var-dtype'>float32</div><div class='xr-var-preview xr-preview'>...</div><input id='attrs-a1ea5f3d-0941-4934-95cc-3c2391ffb40d' class='xr-var-attrs-in' type='checkbox' ><label for='attrs-a1ea5f3d-0941-4934-95cc-3c2391ffb40d' title='Show/Hide attributes'><svg class='icon xr-icon-file-text2'><use xlink:href='#icon-file-text2'></use></svg></label><input id='data-5d40fc5f-0d22-43f0-81fa-fcad82f7b5e7' class='xr-var-data-in' type='checkbox'><label for='data-5d40fc5f-0d22-43f0-81fa-fcad82f7b5e7' title='Show/Hide data repr'><svg class='icon xr-icon-database'><use xlink:href='#icon-database'></use></svg></label><div class='xr-var-attrs'><dl class='xr-attrs'><dt><span>GRIB_paramId :</span></dt><dd>260027</dd><dt><span>GRIB_dataType :</span></dt><dd>fc</dd><dt><span>GRIB_numberOfPoints :</span></dt><dd>1905141</dd><dt><span>GRIB_typeOfLevel :</span></dt><dd>atmosphere</dd><dt><span>GRIB_stepUnits :</span></dt><dd>1</dd><dt><span>GRIB_stepType :</span></dt><dd>max</dd><dt><span>GRIB_gridType :</span></dt><dd>lambert</dd><dt><span>GRIB_DxInMetres :</span></dt><dd>3000.0</dd><dt><span>GRIB_DyInMetres :</span></dt><dd>3000.0</dd><dt><span>GRIB_LaDInDegrees :</span></dt><dd>38.5</dd><dt><span>GRIB_Latin1InDegrees :</span></dt><dd>38.5</dd><dt><span>GRIB_Latin2InDegrees :</span></dt><dd>38.5</dd><dt><span>GRIB_LoVInDegrees :</span></dt><dd>262.5</dd><dt><span>GRIB_NV :</span></dt><dd>0</dd><dt><span>GRIB_Nx :</span></dt><dd>1799</dd><dt><span>GRIB_Ny :</span></dt><dd>1059</dd><dt><span>GRIB_cfName :</span></dt><dd>unknown</dd><dt><span>GRIB_cfVarName :</span></dt><dd>hail</dd><dt><span>GRIB_gridDefinitionDescription :</span></dt><dd>Lambert Conformal can be secant or tangent, conical or bipolar</dd><dt><span>GRIB_iScansNegatively :</span></dt><dd>0</dd><dt><span>GRIB_jPointsAreConsecutive :</span></dt><dd>0</dd><dt><span>GRIB_jScansPositively :</span></dt><dd>1</dd><dt><span>GRIB_latitudeOfFirstGridPointInDegrees :</span></dt><dd>21.138123</dd><dt><span>GRIB_latitudeOfSouthernPoleInDegrees :</span></dt><dd>0.0</dd><dt><span>GRIB_longitudeOfFirstGridPointInDegrees :</span></dt><dd>237.280472</dd><dt><span>GRIB_longitudeOfSouthernPoleInDegrees :</span></dt><dd>0.0</dd><dt><span>GRIB_missingValue :</span></dt><dd>9999</dd><dt><span>GRIB_name :</span></dt><dd>Hail</dd><dt><span>GRIB_shortName :</span></dt><dd>hail</dd><dt><span>GRIB_units :</span></dt><dd>m</dd><dt><span>long_name :</span></dt><dd>Hail</dd><dt><span>units :</span></dt><dd>m</dd><dt><span>standard_name :</span></dt><dd>unknown</dd></dl></div><div class='xr-var-data'><pre>[1905141 values with dtype=float32]</pre></div></li><li class='xr-var-item'><div class='xr-var-name'><span>ltng</span></div><div class='xr-var-dims'>(y, x)</div><div class='xr-var-dtype'>float32</div><div class='xr-var-preview xr-preview'>...</div><input id='attrs-8fc3125a-e2be-49a1-bbdb-4643470bd291' class='xr-var-attrs-in' type='checkbox' ><label for='attrs-8fc3125a-e2be-49a1-bbdb-4643470bd291' title='Show/Hide attributes'><svg class='icon xr-icon-file-text2'><use xlink:href='#icon-file-text2'></use></svg></label><input id='data-2eafc119-fff6-4da5-9928-13ec96402b9f' class='xr-var-data-in' type='checkbox'><label for='data-2eafc119-fff6-4da5-9928-13ec96402b9f' title='Show/Hide data repr'><svg class='icon xr-icon-database'><use xlink:href='#icon-database'></use></svg></label><div class='xr-var-attrs'><dl class='xr-attrs'><dt><span>GRIB_paramId :</span></dt><dd>260391</dd><dt><span>GRIB_dataType :</span></dt><dd>fc</dd><dt><span>GRIB_numberOfPoints :</span></dt><dd>1905141</dd><dt><span>GRIB_typeOfLevel :</span></dt><dd>atmosphere</dd><dt><span>GRIB_stepUnits :</span></dt><dd>1</dd><dt><span>GRIB_stepType :</span></dt><dd>instant</dd><dt><span>GRIB_gridType :</span></dt><dd>lambert</dd><dt><span>GRIB_DxInMetres :</span></dt><dd>3000.0</dd><dt><span>GRIB_DyInMetres :</span></dt><dd>3000.0</dd><dt><span>GRIB_LaDInDegrees :</span></dt><dd>38.5</dd><dt><span>GRIB_Latin1InDegrees :</span></dt><dd>38.5</dd><dt><span>GRIB_Latin2InDegrees :</span></dt><dd>38.5</dd><dt><span>GRIB_LoVInDegrees :</span></dt><dd>262.5</dd><dt><span>GRIB_NV :</span></dt><dd>0</dd><dt><span>GRIB_Nx :</span></dt><dd>1799</dd><dt><span>GRIB_Ny :</span></dt><dd>1059</dd><dt><span>GRIB_cfName :</span></dt><dd>unknown</dd><dt><span>GRIB_cfVarName :</span></dt><dd>unknown</dd><dt><span>GRIB_gridDefinitionDescription :</span></dt><dd>Lambert Conformal can be secant or tangent, conical or bipolar</dd><dt><span>GRIB_iScansNegatively :</span></dt><dd>0</dd><dt><span>GRIB_jPointsAreConsecutive :</span></dt><dd>0</dd><dt><span>GRIB_jScansPositively :</span></dt><dd>1</dd><dt><span>GRIB_latitudeOfFirstGridPointInDegrees :</span></dt><dd>21.138123</dd><dt><span>GRIB_latitudeOfSouthernPoleInDegrees :</span></dt><dd>0.0</dd><dt><span>GRIB_longitudeOfFirstGridPointInDegrees :</span></dt><dd>237.280472</dd><dt><span>GRIB_longitudeOfSouthernPoleInDegrees :</span></dt><dd>0.0</dd><dt><span>GRIB_missingValue :</span></dt><dd>9999</dd><dt><span>GRIB_name :</span></dt><dd>Lightning</dd><dt><span>GRIB_shortName :</span></dt><dd>ltng</dd><dt><span>GRIB_units :</span></dt><dd>dimensionless</dd><dt><span>long_name :</span></dt><dd>Lightning</dd><dt><span>units :</span></dt><dd>dimensionless</dd><dt><span>standard_name :</span></dt><dd>unknown</dd></dl></div><div class='xr-var-data'><pre>[1905141 values with dtype=float32]</pre></div></li><li class='xr-var-item'><div class='xr-var-name'><span>tcc</span></div><div class='xr-var-dims'>(y, x)</div><div class='xr-var-dtype'>float32</div><div class='xr-var-preview xr-preview'>...</div><input id='attrs-5ad841d2-8573-4907-81c9-cfca65598bff' class='xr-var-attrs-in' type='checkbox' ><label for='attrs-5ad841d2-8573-4907-81c9-cfca65598bff' title='Show/Hide attributes'><svg class='icon xr-icon-file-text2'><use xlink:href='#icon-file-text2'></use></svg></label><input id='data-b822b1ee-d515-489c-af9f-9b3b416a44ac' class='xr-var-data-in' type='checkbox'><label for='data-b822b1ee-d515-489c-af9f-9b3b416a44ac' title='Show/Hide data repr'><svg class='icon xr-icon-database'><use xlink:href='#icon-database'></use></svg></label><div class='xr-var-attrs'><dl class='xr-attrs'><dt><span>GRIB_paramId :</span></dt><dd>228164</dd><dt><span>GRIB_dataType :</span></dt><dd>fc</dd><dt><span>GRIB_numberOfPoints :</span></dt><dd>1905141</dd><dt><span>GRIB_typeOfLevel :</span></dt><dd>atmosphere</dd><dt><span>GRIB_stepUnits :</span></dt><dd>1</dd><dt><span>GRIB_stepType :</span></dt><dd>instant</dd><dt><span>GRIB_gridType :</span></dt><dd>lambert</dd><dt><span>GRIB_DxInMetres :</span></dt><dd>3000.0</dd><dt><span>GRIB_DyInMetres :</span></dt><dd>3000.0</dd><dt><span>GRIB_LaDInDegrees :</span></dt><dd>38.5</dd><dt><span>GRIB_Latin1InDegrees :</span></dt><dd>38.5</dd><dt><span>GRIB_Latin2InDegrees :</span></dt><dd>38.5</dd><dt><span>GRIB_LoVInDegrees :</span></dt><dd>262.5</dd><dt><span>GRIB_NV :</span></dt><dd>0</dd><dt><span>GRIB_Nx :</span></dt><dd>1799</dd><dt><span>GRIB_Ny :</span></dt><dd>1059</dd><dt><span>GRIB_cfName :</span></dt><dd>unknown</dd><dt><span>GRIB_cfVarName :</span></dt><dd>unknown</dd><dt><span>GRIB_gridDefinitionDescription :</span></dt><dd>Lambert Conformal can be secant or tangent, conical or bipolar</dd><dt><span>GRIB_iScansNegatively :</span></dt><dd>0</dd><dt><span>GRIB_jPointsAreConsecutive :</span></dt><dd>0</dd><dt><span>GRIB_jScansPositively :</span></dt><dd>1</dd><dt><span>GRIB_latitudeOfFirstGridPointInDegrees :</span></dt><dd>21.138123</dd><dt><span>GRIB_latitudeOfSouthernPoleInDegrees :</span></dt><dd>0.0</dd><dt><span>GRIB_longitudeOfFirstGridPointInDegrees :</span></dt><dd>237.280472</dd><dt><span>GRIB_longitudeOfSouthernPoleInDegrees :</span></dt><dd>0.0</dd><dt><span>GRIB_missingValue :</span></dt><dd>9999</dd><dt><span>GRIB_name :</span></dt><dd>Total Cloud Cover</dd><dt><span>GRIB_shortName :</span></dt><dd>tcc</dd><dt><span>GRIB_units :</span></dt><dd>%</dd><dt><span>long_name :</span></dt><dd>Total Cloud Cover</dd><dt><span>units :</span></dt><dd>%</dd><dt><span>standard_name :</span></dt><dd>unknown</dd></dl></div><div class='xr-var-data'><pre>[1905141 values with dtype=float32]</pre></div></li><li class='xr-var-item'><div class='xr-var-name'><span>unknown</span></div><div class='xr-var-dims'>(y, x)</div><div class='xr-var-dtype'>float32</div><div class='xr-var-preview xr-preview'>...</div><input id='attrs-4c1e5c23-e1aa-4633-ab98-a8e8daf88ff0' class='xr-var-attrs-in' type='checkbox' ><label for='attrs-4c1e5c23-e1aa-4633-ab98-a8e8daf88ff0' title='Show/Hide attributes'><svg class='icon xr-icon-file-text2'><use xlink:href='#icon-file-text2'></use></svg></label><input id='data-b9ca05e9-d3e5-41b0-b988-d0e00f5672b7' class='xr-var-data-in' type='checkbox'><label for='data-b9ca05e9-d3e5-41b0-b988-d0e00f5672b7' title='Show/Hide data repr'><svg class='icon xr-icon-database'><use xlink:href='#icon-database'></use></svg></label><div class='xr-var-attrs'><dl class='xr-attrs'><dt><span>GRIB_paramId :</span></dt><dd>0</dd><dt><span>GRIB_dataType :</span></dt><dd>fc</dd><dt><span>GRIB_numberOfPoints :</span></dt><dd>1905141</dd><dt><span>GRIB_typeOfLevel :</span></dt><dd>atmosphere</dd><dt><span>GRIB_stepUnits :</span></dt><dd>1</dd><dt><span>GRIB_stepType :</span></dt><dd>instant</dd><dt><span>GRIB_gridType :</span></dt><dd>lambert</dd><dt><span>GRIB_DxInMetres :</span></dt><dd>3000.0</dd><dt><span>GRIB_DyInMetres :</span></dt><dd>3000.0</dd><dt><span>GRIB_LaDInDegrees :</span></dt><dd>38.5</dd><dt><span>GRIB_Latin1InDegrees :</span></dt><dd>38.5</dd><dt><span>GRIB_Latin2InDegrees :</span></dt><dd>38.5</dd><dt><span>GRIB_LoVInDegrees :</span></dt><dd>262.5</dd><dt><span>GRIB_NV :</span></dt><dd>0</dd><dt><span>GRIB_Nx :</span></dt><dd>1799</dd><dt><span>GRIB_Ny :</span></dt><dd>1059</dd><dt><span>GRIB_cfName :</span></dt><dd>unknown</dd><dt><span>GRIB_cfVarName :</span></dt><dd>unknown</dd><dt><span>GRIB_gridDefinitionDescription :</span></dt><dd>Lambert Conformal can be secant or tangent, conical or bipolar</dd><dt><span>GRIB_iScansNegatively :</span></dt><dd>0</dd><dt><span>GRIB_jPointsAreConsecutive :</span></dt><dd>0</dd><dt><span>GRIB_jScansPositively :</span></dt><dd>1</dd><dt><span>GRIB_latitudeOfFirstGridPointInDegrees :</span></dt><dd>21.138123</dd><dt><span>GRIB_latitudeOfSouthernPoleInDegrees :</span></dt><dd>0.0</dd><dt><span>GRIB_longitudeOfFirstGridPointInDegrees :</span></dt><dd>237.280472</dd><dt><span>GRIB_longitudeOfSouthernPoleInDegrees :</span></dt><dd>0.0</dd><dt><span>GRIB_missingValue :</span></dt><dd>9999</dd><dt><span>GRIB_name :</span></dt><dd>unknown</dd><dt><span>GRIB_shortName :</span></dt><dd>unknown</dd><dt><span>GRIB_units :</span></dt><dd>unknown</dd><dt><span>long_name :</span></dt><dd>unknown</dd><dt><span>units :</span></dt><dd>unknown</dd><dt><span>standard_name :</span></dt><dd>unknown</dd></dl></div><div class='xr-var-data'><pre>[1905141 values with dtype=float32]</pre></div></li></ul></div></li><li class='xr-section-item'><input id='section-85605d2b-4fc5-4d41-90eb-f885fb1b825c' class='xr-section-summary-in' type='checkbox'  checked><label for='section-85605d2b-4fc5-4d41-90eb-f885fb1b825c' class='xr-section-summary' >Attributes: <span>(7)</span></label><div class='xr-section-inline-details'></div><div class='xr-section-details'><dl class='xr-attrs'><dt><span>GRIB_edition :</span></dt><dd>2</dd><dt><span>GRIB_centre :</span></dt><dd>kwbc</dd><dt><span>GRIB_centreDescription :</span></dt><dd>US National Weather Service - NCEP</dd><dt><span>GRIB_subCentre :</span></dt><dd>0</dd><dt><span>Conventions :</span></dt><dd>CF-1.7</dd><dt><span>institution :</span></dt><dd>US National Weather Service - NCEP</dd><dt><span>history :</span></dt><dd>2023-01-25T12:40 GRIB to CDM+CF via cfgrib-0.9.9.1/ecCodes-2.27.1 with {&quot;source&quot;: &quot;/lcrc/project/rainfall/jcorner/MODE_data/202008110000/hrrr_t20200810T0000z_wrfsfcf24.grib2&quot;, &quot;filter_by_keys&quot;: {&quot;typeOfLevel&quot;: &quot;atmosphere&quot;}, &quot;encode_cf&quot;: [&quot;parameter&quot;, &quot;time&quot;, &quot;geography&quot;, &quot;vertical&quot;]}</dd></dl></div></li></ul></div></div>"
      ],
      "text/plain": [
       "<xarray.Dataset>\n",
       "Dimensions:     (latitude: 1059, longitude: 1799, y: 1059, x: 1799, lat: 1059, lon: 1799)\n",
       "Coordinates:\n",
       "    time        datetime64[ns] ...\n",
       "    step        timedelta64[ns] ...\n",
       "    atmosphere  float64 ...\n",
       "    latitude    (lat, lon) float64 ...\n",
       "    longitude   (lat, lon) float64 ...\n",
       "    valid_time  datetime64[ns] ...\n",
       "Dimensions without coordinates: y, x, lat, lon\n",
       "Data variables:\n",
       "    refc        (latitude, longitude) float64 ...\n",
       "    veril       (y, x) float32 ...\n",
       "    hail        (y, x) float32 ...\n",
       "    ltng        (y, x) float32 ...\n",
       "    tcc         (y, x) float32 ...\n",
       "    unknown     (y, x) float32 ...\n",
       "Attributes:\n",
       "    GRIB_edition:            2\n",
       "    GRIB_centre:             kwbc\n",
       "    GRIB_centreDescription:  US National Weather Service - NCEP\n",
       "    GRIB_subCentre:          0\n",
       "    Conventions:             CF-1.7\n",
       "    institution:             US National Weather Service - NCEP\n",
       "    history:                 2023-01-25T12:40 GRIB to CDM+CF via cfgrib-0.9.9..."
      ]
     },
     "execution_count": 13,
     "metadata": {},
     "output_type": "execute_result"
    }
   ],
   "source": [
    "test = xr.open_dataset(f'/lcrc/project/rainfall/jcorner/MODE_data/{datetime_object.year}0{datetime_object.month}{str(datetime_object.day).zfill(2)}0000/{modes}/hrrr_t2020{str(i[0]).zfill(2)}{str(i[1]).zfill(2)}T{str(i[2]).zfill(2)}00z_wrfsfcf{str(i[3]).zfill(2)}.nc4')\n",
    "test"
   ]
  },
  {
   "cell_type": "code",
   "execution_count": null,
   "id": "0f569387",
   "metadata": {},
   "outputs": [],
   "source": []
  },
  {
   "cell_type": "code",
   "execution_count": null,
   "id": "7ac11768",
   "metadata": {},
   "outputs": [],
   "source": []
  },
  {
   "cell_type": "code",
   "execution_count": null,
   "id": "1d618cbe",
   "metadata": {},
   "outputs": [],
   "source": []
  },
  {
   "cell_type": "code",
   "execution_count": null,
   "id": "dd9528a0",
   "metadata": {},
   "outputs": [],
   "source": []
  },
  {
   "cell_type": "code",
   "execution_count": null,
   "id": "de2d8a25",
   "metadata": {},
   "outputs": [],
   "source": []
  },
  {
   "cell_type": "code",
   "execution_count": null,
   "id": "8941cbe1",
   "metadata": {},
   "outputs": [],
   "source": []
  },
  {
   "cell_type": "code",
   "execution_count": null,
   "id": "055f3e74",
   "metadata": {},
   "outputs": [],
   "source": []
  },
  {
   "cell_type": "code",
   "execution_count": null,
   "id": "2bcc721b",
   "metadata": {},
   "outputs": [],
   "source": []
  },
  {
   "cell_type": "code",
   "execution_count": null,
   "id": "7cb0a931",
   "metadata": {},
   "outputs": [],
   "source": []
  },
  {
   "cell_type": "code",
   "execution_count": 8,
   "id": "40c53247",
   "metadata": {},
   "outputs": [
    {
     "data": {
      "text/html": [
       "<div><svg style=\"position: absolute; width: 0; height: 0; overflow: hidden\">\n",
       "<defs>\n",
       "<symbol id=\"icon-database\" viewBox=\"0 0 32 32\">\n",
       "<path d=\"M16 0c-8.837 0-16 2.239-16 5v4c0 2.761 7.163 5 16 5s16-2.239 16-5v-4c0-2.761-7.163-5-16-5z\"></path>\n",
       "<path d=\"M16 17c-8.837 0-16-2.239-16-5v6c0 2.761 7.163 5 16 5s16-2.239 16-5v-6c0 2.761-7.163 5-16 5z\"></path>\n",
       "<path d=\"M16 26c-8.837 0-16-2.239-16-5v6c0 2.761 7.163 5 16 5s16-2.239 16-5v-6c0 2.761-7.163 5-16 5z\"></path>\n",
       "</symbol>\n",
       "<symbol id=\"icon-file-text2\" viewBox=\"0 0 32 32\">\n",
       "<path d=\"M28.681 7.159c-0.694-0.947-1.662-2.053-2.724-3.116s-2.169-2.030-3.116-2.724c-1.612-1.182-2.393-1.319-2.841-1.319h-15.5c-1.378 0-2.5 1.121-2.5 2.5v27c0 1.378 1.122 2.5 2.5 2.5h23c1.378 0 2.5-1.122 2.5-2.5v-19.5c0-0.448-0.137-1.23-1.319-2.841zM24.543 5.457c0.959 0.959 1.712 1.825 2.268 2.543h-4.811v-4.811c0.718 0.556 1.584 1.309 2.543 2.268zM28 29.5c0 0.271-0.229 0.5-0.5 0.5h-23c-0.271 0-0.5-0.229-0.5-0.5v-27c0-0.271 0.229-0.5 0.5-0.5 0 0 15.499-0 15.5 0v7c0 0.552 0.448 1 1 1h7v19.5z\"></path>\n",
       "<path d=\"M23 26h-14c-0.552 0-1-0.448-1-1s0.448-1 1-1h14c0.552 0 1 0.448 1 1s-0.448 1-1 1z\"></path>\n",
       "<path d=\"M23 22h-14c-0.552 0-1-0.448-1-1s0.448-1 1-1h14c0.552 0 1 0.448 1 1s-0.448 1-1 1z\"></path>\n",
       "<path d=\"M23 18h-14c-0.552 0-1-0.448-1-1s0.448-1 1-1h14c0.552 0 1 0.448 1 1s-0.448 1-1 1z\"></path>\n",
       "</symbol>\n",
       "</defs>\n",
       "</svg>\n",
       "<style>/* CSS stylesheet for displaying xarray objects in jupyterlab.\n",
       " *\n",
       " */\n",
       "\n",
       ":root {\n",
       "  --xr-font-color0: var(--jp-content-font-color0, rgba(0, 0, 0, 1));\n",
       "  --xr-font-color2: var(--jp-content-font-color2, rgba(0, 0, 0, 0.54));\n",
       "  --xr-font-color3: var(--jp-content-font-color3, rgba(0, 0, 0, 0.38));\n",
       "  --xr-border-color: var(--jp-border-color2, #e0e0e0);\n",
       "  --xr-disabled-color: var(--jp-layout-color3, #bdbdbd);\n",
       "  --xr-background-color: var(--jp-layout-color0, white);\n",
       "  --xr-background-color-row-even: var(--jp-layout-color1, white);\n",
       "  --xr-background-color-row-odd: var(--jp-layout-color2, #eeeeee);\n",
       "}\n",
       "\n",
       "html[theme=dark],\n",
       "body.vscode-dark {\n",
       "  --xr-font-color0: rgba(255, 255, 255, 1);\n",
       "  --xr-font-color2: rgba(255, 255, 255, 0.54);\n",
       "  --xr-font-color3: rgba(255, 255, 255, 0.38);\n",
       "  --xr-border-color: #1F1F1F;\n",
       "  --xr-disabled-color: #515151;\n",
       "  --xr-background-color: #111111;\n",
       "  --xr-background-color-row-even: #111111;\n",
       "  --xr-background-color-row-odd: #313131;\n",
       "}\n",
       "\n",
       ".xr-wrap {\n",
       "  display: block;\n",
       "  min-width: 300px;\n",
       "  max-width: 700px;\n",
       "}\n",
       "\n",
       ".xr-text-repr-fallback {\n",
       "  /* fallback to plain text repr when CSS is not injected (untrusted notebook) */\n",
       "  display: none;\n",
       "}\n",
       "\n",
       ".xr-header {\n",
       "  padding-top: 6px;\n",
       "  padding-bottom: 6px;\n",
       "  margin-bottom: 4px;\n",
       "  border-bottom: solid 1px var(--xr-border-color);\n",
       "}\n",
       "\n",
       ".xr-header > div,\n",
       ".xr-header > ul {\n",
       "  display: inline;\n",
       "  margin-top: 0;\n",
       "  margin-bottom: 0;\n",
       "}\n",
       "\n",
       ".xr-obj-type,\n",
       ".xr-array-name {\n",
       "  margin-left: 2px;\n",
       "  margin-right: 10px;\n",
       "}\n",
       "\n",
       ".xr-obj-type {\n",
       "  color: var(--xr-font-color2);\n",
       "}\n",
       "\n",
       ".xr-sections {\n",
       "  padding-left: 0 !important;\n",
       "  display: grid;\n",
       "  grid-template-columns: 150px auto auto 1fr 20px 20px;\n",
       "}\n",
       "\n",
       ".xr-section-item {\n",
       "  display: contents;\n",
       "}\n",
       "\n",
       ".xr-section-item input {\n",
       "  display: none;\n",
       "}\n",
       "\n",
       ".xr-section-item input + label {\n",
       "  color: var(--xr-disabled-color);\n",
       "}\n",
       "\n",
       ".xr-section-item input:enabled + label {\n",
       "  cursor: pointer;\n",
       "  color: var(--xr-font-color2);\n",
       "}\n",
       "\n",
       ".xr-section-item input:enabled + label:hover {\n",
       "  color: var(--xr-font-color0);\n",
       "}\n",
       "\n",
       ".xr-section-summary {\n",
       "  grid-column: 1;\n",
       "  color: var(--xr-font-color2);\n",
       "  font-weight: 500;\n",
       "}\n",
       "\n",
       ".xr-section-summary > span {\n",
       "  display: inline-block;\n",
       "  padding-left: 0.5em;\n",
       "}\n",
       "\n",
       ".xr-section-summary-in:disabled + label {\n",
       "  color: var(--xr-font-color2);\n",
       "}\n",
       "\n",
       ".xr-section-summary-in + label:before {\n",
       "  display: inline-block;\n",
       "  content: '►';\n",
       "  font-size: 11px;\n",
       "  width: 15px;\n",
       "  text-align: center;\n",
       "}\n",
       "\n",
       ".xr-section-summary-in:disabled + label:before {\n",
       "  color: var(--xr-disabled-color);\n",
       "}\n",
       "\n",
       ".xr-section-summary-in:checked + label:before {\n",
       "  content: '▼';\n",
       "}\n",
       "\n",
       ".xr-section-summary-in:checked + label > span {\n",
       "  display: none;\n",
       "}\n",
       "\n",
       ".xr-section-summary,\n",
       ".xr-section-inline-details {\n",
       "  padding-top: 4px;\n",
       "  padding-bottom: 4px;\n",
       "}\n",
       "\n",
       ".xr-section-inline-details {\n",
       "  grid-column: 2 / -1;\n",
       "}\n",
       "\n",
       ".xr-section-details {\n",
       "  display: none;\n",
       "  grid-column: 1 / -1;\n",
       "  margin-bottom: 5px;\n",
       "}\n",
       "\n",
       ".xr-section-summary-in:checked ~ .xr-section-details {\n",
       "  display: contents;\n",
       "}\n",
       "\n",
       ".xr-array-wrap {\n",
       "  grid-column: 1 / -1;\n",
       "  display: grid;\n",
       "  grid-template-columns: 20px auto;\n",
       "}\n",
       "\n",
       ".xr-array-wrap > label {\n",
       "  grid-column: 1;\n",
       "  vertical-align: top;\n",
       "}\n",
       "\n",
       ".xr-preview {\n",
       "  color: var(--xr-font-color3);\n",
       "}\n",
       "\n",
       ".xr-array-preview,\n",
       ".xr-array-data {\n",
       "  padding: 0 5px !important;\n",
       "  grid-column: 2;\n",
       "}\n",
       "\n",
       ".xr-array-data,\n",
       ".xr-array-in:checked ~ .xr-array-preview {\n",
       "  display: none;\n",
       "}\n",
       "\n",
       ".xr-array-in:checked ~ .xr-array-data,\n",
       ".xr-array-preview {\n",
       "  display: inline-block;\n",
       "}\n",
       "\n",
       ".xr-dim-list {\n",
       "  display: inline-block !important;\n",
       "  list-style: none;\n",
       "  padding: 0 !important;\n",
       "  margin: 0;\n",
       "}\n",
       "\n",
       ".xr-dim-list li {\n",
       "  display: inline-block;\n",
       "  padding: 0;\n",
       "  margin: 0;\n",
       "}\n",
       "\n",
       ".xr-dim-list:before {\n",
       "  content: '(';\n",
       "}\n",
       "\n",
       ".xr-dim-list:after {\n",
       "  content: ')';\n",
       "}\n",
       "\n",
       ".xr-dim-list li:not(:last-child):after {\n",
       "  content: ',';\n",
       "  padding-right: 5px;\n",
       "}\n",
       "\n",
       ".xr-has-index {\n",
       "  font-weight: bold;\n",
       "}\n",
       "\n",
       ".xr-var-list,\n",
       ".xr-var-item {\n",
       "  display: contents;\n",
       "}\n",
       "\n",
       ".xr-var-item > div,\n",
       ".xr-var-item label,\n",
       ".xr-var-item > .xr-var-name span {\n",
       "  background-color: var(--xr-background-color-row-even);\n",
       "  margin-bottom: 0;\n",
       "}\n",
       "\n",
       ".xr-var-item > .xr-var-name:hover span {\n",
       "  padding-right: 5px;\n",
       "}\n",
       "\n",
       ".xr-var-list > li:nth-child(odd) > div,\n",
       ".xr-var-list > li:nth-child(odd) > label,\n",
       ".xr-var-list > li:nth-child(odd) > .xr-var-name span {\n",
       "  background-color: var(--xr-background-color-row-odd);\n",
       "}\n",
       "\n",
       ".xr-var-name {\n",
       "  grid-column: 1;\n",
       "}\n",
       "\n",
       ".xr-var-dims {\n",
       "  grid-column: 2;\n",
       "}\n",
       "\n",
       ".xr-var-dtype {\n",
       "  grid-column: 3;\n",
       "  text-align: right;\n",
       "  color: var(--xr-font-color2);\n",
       "}\n",
       "\n",
       ".xr-var-preview {\n",
       "  grid-column: 4;\n",
       "}\n",
       "\n",
       ".xr-var-name,\n",
       ".xr-var-dims,\n",
       ".xr-var-dtype,\n",
       ".xr-preview,\n",
       ".xr-attrs dt {\n",
       "  white-space: nowrap;\n",
       "  overflow: hidden;\n",
       "  text-overflow: ellipsis;\n",
       "  padding-right: 10px;\n",
       "}\n",
       "\n",
       ".xr-var-name:hover,\n",
       ".xr-var-dims:hover,\n",
       ".xr-var-dtype:hover,\n",
       ".xr-attrs dt:hover {\n",
       "  overflow: visible;\n",
       "  width: auto;\n",
       "  z-index: 1;\n",
       "}\n",
       "\n",
       ".xr-var-attrs,\n",
       ".xr-var-data {\n",
       "  display: none;\n",
       "  background-color: var(--xr-background-color) !important;\n",
       "  padding-bottom: 5px !important;\n",
       "}\n",
       "\n",
       ".xr-var-attrs-in:checked ~ .xr-var-attrs,\n",
       ".xr-var-data-in:checked ~ .xr-var-data {\n",
       "  display: block;\n",
       "}\n",
       "\n",
       ".xr-var-data > table {\n",
       "  float: right;\n",
       "}\n",
       "\n",
       ".xr-var-name span,\n",
       ".xr-var-data,\n",
       ".xr-attrs {\n",
       "  padding-left: 25px !important;\n",
       "}\n",
       "\n",
       ".xr-attrs,\n",
       ".xr-var-attrs,\n",
       ".xr-var-data {\n",
       "  grid-column: 1 / -1;\n",
       "}\n",
       "\n",
       "dl.xr-attrs {\n",
       "  padding: 0;\n",
       "  margin: 0;\n",
       "  display: grid;\n",
       "  grid-template-columns: 125px auto;\n",
       "}\n",
       "\n",
       ".xr-attrs dt,\n",
       ".xr-attrs dd {\n",
       "  padding: 0;\n",
       "  margin: 0;\n",
       "  float: left;\n",
       "  padding-right: 10px;\n",
       "  width: auto;\n",
       "}\n",
       "\n",
       ".xr-attrs dt {\n",
       "  font-weight: normal;\n",
       "  grid-column: 1;\n",
       "}\n",
       "\n",
       ".xr-attrs dt:hover span {\n",
       "  display: inline-block;\n",
       "  background: var(--xr-background-color);\n",
       "  padding-right: 10px;\n",
       "}\n",
       "\n",
       ".xr-attrs dd {\n",
       "  grid-column: 2;\n",
       "  white-space: pre-wrap;\n",
       "  word-break: break-all;\n",
       "}\n",
       "\n",
       ".xr-icon-database,\n",
       ".xr-icon-file-text2 {\n",
       "  display: inline-block;\n",
       "  vertical-align: middle;\n",
       "  width: 1em;\n",
       "  height: 1.5em !important;\n",
       "  stroke-width: 0;\n",
       "  stroke: currentColor;\n",
       "  fill: currentColor;\n",
       "}\n",
       "</style><pre class='xr-text-repr-fallback'>&lt;xarray.Dataset&gt;\n",
       "Dimensions:     (y: 1059, x: 1799)\n",
       "Coordinates:\n",
       "    time        datetime64[ns] 2020-08-10\n",
       "    step        timedelta64[ns] 1 days\n",
       "    atmosphere  float64 0.0\n",
       "    latitude    (y, x) float64 ...\n",
       "    longitude   (y, x) float64 ...\n",
       "    valid_time  datetime64[ns] 2020-08-11\n",
       "Dimensions without coordinates: y, x\n",
       "Data variables:\n",
       "    refc        (y, x) float64 ...\n",
       "    veril       (y, x) float32 ...\n",
       "    hail        (y, x) float32 ...\n",
       "    ltng        (y, x) float32 ...\n",
       "    tcc         (y, x) float32 ...\n",
       "    unknown     (y, x) float32 ...\n",
       "Attributes:\n",
       "    GRIB_edition:            2\n",
       "    GRIB_centre:             kwbc\n",
       "    GRIB_centreDescription:  US National Weather Service - NCEP\n",
       "    GRIB_subCentre:          0\n",
       "    Conventions:             CF-1.7\n",
       "    institution:             US National Weather Service - NCEP\n",
       "    history:                 2023-01-19T23:58 GRIB to CDM+CF via cfgrib-0.9.9...</pre><div class='xr-wrap' hidden><div class='xr-header'><div class='xr-obj-type'>xarray.Dataset</div></div><ul class='xr-sections'><li class='xr-section-item'><input id='section-4500748a-26bf-4c4d-9dbb-0157d8b69ed1' class='xr-section-summary-in' type='checkbox' disabled ><label for='section-4500748a-26bf-4c4d-9dbb-0157d8b69ed1' class='xr-section-summary'  title='Expand/collapse section'>Dimensions:</label><div class='xr-section-inline-details'><ul class='xr-dim-list'><li><span>y</span>: 1059</li><li><span>x</span>: 1799</li></ul></div><div class='xr-section-details'></div></li><li class='xr-section-item'><input id='section-aa14fee7-2389-4fd7-a80f-d44df3c5245e' class='xr-section-summary-in' type='checkbox'  checked><label for='section-aa14fee7-2389-4fd7-a80f-d44df3c5245e' class='xr-section-summary' >Coordinates: <span>(6)</span></label><div class='xr-section-inline-details'></div><div class='xr-section-details'><ul class='xr-var-list'><li class='xr-var-item'><div class='xr-var-name'><span>time</span></div><div class='xr-var-dims'>()</div><div class='xr-var-dtype'>datetime64[ns]</div><div class='xr-var-preview xr-preview'>...</div><input id='attrs-f99bc16a-12e1-48d4-a4f5-2e03c7a4823b' class='xr-var-attrs-in' type='checkbox' ><label for='attrs-f99bc16a-12e1-48d4-a4f5-2e03c7a4823b' title='Show/Hide attributes'><svg class='icon xr-icon-file-text2'><use xlink:href='#icon-file-text2'></use></svg></label><input id='data-7da48f3a-83b0-429a-b166-346e99bdf1d1' class='xr-var-data-in' type='checkbox'><label for='data-7da48f3a-83b0-429a-b166-346e99bdf1d1' title='Show/Hide data repr'><svg class='icon xr-icon-database'><use xlink:href='#icon-database'></use></svg></label><div class='xr-var-attrs'><dl class='xr-attrs'><dt><span>long_name :</span></dt><dd>initial time of forecast</dd><dt><span>standard_name :</span></dt><dd>forecast_reference_time</dd></dl></div><div class='xr-var-data'><pre>array(&#x27;2020-08-10T00:00:00.000000000&#x27;, dtype=&#x27;datetime64[ns]&#x27;)</pre></div></li><li class='xr-var-item'><div class='xr-var-name'><span>step</span></div><div class='xr-var-dims'>()</div><div class='xr-var-dtype'>timedelta64[ns]</div><div class='xr-var-preview xr-preview'>...</div><input id='attrs-ce9411c0-71a0-4885-bd6f-5cfaa7427ee1' class='xr-var-attrs-in' type='checkbox' ><label for='attrs-ce9411c0-71a0-4885-bd6f-5cfaa7427ee1' title='Show/Hide attributes'><svg class='icon xr-icon-file-text2'><use xlink:href='#icon-file-text2'></use></svg></label><input id='data-59aff5b0-b269-42b0-a1fc-16e060d25d7d' class='xr-var-data-in' type='checkbox'><label for='data-59aff5b0-b269-42b0-a1fc-16e060d25d7d' title='Show/Hide data repr'><svg class='icon xr-icon-database'><use xlink:href='#icon-database'></use></svg></label><div class='xr-var-attrs'><dl class='xr-attrs'><dt><span>long_name :</span></dt><dd>time since forecast_reference_time</dd><dt><span>standard_name :</span></dt><dd>forecast_period</dd></dl></div><div class='xr-var-data'><pre>array(86400000000000, dtype=&#x27;timedelta64[ns]&#x27;)</pre></div></li><li class='xr-var-item'><div class='xr-var-name'><span>atmosphere</span></div><div class='xr-var-dims'>()</div><div class='xr-var-dtype'>float64</div><div class='xr-var-preview xr-preview'>...</div><input id='attrs-e2ddca4d-e46e-4061-8350-76bbebe54648' class='xr-var-attrs-in' type='checkbox' ><label for='attrs-e2ddca4d-e46e-4061-8350-76bbebe54648' title='Show/Hide attributes'><svg class='icon xr-icon-file-text2'><use xlink:href='#icon-file-text2'></use></svg></label><input id='data-4181baa6-4624-4950-ae08-92d71a6c124d' class='xr-var-data-in' type='checkbox'><label for='data-4181baa6-4624-4950-ae08-92d71a6c124d' title='Show/Hide data repr'><svg class='icon xr-icon-database'><use xlink:href='#icon-database'></use></svg></label><div class='xr-var-attrs'><dl class='xr-attrs'><dt><span>long_name :</span></dt><dd>original GRIB coordinate for key: level(atmosphere)</dd><dt><span>units :</span></dt><dd>1</dd></dl></div><div class='xr-var-data'><pre>array(0.)</pre></div></li><li class='xr-var-item'><div class='xr-var-name'><span>latitude</span></div><div class='xr-var-dims'>(y, x)</div><div class='xr-var-dtype'>float64</div><div class='xr-var-preview xr-preview'>...</div><input id='attrs-4553012e-d166-4b9e-858c-fb43e2343ab7' class='xr-var-attrs-in' type='checkbox' ><label for='attrs-4553012e-d166-4b9e-858c-fb43e2343ab7' title='Show/Hide attributes'><svg class='icon xr-icon-file-text2'><use xlink:href='#icon-file-text2'></use></svg></label><input id='data-d428880b-3b42-466e-99e1-b87a253e7d68' class='xr-var-data-in' type='checkbox'><label for='data-d428880b-3b42-466e-99e1-b87a253e7d68' title='Show/Hide data repr'><svg class='icon xr-icon-database'><use xlink:href='#icon-database'></use></svg></label><div class='xr-var-attrs'><dl class='xr-attrs'><dt><span>units :</span></dt><dd>degrees_north</dd><dt><span>standard_name :</span></dt><dd>latitude</dd><dt><span>long_name :</span></dt><dd>latitude</dd></dl></div><div class='xr-var-data'><pre>[1905141 values with dtype=float64]</pre></div></li><li class='xr-var-item'><div class='xr-var-name'><span>longitude</span></div><div class='xr-var-dims'>(y, x)</div><div class='xr-var-dtype'>float64</div><div class='xr-var-preview xr-preview'>...</div><input id='attrs-ee351578-7beb-40b9-9fbf-13bbd66d410d' class='xr-var-attrs-in' type='checkbox' ><label for='attrs-ee351578-7beb-40b9-9fbf-13bbd66d410d' title='Show/Hide attributes'><svg class='icon xr-icon-file-text2'><use xlink:href='#icon-file-text2'></use></svg></label><input id='data-3e8ca702-3b53-4905-a92c-f4442c3fe265' class='xr-var-data-in' type='checkbox'><label for='data-3e8ca702-3b53-4905-a92c-f4442c3fe265' title='Show/Hide data repr'><svg class='icon xr-icon-database'><use xlink:href='#icon-database'></use></svg></label><div class='xr-var-attrs'><dl class='xr-attrs'><dt><span>units :</span></dt><dd>degrees_east</dd><dt><span>standard_name :</span></dt><dd>longitude</dd><dt><span>long_name :</span></dt><dd>longitude</dd></dl></div><div class='xr-var-data'><pre>[1905141 values with dtype=float64]</pre></div></li><li class='xr-var-item'><div class='xr-var-name'><span>valid_time</span></div><div class='xr-var-dims'>()</div><div class='xr-var-dtype'>datetime64[ns]</div><div class='xr-var-preview xr-preview'>...</div><input id='attrs-8d805a30-4575-46b9-8fa1-e291e80eacc6' class='xr-var-attrs-in' type='checkbox' ><label for='attrs-8d805a30-4575-46b9-8fa1-e291e80eacc6' title='Show/Hide attributes'><svg class='icon xr-icon-file-text2'><use xlink:href='#icon-file-text2'></use></svg></label><input id='data-da8a35de-dac8-4060-8db9-bec55d2d63b4' class='xr-var-data-in' type='checkbox'><label for='data-da8a35de-dac8-4060-8db9-bec55d2d63b4' title='Show/Hide data repr'><svg class='icon xr-icon-database'><use xlink:href='#icon-database'></use></svg></label><div class='xr-var-attrs'><dl class='xr-attrs'><dt><span>standard_name :</span></dt><dd>time</dd><dt><span>long_name :</span></dt><dd>time</dd></dl></div><div class='xr-var-data'><pre>array(&#x27;2020-08-11T00:00:00.000000000&#x27;, dtype=&#x27;datetime64[ns]&#x27;)</pre></div></li></ul></div></li><li class='xr-section-item'><input id='section-68c366c9-34dc-41aa-a6fd-4ce2cbde2851' class='xr-section-summary-in' type='checkbox'  checked><label for='section-68c366c9-34dc-41aa-a6fd-4ce2cbde2851' class='xr-section-summary' >Data variables: <span>(6)</span></label><div class='xr-section-inline-details'></div><div class='xr-section-details'><ul class='xr-var-list'><li class='xr-var-item'><div class='xr-var-name'><span>refc</span></div><div class='xr-var-dims'>(y, x)</div><div class='xr-var-dtype'>float64</div><div class='xr-var-preview xr-preview'>...</div><input id='attrs-5c9d003e-bae2-48fa-9af2-bdd90617e691' class='xr-var-attrs-in' type='checkbox' ><label for='attrs-5c9d003e-bae2-48fa-9af2-bdd90617e691' title='Show/Hide attributes'><svg class='icon xr-icon-file-text2'><use xlink:href='#icon-file-text2'></use></svg></label><input id='data-237a472e-f863-4ab9-b99f-c684d33407f2' class='xr-var-data-in' type='checkbox'><label for='data-237a472e-f863-4ab9-b99f-c684d33407f2' title='Show/Hide data repr'><svg class='icon xr-icon-database'><use xlink:href='#icon-database'></use></svg></label><div class='xr-var-attrs'><dl class='xr-attrs'><dt><span>GRIB_paramId :</span></dt><dd>260390</dd><dt><span>GRIB_dataType :</span></dt><dd>fc</dd><dt><span>GRIB_numberOfPoints :</span></dt><dd>1905141</dd><dt><span>GRIB_typeOfLevel :</span></dt><dd>atmosphere</dd><dt><span>GRIB_stepUnits :</span></dt><dd>1</dd><dt><span>GRIB_stepType :</span></dt><dd>instant</dd><dt><span>GRIB_gridType :</span></dt><dd>lambert</dd><dt><span>GRIB_DxInMetres :</span></dt><dd>3000.0</dd><dt><span>GRIB_DyInMetres :</span></dt><dd>3000.0</dd><dt><span>GRIB_LaDInDegrees :</span></dt><dd>38.5</dd><dt><span>GRIB_Latin1InDegrees :</span></dt><dd>38.5</dd><dt><span>GRIB_Latin2InDegrees :</span></dt><dd>38.5</dd><dt><span>GRIB_LoVInDegrees :</span></dt><dd>262.5</dd><dt><span>GRIB_NV :</span></dt><dd>0</dd><dt><span>GRIB_Nx :</span></dt><dd>1799</dd><dt><span>GRIB_Ny :</span></dt><dd>1059</dd><dt><span>GRIB_cfName :</span></dt><dd>unknown</dd><dt><span>GRIB_cfVarName :</span></dt><dd>unknown</dd><dt><span>GRIB_gridDefinitionDescription :</span></dt><dd>Lambert Conformal can be secant or tangent, conical or bipolar</dd><dt><span>GRIB_iScansNegatively :</span></dt><dd>0</dd><dt><span>GRIB_jPointsAreConsecutive :</span></dt><dd>0</dd><dt><span>GRIB_jScansPositively :</span></dt><dd>1</dd><dt><span>GRIB_latitudeOfFirstGridPointInDegrees :</span></dt><dd>21.138123</dd><dt><span>GRIB_latitudeOfSouthernPoleInDegrees :</span></dt><dd>0.0</dd><dt><span>GRIB_longitudeOfFirstGridPointInDegrees :</span></dt><dd>237.280472</dd><dt><span>GRIB_longitudeOfSouthernPoleInDegrees :</span></dt><dd>0.0</dd><dt><span>GRIB_missingValue :</span></dt><dd>9999</dd><dt><span>GRIB_name :</span></dt><dd>Maximum/Composite radar reflectivity</dd><dt><span>GRIB_shortName :</span></dt><dd>refc</dd><dt><span>GRIB_units :</span></dt><dd>dB</dd><dt><span>long_name :</span></dt><dd>Maximum/Composite radar reflectivity</dd><dt><span>units :</span></dt><dd>dB</dd><dt><span>standard_name :</span></dt><dd>unknown</dd></dl></div><div class='xr-var-data'><pre>[1905141 values with dtype=float64]</pre></div></li><li class='xr-var-item'><div class='xr-var-name'><span>veril</span></div><div class='xr-var-dims'>(y, x)</div><div class='xr-var-dtype'>float32</div><div class='xr-var-preview xr-preview'>...</div><input id='attrs-414017b9-5a67-426b-acc7-ed05f62896d9' class='xr-var-attrs-in' type='checkbox' ><label for='attrs-414017b9-5a67-426b-acc7-ed05f62896d9' title='Show/Hide attributes'><svg class='icon xr-icon-file-text2'><use xlink:href='#icon-file-text2'></use></svg></label><input id='data-2d28b3a0-01f7-4059-9d10-e0983cdbfb06' class='xr-var-data-in' type='checkbox'><label for='data-2d28b3a0-01f7-4059-9d10-e0983cdbfb06' title='Show/Hide data repr'><svg class='icon xr-icon-database'><use xlink:href='#icon-database'></use></svg></label><div class='xr-var-attrs'><dl class='xr-attrs'><dt><span>GRIB_paramId :</span></dt><dd>260136</dd><dt><span>GRIB_dataType :</span></dt><dd>fc</dd><dt><span>GRIB_numberOfPoints :</span></dt><dd>1905141</dd><dt><span>GRIB_typeOfLevel :</span></dt><dd>atmosphere</dd><dt><span>GRIB_stepUnits :</span></dt><dd>1</dd><dt><span>GRIB_stepType :</span></dt><dd>instant</dd><dt><span>GRIB_gridType :</span></dt><dd>lambert</dd><dt><span>GRIB_DxInMetres :</span></dt><dd>3000.0</dd><dt><span>GRIB_DyInMetres :</span></dt><dd>3000.0</dd><dt><span>GRIB_LaDInDegrees :</span></dt><dd>38.5</dd><dt><span>GRIB_Latin1InDegrees :</span></dt><dd>38.5</dd><dt><span>GRIB_Latin2InDegrees :</span></dt><dd>38.5</dd><dt><span>GRIB_LoVInDegrees :</span></dt><dd>262.5</dd><dt><span>GRIB_NV :</span></dt><dd>0</dd><dt><span>GRIB_Nx :</span></dt><dd>1799</dd><dt><span>GRIB_Ny :</span></dt><dd>1059</dd><dt><span>GRIB_cfName :</span></dt><dd>unknown</dd><dt><span>GRIB_cfVarName :</span></dt><dd>veril</dd><dt><span>GRIB_gridDefinitionDescription :</span></dt><dd>Lambert Conformal can be secant or tangent, conical or bipolar</dd><dt><span>GRIB_iScansNegatively :</span></dt><dd>0</dd><dt><span>GRIB_jPointsAreConsecutive :</span></dt><dd>0</dd><dt><span>GRIB_jScansPositively :</span></dt><dd>1</dd><dt><span>GRIB_latitudeOfFirstGridPointInDegrees :</span></dt><dd>21.138123</dd><dt><span>GRIB_latitudeOfSouthernPoleInDegrees :</span></dt><dd>0.0</dd><dt><span>GRIB_longitudeOfFirstGridPointInDegrees :</span></dt><dd>237.280472</dd><dt><span>GRIB_longitudeOfSouthernPoleInDegrees :</span></dt><dd>0.0</dd><dt><span>GRIB_missingValue :</span></dt><dd>9999</dd><dt><span>GRIB_name :</span></dt><dd>Vertically-integrated liquid</dd><dt><span>GRIB_shortName :</span></dt><dd>veril</dd><dt><span>GRIB_units :</span></dt><dd>kg m**-1</dd><dt><span>long_name :</span></dt><dd>Vertically-integrated liquid</dd><dt><span>units :</span></dt><dd>kg m**-1</dd><dt><span>standard_name :</span></dt><dd>unknown</dd></dl></div><div class='xr-var-data'><pre>[1905141 values with dtype=float32]</pre></div></li><li class='xr-var-item'><div class='xr-var-name'><span>hail</span></div><div class='xr-var-dims'>(y, x)</div><div class='xr-var-dtype'>float32</div><div class='xr-var-preview xr-preview'>...</div><input id='attrs-5a9bf3b2-c841-4cf0-9ac5-ede2eb938c1e' class='xr-var-attrs-in' type='checkbox' ><label for='attrs-5a9bf3b2-c841-4cf0-9ac5-ede2eb938c1e' title='Show/Hide attributes'><svg class='icon xr-icon-file-text2'><use xlink:href='#icon-file-text2'></use></svg></label><input id='data-a06af490-e701-4e6f-8fcf-c1659cc97548' class='xr-var-data-in' type='checkbox'><label for='data-a06af490-e701-4e6f-8fcf-c1659cc97548' title='Show/Hide data repr'><svg class='icon xr-icon-database'><use xlink:href='#icon-database'></use></svg></label><div class='xr-var-attrs'><dl class='xr-attrs'><dt><span>GRIB_paramId :</span></dt><dd>260027</dd><dt><span>GRIB_dataType :</span></dt><dd>fc</dd><dt><span>GRIB_numberOfPoints :</span></dt><dd>1905141</dd><dt><span>GRIB_typeOfLevel :</span></dt><dd>atmosphere</dd><dt><span>GRIB_stepUnits :</span></dt><dd>1</dd><dt><span>GRIB_stepType :</span></dt><dd>max</dd><dt><span>GRIB_gridType :</span></dt><dd>lambert</dd><dt><span>GRIB_DxInMetres :</span></dt><dd>3000.0</dd><dt><span>GRIB_DyInMetres :</span></dt><dd>3000.0</dd><dt><span>GRIB_LaDInDegrees :</span></dt><dd>38.5</dd><dt><span>GRIB_Latin1InDegrees :</span></dt><dd>38.5</dd><dt><span>GRIB_Latin2InDegrees :</span></dt><dd>38.5</dd><dt><span>GRIB_LoVInDegrees :</span></dt><dd>262.5</dd><dt><span>GRIB_NV :</span></dt><dd>0</dd><dt><span>GRIB_Nx :</span></dt><dd>1799</dd><dt><span>GRIB_Ny :</span></dt><dd>1059</dd><dt><span>GRIB_cfName :</span></dt><dd>unknown</dd><dt><span>GRIB_cfVarName :</span></dt><dd>hail</dd><dt><span>GRIB_gridDefinitionDescription :</span></dt><dd>Lambert Conformal can be secant or tangent, conical or bipolar</dd><dt><span>GRIB_iScansNegatively :</span></dt><dd>0</dd><dt><span>GRIB_jPointsAreConsecutive :</span></dt><dd>0</dd><dt><span>GRIB_jScansPositively :</span></dt><dd>1</dd><dt><span>GRIB_latitudeOfFirstGridPointInDegrees :</span></dt><dd>21.138123</dd><dt><span>GRIB_latitudeOfSouthernPoleInDegrees :</span></dt><dd>0.0</dd><dt><span>GRIB_longitudeOfFirstGridPointInDegrees :</span></dt><dd>237.280472</dd><dt><span>GRIB_longitudeOfSouthernPoleInDegrees :</span></dt><dd>0.0</dd><dt><span>GRIB_missingValue :</span></dt><dd>9999</dd><dt><span>GRIB_name :</span></dt><dd>Hail</dd><dt><span>GRIB_shortName :</span></dt><dd>hail</dd><dt><span>GRIB_units :</span></dt><dd>m</dd><dt><span>long_name :</span></dt><dd>Hail</dd><dt><span>units :</span></dt><dd>m</dd><dt><span>standard_name :</span></dt><dd>unknown</dd></dl></div><div class='xr-var-data'><pre>[1905141 values with dtype=float32]</pre></div></li><li class='xr-var-item'><div class='xr-var-name'><span>ltng</span></div><div class='xr-var-dims'>(y, x)</div><div class='xr-var-dtype'>float32</div><div class='xr-var-preview xr-preview'>...</div><input id='attrs-e0e3bd03-4eed-4bb6-b795-52fe23459d3c' class='xr-var-attrs-in' type='checkbox' ><label for='attrs-e0e3bd03-4eed-4bb6-b795-52fe23459d3c' title='Show/Hide attributes'><svg class='icon xr-icon-file-text2'><use xlink:href='#icon-file-text2'></use></svg></label><input id='data-ab1713a8-4e83-4397-807a-d70ccf12c16f' class='xr-var-data-in' type='checkbox'><label for='data-ab1713a8-4e83-4397-807a-d70ccf12c16f' title='Show/Hide data repr'><svg class='icon xr-icon-database'><use xlink:href='#icon-database'></use></svg></label><div class='xr-var-attrs'><dl class='xr-attrs'><dt><span>GRIB_paramId :</span></dt><dd>260391</dd><dt><span>GRIB_dataType :</span></dt><dd>fc</dd><dt><span>GRIB_numberOfPoints :</span></dt><dd>1905141</dd><dt><span>GRIB_typeOfLevel :</span></dt><dd>atmosphere</dd><dt><span>GRIB_stepUnits :</span></dt><dd>1</dd><dt><span>GRIB_stepType :</span></dt><dd>instant</dd><dt><span>GRIB_gridType :</span></dt><dd>lambert</dd><dt><span>GRIB_DxInMetres :</span></dt><dd>3000.0</dd><dt><span>GRIB_DyInMetres :</span></dt><dd>3000.0</dd><dt><span>GRIB_LaDInDegrees :</span></dt><dd>38.5</dd><dt><span>GRIB_Latin1InDegrees :</span></dt><dd>38.5</dd><dt><span>GRIB_Latin2InDegrees :</span></dt><dd>38.5</dd><dt><span>GRIB_LoVInDegrees :</span></dt><dd>262.5</dd><dt><span>GRIB_NV :</span></dt><dd>0</dd><dt><span>GRIB_Nx :</span></dt><dd>1799</dd><dt><span>GRIB_Ny :</span></dt><dd>1059</dd><dt><span>GRIB_cfName :</span></dt><dd>unknown</dd><dt><span>GRIB_cfVarName :</span></dt><dd>unknown</dd><dt><span>GRIB_gridDefinitionDescription :</span></dt><dd>Lambert Conformal can be secant or tangent, conical or bipolar</dd><dt><span>GRIB_iScansNegatively :</span></dt><dd>0</dd><dt><span>GRIB_jPointsAreConsecutive :</span></dt><dd>0</dd><dt><span>GRIB_jScansPositively :</span></dt><dd>1</dd><dt><span>GRIB_latitudeOfFirstGridPointInDegrees :</span></dt><dd>21.138123</dd><dt><span>GRIB_latitudeOfSouthernPoleInDegrees :</span></dt><dd>0.0</dd><dt><span>GRIB_longitudeOfFirstGridPointInDegrees :</span></dt><dd>237.280472</dd><dt><span>GRIB_longitudeOfSouthernPoleInDegrees :</span></dt><dd>0.0</dd><dt><span>GRIB_missingValue :</span></dt><dd>9999</dd><dt><span>GRIB_name :</span></dt><dd>Lightning</dd><dt><span>GRIB_shortName :</span></dt><dd>ltng</dd><dt><span>GRIB_units :</span></dt><dd>dimensionless</dd><dt><span>long_name :</span></dt><dd>Lightning</dd><dt><span>units :</span></dt><dd>dimensionless</dd><dt><span>standard_name :</span></dt><dd>unknown</dd></dl></div><div class='xr-var-data'><pre>[1905141 values with dtype=float32]</pre></div></li><li class='xr-var-item'><div class='xr-var-name'><span>tcc</span></div><div class='xr-var-dims'>(y, x)</div><div class='xr-var-dtype'>float32</div><div class='xr-var-preview xr-preview'>...</div><input id='attrs-71f948ad-218a-45b1-9fb6-15946cbb3231' class='xr-var-attrs-in' type='checkbox' ><label for='attrs-71f948ad-218a-45b1-9fb6-15946cbb3231' title='Show/Hide attributes'><svg class='icon xr-icon-file-text2'><use xlink:href='#icon-file-text2'></use></svg></label><input id='data-51326562-6bc5-4ac3-8bc9-621ca6272229' class='xr-var-data-in' type='checkbox'><label for='data-51326562-6bc5-4ac3-8bc9-621ca6272229' title='Show/Hide data repr'><svg class='icon xr-icon-database'><use xlink:href='#icon-database'></use></svg></label><div class='xr-var-attrs'><dl class='xr-attrs'><dt><span>GRIB_paramId :</span></dt><dd>228164</dd><dt><span>GRIB_dataType :</span></dt><dd>fc</dd><dt><span>GRIB_numberOfPoints :</span></dt><dd>1905141</dd><dt><span>GRIB_typeOfLevel :</span></dt><dd>atmosphere</dd><dt><span>GRIB_stepUnits :</span></dt><dd>1</dd><dt><span>GRIB_stepType :</span></dt><dd>instant</dd><dt><span>GRIB_gridType :</span></dt><dd>lambert</dd><dt><span>GRIB_DxInMetres :</span></dt><dd>3000.0</dd><dt><span>GRIB_DyInMetres :</span></dt><dd>3000.0</dd><dt><span>GRIB_LaDInDegrees :</span></dt><dd>38.5</dd><dt><span>GRIB_Latin1InDegrees :</span></dt><dd>38.5</dd><dt><span>GRIB_Latin2InDegrees :</span></dt><dd>38.5</dd><dt><span>GRIB_LoVInDegrees :</span></dt><dd>262.5</dd><dt><span>GRIB_NV :</span></dt><dd>0</dd><dt><span>GRIB_Nx :</span></dt><dd>1799</dd><dt><span>GRIB_Ny :</span></dt><dd>1059</dd><dt><span>GRIB_cfName :</span></dt><dd>unknown</dd><dt><span>GRIB_cfVarName :</span></dt><dd>unknown</dd><dt><span>GRIB_gridDefinitionDescription :</span></dt><dd>Lambert Conformal can be secant or tangent, conical or bipolar</dd><dt><span>GRIB_iScansNegatively :</span></dt><dd>0</dd><dt><span>GRIB_jPointsAreConsecutive :</span></dt><dd>0</dd><dt><span>GRIB_jScansPositively :</span></dt><dd>1</dd><dt><span>GRIB_latitudeOfFirstGridPointInDegrees :</span></dt><dd>21.138123</dd><dt><span>GRIB_latitudeOfSouthernPoleInDegrees :</span></dt><dd>0.0</dd><dt><span>GRIB_longitudeOfFirstGridPointInDegrees :</span></dt><dd>237.280472</dd><dt><span>GRIB_longitudeOfSouthernPoleInDegrees :</span></dt><dd>0.0</dd><dt><span>GRIB_missingValue :</span></dt><dd>9999</dd><dt><span>GRIB_name :</span></dt><dd>Total Cloud Cover</dd><dt><span>GRIB_shortName :</span></dt><dd>tcc</dd><dt><span>GRIB_units :</span></dt><dd>%</dd><dt><span>long_name :</span></dt><dd>Total Cloud Cover</dd><dt><span>units :</span></dt><dd>%</dd><dt><span>standard_name :</span></dt><dd>unknown</dd></dl></div><div class='xr-var-data'><pre>[1905141 values with dtype=float32]</pre></div></li><li class='xr-var-item'><div class='xr-var-name'><span>unknown</span></div><div class='xr-var-dims'>(y, x)</div><div class='xr-var-dtype'>float32</div><div class='xr-var-preview xr-preview'>...</div><input id='attrs-b92c9fbc-bb4b-4681-9dc7-6d616e11125f' class='xr-var-attrs-in' type='checkbox' ><label for='attrs-b92c9fbc-bb4b-4681-9dc7-6d616e11125f' title='Show/Hide attributes'><svg class='icon xr-icon-file-text2'><use xlink:href='#icon-file-text2'></use></svg></label><input id='data-5daaa45a-fb88-47a8-8b04-97aa8affe22a' class='xr-var-data-in' type='checkbox'><label for='data-5daaa45a-fb88-47a8-8b04-97aa8affe22a' title='Show/Hide data repr'><svg class='icon xr-icon-database'><use xlink:href='#icon-database'></use></svg></label><div class='xr-var-attrs'><dl class='xr-attrs'><dt><span>GRIB_paramId :</span></dt><dd>0</dd><dt><span>GRIB_dataType :</span></dt><dd>fc</dd><dt><span>GRIB_numberOfPoints :</span></dt><dd>1905141</dd><dt><span>GRIB_typeOfLevel :</span></dt><dd>atmosphere</dd><dt><span>GRIB_stepUnits :</span></dt><dd>1</dd><dt><span>GRIB_stepType :</span></dt><dd>instant</dd><dt><span>GRIB_gridType :</span></dt><dd>lambert</dd><dt><span>GRIB_DxInMetres :</span></dt><dd>3000.0</dd><dt><span>GRIB_DyInMetres :</span></dt><dd>3000.0</dd><dt><span>GRIB_LaDInDegrees :</span></dt><dd>38.5</dd><dt><span>GRIB_Latin1InDegrees :</span></dt><dd>38.5</dd><dt><span>GRIB_Latin2InDegrees :</span></dt><dd>38.5</dd><dt><span>GRIB_LoVInDegrees :</span></dt><dd>262.5</dd><dt><span>GRIB_NV :</span></dt><dd>0</dd><dt><span>GRIB_Nx :</span></dt><dd>1799</dd><dt><span>GRIB_Ny :</span></dt><dd>1059</dd><dt><span>GRIB_cfName :</span></dt><dd>unknown</dd><dt><span>GRIB_cfVarName :</span></dt><dd>unknown</dd><dt><span>GRIB_gridDefinitionDescription :</span></dt><dd>Lambert Conformal can be secant or tangent, conical or bipolar</dd><dt><span>GRIB_iScansNegatively :</span></dt><dd>0</dd><dt><span>GRIB_jPointsAreConsecutive :</span></dt><dd>0</dd><dt><span>GRIB_jScansPositively :</span></dt><dd>1</dd><dt><span>GRIB_latitudeOfFirstGridPointInDegrees :</span></dt><dd>21.138123</dd><dt><span>GRIB_latitudeOfSouthernPoleInDegrees :</span></dt><dd>0.0</dd><dt><span>GRIB_longitudeOfFirstGridPointInDegrees :</span></dt><dd>237.280472</dd><dt><span>GRIB_longitudeOfSouthernPoleInDegrees :</span></dt><dd>0.0</dd><dt><span>GRIB_missingValue :</span></dt><dd>9999</dd><dt><span>GRIB_name :</span></dt><dd>unknown</dd><dt><span>GRIB_shortName :</span></dt><dd>unknown</dd><dt><span>GRIB_units :</span></dt><dd>unknown</dd><dt><span>long_name :</span></dt><dd>unknown</dd><dt><span>units :</span></dt><dd>unknown</dd><dt><span>standard_name :</span></dt><dd>unknown</dd></dl></div><div class='xr-var-data'><pre>[1905141 values with dtype=float32]</pre></div></li></ul></div></li><li class='xr-section-item'><input id='section-8f845c86-0a6b-4d02-8c12-cc5be89e54ff' class='xr-section-summary-in' type='checkbox'  checked><label for='section-8f845c86-0a6b-4d02-8c12-cc5be89e54ff' class='xr-section-summary' >Attributes: <span>(7)</span></label><div class='xr-section-inline-details'></div><div class='xr-section-details'><dl class='xr-attrs'><dt><span>GRIB_edition :</span></dt><dd>2</dd><dt><span>GRIB_centre :</span></dt><dd>kwbc</dd><dt><span>GRIB_centreDescription :</span></dt><dd>US National Weather Service - NCEP</dd><dt><span>GRIB_subCentre :</span></dt><dd>0</dd><dt><span>Conventions :</span></dt><dd>CF-1.7</dd><dt><span>institution :</span></dt><dd>US National Weather Service - NCEP</dd><dt><span>history :</span></dt><dd>2023-01-19T23:58 GRIB to CDM+CF via cfgrib-0.9.9.1/ecCodes-2.27.1 with {&quot;source&quot;: &quot;/lcrc/project/rainfall/jcorner/MODE_data/202008110000/hrrr_t20200810T0000z_wrfsfcf24.grib2&quot;, &quot;filter_by_keys&quot;: {&quot;typeOfLevel&quot;: &quot;atmosphere&quot;}, &quot;encode_cf&quot;: [&quot;parameter&quot;, &quot;time&quot;, &quot;geography&quot;, &quot;vertical&quot;]}</dd></dl></div></li></ul></div></div>"
      ],
      "text/plain": [
       "<xarray.Dataset>\n",
       "Dimensions:     (y: 1059, x: 1799)\n",
       "Coordinates:\n",
       "    time        datetime64[ns] ...\n",
       "    step        timedelta64[ns] ...\n",
       "    atmosphere  float64 ...\n",
       "    latitude    (y, x) float64 ...\n",
       "    longitude   (y, x) float64 ...\n",
       "    valid_time  datetime64[ns] ...\n",
       "Dimensions without coordinates: y, x\n",
       "Data variables:\n",
       "    refc        (y, x) float64 ...\n",
       "    veril       (y, x) float32 ...\n",
       "    hail        (y, x) float32 ...\n",
       "    ltng        (y, x) float32 ...\n",
       "    tcc         (y, x) float32 ...\n",
       "    unknown     (y, x) float32 ...\n",
       "Attributes:\n",
       "    GRIB_edition:            2\n",
       "    GRIB_centre:             kwbc\n",
       "    GRIB_centreDescription:  US National Weather Service - NCEP\n",
       "    GRIB_subCentre:          0\n",
       "    Conventions:             CF-1.7\n",
       "    institution:             US National Weather Service - NCEP\n",
       "    history:                 2023-01-19T23:58 GRIB to CDM+CF via cfgrib-0.9.9..."
      ]
     },
     "execution_count": 8,
     "metadata": {},
     "output_type": "execute_result"
    }
   ],
   "source": [
    "ds = xr.open_dataset(f'/lcrc/project/rainfall/jcorner/MODE_data/{datetime_object.year}0{datetime_object.month}{str(datetime_object.day).zfill(2)}0000/{modes}/hrrr_t2020{str(i[0]).zfill(2)}{str(i[1]).zfill(2)}T{str(i[2]).zfill(2)}00z_wrfsfcf{str(i[3]).zfill(2)}.nc4')\n",
    "ds"
   ]
  },
  {
   "cell_type": "code",
   "execution_count": 9,
   "id": "bbe8337a",
   "metadata": {},
   "outputs": [],
   "source": [
    "lat = ds.latitude.values\n",
    "lon = ds.longitude.values\n",
    "rad = ds.refc.values"
   ]
  },
  {
   "cell_type": "code",
   "execution_count": 10,
   "id": "c6929801",
   "metadata": {},
   "outputs": [
    {
     "data": {
      "text/plain": [
       "<matplotlib.colorbar.Colorbar at 0x2afe23e4bd30>"
      ]
     },
     "execution_count": 10,
     "metadata": {},
     "output_type": "execute_result"
    },
    {
     "data": {
      "image/png": "[encoded data removed]",
      "text/plain": [
       "<Figure size 1600x1200 with 2 Axes>"
      ]
     },
     "metadata": {},
     "output_type": "display_data"
    }
   ],
   "source": [
    "import matplotlib.pyplot as plt\n",
    "import cartopy\n",
    "\n",
    "\n",
    "fig = plt.figure()\n",
    "fig.set_size_inches(16,12)\n",
    "ax1 = fig.add_subplot(111, projection = cartopy.crs.LambertConformal(central_latitude = 40., central_longitude = -100.))\n",
    "\n",
    "\n",
    "ax1.add_feature(cartopy.feature.STATES.with_scale('50m'), facecolor='none', zorder = 9)\n",
    "ax1.add_feature(cartopy.feature.OCEAN)\n",
    "ax1.add_feature(cartopy.feature.COASTLINE)\n",
    "ax1.add_feature(cartopy.feature.BORDERS)\n",
    "\n",
    "ax1.set_extent([-120,-75,23,50])\n",
    "\n",
    "cfset = plt.pcolormesh(lon, lat, rad, transform=cartopy.crs.PlateCarree(), shading='auto')\n",
    "\n",
    "#plt.title('Frequency of QLCS Storm Mode', fontsize = 'xx-large')\n",
    "plt.colorbar(cfset, shrink=0.65, label='Frequency', location = 'bottom', pad= 0.01)"
   ]
  },
  {
   "cell_type": "code",
   "execution_count": 11,
   "id": "f3d9ac06",
   "metadata": {},
   "outputs": [
    {
     "data": {
      "text/html": [
       "<div><svg style=\"position: absolute; width: 0; height: 0; overflow: hidden\">\n",
       "<defs>\n",
       "<symbol id=\"icon-database\" viewBox=\"0 0 32 32\">\n",
       "<path d=\"M16 0c-8.837 0-16 2.239-16 5v4c0 2.761 7.163 5 16 5s16-2.239 16-5v-4c0-2.761-7.163-5-16-5z\"></path>\n",
       "<path d=\"M16 17c-8.837 0-16-2.239-16-5v6c0 2.761 7.163 5 16 5s16-2.239 16-5v-6c0 2.761-7.163 5-16 5z\"></path>\n",
       "<path d=\"M16 26c-8.837 0-16-2.239-16-5v6c0 2.761 7.163 5 16 5s16-2.239 16-5v-6c0 2.761-7.163 5-16 5z\"></path>\n",
       "</symbol>\n",
       "<symbol id=\"icon-file-text2\" viewBox=\"0 0 32 32\">\n",
       "<path d=\"M28.681 7.159c-0.694-0.947-1.662-2.053-2.724-3.116s-2.169-2.030-3.116-2.724c-1.612-1.182-2.393-1.319-2.841-1.319h-15.5c-1.378 0-2.5 1.121-2.5 2.5v27c0 1.378 1.122 2.5 2.5 2.5h23c1.378 0 2.5-1.122 2.5-2.5v-19.5c0-0.448-0.137-1.23-1.319-2.841zM24.543 5.457c0.959 0.959 1.712 1.825 2.268 2.543h-4.811v-4.811c0.718 0.556 1.584 1.309 2.543 2.268zM28 29.5c0 0.271-0.229 0.5-0.5 0.5h-23c-0.271 0-0.5-0.229-0.5-0.5v-27c0-0.271 0.229-0.5 0.5-0.5 0 0 15.499-0 15.5 0v7c0 0.552 0.448 1 1 1h7v19.5z\"></path>\n",
       "<path d=\"M23 26h-14c-0.552 0-1-0.448-1-1s0.448-1 1-1h14c0.552 0 1 0.448 1 1s-0.448 1-1 1z\"></path>\n",
       "<path d=\"M23 22h-14c-0.552 0-1-0.448-1-1s0.448-1 1-1h14c0.552 0 1 0.448 1 1s-0.448 1-1 1z\"></path>\n",
       "<path d=\"M23 18h-14c-0.552 0-1-0.448-1-1s0.448-1 1-1h14c0.552 0 1 0.448 1 1s-0.448 1-1 1z\"></path>\n",
       "</symbol>\n",
       "</defs>\n",
       "</svg>\n",
       "<style>/* CSS stylesheet for displaying xarray objects in jupyterlab.\n",
       " *\n",
       " */\n",
       "\n",
       ":root {\n",
       "  --xr-font-color0: var(--jp-content-font-color0, rgba(0, 0, 0, 1));\n",
       "  --xr-font-color2: var(--jp-content-font-color2, rgba(0, 0, 0, 0.54));\n",
       "  --xr-font-color3: var(--jp-content-font-color3, rgba(0, 0, 0, 0.38));\n",
       "  --xr-border-color: var(--jp-border-color2, #e0e0e0);\n",
       "  --xr-disabled-color: var(--jp-layout-color3, #bdbdbd);\n",
       "  --xr-background-color: var(--jp-layout-color0, white);\n",
       "  --xr-background-color-row-even: var(--jp-layout-color1, white);\n",
       "  --xr-background-color-row-odd: var(--jp-layout-color2, #eeeeee);\n",
       "}\n",
       "\n",
       "html[theme=dark],\n",
       "body.vscode-dark {\n",
       "  --xr-font-color0: rgba(255, 255, 255, 1);\n",
       "  --xr-font-color2: rgba(255, 255, 255, 0.54);\n",
       "  --xr-font-color3: rgba(255, 255, 255, 0.38);\n",
       "  --xr-border-color: #1F1F1F;\n",
       "  --xr-disabled-color: #515151;\n",
       "  --xr-background-color: #111111;\n",
       "  --xr-background-color-row-even: #111111;\n",
       "  --xr-background-color-row-odd: #313131;\n",
       "}\n",
       "\n",
       ".xr-wrap {\n",
       "  display: block;\n",
       "  min-width: 300px;\n",
       "  max-width: 700px;\n",
       "}\n",
       "\n",
       ".xr-text-repr-fallback {\n",
       "  /* fallback to plain text repr when CSS is not injected (untrusted notebook) */\n",
       "  display: none;\n",
       "}\n",
       "\n",
       ".xr-header {\n",
       "  padding-top: 6px;\n",
       "  padding-bottom: 6px;\n",
       "  margin-bottom: 4px;\n",
       "  border-bottom: solid 1px var(--xr-border-color);\n",
       "}\n",
       "\n",
       ".xr-header > div,\n",
       ".xr-header > ul {\n",
       "  display: inline;\n",
       "  margin-top: 0;\n",
       "  margin-bottom: 0;\n",
       "}\n",
       "\n",
       ".xr-obj-type,\n",
       ".xr-array-name {\n",
       "  margin-left: 2px;\n",
       "  margin-right: 10px;\n",
       "}\n",
       "\n",
       ".xr-obj-type {\n",
       "  color: var(--xr-font-color2);\n",
       "}\n",
       "\n",
       ".xr-sections {\n",
       "  padding-left: 0 !important;\n",
       "  display: grid;\n",
       "  grid-template-columns: 150px auto auto 1fr 20px 20px;\n",
       "}\n",
       "\n",
       ".xr-section-item {\n",
       "  display: contents;\n",
       "}\n",
       "\n",
       ".xr-section-item input {\n",
       "  display: none;\n",
       "}\n",
       "\n",
       ".xr-section-item input + label {\n",
       "  color: var(--xr-disabled-color);\n",
       "}\n",
       "\n",
       ".xr-section-item input:enabled + label {\n",
       "  cursor: pointer;\n",
       "  color: var(--xr-font-color2);\n",
       "}\n",
       "\n",
       ".xr-section-item input:enabled + label:hover {\n",
       "  color: var(--xr-font-color0);\n",
       "}\n",
       "\n",
       ".xr-section-summary {\n",
       "  grid-column: 1;\n",
       "  color: var(--xr-font-color2);\n",
       "  font-weight: 500;\n",
       "}\n",
       "\n",
       ".xr-section-summary > span {\n",
       "  display: inline-block;\n",
       "  padding-left: 0.5em;\n",
       "}\n",
       "\n",
       ".xr-section-summary-in:disabled + label {\n",
       "  color: var(--xr-font-color2);\n",
       "}\n",
       "\n",
       ".xr-section-summary-in + label:before {\n",
       "  display: inline-block;\n",
       "  content: '►';\n",
       "  font-size: 11px;\n",
       "  width: 15px;\n",
       "  text-align: center;\n",
       "}\n",
       "\n",
       ".xr-section-summary-in:disabled + label:before {\n",
       "  color: var(--xr-disabled-color);\n",
       "}\n",
       "\n",
       ".xr-section-summary-in:checked + label:before {\n",
       "  content: '▼';\n",
       "}\n",
       "\n",
       ".xr-section-summary-in:checked + label > span {\n",
       "  display: none;\n",
       "}\n",
       "\n",
       ".xr-section-summary,\n",
       ".xr-section-inline-details {\n",
       "  padding-top: 4px;\n",
       "  padding-bottom: 4px;\n",
       "}\n",
       "\n",
       ".xr-section-inline-details {\n",
       "  grid-column: 2 / -1;\n",
       "}\n",
       "\n",
       ".xr-section-details {\n",
       "  display: none;\n",
       "  grid-column: 1 / -1;\n",
       "  margin-bottom: 5px;\n",
       "}\n",
       "\n",
       ".xr-section-summary-in:checked ~ .xr-section-details {\n",
       "  display: contents;\n",
       "}\n",
       "\n",
       ".xr-array-wrap {\n",
       "  grid-column: 1 / -1;\n",
       "  display: grid;\n",
       "  grid-template-columns: 20px auto;\n",
       "}\n",
       "\n",
       ".xr-array-wrap > label {\n",
       "  grid-column: 1;\n",
       "  vertical-align: top;\n",
       "}\n",
       "\n",
       ".xr-preview {\n",
       "  color: var(--xr-font-color3);\n",
       "}\n",
       "\n",
       ".xr-array-preview,\n",
       ".xr-array-data {\n",
       "  padding: 0 5px !important;\n",
       "  grid-column: 2;\n",
       "}\n",
       "\n",
       ".xr-array-data,\n",
       ".xr-array-in:checked ~ .xr-array-preview {\n",
       "  display: none;\n",
       "}\n",
       "\n",
       ".xr-array-in:checked ~ .xr-array-data,\n",
       ".xr-array-preview {\n",
       "  display: inline-block;\n",
       "}\n",
       "\n",
       ".xr-dim-list {\n",
       "  display: inline-block !important;\n",
       "  list-style: none;\n",
       "  padding: 0 !important;\n",
       "  margin: 0;\n",
       "}\n",
       "\n",
       ".xr-dim-list li {\n",
       "  display: inline-block;\n",
       "  padding: 0;\n",
       "  margin: 0;\n",
       "}\n",
       "\n",
       ".xr-dim-list:before {\n",
       "  content: '(';\n",
       "}\n",
       "\n",
       ".xr-dim-list:after {\n",
       "  content: ')';\n",
       "}\n",
       "\n",
       ".xr-dim-list li:not(:last-child):after {\n",
       "  content: ',';\n",
       "  padding-right: 5px;\n",
       "}\n",
       "\n",
       ".xr-has-index {\n",
       "  font-weight: bold;\n",
       "}\n",
       "\n",
       ".xr-var-list,\n",
       ".xr-var-item {\n",
       "  display: contents;\n",
       "}\n",
       "\n",
       ".xr-var-item > div,\n",
       ".xr-var-item label,\n",
       ".xr-var-item > .xr-var-name span {\n",
       "  background-color: var(--xr-background-color-row-even);\n",
       "  margin-bottom: 0;\n",
       "}\n",
       "\n",
       ".xr-var-item > .xr-var-name:hover span {\n",
       "  padding-right: 5px;\n",
       "}\n",
       "\n",
       ".xr-var-list > li:nth-child(odd) > div,\n",
       ".xr-var-list > li:nth-child(odd) > label,\n",
       ".xr-var-list > li:nth-child(odd) > .xr-var-name span {\n",
       "  background-color: var(--xr-background-color-row-odd);\n",
       "}\n",
       "\n",
       ".xr-var-name {\n",
       "  grid-column: 1;\n",
       "}\n",
       "\n",
       ".xr-var-dims {\n",
       "  grid-column: 2;\n",
       "}\n",
       "\n",
       ".xr-var-dtype {\n",
       "  grid-column: 3;\n",
       "  text-align: right;\n",
       "  color: var(--xr-font-color2);\n",
       "}\n",
       "\n",
       ".xr-var-preview {\n",
       "  grid-column: 4;\n",
       "}\n",
       "\n",
       ".xr-var-name,\n",
       ".xr-var-dims,\n",
       ".xr-var-dtype,\n",
       ".xr-preview,\n",
       ".xr-attrs dt {\n",
       "  white-space: nowrap;\n",
       "  overflow: hidden;\n",
       "  text-overflow: ellipsis;\n",
       "  padding-right: 10px;\n",
       "}\n",
       "\n",
       ".xr-var-name:hover,\n",
       ".xr-var-dims:hover,\n",
       ".xr-var-dtype:hover,\n",
       ".xr-attrs dt:hover {\n",
       "  overflow: visible;\n",
       "  width: auto;\n",
       "  z-index: 1;\n",
       "}\n",
       "\n",
       ".xr-var-attrs,\n",
       ".xr-var-data {\n",
       "  display: none;\n",
       "  background-color: var(--xr-background-color) !important;\n",
       "  padding-bottom: 5px !important;\n",
       "}\n",
       "\n",
       ".xr-var-attrs-in:checked ~ .xr-var-attrs,\n",
       ".xr-var-data-in:checked ~ .xr-var-data {\n",
       "  display: block;\n",
       "}\n",
       "\n",
       ".xr-var-data > table {\n",
       "  float: right;\n",
       "}\n",
       "\n",
       ".xr-var-name span,\n",
       ".xr-var-data,\n",
       ".xr-attrs {\n",
       "  padding-left: 25px !important;\n",
       "}\n",
       "\n",
       ".xr-attrs,\n",
       ".xr-var-attrs,\n",
       ".xr-var-data {\n",
       "  grid-column: 1 / -1;\n",
       "}\n",
       "\n",
       "dl.xr-attrs {\n",
       "  padding: 0;\n",
       "  margin: 0;\n",
       "  display: grid;\n",
       "  grid-template-columns: 125px auto;\n",
       "}\n",
       "\n",
       ".xr-attrs dt,\n",
       ".xr-attrs dd {\n",
       "  padding: 0;\n",
       "  margin: 0;\n",
       "  float: left;\n",
       "  padding-right: 10px;\n",
       "  width: auto;\n",
       "}\n",
       "\n",
       ".xr-attrs dt {\n",
       "  font-weight: normal;\n",
       "  grid-column: 1;\n",
       "}\n",
       "\n",
       ".xr-attrs dt:hover span {\n",
       "  display: inline-block;\n",
       "  background: var(--xr-background-color);\n",
       "  padding-right: 10px;\n",
       "}\n",
       "\n",
       ".xr-attrs dd {\n",
       "  grid-column: 2;\n",
       "  white-space: pre-wrap;\n",
       "  word-break: break-all;\n",
       "}\n",
       "\n",
       ".xr-icon-database,\n",
       ".xr-icon-file-text2 {\n",
       "  display: inline-block;\n",
       "  vertical-align: middle;\n",
       "  width: 1em;\n",
       "  height: 1.5em !important;\n",
       "  stroke-width: 0;\n",
       "  stroke: currentColor;\n",
       "  fill: currentColor;\n",
       "}\n",
       "</style><pre class='xr-text-repr-fallback'>&lt;xarray.Dataset&gt;\n",
       "Dimensions:     (y: 1059, x: 1799)\n",
       "Coordinates:\n",
       "    time        datetime64[ns] 2020-08-10\n",
       "    step        timedelta64[ns] 1 days\n",
       "    atmosphere  float64 0.0\n",
       "    latitude    (y, x) float64 21.14 21.15 21.15 21.16 ... 47.86 47.85 47.84\n",
       "    longitude   (y, x) float64 237.3 237.3 237.3 237.4 ... 299.0 299.0 299.1\n",
       "    valid_time  datetime64[ns] 2020-08-11\n",
       "Dimensions without coordinates: y, x\n",
       "Data variables:\n",
       "    refc        (y, x) float64 0.0 0.0 0.0 0.0 0.0 0.0 ... 0.0 0.0 0.0 0.0 0.0\n",
       "    veril       (y, x) float32 ...\n",
       "    hail        (y, x) float32 ...\n",
       "    ltng        (y, x) float32 ...\n",
       "    tcc         (y, x) float32 ...\n",
       "    unknown     (y, x) float32 ...\n",
       "Attributes:\n",
       "    GRIB_edition:            2\n",
       "    GRIB_centre:             kwbc\n",
       "    GRIB_centreDescription:  US National Weather Service - NCEP\n",
       "    GRIB_subCentre:          0\n",
       "    Conventions:             CF-1.7\n",
       "    institution:             US National Weather Service - NCEP\n",
       "    history:                 2023-01-19T23:58 GRIB to CDM+CF via cfgrib-0.9.9...</pre><div class='xr-wrap' hidden><div class='xr-header'><div class='xr-obj-type'>xarray.Dataset</div></div><ul class='xr-sections'><li class='xr-section-item'><input id='section-addb7fd8-c58b-4733-99b9-924f3f08a6bd' class='xr-section-summary-in' type='checkbox' disabled ><label for='section-addb7fd8-c58b-4733-99b9-924f3f08a6bd' class='xr-section-summary'  title='Expand/collapse section'>Dimensions:</label><div class='xr-section-inline-details'><ul class='xr-dim-list'><li><span>y</span>: 1059</li><li><span>x</span>: 1799</li></ul></div><div class='xr-section-details'></div></li><li class='xr-section-item'><input id='section-783a2286-9b6f-431b-91de-08af890c273e' class='xr-section-summary-in' type='checkbox'  checked><label for='section-783a2286-9b6f-431b-91de-08af890c273e' class='xr-section-summary' >Coordinates: <span>(6)</span></label><div class='xr-section-inline-details'></div><div class='xr-section-details'><ul class='xr-var-list'><li class='xr-var-item'><div class='xr-var-name'><span>time</span></div><div class='xr-var-dims'>()</div><div class='xr-var-dtype'>datetime64[ns]</div><div class='xr-var-preview xr-preview'>2020-08-10</div><input id='attrs-aa16526e-e1fe-434d-9aa5-b18dc4b659b5' class='xr-var-attrs-in' type='checkbox' ><label for='attrs-aa16526e-e1fe-434d-9aa5-b18dc4b659b5' title='Show/Hide attributes'><svg class='icon xr-icon-file-text2'><use xlink:href='#icon-file-text2'></use></svg></label><input id='data-a759eedb-5666-46dc-98db-8e29b002e9de' class='xr-var-data-in' type='checkbox'><label for='data-a759eedb-5666-46dc-98db-8e29b002e9de' title='Show/Hide data repr'><svg class='icon xr-icon-database'><use xlink:href='#icon-database'></use></svg></label><div class='xr-var-attrs'><dl class='xr-attrs'><dt><span>long_name :</span></dt><dd>initial time of forecast</dd><dt><span>standard_name :</span></dt><dd>forecast_reference_time</dd></dl></div><div class='xr-var-data'><pre>array(&#x27;2020-08-10T00:00:00.000000000&#x27;, dtype=&#x27;datetime64[ns]&#x27;)</pre></div></li><li class='xr-var-item'><div class='xr-var-name'><span>step</span></div><div class='xr-var-dims'>()</div><div class='xr-var-dtype'>timedelta64[ns]</div><div class='xr-var-preview xr-preview'>1 days</div><input id='attrs-eea688f2-e5bf-43cc-9171-85592fbc739b' class='xr-var-attrs-in' type='checkbox' ><label for='attrs-eea688f2-e5bf-43cc-9171-85592fbc739b' title='Show/Hide attributes'><svg class='icon xr-icon-file-text2'><use xlink:href='#icon-file-text2'></use></svg></label><input id='data-b223f64b-3973-411d-8235-0c445c3731e6' class='xr-var-data-in' type='checkbox'><label for='data-b223f64b-3973-411d-8235-0c445c3731e6' title='Show/Hide data repr'><svg class='icon xr-icon-database'><use xlink:href='#icon-database'></use></svg></label><div class='xr-var-attrs'><dl class='xr-attrs'><dt><span>long_name :</span></dt><dd>time since forecast_reference_time</dd><dt><span>standard_name :</span></dt><dd>forecast_period</dd></dl></div><div class='xr-var-data'><pre>array(86400000000000, dtype=&#x27;timedelta64[ns]&#x27;)</pre></div></li><li class='xr-var-item'><div class='xr-var-name'><span>atmosphere</span></div><div class='xr-var-dims'>()</div><div class='xr-var-dtype'>float64</div><div class='xr-var-preview xr-preview'>0.0</div><input id='attrs-8bcd3d48-1634-4d8e-b269-3aae1f089b4e' class='xr-var-attrs-in' type='checkbox' ><label for='attrs-8bcd3d48-1634-4d8e-b269-3aae1f089b4e' title='Show/Hide attributes'><svg class='icon xr-icon-file-text2'><use xlink:href='#icon-file-text2'></use></svg></label><input id='data-3acd1ea1-7379-49c3-acbb-e50017d1a6ff' class='xr-var-data-in' type='checkbox'><label for='data-3acd1ea1-7379-49c3-acbb-e50017d1a6ff' title='Show/Hide data repr'><svg class='icon xr-icon-database'><use xlink:href='#icon-database'></use></svg></label><div class='xr-var-attrs'><dl class='xr-attrs'><dt><span>long_name :</span></dt><dd>original GRIB coordinate for key: level(atmosphere)</dd><dt><span>units :</span></dt><dd>1</dd></dl></div><div class='xr-var-data'><pre>array(0.)</pre></div></li><li class='xr-var-item'><div class='xr-var-name'><span>latitude</span></div><div class='xr-var-dims'>(y, x)</div><div class='xr-var-dtype'>float64</div><div class='xr-var-preview xr-preview'>21.14 21.15 21.15 ... 47.85 47.84</div><input id='attrs-667113b9-ebce-43b0-a828-b5798fc828be' class='xr-var-attrs-in' type='checkbox' ><label for='attrs-667113b9-ebce-43b0-a828-b5798fc828be' title='Show/Hide attributes'><svg class='icon xr-icon-file-text2'><use xlink:href='#icon-file-text2'></use></svg></label><input id='data-6e897506-1b68-4db9-bd98-21340c9e1ffa' class='xr-var-data-in' type='checkbox'><label for='data-6e897506-1b68-4db9-bd98-21340c9e1ffa' title='Show/Hide data repr'><svg class='icon xr-icon-database'><use xlink:href='#icon-database'></use></svg></label><div class='xr-var-attrs'><dl class='xr-attrs'><dt><span>units :</span></dt><dd>degrees_north</dd><dt><span>standard_name :</span></dt><dd>latitude</dd><dt><span>long_name :</span></dt><dd>latitude</dd></dl></div><div class='xr-var-data'><pre>array([[21.138123, 21.14511 , 21.15209 , ..., 21.154509, 21.147531, 21.140547],\n",
       "       [21.162995, 21.169984, 21.176967, ..., 21.179387, 21.172407, 21.165419],\n",
       "       [21.187869, 21.194861, 21.201847, ..., 21.204268, 21.197285, 21.190294],\n",
       "       ...,\n",
       "       [47.789559, 47.799849, 47.810129, ..., 47.813691, 47.803415, 47.793128],\n",
       "       [47.814093, 47.824386, 47.834669, ..., 47.838233, 47.827953, 47.817664],\n",
       "       [47.838623, 47.84892 , 47.859206, ..., 47.862771, 47.852488, 47.842195]])</pre></div></li><li class='xr-var-item'><div class='xr-var-name'><span>longitude</span></div><div class='xr-var-dims'>(y, x)</div><div class='xr-var-dtype'>float64</div><div class='xr-var-preview xr-preview'>237.3 237.3 237.3 ... 299.0 299.1</div><input id='attrs-379e5d5d-8d88-4c4d-ba0e-beb9bb29410e' class='xr-var-attrs-in' type='checkbox' ><label for='attrs-379e5d5d-8d88-4c4d-ba0e-beb9bb29410e' title='Show/Hide attributes'><svg class='icon xr-icon-file-text2'><use xlink:href='#icon-file-text2'></use></svg></label><input id='data-90c39d6f-00d9-423c-9efc-5e303fbdb665' class='xr-var-data-in' type='checkbox'><label for='data-90c39d6f-00d9-423c-9efc-5e303fbdb665' title='Show/Hide data repr'><svg class='icon xr-icon-database'><use xlink:href='#icon-database'></use></svg></label><div class='xr-var-attrs'><dl class='xr-attrs'><dt><span>units :</span></dt><dd>degrees_east</dd><dt><span>standard_name :</span></dt><dd>longitude</dd><dt><span>long_name :</span></dt><dd>longitude</dd></dl></div><div class='xr-var-data'><pre>array([[237.280472, 237.307139, 237.33381 , ..., 287.656941, 287.683613,\n",
       "        287.710282],\n",
       "       [237.272975, 237.299649, 237.326327, ..., 287.664421, 287.691101,\n",
       "        287.717776],\n",
       "       [237.265474, 237.292155, 237.31884 , ..., 287.671906, 287.698592,\n",
       "        287.725275],\n",
       "       ...,\n",
       "       [225.93519 , 225.971716, 226.008253, ..., 298.979074, 299.015616,\n",
       "        299.052145],\n",
       "       [225.919861, 225.956399, 225.992948, ..., 298.994375, 299.030929,\n",
       "        299.06747 ],\n",
       "       [225.90452 , 225.94107 , 225.977631, ..., 299.009688, 299.046254,\n",
       "        299.082807]])</pre></div></li><li class='xr-var-item'><div class='xr-var-name'><span>valid_time</span></div><div class='xr-var-dims'>()</div><div class='xr-var-dtype'>datetime64[ns]</div><div class='xr-var-preview xr-preview'>2020-08-11</div><input id='attrs-37ca8c66-0e20-4356-b53f-41b79abedf12' class='xr-var-attrs-in' type='checkbox' ><label for='attrs-37ca8c66-0e20-4356-b53f-41b79abedf12' title='Show/Hide attributes'><svg class='icon xr-icon-file-text2'><use xlink:href='#icon-file-text2'></use></svg></label><input id='data-3f788847-00a5-4467-befc-140db71b38cf' class='xr-var-data-in' type='checkbox'><label for='data-3f788847-00a5-4467-befc-140db71b38cf' title='Show/Hide data repr'><svg class='icon xr-icon-database'><use xlink:href='#icon-database'></use></svg></label><div class='xr-var-attrs'><dl class='xr-attrs'><dt><span>standard_name :</span></dt><dd>time</dd><dt><span>long_name :</span></dt><dd>time</dd></dl></div><div class='xr-var-data'><pre>array(&#x27;2020-08-11T00:00:00.000000000&#x27;, dtype=&#x27;datetime64[ns]&#x27;)</pre></div></li></ul></div></li><li class='xr-section-item'><input id='section-1f73d62a-e937-4ee9-8a06-2e8a5f386e5b' class='xr-section-summary-in' type='checkbox'  checked><label for='section-1f73d62a-e937-4ee9-8a06-2e8a5f386e5b' class='xr-section-summary' >Data variables: <span>(6)</span></label><div class='xr-section-inline-details'></div><div class='xr-section-details'><ul class='xr-var-list'><li class='xr-var-item'><div class='xr-var-name'><span>refc</span></div><div class='xr-var-dims'>(y, x)</div><div class='xr-var-dtype'>float64</div><div class='xr-var-preview xr-preview'>0.0 0.0 0.0 0.0 ... 0.0 0.0 0.0 0.0</div><input id='attrs-768a514e-5ae1-4700-ad04-ad24b8b3d131' class='xr-var-attrs-in' type='checkbox' ><label for='attrs-768a514e-5ae1-4700-ad04-ad24b8b3d131' title='Show/Hide attributes'><svg class='icon xr-icon-file-text2'><use xlink:href='#icon-file-text2'></use></svg></label><input id='data-93720bcb-1c6a-4791-8cd9-757b2c5e862e' class='xr-var-data-in' type='checkbox'><label for='data-93720bcb-1c6a-4791-8cd9-757b2c5e862e' title='Show/Hide data repr'><svg class='icon xr-icon-database'><use xlink:href='#icon-database'></use></svg></label><div class='xr-var-attrs'><dl class='xr-attrs'><dt><span>GRIB_paramId :</span></dt><dd>260390</dd><dt><span>GRIB_dataType :</span></dt><dd>fc</dd><dt><span>GRIB_numberOfPoints :</span></dt><dd>1905141</dd><dt><span>GRIB_typeOfLevel :</span></dt><dd>atmosphere</dd><dt><span>GRIB_stepUnits :</span></dt><dd>1</dd><dt><span>GRIB_stepType :</span></dt><dd>instant</dd><dt><span>GRIB_gridType :</span></dt><dd>lambert</dd><dt><span>GRIB_DxInMetres :</span></dt><dd>3000.0</dd><dt><span>GRIB_DyInMetres :</span></dt><dd>3000.0</dd><dt><span>GRIB_LaDInDegrees :</span></dt><dd>38.5</dd><dt><span>GRIB_Latin1InDegrees :</span></dt><dd>38.5</dd><dt><span>GRIB_Latin2InDegrees :</span></dt><dd>38.5</dd><dt><span>GRIB_LoVInDegrees :</span></dt><dd>262.5</dd><dt><span>GRIB_NV :</span></dt><dd>0</dd><dt><span>GRIB_Nx :</span></dt><dd>1799</dd><dt><span>GRIB_Ny :</span></dt><dd>1059</dd><dt><span>GRIB_cfName :</span></dt><dd>unknown</dd><dt><span>GRIB_cfVarName :</span></dt><dd>unknown</dd><dt><span>GRIB_gridDefinitionDescription :</span></dt><dd>Lambert Conformal can be secant or tangent, conical or bipolar</dd><dt><span>GRIB_iScansNegatively :</span></dt><dd>0</dd><dt><span>GRIB_jPointsAreConsecutive :</span></dt><dd>0</dd><dt><span>GRIB_jScansPositively :</span></dt><dd>1</dd><dt><span>GRIB_latitudeOfFirstGridPointInDegrees :</span></dt><dd>21.138123</dd><dt><span>GRIB_latitudeOfSouthernPoleInDegrees :</span></dt><dd>0.0</dd><dt><span>GRIB_longitudeOfFirstGridPointInDegrees :</span></dt><dd>237.280472</dd><dt><span>GRIB_longitudeOfSouthernPoleInDegrees :</span></dt><dd>0.0</dd><dt><span>GRIB_missingValue :</span></dt><dd>9999</dd><dt><span>GRIB_name :</span></dt><dd>Maximum/Composite radar reflectivity</dd><dt><span>GRIB_shortName :</span></dt><dd>refc</dd><dt><span>GRIB_units :</span></dt><dd>dB</dd><dt><span>long_name :</span></dt><dd>Maximum/Composite radar reflectivity</dd><dt><span>units :</span></dt><dd>dB</dd><dt><span>standard_name :</span></dt><dd>unknown</dd></dl></div><div class='xr-var-data'><pre>array([[0., 0., 0., ..., 0., 0., 0.],\n",
       "       [0., 0., 0., ..., 0., 0., 0.],\n",
       "       [0., 0., 0., ..., 0., 0., 0.],\n",
       "       ...,\n",
       "       [0., 0., 0., ..., 0., 0., 0.],\n",
       "       [0., 0., 0., ..., 0., 0., 0.],\n",
       "       [0., 0., 0., ..., 0., 0., 0.]])</pre></div></li><li class='xr-var-item'><div class='xr-var-name'><span>veril</span></div><div class='xr-var-dims'>(y, x)</div><div class='xr-var-dtype'>float32</div><div class='xr-var-preview xr-preview'>...</div><input id='attrs-23fcd482-2e28-46e1-91c5-8cbbee560942' class='xr-var-attrs-in' type='checkbox' ><label for='attrs-23fcd482-2e28-46e1-91c5-8cbbee560942' title='Show/Hide attributes'><svg class='icon xr-icon-file-text2'><use xlink:href='#icon-file-text2'></use></svg></label><input id='data-d3607d62-bf17-4196-8c69-3e023fc57f6e' class='xr-var-data-in' type='checkbox'><label for='data-d3607d62-bf17-4196-8c69-3e023fc57f6e' title='Show/Hide data repr'><svg class='icon xr-icon-database'><use xlink:href='#icon-database'></use></svg></label><div class='xr-var-attrs'><dl class='xr-attrs'><dt><span>GRIB_paramId :</span></dt><dd>260136</dd><dt><span>GRIB_dataType :</span></dt><dd>fc</dd><dt><span>GRIB_numberOfPoints :</span></dt><dd>1905141</dd><dt><span>GRIB_typeOfLevel :</span></dt><dd>atmosphere</dd><dt><span>GRIB_stepUnits :</span></dt><dd>1</dd><dt><span>GRIB_stepType :</span></dt><dd>instant</dd><dt><span>GRIB_gridType :</span></dt><dd>lambert</dd><dt><span>GRIB_DxInMetres :</span></dt><dd>3000.0</dd><dt><span>GRIB_DyInMetres :</span></dt><dd>3000.0</dd><dt><span>GRIB_LaDInDegrees :</span></dt><dd>38.5</dd><dt><span>GRIB_Latin1InDegrees :</span></dt><dd>38.5</dd><dt><span>GRIB_Latin2InDegrees :</span></dt><dd>38.5</dd><dt><span>GRIB_LoVInDegrees :</span></dt><dd>262.5</dd><dt><span>GRIB_NV :</span></dt><dd>0</dd><dt><span>GRIB_Nx :</span></dt><dd>1799</dd><dt><span>GRIB_Ny :</span></dt><dd>1059</dd><dt><span>GRIB_cfName :</span></dt><dd>unknown</dd><dt><span>GRIB_cfVarName :</span></dt><dd>veril</dd><dt><span>GRIB_gridDefinitionDescription :</span></dt><dd>Lambert Conformal can be secant or tangent, conical or bipolar</dd><dt><span>GRIB_iScansNegatively :</span></dt><dd>0</dd><dt><span>GRIB_jPointsAreConsecutive :</span></dt><dd>0</dd><dt><span>GRIB_jScansPositively :</span></dt><dd>1</dd><dt><span>GRIB_latitudeOfFirstGridPointInDegrees :</span></dt><dd>21.138123</dd><dt><span>GRIB_latitudeOfSouthernPoleInDegrees :</span></dt><dd>0.0</dd><dt><span>GRIB_longitudeOfFirstGridPointInDegrees :</span></dt><dd>237.280472</dd><dt><span>GRIB_longitudeOfSouthernPoleInDegrees :</span></dt><dd>0.0</dd><dt><span>GRIB_missingValue :</span></dt><dd>9999</dd><dt><span>GRIB_name :</span></dt><dd>Vertically-integrated liquid</dd><dt><span>GRIB_shortName :</span></dt><dd>veril</dd><dt><span>GRIB_units :</span></dt><dd>kg m**-1</dd><dt><span>long_name :</span></dt><dd>Vertically-integrated liquid</dd><dt><span>units :</span></dt><dd>kg m**-1</dd><dt><span>standard_name :</span></dt><dd>unknown</dd></dl></div><div class='xr-var-data'><pre>[1905141 values with dtype=float32]</pre></div></li><li class='xr-var-item'><div class='xr-var-name'><span>hail</span></div><div class='xr-var-dims'>(y, x)</div><div class='xr-var-dtype'>float32</div><div class='xr-var-preview xr-preview'>...</div><input id='attrs-d62326ef-73bb-4189-a4bf-95b0701ec0cc' class='xr-var-attrs-in' type='checkbox' ><label for='attrs-d62326ef-73bb-4189-a4bf-95b0701ec0cc' title='Show/Hide attributes'><svg class='icon xr-icon-file-text2'><use xlink:href='#icon-file-text2'></use></svg></label><input id='data-893d647e-8c10-47ab-a5e4-75c538af66dd' class='xr-var-data-in' type='checkbox'><label for='data-893d647e-8c10-47ab-a5e4-75c538af66dd' title='Show/Hide data repr'><svg class='icon xr-icon-database'><use xlink:href='#icon-database'></use></svg></label><div class='xr-var-attrs'><dl class='xr-attrs'><dt><span>GRIB_paramId :</span></dt><dd>260027</dd><dt><span>GRIB_dataType :</span></dt><dd>fc</dd><dt><span>GRIB_numberOfPoints :</span></dt><dd>1905141</dd><dt><span>GRIB_typeOfLevel :</span></dt><dd>atmosphere</dd><dt><span>GRIB_stepUnits :</span></dt><dd>1</dd><dt><span>GRIB_stepType :</span></dt><dd>max</dd><dt><span>GRIB_gridType :</span></dt><dd>lambert</dd><dt><span>GRIB_DxInMetres :</span></dt><dd>3000.0</dd><dt><span>GRIB_DyInMetres :</span></dt><dd>3000.0</dd><dt><span>GRIB_LaDInDegrees :</span></dt><dd>38.5</dd><dt><span>GRIB_Latin1InDegrees :</span></dt><dd>38.5</dd><dt><span>GRIB_Latin2InDegrees :</span></dt><dd>38.5</dd><dt><span>GRIB_LoVInDegrees :</span></dt><dd>262.5</dd><dt><span>GRIB_NV :</span></dt><dd>0</dd><dt><span>GRIB_Nx :</span></dt><dd>1799</dd><dt><span>GRIB_Ny :</span></dt><dd>1059</dd><dt><span>GRIB_cfName :</span></dt><dd>unknown</dd><dt><span>GRIB_cfVarName :</span></dt><dd>hail</dd><dt><span>GRIB_gridDefinitionDescription :</span></dt><dd>Lambert Conformal can be secant or tangent, conical or bipolar</dd><dt><span>GRIB_iScansNegatively :</span></dt><dd>0</dd><dt><span>GRIB_jPointsAreConsecutive :</span></dt><dd>0</dd><dt><span>GRIB_jScansPositively :</span></dt><dd>1</dd><dt><span>GRIB_latitudeOfFirstGridPointInDegrees :</span></dt><dd>21.138123</dd><dt><span>GRIB_latitudeOfSouthernPoleInDegrees :</span></dt><dd>0.0</dd><dt><span>GRIB_longitudeOfFirstGridPointInDegrees :</span></dt><dd>237.280472</dd><dt><span>GRIB_longitudeOfSouthernPoleInDegrees :</span></dt><dd>0.0</dd><dt><span>GRIB_missingValue :</span></dt><dd>9999</dd><dt><span>GRIB_name :</span></dt><dd>Hail</dd><dt><span>GRIB_shortName :</span></dt><dd>hail</dd><dt><span>GRIB_units :</span></dt><dd>m</dd><dt><span>long_name :</span></dt><dd>Hail</dd><dt><span>units :</span></dt><dd>m</dd><dt><span>standard_name :</span></dt><dd>unknown</dd></dl></div><div class='xr-var-data'><pre>[1905141 values with dtype=float32]</pre></div></li><li class='xr-var-item'><div class='xr-var-name'><span>ltng</span></div><div class='xr-var-dims'>(y, x)</div><div class='xr-var-dtype'>float32</div><div class='xr-var-preview xr-preview'>...</div><input id='attrs-065fb7b7-a55b-48df-84a5-0347526e84cf' class='xr-var-attrs-in' type='checkbox' ><label for='attrs-065fb7b7-a55b-48df-84a5-0347526e84cf' title='Show/Hide attributes'><svg class='icon xr-icon-file-text2'><use xlink:href='#icon-file-text2'></use></svg></label><input id='data-b1f2ef62-84fb-4b9f-a488-aa8cdf8ce629' class='xr-var-data-in' type='checkbox'><label for='data-b1f2ef62-84fb-4b9f-a488-aa8cdf8ce629' title='Show/Hide data repr'><svg class='icon xr-icon-database'><use xlink:href='#icon-database'></use></svg></label><div class='xr-var-attrs'><dl class='xr-attrs'><dt><span>GRIB_paramId :</span></dt><dd>260391</dd><dt><span>GRIB_dataType :</span></dt><dd>fc</dd><dt><span>GRIB_numberOfPoints :</span></dt><dd>1905141</dd><dt><span>GRIB_typeOfLevel :</span></dt><dd>atmosphere</dd><dt><span>GRIB_stepUnits :</span></dt><dd>1</dd><dt><span>GRIB_stepType :</span></dt><dd>instant</dd><dt><span>GRIB_gridType :</span></dt><dd>lambert</dd><dt><span>GRIB_DxInMetres :</span></dt><dd>3000.0</dd><dt><span>GRIB_DyInMetres :</span></dt><dd>3000.0</dd><dt><span>GRIB_LaDInDegrees :</span></dt><dd>38.5</dd><dt><span>GRIB_Latin1InDegrees :</span></dt><dd>38.5</dd><dt><span>GRIB_Latin2InDegrees :</span></dt><dd>38.5</dd><dt><span>GRIB_LoVInDegrees :</span></dt><dd>262.5</dd><dt><span>GRIB_NV :</span></dt><dd>0</dd><dt><span>GRIB_Nx :</span></dt><dd>1799</dd><dt><span>GRIB_Ny :</span></dt><dd>1059</dd><dt><span>GRIB_cfName :</span></dt><dd>unknown</dd><dt><span>GRIB_cfVarName :</span></dt><dd>unknown</dd><dt><span>GRIB_gridDefinitionDescription :</span></dt><dd>Lambert Conformal can be secant or tangent, conical or bipolar</dd><dt><span>GRIB_iScansNegatively :</span></dt><dd>0</dd><dt><span>GRIB_jPointsAreConsecutive :</span></dt><dd>0</dd><dt><span>GRIB_jScansPositively :</span></dt><dd>1</dd><dt><span>GRIB_latitudeOfFirstGridPointInDegrees :</span></dt><dd>21.138123</dd><dt><span>GRIB_latitudeOfSouthernPoleInDegrees :</span></dt><dd>0.0</dd><dt><span>GRIB_longitudeOfFirstGridPointInDegrees :</span></dt><dd>237.280472</dd><dt><span>GRIB_longitudeOfSouthernPoleInDegrees :</span></dt><dd>0.0</dd><dt><span>GRIB_missingValue :</span></dt><dd>9999</dd><dt><span>GRIB_name :</span></dt><dd>Lightning</dd><dt><span>GRIB_shortName :</span></dt><dd>ltng</dd><dt><span>GRIB_units :</span></dt><dd>dimensionless</dd><dt><span>long_name :</span></dt><dd>Lightning</dd><dt><span>units :</span></dt><dd>dimensionless</dd><dt><span>standard_name :</span></dt><dd>unknown</dd></dl></div><div class='xr-var-data'><pre>[1905141 values with dtype=float32]</pre></div></li><li class='xr-var-item'><div class='xr-var-name'><span>tcc</span></div><div class='xr-var-dims'>(y, x)</div><div class='xr-var-dtype'>float32</div><div class='xr-var-preview xr-preview'>...</div><input id='attrs-7169fdd8-c1b4-4e26-a951-f5a09d62461c' class='xr-var-attrs-in' type='checkbox' ><label for='attrs-7169fdd8-c1b4-4e26-a951-f5a09d62461c' title='Show/Hide attributes'><svg class='icon xr-icon-file-text2'><use xlink:href='#icon-file-text2'></use></svg></label><input id='data-0d91cce5-a604-4a88-949b-65e5054a3881' class='xr-var-data-in' type='checkbox'><label for='data-0d91cce5-a604-4a88-949b-65e5054a3881' title='Show/Hide data repr'><svg class='icon xr-icon-database'><use xlink:href='#icon-database'></use></svg></label><div class='xr-var-attrs'><dl class='xr-attrs'><dt><span>GRIB_paramId :</span></dt><dd>228164</dd><dt><span>GRIB_dataType :</span></dt><dd>fc</dd><dt><span>GRIB_numberOfPoints :</span></dt><dd>1905141</dd><dt><span>GRIB_typeOfLevel :</span></dt><dd>atmosphere</dd><dt><span>GRIB_stepUnits :</span></dt><dd>1</dd><dt><span>GRIB_stepType :</span></dt><dd>instant</dd><dt><span>GRIB_gridType :</span></dt><dd>lambert</dd><dt><span>GRIB_DxInMetres :</span></dt><dd>3000.0</dd><dt><span>GRIB_DyInMetres :</span></dt><dd>3000.0</dd><dt><span>GRIB_LaDInDegrees :</span></dt><dd>38.5</dd><dt><span>GRIB_Latin1InDegrees :</span></dt><dd>38.5</dd><dt><span>GRIB_Latin2InDegrees :</span></dt><dd>38.5</dd><dt><span>GRIB_LoVInDegrees :</span></dt><dd>262.5</dd><dt><span>GRIB_NV :</span></dt><dd>0</dd><dt><span>GRIB_Nx :</span></dt><dd>1799</dd><dt><span>GRIB_Ny :</span></dt><dd>1059</dd><dt><span>GRIB_cfName :</span></dt><dd>unknown</dd><dt><span>GRIB_cfVarName :</span></dt><dd>unknown</dd><dt><span>GRIB_gridDefinitionDescription :</span></dt><dd>Lambert Conformal can be secant or tangent, conical or bipolar</dd><dt><span>GRIB_iScansNegatively :</span></dt><dd>0</dd><dt><span>GRIB_jPointsAreConsecutive :</span></dt><dd>0</dd><dt><span>GRIB_jScansPositively :</span></dt><dd>1</dd><dt><span>GRIB_latitudeOfFirstGridPointInDegrees :</span></dt><dd>21.138123</dd><dt><span>GRIB_latitudeOfSouthernPoleInDegrees :</span></dt><dd>0.0</dd><dt><span>GRIB_longitudeOfFirstGridPointInDegrees :</span></dt><dd>237.280472</dd><dt><span>GRIB_longitudeOfSouthernPoleInDegrees :</span></dt><dd>0.0</dd><dt><span>GRIB_missingValue :</span></dt><dd>9999</dd><dt><span>GRIB_name :</span></dt><dd>Total Cloud Cover</dd><dt><span>GRIB_shortName :</span></dt><dd>tcc</dd><dt><span>GRIB_units :</span></dt><dd>%</dd><dt><span>long_name :</span></dt><dd>Total Cloud Cover</dd><dt><span>units :</span></dt><dd>%</dd><dt><span>standard_name :</span></dt><dd>unknown</dd></dl></div><div class='xr-var-data'><pre>[1905141 values with dtype=float32]</pre></div></li><li class='xr-var-item'><div class='xr-var-name'><span>unknown</span></div><div class='xr-var-dims'>(y, x)</div><div class='xr-var-dtype'>float32</div><div class='xr-var-preview xr-preview'>...</div><input id='attrs-81c8a94e-0ef7-4b4e-864b-fd884654327f' class='xr-var-attrs-in' type='checkbox' ><label for='attrs-81c8a94e-0ef7-4b4e-864b-fd884654327f' title='Show/Hide attributes'><svg class='icon xr-icon-file-text2'><use xlink:href='#icon-file-text2'></use></svg></label><input id='data-5e676346-7f10-4ec2-9ce3-4fa030ea3f3e' class='xr-var-data-in' type='checkbox'><label for='data-5e676346-7f10-4ec2-9ce3-4fa030ea3f3e' title='Show/Hide data repr'><svg class='icon xr-icon-database'><use xlink:href='#icon-database'></use></svg></label><div class='xr-var-attrs'><dl class='xr-attrs'><dt><span>GRIB_paramId :</span></dt><dd>0</dd><dt><span>GRIB_dataType :</span></dt><dd>fc</dd><dt><span>GRIB_numberOfPoints :</span></dt><dd>1905141</dd><dt><span>GRIB_typeOfLevel :</span></dt><dd>atmosphere</dd><dt><span>GRIB_stepUnits :</span></dt><dd>1</dd><dt><span>GRIB_stepType :</span></dt><dd>instant</dd><dt><span>GRIB_gridType :</span></dt><dd>lambert</dd><dt><span>GRIB_DxInMetres :</span></dt><dd>3000.0</dd><dt><span>GRIB_DyInMetres :</span></dt><dd>3000.0</dd><dt><span>GRIB_LaDInDegrees :</span></dt><dd>38.5</dd><dt><span>GRIB_Latin1InDegrees :</span></dt><dd>38.5</dd><dt><span>GRIB_Latin2InDegrees :</span></dt><dd>38.5</dd><dt><span>GRIB_LoVInDegrees :</span></dt><dd>262.5</dd><dt><span>GRIB_NV :</span></dt><dd>0</dd><dt><span>GRIB_Nx :</span></dt><dd>1799</dd><dt><span>GRIB_Ny :</span></dt><dd>1059</dd><dt><span>GRIB_cfName :</span></dt><dd>unknown</dd><dt><span>GRIB_cfVarName :</span></dt><dd>unknown</dd><dt><span>GRIB_gridDefinitionDescription :</span></dt><dd>Lambert Conformal can be secant or tangent, conical or bipolar</dd><dt><span>GRIB_iScansNegatively :</span></dt><dd>0</dd><dt><span>GRIB_jPointsAreConsecutive :</span></dt><dd>0</dd><dt><span>GRIB_jScansPositively :</span></dt><dd>1</dd><dt><span>GRIB_latitudeOfFirstGridPointInDegrees :</span></dt><dd>21.138123</dd><dt><span>GRIB_latitudeOfSouthernPoleInDegrees :</span></dt><dd>0.0</dd><dt><span>GRIB_longitudeOfFirstGridPointInDegrees :</span></dt><dd>237.280472</dd><dt><span>GRIB_longitudeOfSouthernPoleInDegrees :</span></dt><dd>0.0</dd><dt><span>GRIB_missingValue :</span></dt><dd>9999</dd><dt><span>GRIB_name :</span></dt><dd>unknown</dd><dt><span>GRIB_shortName :</span></dt><dd>unknown</dd><dt><span>GRIB_units :</span></dt><dd>unknown</dd><dt><span>long_name :</span></dt><dd>unknown</dd><dt><span>units :</span></dt><dd>unknown</dd><dt><span>standard_name :</span></dt><dd>unknown</dd></dl></div><div class='xr-var-data'><pre>[1905141 values with dtype=float32]</pre></div></li></ul></div></li><li class='xr-section-item'><input id='section-19085425-2662-48f5-9203-6d7dadfaed18' class='xr-section-summary-in' type='checkbox'  checked><label for='section-19085425-2662-48f5-9203-6d7dadfaed18' class='xr-section-summary' >Attributes: <span>(7)</span></label><div class='xr-section-inline-details'></div><div class='xr-section-details'><dl class='xr-attrs'><dt><span>GRIB_edition :</span></dt><dd>2</dd><dt><span>GRIB_centre :</span></dt><dd>kwbc</dd><dt><span>GRIB_centreDescription :</span></dt><dd>US National Weather Service - NCEP</dd><dt><span>GRIB_subCentre :</span></dt><dd>0</dd><dt><span>Conventions :</span></dt><dd>CF-1.7</dd><dt><span>institution :</span></dt><dd>US National Weather Service - NCEP</dd><dt><span>history :</span></dt><dd>2023-01-19T23:58 GRIB to CDM+CF via cfgrib-0.9.9.1/ecCodes-2.27.1 with {&quot;source&quot;: &quot;/lcrc/project/rainfall/jcorner/MODE_data/202008110000/hrrr_t20200810T0000z_wrfsfcf24.grib2&quot;, &quot;filter_by_keys&quot;: {&quot;typeOfLevel&quot;: &quot;atmosphere&quot;}, &quot;encode_cf&quot;: [&quot;parameter&quot;, &quot;time&quot;, &quot;geography&quot;, &quot;vertical&quot;]}</dd></dl></div></li></ul></div></div>"
      ],
      "text/plain": [
       "<xarray.Dataset>\n",
       "Dimensions:     (y: 1059, x: 1799)\n",
       "Coordinates:\n",
       "    time        datetime64[ns] 2020-08-10\n",
       "    step        timedelta64[ns] 1 days\n",
       "    atmosphere  float64 0.0\n",
       "    latitude    (y, x) float64 21.14 21.15 21.15 21.16 ... 47.86 47.85 47.84\n",
       "    longitude   (y, x) float64 237.3 237.3 237.3 237.4 ... 299.0 299.0 299.1\n",
       "    valid_time  datetime64[ns] 2020-08-11\n",
       "Dimensions without coordinates: y, x\n",
       "Data variables:\n",
       "    refc        (y, x) float64 0.0 0.0 0.0 0.0 0.0 0.0 ... 0.0 0.0 0.0 0.0 0.0\n",
       "    veril       (y, x) float32 ...\n",
       "    hail        (y, x) float32 ...\n",
       "    ltng        (y, x) float32 ...\n",
       "    tcc         (y, x) float32 ...\n",
       "    unknown     (y, x) float32 ...\n",
       "Attributes:\n",
       "    GRIB_edition:            2\n",
       "    GRIB_centre:             kwbc\n",
       "    GRIB_centreDescription:  US National Weather Service - NCEP\n",
       "    GRIB_subCentre:          0\n",
       "    Conventions:             CF-1.7\n",
       "    institution:             US National Weather Service - NCEP\n",
       "    history:                 2023-01-19T23:58 GRIB to CDM+CF via cfgrib-0.9.9..."
      ]
     },
     "execution_count": 11,
     "metadata": {},
     "output_type": "execute_result"
    }
   ],
   "source": [
    "ds"
   ]
  },
  {
   "cell_type": "code",
   "execution_count": null,
   "id": "2fa8f70e",
   "metadata": {},
   "outputs": [],
   "source": []
  }
 ],
 "metadata": {
  "kernelspec": {
   "display_name": "Python 3 (ipykernel)",
   "language": "python",
   "name": "python3"
  },
  "language_info": {
   "codemirror_mode": {
    "name": "ipython",
    "version": 3
   },
   "file_extension": ".py",
   "mimetype": "text/x-python",
   "name": "python",
   "nbconvert_exporter": "python",
   "pygments_lexer": "ipython3",
   "version": "3.9.15"
  }
 },
 "nbformat": 4,
 "nbformat_minor": 5
}
