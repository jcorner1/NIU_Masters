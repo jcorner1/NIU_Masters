{
 "cells": [
  {
   "cell_type": "markdown",
   "metadata": {},
   "source": [
    "# Radar Data Regridding and Creation"
   ]
  },
  {
   "cell_type": "markdown",
   "metadata": {},
   "source": [
    "This data is downloaded from https://mesonet.agron.iastate.edu/GIS/rasters.php?rid=4."
   ]
  },
  {
   "cell_type": "code",
   "execution_count": null,
   "metadata": {},
   "outputs": [],
   "source": [
    "import requests\n",
    "\n",
    "import xarray as xr\n",
    "import netCDF4 as nc\n",
    "\n",
    "import datetime\n",
    "import numpy as np\n",
    "\n",
    "import cartopy\n",
    "import matplotlib.pyplot as plt\n",
    "import matplotlib as mpl\n",
    "\n",
    "import xesmf as xe"
   ]
  },
  {
   "cell_type": "code",
   "execution_count": null,
   "metadata": {},
   "outputs": [],
   "source": [
    "def radar_colormap():\n",
    "    \n",
    "    \n",
    "    nws_reflectivity_colors = [\n",
    "        \"#ccffff\", # -30\n",
    "        \"#cc99cc\", # -25\n",
    "        \"#996699\", # -20\n",
    "        \"#663366\", # -15\n",
    "        \"#cccc99\", # -10\n",
    "        \"#999966\", # -5\n",
    "        \"#646464\", # 0\n",
    "        \"#04e9e7\", # 5\n",
    "        \"#019ff4\", # 10\n",
    "        \"#0300f4\", # 15\n",
    "        \"#02fd02\", # 20\n",
    "        \"#01c501\", # 25\n",
    "        \"#008e00\", # 30\n",
    "        \"#fdf802\", # 35\n",
    "        \"#e5bc00\", # 40\n",
    "        \"#fd9500\", # 45\n",
    "        \"#fd0000\", # 50\n",
    "        \"#d40000\", # 55\n",
    "        \"#bc0000\", # 60\n",
    "        \"#f800fd\", # 65\n",
    "        \"#9854c6\", # 70\n",
    "        \"#fdfdfd\" # 75\n",
    "        ]\n",
    "\n",
    "    return mpl.colors.ListedColormap(nws_reflectivity_colors)\n",
    "\n",
    "new_cmap = radar_colormap()"
   ]
  },
  {
   "cell_type": "code",
   "execution_count": null,
   "metadata": {},
   "outputs": [],
   "source": [
    "#obtain the file for the MRMS lowest level reflectivity from the Iowa State website.\n",
    "url = 'https://mesonet.agron.iastate.edu/cgi-bin/request/raster2netcdf.py?dstr=202211042100&prod=mrms_lcref'\n",
    "url\n",
    "response = requests.get(url)\n",
    "open(f'/home/scratch/jcorner1/IA_ST_Radar/mrms_lcref{url[-28:-16]}.nc4', 'wb').write(response.content)\n"
   ]
  },
  {
   "cell_type": "code",
   "execution_count": null,
   "metadata": {},
   "outputs": [],
   "source": [
    "#open the MRMS and HRRR dataset.\n",
    "ds_in = xr.open_dataset('/home/scratch/jcorner1/IA_ST_Radar/mrms_lcref202211042100.nc4', engine='netcdf4')\n",
    "ds_hrrr = xr.open_dataset('hrrr_esrl_2019052800f027.grib2', filter_by_keys={'typeOfLevel': 'atmosphere'})\n",
    "ds_hrrr\n"
   ]
  },
  {
   "cell_type": "markdown",
   "metadata": {},
   "source": [
    "## Regridding the Data\n",
    "Use the HRRR data to regrid the MRMS data to the proper grid spacing"
   ]
  },
  {
   "cell_type": "code",
   "execution_count": null,
   "metadata": {},
   "outputs": [],
   "source": [
    "#Create the regridder.\n",
    "regridder = xe.Regridder(ds_in, ds_hrrr, \"bilinear\")\n",
    "regridder\n"
   ]
  },
  {
   "cell_type": "code",
   "execution_count": null,
   "metadata": {},
   "outputs": [],
   "source": [
    "#Regrid the data.\n",
    "ds_out = regridder(ds_in)\n",
    "ds_out\n"
   ]
  },
  {
   "cell_type": "code",
   "execution_count": null,
   "metadata": {},
   "outputs": [],
   "source": [
    "#Save the regridded data.\n",
    "date_time = datetime.datetime.strptime(url[-28:-16], '%Y%m%d%H%M')\n",
    "datetime_object = date_time.strftime('%Y-%m-%dT%H:%M:00')\n",
    "\n",
    "new_ds = ds_in.assign_coords({\"time\": datetime_object})\n",
    "new_ds = new_ds.assign_coords(lon=ds_out.longitude)\n",
    "new_ds = new_ds.assign_coords(lat=ds_out.latitude)\n",
    "new_ds = new_ds.assign_coords(mrms_lcref=ds_out.mrms_lcref)\n",
    "\n",
    "#new_ds.to_netcdf(f'/home/scratch/jcorner1/IA_ST_Radar/mrms_lcref{datetime_object}.nc4')\n",
    "new_ds.to_netcdf(f'mrms_lcref{datetime_object}.nc4')"
   ]
  },
  {
   "cell_type": "markdown",
   "metadata": {},
   "source": [
    "## Create a Plot for the Regridded Data."
   ]
  },
  {
   "cell_type": "code",
   "execution_count": null,
   "metadata": {},
   "outputs": [],
   "source": [
    "#Open the regridded dataset.\n",
    "dataset = xr.open_dataset(f'/home/scratch/jcorner1/IA_ST_Radar/mrms_lcref{datetime_object}.nc4')\n",
    "dataset"
   ]
  },
  {
   "cell_type": "code",
   "execution_count": null,
   "metadata": {},
   "outputs": [],
   "source": [
    "#Create a mask for low reflectivity data\n",
    "ds_masked = dataset.where(dataset['mrms_lcref'] != -32.)\n",
    "ds_masked = ds_masked.where(dataset['mrms_lcref'] != 0.0)\n"
   ]
  },
  {
   "cell_type": "code",
   "execution_count": null,
   "metadata": {},
   "outputs": [],
   "source": [
    "#Create the figure.\n",
    "fig = plt.figure()\n",
    "fig.set_size_inches(16,12)\n",
    "ax1 = fig.add_subplot(111, projection = cartopy.crs.LambertConformal(central_latitude = 40., central_longitude = -105.))\n",
    "\n",
    "\n",
    "ax1.add_feature(cartopy.feature.STATES.with_scale('50m'), facecolor='none', zorder = 9)\n",
    "ax1.add_feature(cartopy.feature.OCEAN)\n",
    "ax1.add_feature(cartopy.feature.COASTLINE)\n",
    "ax1.add_feature(cartopy.feature.BORDERS)\n",
    "\n",
    "ax1.set_extent([-122,-77,20,50])\n",
    "norm = mpl.colors.Normalize(vmin=-30, vmax=80)\n",
    "ax1.pcolormesh(ds_masked.longitude.values, ds_masked.latitude.values, ds_masked.mrms_lcref.values, transform=cartopy.crs.PlateCarree(), shading='auto', norm = norm, cmap= new_cmap)"
   ]
  },
  {
   "cell_type": "code",
   "execution_count": null,
   "metadata": {},
   "outputs": [],
   "source": []
  }
 ],
 "metadata": {
  "kernelspec": {
   "display_name": "Python 3 (ipykernel)",
   "language": "python",
   "name": "python3"
  },
  "language_info": {
   "codemirror_mode": {
    "name": "ipython",
    "version": 3
   },
   "file_extension": ".py",
   "mimetype": "text/x-python",
   "name": "python",
   "nbconvert_exporter": "python",
   "pygments_lexer": "ipython3",
   "version": "3.9.7"
  }
 },
 "nbformat": 4,
 "nbformat_minor": 4
}
