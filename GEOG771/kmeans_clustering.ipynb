{
 "cells": [
  {
   "cell_type": "markdown",
   "id": "e49c0cfc-7976-4840-afc6-edeb572b9982",
   "metadata": {},
   "source": [
    "# K-Means Clustering\n",
    "K-Means Clustering is a type of simple unsupervised machine learning algorithm that groups, using the inputted k value (user-selected), data into clusters. For more specifics and a more broken down lesson on K-means and other examples, please visit this website: https://scikit-learn.org/stable/modules/clustering.html#k-means\n",
    "\n"
   ]
  },
  {
   "cell_type": "code",
   "execution_count": 1,
   "id": "a4dc17fa-1f62-4d79-9b54-1b7f40d36f54",
   "metadata": {},
   "outputs": [],
   "source": [
    "import numpy as np\n",
    "import matplotlib.pyplot as plt\n",
    "from sklearn.cluster import KMeans\n",
    "%matplotlib inline"
   ]
  },
  {
   "cell_type": "markdown",
   "id": "83e01444-3026-44ab-b273-991e1669be21",
   "metadata": {},
   "source": [
    "# Starting with a simple example\n",
    "\n",
    "This example is from https://towardsdatascience.com/understanding-k-means-clustering-in-machine-learning-6a6e67336aa1 and shows the what can be done when using k-means clustering and how it can be useful from a general science perspective. In this case, we are creating a bunch of random dots and then grouping them into clusters. From here, we can then predict which cluster another point would belong to."
   ]
  },
  {
   "cell_type": "code",
   "execution_count": 2,
   "id": "3a585790-00f3-4710-92f7-8ea8a79008fb",
   "metadata": {},
   "outputs": [
    {
     "data": {
      "image/png": "[encoded data removed]",
      "text/plain": [
       "<Figure size 432x288 with 1 Axes>"
      ]
     },
     "metadata": {
      "needs_background": "light"
     },
     "output_type": "display_data"
    }
   ],
   "source": [
    "#Generate random data\n",
    "X= -2 * np.random.rand(100,2)\n",
    "X1 = 1 + 2 * np.random.rand(50,2)\n",
    "X[50:100, :] = X1\n",
    "\n",
    "#Plot the data!\n",
    "plt.scatter(X[ : , 0], X[ :, 1], s = 50, c = 'b')\n",
    "plt.show()"
   ]
  },
  {
   "cell_type": "code",
   "execution_count": 3,
   "id": "76d1175b-65ad-4dd5-a407-fd93a3094cde",
   "metadata": {
    "tags": []
   },
   "outputs": [
    {
     "data": {
      "text/html": [
       "<style>#sk-container-id-1 {color: black;background-color: white;}#sk-container-id-1 pre{padding: 0;}#sk-container-id-1 div.sk-toggleable {background-color: white;}#sk-container-id-1 label.sk-toggleable__label {cursor: pointer;display: block;width: 100%;margin-bottom: 0;padding: 0.3em;box-sizing: border-box;text-align: center;}#sk-container-id-1 label.sk-toggleable__label-arrow:before {content: \"▸\";float: left;margin-right: 0.25em;color: #696969;}#sk-container-id-1 label.sk-toggleable__label-arrow:hover:before {color: black;}#sk-container-id-1 div.sk-estimator:hover label.sk-toggleable__label-arrow:before {color: black;}#sk-container-id-1 div.sk-toggleable__content {max-height: 0;max-width: 0;overflow: hidden;text-align: left;background-color: #f0f8ff;}#sk-container-id-1 div.sk-toggleable__content pre {margin: 0.2em;color: black;border-radius: 0.25em;background-color: #f0f8ff;}#sk-container-id-1 input.sk-toggleable__control:checked~div.sk-toggleable__content {max-height: 200px;max-width: 100%;overflow: auto;}#sk-container-id-1 input.sk-toggleable__control:checked~label.sk-toggleable__label-arrow:before {content: \"▾\";}#sk-container-id-1 div.sk-estimator input.sk-toggleable__control:checked~label.sk-toggleable__label {background-color: #d4ebff;}#sk-container-id-1 div.sk-label input.sk-toggleable__control:checked~label.sk-toggleable__label {background-color: #d4ebff;}#sk-container-id-1 input.sk-hidden--visually {border: 0;clip: rect(1px 1px 1px 1px);clip: rect(1px, 1px, 1px, 1px);height: 1px;margin: -1px;overflow: hidden;padding: 0;position: absolute;width: 1px;}#sk-container-id-1 div.sk-estimator {font-family: monospace;background-color: #f0f8ff;border: 1px dotted black;border-radius: 0.25em;box-sizing: border-box;margin-bottom: 0.5em;}#sk-container-id-1 div.sk-estimator:hover {background-color: #d4ebff;}#sk-container-id-1 div.sk-parallel-item::after {content: \"\";width: 100%;border-bottom: 1px solid gray;flex-grow: 1;}#sk-container-id-1 div.sk-label:hover label.sk-toggleable__label {background-color: #d4ebff;}#sk-container-id-1 div.sk-serial::before {content: \"\";position: absolute;border-left: 1px solid gray;box-sizing: border-box;top: 0;bottom: 0;left: 50%;z-index: 0;}#sk-container-id-1 div.sk-serial {display: flex;flex-direction: column;align-items: center;background-color: white;padding-right: 0.2em;padding-left: 0.2em;position: relative;}#sk-container-id-1 div.sk-item {position: relative;z-index: 1;}#sk-container-id-1 div.sk-parallel {display: flex;align-items: stretch;justify-content: center;background-color: white;position: relative;}#sk-container-id-1 div.sk-item::before, #sk-container-id-1 div.sk-parallel-item::before {content: \"\";position: absolute;border-left: 1px solid gray;box-sizing: border-box;top: 0;bottom: 0;left: 50%;z-index: -1;}#sk-container-id-1 div.sk-parallel-item {display: flex;flex-direction: column;z-index: 1;position: relative;background-color: white;}#sk-container-id-1 div.sk-parallel-item:first-child::after {align-self: flex-end;width: 50%;}#sk-container-id-1 div.sk-parallel-item:last-child::after {align-self: flex-start;width: 50%;}#sk-container-id-1 div.sk-parallel-item:only-child::after {width: 0;}#sk-container-id-1 div.sk-dashed-wrapped {border: 1px dashed gray;margin: 0 0.4em 0.5em 0.4em;box-sizing: border-box;padding-bottom: 0.4em;background-color: white;}#sk-container-id-1 div.sk-label label {font-family: monospace;font-weight: bold;display: inline-block;line-height: 1.2em;}#sk-container-id-1 div.sk-label-container {text-align: center;}#sk-container-id-1 div.sk-container {/* jupyter's `normalize.less` sets `[hidden] { display: none; }` but bootstrap.min.css set `[hidden] { display: none !important; }` so we also need the `!important` here to be able to override the default hidden behavior on the sphinx rendered scikit-learn.org. See: https://github.com/scikit-learn/scikit-learn/issues/21755 */display: inline-block !important;position: relative;}#sk-container-id-1 div.sk-text-repr-fallback {display: none;}</style><div id=\"sk-container-id-1\" class=\"sk-top-container\"><div class=\"sk-text-repr-fallback\"><pre>KMeans(n_clusters=2)</pre><b>In a Jupyter environment, please rerun this cell to show the HTML representation or trust the notebook. <br />On GitHub, the HTML representation is unable to render, please try loading this page with nbviewer.org.</b></div><div class=\"sk-container\" hidden><div class=\"sk-item\"><div class=\"sk-estimator sk-toggleable\"><input class=\"sk-toggleable__control sk-hidden--visually\" id=\"sk-estimator-id-1\" type=\"checkbox\" checked><label for=\"sk-estimator-id-1\" class=\"sk-toggleable__label sk-toggleable__label-arrow\">KMeans</label><div class=\"sk-toggleable__content\"><pre>KMeans(n_clusters=2)</pre></div></div></div></div></div>"
      ],
      "text/plain": [
       "KMeans(n_clusters=2)"
      ]
     },
     "execution_count": 3,
     "metadata": {},
     "output_type": "execute_result"
    }
   ],
   "source": [
    "#Select the amount of clusters we want to create to two\n",
    "Kmean = KMeans(n_clusters=2)\n",
    "Kmean.fit(X)"
   ]
  },
  {
   "cell_type": "code",
   "execution_count": 4,
   "id": "62f11459-da48-4da4-9a87-9ea8585aaba6",
   "metadata": {},
   "outputs": [
    {
     "data": {
      "text/plain": [
       "array([[ 2.07324086,  1.92153415],\n",
       "       [-1.06628293, -0.96308406]])"
      ]
     },
     "execution_count": 4,
     "metadata": {},
     "output_type": "execute_result"
    }
   ],
   "source": [
    "#Print the clusters centriod\n",
    "Kmean.cluster_centers_"
   ]
  },
  {
   "cell_type": "code",
   "execution_count": 5,
   "id": "9d45a797-88f7-4113-9bb0-7829a0927d53",
   "metadata": {},
   "outputs": [
    {
     "data": {
      "text/plain": [
       "array([1, 1, 1, 1, 1, 1, 1, 1, 1, 1, 1, 1, 1, 1, 1, 1, 1, 1, 1, 1, 1, 1,\n",
       "       1, 1, 1, 1, 1, 1, 1, 1, 1, 1, 1, 1, 1, 1, 1, 1, 1, 1, 1, 1, 1, 1,\n",
       "       1, 1, 1, 1, 1, 1, 0, 0, 0, 0, 0, 0, 0, 0, 0, 0, 0, 0, 0, 0, 0, 0,\n",
       "       0, 0, 0, 0, 0, 0, 0, 0, 0, 0, 0, 0, 0, 0, 0, 0, 0, 0, 0, 0, 0, 0,\n",
       "       0, 0, 0, 0, 0, 0, 0, 0, 0, 0, 0, 0], dtype=int32)"
      ]
     },
     "execution_count": 5,
     "metadata": {},
     "output_type": "execute_result"
    }
   ],
   "source": [
    "#Print which cluster data are associated with\n",
    "labels = Kmean.labels_\n",
    "labels"
   ]
  },
  {
   "cell_type": "code",
   "execution_count": 6,
   "id": "8d9d3576-3282-40d3-b30b-5d2e77d3d8d3",
   "metadata": {},
   "outputs": [
    {
     "data": {
      "image/png": "[encoded data removed]",
      "text/plain": [
       "<Figure size 432x288 with 1 Axes>"
      ]
     },
     "metadata": {
      "needs_background": "light"
     },
     "output_type": "display_data"
    }
   ],
   "source": [
    "#Plot the data!\n",
    "plt.scatter(X[ : , 0], X[ : , 1], s =50, c='b')\n",
    "plt.scatter(-0.94665068, -0.97138368, s=200, c='g', marker='s')\n",
    "plt.scatter(2.01559419, 2.02597093, s=200, c='r', marker='s')\n",
    "plt.show()"
   ]
  },
  {
   "cell_type": "code",
   "execution_count": 7,
   "id": "a766d56d-4599-4f98-b62b-dcbbb8ddbeac",
   "metadata": {},
   "outputs": [
    {
     "data": {
      "text/plain": [
       "array([1], dtype=int32)"
      ]
     },
     "execution_count": 7,
     "metadata": {},
     "output_type": "execute_result"
    }
   ],
   "source": [
    "#Predict what cluster a certain point would belong to.\n",
    "sample_test=np.array([-3.0,-3.0])\n",
    "second_test=sample_test.reshape(1, -1)\n",
    "Kmean.predict(second_test)"
   ]
  },
  {
   "cell_type": "code",
   "execution_count": 8,
   "id": "c6ca6230-9515-4f45-8e34-d84c565c18b0",
   "metadata": {},
   "outputs": [
    {
     "data": {
      "image/png": "[encoded data removed]",
      "text/plain": [
       "<Figure size 432x288 with 1 Axes>"
      ]
     },
     "metadata": {
      "needs_background": "light"
     },
     "output_type": "display_data"
    }
   ],
   "source": [
    "#We see the new point belongs in the first cluster (really the second cluster, because python is 0-based).\n",
    "#Let's plot this with the new dot and clean things up a little.\n",
    "plt.scatter(-3.0, -3.0, c='orange')\n",
    "\n",
    "\n",
    "colors = ['g', 'r']\n",
    "\n",
    "#Color groups based on cluster they're within\n",
    "for k, col in enumerate(colors):\n",
    "    cluster_data = labels == k\n",
    "    plt.scatter(X[cluster_data, 0], X[cluster_data, 1], c=col, s=50)\n",
    "    "
   ]
  },
  {
   "cell_type": "markdown",
   "id": "a1e423f5-3175-4949-992f-5e959ccfcbcf",
   "metadata": {},
   "source": [
    "# Now a Few, More Related Examples\n",
    "Can we do this with data we have knowledge about? Of course! So let's try to group storm cell attributes into clusters to see what patterns emerge.  "
   ]
  },
  {
   "cell_type": "code",
   "execution_count": 9,
   "id": "b71b4d95-0a2a-4d0b-aad9-fcb56a94bfb6",
   "metadata": {},
   "outputs": [],
   "source": [
    "import pandas as pd"
   ]
  },
  {
   "cell_type": "code",
   "execution_count": 10,
   "id": "8651e2ee-6cbe-4e42-b69f-589c6ebfa49c",
   "metadata": {},
   "outputs": [
    {
     "data": {
      "text/html": [
       "<div>\n",
       "<style scoped>\n",
       "    .dataframe tbody tr th:only-of-type {\n",
       "        vertical-align: middle;\n",
       "    }\n",
       "\n",
       "    .dataframe tbody tr th {\n",
       "        vertical-align: top;\n",
       "    }\n",
       "\n",
       "    .dataframe thead th {\n",
       "        text-align: right;\n",
       "    }\n",
       "</style>\n",
       "<table border=\"1\" class=\"dataframe\">\n",
       "  <thead>\n",
       "    <tr style=\"text-align: right;\">\n",
       "      <th></th>\n",
       "      <th>uniq_id</th>\n",
       "      <th>area</th>\n",
       "      <th>convex_area</th>\n",
       "      <th>eccentricity</th>\n",
       "      <th>mean_intensity</th>\n",
       "      <th>max_intensity</th>\n",
       "      <th>intensity_variance</th>\n",
       "      <th>major_axis_length</th>\n",
       "      <th>minor_axis_length</th>\n",
       "      <th>solidity</th>\n",
       "      <th>...</th>\n",
       "      <th>xmax</th>\n",
       "      <th>ymin</th>\n",
       "      <th>ymax</th>\n",
       "      <th>coords</th>\n",
       "      <th>geometry</th>\n",
       "      <th>start_year</th>\n",
       "      <th>start_month</th>\n",
       "      <th>start_day</th>\n",
       "      <th>start_hour</th>\n",
       "      <th>start_time</th>\n",
       "    </tr>\n",
       "  </thead>\n",
       "  <tbody>\n",
       "    <tr>\n",
       "      <th>0</th>\n",
       "      <td>mrms20200603r0</td>\n",
       "      <td>30.0</td>\n",
       "      <td>33.0</td>\n",
       "      <td>0.964007</td>\n",
       "      <td>22.183333</td>\n",
       "      <td>25.0</td>\n",
       "      <td>2.558056</td>\n",
       "      <td>12.236631</td>\n",
       "      <td>3.253437</td>\n",
       "      <td>0.909091</td>\n",
       "      <td>...</td>\n",
       "      <td>5058</td>\n",
       "      <td>247</td>\n",
       "      <td>254</td>\n",
       "      <td>[[247, 5050], [247, 5051], [248, 5049], [248, ...</td>\n",
       "      <td>POLYGON ((248.000 5049.000, 247.000 5050.000, ...</td>\n",
       "      <td>2020</td>\n",
       "      <td>6</td>\n",
       "      <td>3</td>\n",
       "      <td>0</td>\n",
       "      <td>2020-06-03</td>\n",
       "    </tr>\n",
       "    <tr>\n",
       "      <th>1</th>\n",
       "      <td>mrms20200603r1</td>\n",
       "      <td>39.0</td>\n",
       "      <td>45.0</td>\n",
       "      <td>0.891489</td>\n",
       "      <td>25.487179</td>\n",
       "      <td>34.0</td>\n",
       "      <td>21.160092</td>\n",
       "      <td>11.257467</td>\n",
       "      <td>5.100104</td>\n",
       "      <td>0.866667</td>\n",
       "      <td>...</td>\n",
       "      <td>5048</td>\n",
       "      <td>249</td>\n",
       "      <td>257</td>\n",
       "      <td>[[249, 5041], [249, 5042], [250, 5040], [250, ...</td>\n",
       "      <td>POLYGON ((251.000 5039.000, 249.000 5041.000, ...</td>\n",
       "      <td>2020</td>\n",
       "      <td>6</td>\n",
       "      <td>3</td>\n",
       "      <td>0</td>\n",
       "      <td>2020-06-03</td>\n",
       "    </tr>\n",
       "    <tr>\n",
       "      <th>2</th>\n",
       "      <td>mrms20200603r2</td>\n",
       "      <td>74.0</td>\n",
       "      <td>92.0</td>\n",
       "      <td>0.804842</td>\n",
       "      <td>26.067568</td>\n",
       "      <td>35.0</td>\n",
       "      <td>26.164354</td>\n",
       "      <td>13.180803</td>\n",
       "      <td>7.822667</td>\n",
       "      <td>0.804348</td>\n",
       "      <td>...</td>\n",
       "      <td>5036</td>\n",
       "      <td>253</td>\n",
       "      <td>264</td>\n",
       "      <td>[[253, 5023], [254, 5024], [254, 5029], [254, ...</td>\n",
       "      <td>POLYGON ((253.000 5023.000, 254.000 5030.000, ...</td>\n",
       "      <td>2020</td>\n",
       "      <td>6</td>\n",
       "      <td>3</td>\n",
       "      <td>0</td>\n",
       "      <td>2020-06-03</td>\n",
       "    </tr>\n",
       "    <tr>\n",
       "      <th>3</th>\n",
       "      <td>mrms20200603r3</td>\n",
       "      <td>26.0</td>\n",
       "      <td>27.0</td>\n",
       "      <td>0.902015</td>\n",
       "      <td>22.326923</td>\n",
       "      <td>24.0</td>\n",
       "      <td>1.268121</td>\n",
       "      <td>8.749284</td>\n",
       "      <td>3.777115</td>\n",
       "      <td>0.962963</td>\n",
       "      <td>...</td>\n",
       "      <td>4907</td>\n",
       "      <td>259</td>\n",
       "      <td>262</td>\n",
       "      <td>[[259, 4900], [259, 4901], [259, 4902], [259, ...</td>\n",
       "      <td>POLYGON ((259.000 4900.000, 259.000 4903.000, ...</td>\n",
       "      <td>2020</td>\n",
       "      <td>6</td>\n",
       "      <td>3</td>\n",
       "      <td>0</td>\n",
       "      <td>2020-06-03</td>\n",
       "    </tr>\n",
       "    <tr>\n",
       "      <th>4</th>\n",
       "      <td>mrms20200603r4</td>\n",
       "      <td>182.0</td>\n",
       "      <td>288.0</td>\n",
       "      <td>0.831924</td>\n",
       "      <td>22.423077</td>\n",
       "      <td>27.5</td>\n",
       "      <td>4.788039</td>\n",
       "      <td>25.107762</td>\n",
       "      <td>13.932054</td>\n",
       "      <td>0.631944</td>\n",
       "      <td>...</td>\n",
       "      <td>4895</td>\n",
       "      <td>279</td>\n",
       "      <td>293</td>\n",
       "      <td>[[279, 4875], [279, 4876], [280, 4875], [280, ...</td>\n",
       "      <td>POLYGON ((287.000 4870.000, 279.000 4875.000, ...</td>\n",
       "      <td>2020</td>\n",
       "      <td>6</td>\n",
       "      <td>3</td>\n",
       "      <td>0</td>\n",
       "      <td>2020-06-03</td>\n",
       "    </tr>\n",
       "    <tr>\n",
       "      <th>...</th>\n",
       "      <td>...</td>\n",
       "      <td>...</td>\n",
       "      <td>...</td>\n",
       "      <td>...</td>\n",
       "      <td>...</td>\n",
       "      <td>...</td>\n",
       "      <td>...</td>\n",
       "      <td>...</td>\n",
       "      <td>...</td>\n",
       "      <td>...</td>\n",
       "      <td>...</td>\n",
       "      <td>...</td>\n",
       "      <td>...</td>\n",
       "      <td>...</td>\n",
       "      <td>...</td>\n",
       "      <td>...</td>\n",
       "      <td>...</td>\n",
       "      <td>...</td>\n",
       "      <td>...</td>\n",
       "      <td>...</td>\n",
       "      <td>...</td>\n",
       "    </tr>\n",
       "    <tr>\n",
       "      <th>16068</th>\n",
       "      <td>mrms20200811r16068</td>\n",
       "      <td>175.0</td>\n",
       "      <td>218.0</td>\n",
       "      <td>0.984916</td>\n",
       "      <td>28.271429</td>\n",
       "      <td>42.5</td>\n",
       "      <td>26.750612</td>\n",
       "      <td>38.722480</td>\n",
       "      <td>6.700163</td>\n",
       "      <td>0.802752</td>\n",
       "      <td>...</td>\n",
       "      <td>4933</td>\n",
       "      <td>2801</td>\n",
       "      <td>2807</td>\n",
       "      <td>[[2801, 4911], [2801, 4912], [2801, 4913], [28...</td>\n",
       "      <td>POLYGON ((2805.000 4898.000, 2803.000 4899.000...</td>\n",
       "      <td>2020</td>\n",
       "      <td>8</td>\n",
       "      <td>11</td>\n",
       "      <td>0</td>\n",
       "      <td>2020-08-11</td>\n",
       "    </tr>\n",
       "    <tr>\n",
       "      <th>16069</th>\n",
       "      <td>mrms20200811r16069</td>\n",
       "      <td>28.0</td>\n",
       "      <td>31.0</td>\n",
       "      <td>0.873680</td>\n",
       "      <td>24.892857</td>\n",
       "      <td>26.5</td>\n",
       "      <td>1.131378</td>\n",
       "      <td>8.619369</td>\n",
       "      <td>4.193331</td>\n",
       "      <td>0.903226</td>\n",
       "      <td>...</td>\n",
       "      <td>858</td>\n",
       "      <td>3146</td>\n",
       "      <td>3150</td>\n",
       "      <td>[[3146, 855], [3146, 856], [3147, 853], [3147,...</td>\n",
       "      <td>POLYGON ((3149.000 850.000, 3148.000 851.000, ...</td>\n",
       "      <td>2020</td>\n",
       "      <td>8</td>\n",
       "      <td>11</td>\n",
       "      <td>0</td>\n",
       "      <td>2020-08-11</td>\n",
       "    </tr>\n",
       "    <tr>\n",
       "      <th>16070</th>\n",
       "      <td>mrms20200811r16070</td>\n",
       "      <td>53.0</td>\n",
       "      <td>89.0</td>\n",
       "      <td>0.981619</td>\n",
       "      <td>24.924528</td>\n",
       "      <td>31.0</td>\n",
       "      <td>9.107512</td>\n",
       "      <td>22.368716</td>\n",
       "      <td>4.269086</td>\n",
       "      <td>0.595506</td>\n",
       "      <td>...</td>\n",
       "      <td>797</td>\n",
       "      <td>3432</td>\n",
       "      <td>3436</td>\n",
       "      <td>[[3432, 780], [3432, 781], [3432, 782], [3432,...</td>\n",
       "      <td>POLYGON ((3434.000 775.000, 3432.000 780.000, ...</td>\n",
       "      <td>2020</td>\n",
       "      <td>8</td>\n",
       "      <td>11</td>\n",
       "      <td>0</td>\n",
       "      <td>2020-08-11</td>\n",
       "    </tr>\n",
       "    <tr>\n",
       "      <th>16071</th>\n",
       "      <td>mrms20200811r16071</td>\n",
       "      <td>54.0</td>\n",
       "      <td>88.0</td>\n",
       "      <td>0.985333</td>\n",
       "      <td>22.259259</td>\n",
       "      <td>25.5</td>\n",
       "      <td>2.164266</td>\n",
       "      <td>22.920510</td>\n",
       "      <td>3.911226</td>\n",
       "      <td>0.613636</td>\n",
       "      <td>...</td>\n",
       "      <td>810</td>\n",
       "      <td>3491</td>\n",
       "      <td>3496</td>\n",
       "      <td>[[3491, 800], [3492, 796], [3492, 797], [3492,...</td>\n",
       "      <td>POLYGON ((3494.000 789.000, 3493.000 792.000, ...</td>\n",
       "      <td>2020</td>\n",
       "      <td>8</td>\n",
       "      <td>11</td>\n",
       "      <td>0</td>\n",
       "      <td>2020-08-11</td>\n",
       "    </tr>\n",
       "    <tr>\n",
       "      <th>16072</th>\n",
       "      <td>mrms20200811r16072</td>\n",
       "      <td>30.0</td>\n",
       "      <td>30.0</td>\n",
       "      <td>0.958745</td>\n",
       "      <td>24.333333</td>\n",
       "      <td>28.5</td>\n",
       "      <td>8.872222</td>\n",
       "      <td>11.489125</td>\n",
       "      <td>3.265986</td>\n",
       "      <td>1.000000</td>\n",
       "      <td>...</td>\n",
       "      <td>2291</td>\n",
       "      <td>3497</td>\n",
       "      <td>3499</td>\n",
       "      <td>[[3497, 2282], [3497, 2283], [3497, 2284], [34...</td>\n",
       "      <td>POLYGON ((3497.000 2282.000, 3497.000 2291.000...</td>\n",
       "      <td>2020</td>\n",
       "      <td>8</td>\n",
       "      <td>11</td>\n",
       "      <td>0</td>\n",
       "      <td>2020-08-11</td>\n",
       "    </tr>\n",
       "  </tbody>\n",
       "</table>\n",
       "<p>16073 rows × 23 columns</p>\n",
       "</div>"
      ],
      "text/plain": [
       "                  uniq_id   area  convex_area  eccentricity  mean_intensity  \\\n",
       "0          mrms20200603r0   30.0         33.0      0.964007       22.183333   \n",
       "1          mrms20200603r1   39.0         45.0      0.891489       25.487179   \n",
       "2          mrms20200603r2   74.0         92.0      0.804842       26.067568   \n",
       "3          mrms20200603r3   26.0         27.0      0.902015       22.326923   \n",
       "4          mrms20200603r4  182.0        288.0      0.831924       22.423077   \n",
       "...                   ...    ...          ...           ...             ...   \n",
       "16068  mrms20200811r16068  175.0        218.0      0.984916       28.271429   \n",
       "16069  mrms20200811r16069   28.0         31.0      0.873680       24.892857   \n",
       "16070  mrms20200811r16070   53.0         89.0      0.981619       24.924528   \n",
       "16071  mrms20200811r16071   54.0         88.0      0.985333       22.259259   \n",
       "16072  mrms20200811r16072   30.0         30.0      0.958745       24.333333   \n",
       "\n",
       "       max_intensity  intensity_variance  major_axis_length  \\\n",
       "0               25.0            2.558056          12.236631   \n",
       "1               34.0           21.160092          11.257467   \n",
       "2               35.0           26.164354          13.180803   \n",
       "3               24.0            1.268121           8.749284   \n",
       "4               27.5            4.788039          25.107762   \n",
       "...              ...                 ...                ...   \n",
       "16068           42.5           26.750612          38.722480   \n",
       "16069           26.5            1.131378           8.619369   \n",
       "16070           31.0            9.107512          22.368716   \n",
       "16071           25.5            2.164266          22.920510   \n",
       "16072           28.5            8.872222          11.489125   \n",
       "\n",
       "       minor_axis_length  solidity  ...  xmax  ymin  ymax  \\\n",
       "0               3.253437  0.909091  ...  5058   247   254   \n",
       "1               5.100104  0.866667  ...  5048   249   257   \n",
       "2               7.822667  0.804348  ...  5036   253   264   \n",
       "3               3.777115  0.962963  ...  4907   259   262   \n",
       "4              13.932054  0.631944  ...  4895   279   293   \n",
       "...                  ...       ...  ...   ...   ...   ...   \n",
       "16068           6.700163  0.802752  ...  4933  2801  2807   \n",
       "16069           4.193331  0.903226  ...   858  3146  3150   \n",
       "16070           4.269086  0.595506  ...   797  3432  3436   \n",
       "16071           3.911226  0.613636  ...   810  3491  3496   \n",
       "16072           3.265986  1.000000  ...  2291  3497  3499   \n",
       "\n",
       "                                                  coords  \\\n",
       "0      [[247, 5050], [247, 5051], [248, 5049], [248, ...   \n",
       "1      [[249, 5041], [249, 5042], [250, 5040], [250, ...   \n",
       "2      [[253, 5023], [254, 5024], [254, 5029], [254, ...   \n",
       "3      [[259, 4900], [259, 4901], [259, 4902], [259, ...   \n",
       "4      [[279, 4875], [279, 4876], [280, 4875], [280, ...   \n",
       "...                                                  ...   \n",
       "16068  [[2801, 4911], [2801, 4912], [2801, 4913], [28...   \n",
       "16069  [[3146, 855], [3146, 856], [3147, 853], [3147,...   \n",
       "16070  [[3432, 780], [3432, 781], [3432, 782], [3432,...   \n",
       "16071  [[3491, 800], [3492, 796], [3492, 797], [3492,...   \n",
       "16072  [[3497, 2282], [3497, 2283], [3497, 2284], [34...   \n",
       "\n",
       "                                                geometry  start_year  \\\n",
       "0      POLYGON ((248.000 5049.000, 247.000 5050.000, ...        2020   \n",
       "1      POLYGON ((251.000 5039.000, 249.000 5041.000, ...        2020   \n",
       "2      POLYGON ((253.000 5023.000, 254.000 5030.000, ...        2020   \n",
       "3      POLYGON ((259.000 4900.000, 259.000 4903.000, ...        2020   \n",
       "4      POLYGON ((287.000 4870.000, 279.000 4875.000, ...        2020   \n",
       "...                                                  ...         ...   \n",
       "16068  POLYGON ((2805.000 4898.000, 2803.000 4899.000...        2020   \n",
       "16069  POLYGON ((3149.000 850.000, 3148.000 851.000, ...        2020   \n",
       "16070  POLYGON ((3434.000 775.000, 3432.000 780.000, ...        2020   \n",
       "16071  POLYGON ((3494.000 789.000, 3493.000 792.000, ...        2020   \n",
       "16072  POLYGON ((3497.000 2282.000, 3497.000 2291.000...        2020   \n",
       "\n",
       "      start_month start_day  start_hour  start_time  \n",
       "0               6         3           0  2020-06-03  \n",
       "1               6         3           0  2020-06-03  \n",
       "2               6         3           0  2020-06-03  \n",
       "3               6         3           0  2020-06-03  \n",
       "4               6         3           0  2020-06-03  \n",
       "...           ...       ...         ...         ...  \n",
       "16068           8        11           0  2020-08-11  \n",
       "16069           8        11           0  2020-08-11  \n",
       "16070           8        11           0  2020-08-11  \n",
       "16071           8        11           0  2020-08-11  \n",
       "16072           8        11           0  2020-08-11  \n",
       "\n",
       "[16073 rows x 23 columns]"
      ]
     },
     "execution_count": 10,
     "metadata": {},
     "output_type": "execute_result"
    }
   ],
   "source": [
    "#Read in a pickle file of a bunch of storm cell attributes to be used for training and prediction.\n",
    "#NOTE: will have to change the path to the pickle file\n",
    "pkl_data = pd.read_pickle('/home/scratch/jcorner1/Storm_Objects/mrms/mrms_storm_ids3.pkl')\n",
    "pkl_data"
   ]
  },
  {
   "cell_type": "code",
   "execution_count": 11,
   "id": "d26e1534-0652-435d-8d90-16c2dbd0def0",
   "metadata": {},
   "outputs": [],
   "source": [
    "#subset a whole day as the training data\n",
    "training_ds = pkl_data[(pkl_data['start_time']==f'2020-06-03')]\n",
    "training_ds\n",
    "\n",
    "#subset the data we want to use as input variables. \n",
    "useless = training_ds[['eccentricity', 'solidity']].values\n"
   ]
  },
  {
   "cell_type": "code",
   "execution_count": 12,
   "id": "8e467978-1baa-4ad6-b2d7-128feb1d3026",
   "metadata": {},
   "outputs": [
    {
     "data": {
      "text/html": [
       "<style>#sk-container-id-2 {color: black;background-color: white;}#sk-container-id-2 pre{padding: 0;}#sk-container-id-2 div.sk-toggleable {background-color: white;}#sk-container-id-2 label.sk-toggleable__label {cursor: pointer;display: block;width: 100%;margin-bottom: 0;padding: 0.3em;box-sizing: border-box;text-align: center;}#sk-container-id-2 label.sk-toggleable__label-arrow:before {content: \"▸\";float: left;margin-right: 0.25em;color: #696969;}#sk-container-id-2 label.sk-toggleable__label-arrow:hover:before {color: black;}#sk-container-id-2 div.sk-estimator:hover label.sk-toggleable__label-arrow:before {color: black;}#sk-container-id-2 div.sk-toggleable__content {max-height: 0;max-width: 0;overflow: hidden;text-align: left;background-color: #f0f8ff;}#sk-container-id-2 div.sk-toggleable__content pre {margin: 0.2em;color: black;border-radius: 0.25em;background-color: #f0f8ff;}#sk-container-id-2 input.sk-toggleable__control:checked~div.sk-toggleable__content {max-height: 200px;max-width: 100%;overflow: auto;}#sk-container-id-2 input.sk-toggleable__control:checked~label.sk-toggleable__label-arrow:before {content: \"▾\";}#sk-container-id-2 div.sk-estimator input.sk-toggleable__control:checked~label.sk-toggleable__label {background-color: #d4ebff;}#sk-container-id-2 div.sk-label input.sk-toggleable__control:checked~label.sk-toggleable__label {background-color: #d4ebff;}#sk-container-id-2 input.sk-hidden--visually {border: 0;clip: rect(1px 1px 1px 1px);clip: rect(1px, 1px, 1px, 1px);height: 1px;margin: -1px;overflow: hidden;padding: 0;position: absolute;width: 1px;}#sk-container-id-2 div.sk-estimator {font-family: monospace;background-color: #f0f8ff;border: 1px dotted black;border-radius: 0.25em;box-sizing: border-box;margin-bottom: 0.5em;}#sk-container-id-2 div.sk-estimator:hover {background-color: #d4ebff;}#sk-container-id-2 div.sk-parallel-item::after {content: \"\";width: 100%;border-bottom: 1px solid gray;flex-grow: 1;}#sk-container-id-2 div.sk-label:hover label.sk-toggleable__label {background-color: #d4ebff;}#sk-container-id-2 div.sk-serial::before {content: \"\";position: absolute;border-left: 1px solid gray;box-sizing: border-box;top: 0;bottom: 0;left: 50%;z-index: 0;}#sk-container-id-2 div.sk-serial {display: flex;flex-direction: column;align-items: center;background-color: white;padding-right: 0.2em;padding-left: 0.2em;position: relative;}#sk-container-id-2 div.sk-item {position: relative;z-index: 1;}#sk-container-id-2 div.sk-parallel {display: flex;align-items: stretch;justify-content: center;background-color: white;position: relative;}#sk-container-id-2 div.sk-item::before, #sk-container-id-2 div.sk-parallel-item::before {content: \"\";position: absolute;border-left: 1px solid gray;box-sizing: border-box;top: 0;bottom: 0;left: 50%;z-index: -1;}#sk-container-id-2 div.sk-parallel-item {display: flex;flex-direction: column;z-index: 1;position: relative;background-color: white;}#sk-container-id-2 div.sk-parallel-item:first-child::after {align-self: flex-end;width: 50%;}#sk-container-id-2 div.sk-parallel-item:last-child::after {align-self: flex-start;width: 50%;}#sk-container-id-2 div.sk-parallel-item:only-child::after {width: 0;}#sk-container-id-2 div.sk-dashed-wrapped {border: 1px dashed gray;margin: 0 0.4em 0.5em 0.4em;box-sizing: border-box;padding-bottom: 0.4em;background-color: white;}#sk-container-id-2 div.sk-label label {font-family: monospace;font-weight: bold;display: inline-block;line-height: 1.2em;}#sk-container-id-2 div.sk-label-container {text-align: center;}#sk-container-id-2 div.sk-container {/* jupyter's `normalize.less` sets `[hidden] { display: none; }` but bootstrap.min.css set `[hidden] { display: none !important; }` so we also need the `!important` here to be able to override the default hidden behavior on the sphinx rendered scikit-learn.org. See: https://github.com/scikit-learn/scikit-learn/issues/21755 */display: inline-block !important;position: relative;}#sk-container-id-2 div.sk-text-repr-fallback {display: none;}</style><div id=\"sk-container-id-2\" class=\"sk-top-container\"><div class=\"sk-text-repr-fallback\"><pre>KMeans(n_clusters=5)</pre><b>In a Jupyter environment, please rerun this cell to show the HTML representation or trust the notebook. <br />On GitHub, the HTML representation is unable to render, please try loading this page with nbviewer.org.</b></div><div class=\"sk-container\" hidden><div class=\"sk-item\"><div class=\"sk-estimator sk-toggleable\"><input class=\"sk-toggleable__control sk-hidden--visually\" id=\"sk-estimator-id-2\" type=\"checkbox\" checked><label for=\"sk-estimator-id-2\" class=\"sk-toggleable__label sk-toggleable__label-arrow\">KMeans</label><div class=\"sk-toggleable__content\"><pre>KMeans(n_clusters=5)</pre></div></div></div></div></div>"
      ],
      "text/plain": [
       "KMeans(n_clusters=5)"
      ]
     },
     "execution_count": 12,
     "metadata": {},
     "output_type": "execute_result"
    }
   ],
   "source": [
    "#Let's add some more clusters to seperate our data into\n",
    "Kmean = KMeans(n_clusters=5)\n",
    "Kmean.fit(useless)"
   ]
  },
  {
   "cell_type": "code",
   "execution_count": 13,
   "id": "f504c0c7-bcda-4169-b69a-88947d7e5632",
   "metadata": {},
   "outputs": [
    {
     "data": {
      "text/plain": [
       "array([[0.92260686, 0.5881846 ],\n",
       "       [0.73734332, 0.83463333],\n",
       "       [0.89811002, 0.77991419],\n",
       "       [0.7564073 , 0.64021909],\n",
       "       [0.50032519, 0.71342084]])"
      ]
     },
     "execution_count": 13,
     "metadata": {},
     "output_type": "execute_result"
    }
   ],
   "source": [
    "#find the center of each cluster\n",
    "labels = Kmean.labels_\n",
    "cent = Kmean.cluster_centers_\n",
    "cent"
   ]
  },
  {
   "cell_type": "code",
   "execution_count": 14,
   "id": "2a8dc959-2d7e-4ad2-87f9-fb14049a8cea",
   "metadata": {},
   "outputs": [
    {
     "data": {
      "text/plain": [
       "<matplotlib.collections.PathCollection at 0x7f61a5393460>"
      ]
     },
     "execution_count": 14,
     "metadata": {},
     "output_type": "execute_result"
    },
    {
     "data": {
      "image/png": "[encoded data removed]",
      "text/plain": [
       "<Figure size 432x288 with 1 Axes>"
      ]
     },
     "metadata": {
      "needs_background": "light"
     },
     "output_type": "display_data"
    }
   ],
   "source": [
    "#plot the data\n",
    "plt.scatter(useless[ : , 0], useless[ : , 1], s =50, c='b')\n",
    "plt.scatter(cent[0,0], cent[0,1], s=200, c='g', marker='s')\n",
    "plt.scatter(cent[1,0], cent[1,1], s=200, c='r', marker='s')\n",
    "plt.scatter(cent[2,0], cent[2,1], s=200, c='y', marker='s')\n",
    "plt.scatter(cent[3,0], cent[3,1], s=200, c='orange', marker='s')\n",
    "plt.scatter(cent[4,0], cent[4,1], s=200, c='k', marker='s')"
   ]
  },
  {
   "cell_type": "markdown",
   "id": "230751e9-cc75-4d28-9ada-115effeb965b",
   "metadata": {},
   "source": [
    "# Okay, But That's Pretty Useless\n",
    "So let's actually try to make it do something a little more useful. Luckily, K-Means allows for more data to be added. Let's add more and see what happens."
   ]
  },
  {
   "cell_type": "code",
   "execution_count": 15,
   "id": "969bb326-51dc-45ad-a712-4417636ad0cb",
   "metadata": {},
   "outputs": [],
   "source": [
    "#Add a few more bits of information\n",
    "less_useless = training_ds[['eccentricity', 'solidity', 'area', 'intensity_variance', 'minor_axis_length', 'major_axis_length']].values"
   ]
  },
  {
   "cell_type": "code",
   "execution_count": 16,
   "id": "ed9e11cb-93fe-4c0d-85dc-ddbd3af443dc",
   "metadata": {},
   "outputs": [
    {
     "data": {
      "text/html": [
       "<style>#sk-container-id-3 {color: black;background-color: white;}#sk-container-id-3 pre{padding: 0;}#sk-container-id-3 div.sk-toggleable {background-color: white;}#sk-container-id-3 label.sk-toggleable__label {cursor: pointer;display: block;width: 100%;margin-bottom: 0;padding: 0.3em;box-sizing: border-box;text-align: center;}#sk-container-id-3 label.sk-toggleable__label-arrow:before {content: \"▸\";float: left;margin-right: 0.25em;color: #696969;}#sk-container-id-3 label.sk-toggleable__label-arrow:hover:before {color: black;}#sk-container-id-3 div.sk-estimator:hover label.sk-toggleable__label-arrow:before {color: black;}#sk-container-id-3 div.sk-toggleable__content {max-height: 0;max-width: 0;overflow: hidden;text-align: left;background-color: #f0f8ff;}#sk-container-id-3 div.sk-toggleable__content pre {margin: 0.2em;color: black;border-radius: 0.25em;background-color: #f0f8ff;}#sk-container-id-3 input.sk-toggleable__control:checked~div.sk-toggleable__content {max-height: 200px;max-width: 100%;overflow: auto;}#sk-container-id-3 input.sk-toggleable__control:checked~label.sk-toggleable__label-arrow:before {content: \"▾\";}#sk-container-id-3 div.sk-estimator input.sk-toggleable__control:checked~label.sk-toggleable__label {background-color: #d4ebff;}#sk-container-id-3 div.sk-label input.sk-toggleable__control:checked~label.sk-toggleable__label {background-color: #d4ebff;}#sk-container-id-3 input.sk-hidden--visually {border: 0;clip: rect(1px 1px 1px 1px);clip: rect(1px, 1px, 1px, 1px);height: 1px;margin: -1px;overflow: hidden;padding: 0;position: absolute;width: 1px;}#sk-container-id-3 div.sk-estimator {font-family: monospace;background-color: #f0f8ff;border: 1px dotted black;border-radius: 0.25em;box-sizing: border-box;margin-bottom: 0.5em;}#sk-container-id-3 div.sk-estimator:hover {background-color: #d4ebff;}#sk-container-id-3 div.sk-parallel-item::after {content: \"\";width: 100%;border-bottom: 1px solid gray;flex-grow: 1;}#sk-container-id-3 div.sk-label:hover label.sk-toggleable__label {background-color: #d4ebff;}#sk-container-id-3 div.sk-serial::before {content: \"\";position: absolute;border-left: 1px solid gray;box-sizing: border-box;top: 0;bottom: 0;left: 50%;z-index: 0;}#sk-container-id-3 div.sk-serial {display: flex;flex-direction: column;align-items: center;background-color: white;padding-right: 0.2em;padding-left: 0.2em;position: relative;}#sk-container-id-3 div.sk-item {position: relative;z-index: 1;}#sk-container-id-3 div.sk-parallel {display: flex;align-items: stretch;justify-content: center;background-color: white;position: relative;}#sk-container-id-3 div.sk-item::before, #sk-container-id-3 div.sk-parallel-item::before {content: \"\";position: absolute;border-left: 1px solid gray;box-sizing: border-box;top: 0;bottom: 0;left: 50%;z-index: -1;}#sk-container-id-3 div.sk-parallel-item {display: flex;flex-direction: column;z-index: 1;position: relative;background-color: white;}#sk-container-id-3 div.sk-parallel-item:first-child::after {align-self: flex-end;width: 50%;}#sk-container-id-3 div.sk-parallel-item:last-child::after {align-self: flex-start;width: 50%;}#sk-container-id-3 div.sk-parallel-item:only-child::after {width: 0;}#sk-container-id-3 div.sk-dashed-wrapped {border: 1px dashed gray;margin: 0 0.4em 0.5em 0.4em;box-sizing: border-box;padding-bottom: 0.4em;background-color: white;}#sk-container-id-3 div.sk-label label {font-family: monospace;font-weight: bold;display: inline-block;line-height: 1.2em;}#sk-container-id-3 div.sk-label-container {text-align: center;}#sk-container-id-3 div.sk-container {/* jupyter's `normalize.less` sets `[hidden] { display: none; }` but bootstrap.min.css set `[hidden] { display: none !important; }` so we also need the `!important` here to be able to override the default hidden behavior on the sphinx rendered scikit-learn.org. See: https://github.com/scikit-learn/scikit-learn/issues/21755 */display: inline-block !important;position: relative;}#sk-container-id-3 div.sk-text-repr-fallback {display: none;}</style><div id=\"sk-container-id-3\" class=\"sk-top-container\"><div class=\"sk-text-repr-fallback\"><pre>KMeans(n_clusters=5)</pre><b>In a Jupyter environment, please rerun this cell to show the HTML representation or trust the notebook. <br />On GitHub, the HTML representation is unable to render, please try loading this page with nbviewer.org.</b></div><div class=\"sk-container\" hidden><div class=\"sk-item\"><div class=\"sk-estimator sk-toggleable\"><input class=\"sk-toggleable__control sk-hidden--visually\" id=\"sk-estimator-id-3\" type=\"checkbox\" checked><label for=\"sk-estimator-id-3\" class=\"sk-toggleable__label sk-toggleable__label-arrow\">KMeans</label><div class=\"sk-toggleable__content\"><pre>KMeans(n_clusters=5)</pre></div></div></div></div></div>"
      ],
      "text/plain": [
       "KMeans(n_clusters=5)"
      ]
     },
     "execution_count": 16,
     "metadata": {},
     "output_type": "execute_result"
    }
   ],
   "source": [
    "#Cluster our new data\n",
    "Kmean = KMeans(n_clusters=5)\n",
    "Kmean.fit(less_useless)"
   ]
  },
  {
   "cell_type": "code",
   "execution_count": 17,
   "id": "d1c02846-bd3c-4fad-a862-1e402a4f08f8",
   "metadata": {},
   "outputs": [
    {
     "data": {
      "text/plain": [
       "array([[8.21822284e-01, 7.13828938e-01, 1.28536122e+02, 1.87339634e+01,\n",
       "        9.12789831e+00, 1.94218993e+01],\n",
       "       [8.72882954e-01, 5.28167540e-01, 1.91610000e+04, 4.73682833e+01,\n",
       "        1.39442959e+02, 2.95001229e+02],\n",
       "       [3.19973635e-01, 5.37921083e-01, 3.13140000e+04, 6.81301791e+01,\n",
       "        2.44276159e+02, 2.57831265e+02],\n",
       "       [8.11041068e-01, 5.52521573e-01, 9.43550000e+03, 3.01057506e+01,\n",
       "        1.03631773e+02, 1.87736937e+02],\n",
       "       [8.68986166e-01, 5.78411805e-01, 1.91359091e+03, 3.90743433e+01,\n",
       "        3.98836511e+01, 9.27896624e+01]])"
      ]
     },
     "execution_count": 17,
     "metadata": {},
     "output_type": "execute_result"
    }
   ],
   "source": [
    "#find the center of each cluster\n",
    "cent = Kmean.cluster_centers_\n",
    "cent"
   ]
  },
  {
   "cell_type": "code",
   "execution_count": 18,
   "id": "c7ca6cd2-d42d-4dd6-a148-f193d542eecc",
   "metadata": {},
   "outputs": [
    {
     "data": {
      "image/png": "[encoded data removed]",
      "text/plain": [
       "<Figure size 432x288 with 1 Axes>"
      ]
     },
     "metadata": {
      "needs_background": "light"
     },
     "output_type": "display_data"
    }
   ],
   "source": [
    "#list all the variables used to cluster the data\n",
    "attrs = ['Eccentricity', 'Solidity', 'Area', 'Intensity', 'Minor Axis', 'Major Axis']\n",
    "\n",
    "#Plot the data!\n",
    "plt.plot(attrs, cent[0], color = 'red', lw=2.5)\n",
    "plt.plot(attrs, cent[1], color = 'green', lw=2.5)\n",
    "plt.plot(attrs, cent[2], color = 'blue', lw=2.5)\n",
    "plt.plot(attrs, cent[3], color = 'yellow', lw=2.5)\n",
    "plt.plot(attrs, cent[4], color = 'orange', lw=2.5)\n",
    "\n",
    "\n",
    "#convert the y-axis to a logarithmic scale\n",
    "plt.yscale(\"log\")"
   ]
  },
  {
   "cell_type": "code",
   "execution_count": 19,
   "id": "19096462-f80b-4042-ab76-267f68749d14",
   "metadata": {},
   "outputs": [
    {
     "data": {
      "text/plain": [
       "array([0], dtype=int32)"
      ]
     },
     "execution_count": 19,
     "metadata": {},
     "output_type": "execute_result"
    }
   ],
   "source": [
    "#let's predict which cluster a random date outside the training data is assigned too.\n",
    "random_point = pkl_data[(pkl_data['uniq_id']=='mrms20200811r16069')]\n",
    "random_point_data = random_point[['eccentricity', 'solidity', 'area', 'intensity_variance', 'minor_axis_length', 'major_axis_length']].values\n",
    "\n",
    "Kmean.predict(random_point_data)"
   ]
  },
  {
   "cell_type": "code",
   "execution_count": 20,
   "id": "f32d0bec-366d-490d-ac3a-b762c90c1979",
   "metadata": {},
   "outputs": [
    {
     "data": {
      "image/png": "[encoded data removed]",
      "text/plain": [
       "<Figure size 432x288 with 1 Axes>"
      ]
     },
     "metadata": {
      "needs_background": "light"
     },
     "output_type": "display_data"
    }
   ],
   "source": [
    "#list all the variables used to cluster the data\n",
    "attrs = ['Eccentricity', 'Solidity', 'Area', 'Intensity', 'Minor Axis', 'Major Axis']\n",
    "\n",
    "#Plot the data!\n",
    "plt.plot(attrs, cent[0], color = 'red', lw=2.5)\n",
    "plt.plot(attrs, cent[1], color = 'green', lw=2.5)\n",
    "plt.plot(attrs, cent[2], color = 'blue', lw=2.5)\n",
    "plt.plot(attrs, cent[3], color = 'yellow', lw=2.5)\n",
    "plt.plot(attrs, cent[4], color = 'orange', lw=2.5)\n",
    "\n",
    "#Plot the new point\n",
    "plt.plot(attrs, random_point_data[0], color = 'black', lw=2.5)\n",
    "\n",
    "#convert the y-axis to a logarithmic scale\n",
    "plt.yscale(\"log\")"
   ]
  },
  {
   "cell_type": "code",
   "execution_count": null,
   "id": "562e3ab7-1958-4092-93a5-bbf1bac86d7e",
   "metadata": {},
   "outputs": [],
   "source": []
  },
  {
   "cell_type": "code",
   "execution_count": null,
   "id": "5f16eb5c-465e-4c86-9620-7a0a7e58d44a",
   "metadata": {},
   "outputs": [],
   "source": []
  }
 ],
 "metadata": {
  "kernelspec": {
   "display_name": "Python [conda env:pyEAE]",
   "language": "python",
   "name": "conda-env-pyEAE-py"
  },
  "language_info": {
   "codemirror_mode": {
    "name": "ipython",
    "version": 3
   },
   "file_extension": ".py",
   "mimetype": "text/x-python",
   "name": "python",
   "nbconvert_exporter": "python",
   "pygments_lexer": "ipython3",
   "version": "3.9.13"
  }
 },
 "nbformat": 4,
 "nbformat_minor": 5
}
