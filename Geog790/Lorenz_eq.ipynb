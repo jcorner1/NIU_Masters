{
 "cells": [
  {
   "cell_type": "markdown",
   "id": "83507b3d-cf4d-4202-9ad4-d8df664584ec",
   "metadata": {},
   "source": [
    "# Exploring the Lorenz System of Differential Equations\n",
    "`https://en.wikipedia.org/wiki/Lorenz_system"
   ]
  },
  {
   "cell_type": "markdown",
   "id": "3fe2358b-14d9-4c6a-86b3-f88a549558f5",
   "metadata": {},
   "source": [
    "In this notebook, we will explore the Lorenz equations.\n",
    "\n",
    "$$\n",
    "x = \\sigma(y-x) \\\\\n",
    "y = \\rho x-y -xz \\\\\n",
    "z = -\\beta z + xy \\\\\n",
    "$$"
   ]
  },
  {
   "cell_type": "code",
   "execution_count": 1,
   "id": "97379c66-d5bd-4707-a88d-a22918af3ba0",
   "metadata": {},
   "outputs": [],
   "source": [
    "%matplotlib inline"
   ]
  },
  {
   "cell_type": "code",
   "execution_count": 1,
   "id": "a54b6ede-9029-45f4-a3c7-7655bd7eca06",
   "metadata": {},
   "outputs": [],
   "source": [
    "from ipywidgets import interact, interactive\n",
    "from IPython.display import clear_output, display, HTML"
   ]
  },
  {
   "cell_type": "code",
   "execution_count": 2,
   "id": "8ed79f37-5930-4c65-bce5-83e02d1b1184",
   "metadata": {},
   "outputs": [],
   "source": [
    "import numpy as np\n",
    "from scipy import integrate\n",
    "import matplotlib.pyplot as plt\n",
    "from mpl_toolkits.mplot3d import Axes3D\n",
    "from matplotlib.colors import cnames\n",
    "from matplotlib import animation"
   ]
  },
  {
   "cell_type": "markdown",
   "id": "6f1c284d-5a32-4523-8d59-1d749424d8cd",
   "metadata": {},
   "source": [
    "## Compute the Lorenz trajectories"
   ]
  },
  {
   "cell_type": "code",
   "execution_count": 3,
   "id": "3d2a2808-2744-4e2f-a298-1d83918e4875",
   "metadata": {},
   "outputs": [],
   "source": [
    "def solve_lorenz(N=10.0, angle=0, max_time=4.0, sigma=10.0, beta=8.0/3, rho=28.0):\n",
    "    fig = plt.figure()\n",
    "    ax = fig.add_axes([0,0,1,1], projection = '3d')\n",
    "    ax.set_xlim((-25,25))\n",
    "    ax.set_ylim((-25,25))\n",
    "    ax.set_zlim((5,55))\n",
    "    \n",
    "    def lorenz_deriv(x_y_z, t0, sigma=sigma, beta=beta, rho=rho):\n",
    "        \"\"\"\n",
    "        Computes the time-derivative of a lorenz system\n",
    "        \n",
    "        returns a list of the values\n",
    "        \"\"\"\n",
    "        x,y,z = x_y_z\n",
    "        \n",
    "        return [sigma * (y-x), x * (rho - z) - y, x * y - beta * z]\n",
    "    \n",
    "    # Choose some intial conditions (-15 to 15 with shap of N, 3)\n",
    "    x0 = np.random.random((N, 3))\n",
    "    \n",
    "    # Solve for the trajectory\n",
    "    t = np.linspace(0, max_time, int(250*max_time))\n",
    "    x_t = np.asarray([integrate.odeint(lorenz_deriv, x0i, t) for x0i in x0])\n",
    "    \n",
    "    # Choose a different color for each trajectory\n",
    "    colors = plt.cm.viridis(np.linspace(0, 1, N))\n",
    "    \n",
    "    for i in range(N):\n",
    "        x, y, z = x_t[i, :, :].T\n",
    "        lines = ax.plot(x, y, z, '-', c = colors[i])\n",
    "        plt.setp(lines, linewidth = 2)\n",
    "        \n",
    "    ax.view_init(30, angle)\n",
    "    plt.show()\n",
    "    \n",
    "    return t, x_t\n",
    "    \n",
    "    "
   ]
  },
  {
   "cell_type": "code",
   "execution_count": 4,
   "id": "d569e0fe-937c-4a7b-9f22-a066ac626ceb",
   "metadata": {},
   "outputs": [
    {
     "data": {
      "image/png": "[encoded data removed]",
      "text/plain": [
       "<Figure size 432x288 with 1 Axes>"
      ]
     },
     "metadata": {
      "needs_background": "light"
     },
     "output_type": "display_data"
    }
   ],
   "source": [
    "t, x_t = solve_lorenz(angle = 0, N =10)"
   ]
  },
  {
   "cell_type": "code",
   "execution_count": 5,
   "id": "743efdd2-9457-420b-bbcd-ac56d582e505",
   "metadata": {},
   "outputs": [
    {
     "data": {
      "application/vnd.jupyter.widget-view+json": {
       "model_id": "87a8211e924b4e0081d7c5e6bdf53efa",
       "version_major": 2,
       "version_minor": 0
      },
      "text/plain": [
       "interactive(children=(IntSlider(value=10, description='N', max=50), FloatSlider(value=0.0, description='angle'…"
      ]
     },
     "metadata": {},
     "output_type": "display_data"
    }
   ],
   "source": [
    "w = interactive(solve_lorenz, angle=(0., 360.), max_time=(0.01, 100.), N=(0, 50), sigma = (0., 50.), rho = (0., 50.))\n",
    "\n",
    "display(w)"
   ]
  },
  {
   "cell_type": "code",
   "execution_count": null,
   "id": "95a3421b-526e-4370-9974-4de21345b10b",
   "metadata": {},
   "outputs": [],
   "source": []
  },
  {
   "cell_type": "code",
   "execution_count": null,
   "id": "1ed9594a-e7fb-4aa7-aae0-5b53a7cca1a6",
   "metadata": {},
   "outputs": [],
   "source": []
  }
 ],
 "metadata": {
  "kernelspec": {
   "display_name": "Python [conda env:pyEAE]",
   "language": "python",
   "name": "conda-env-pyEAE-py"
  },
  "language_info": {
   "codemirror_mode": {
    "name": "ipython",
    "version": 3
   },
   "file_extension": ".py",
   "mimetype": "text/x-python",
   "name": "python",
   "nbconvert_exporter": "python",
   "pygments_lexer": "ipython3",
   "version": "3.9.0"
  }
 },
 "nbformat": 4,
 "nbformat_minor": 5
}
