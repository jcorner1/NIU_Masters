{
 "cells": [
  {
   "cell_type": "code",
   "execution_count": 1,
   "id": "3a4baf26-b5ef-4151-82fc-c56549e3dfd5",
   "metadata": {},
   "outputs": [],
   "source": [
    "import geopandas as gpd"
   ]
  },
  {
   "cell_type": "code",
   "execution_count": 4,
   "id": "6198a38e-d5d0-4072-8f1a-6dc43e1b0ed4",
   "metadata": {},
   "outputs": [
    {
     "data": {
      "text/html": [
       "<div>\n",
       "<style scoped>\n",
       "    .dataframe tbody tr th:only-of-type {\n",
       "        vertical-align: middle;\n",
       "    }\n",
       "\n",
       "    .dataframe tbody tr th {\n",
       "        vertical-align: top;\n",
       "    }\n",
       "\n",
       "    .dataframe thead th {\n",
       "        text-align: right;\n",
       "    }\n",
       "</style>\n",
       "<table border=\"1\" class=\"dataframe\">\n",
       "  <thead>\n",
       "    <tr style=\"text-align: right;\">\n",
       "      <th></th>\n",
       "      <th>DN</th>\n",
       "      <th>VALID</th>\n",
       "      <th>EXPIRE</th>\n",
       "      <th>ISSUE</th>\n",
       "      <th>LABEL</th>\n",
       "      <th>LABEL2</th>\n",
       "      <th>stroke</th>\n",
       "      <th>fill</th>\n",
       "      <th>geometry</th>\n",
       "    </tr>\n",
       "  </thead>\n",
       "  <tbody>\n",
       "    <tr>\n",
       "      <th>0</th>\n",
       "      <td>2</td>\n",
       "      <td>202202221300</td>\n",
       "      <td>202202231200</td>\n",
       "      <td>202202221254</td>\n",
       "      <td>TSTM</td>\n",
       "      <td>General Thunderstorms Risk</td>\n",
       "      <td>#55BB55</td>\n",
       "      <td>#C1E9C1</td>\n",
       "      <td>MULTIPOLYGON (((-78.24005 43.64337, -77.82000 ...</td>\n",
       "    </tr>\n",
       "    <tr>\n",
       "      <th>1</th>\n",
       "      <td>3</td>\n",
       "      <td>202202221300</td>\n",
       "      <td>202202231200</td>\n",
       "      <td>202202221254</td>\n",
       "      <td>MRGL</td>\n",
       "      <td>Marginal Risk</td>\n",
       "      <td>#005500</td>\n",
       "      <td>#66A366</td>\n",
       "      <td>POLYGON ((-83.67000 39.36000, -83.64000 38.250...</td>\n",
       "    </tr>\n",
       "    <tr>\n",
       "      <th>2</th>\n",
       "      <td>4</td>\n",
       "      <td>202202221300</td>\n",
       "      <td>202202231200</td>\n",
       "      <td>202202221254</td>\n",
       "      <td>SLGT</td>\n",
       "      <td>Slight Risk</td>\n",
       "      <td>#DDAA00</td>\n",
       "      <td>#FFE066</td>\n",
       "      <td>POLYGON ((-84.60000 38.03000, -85.01000 36.970...</td>\n",
       "    </tr>\n",
       "  </tbody>\n",
       "</table>\n",
       "</div>"
      ],
      "text/plain": [
       "   DN         VALID        EXPIRE         ISSUE LABEL  \\\n",
       "0   2  202202221300  202202231200  202202221254  TSTM   \n",
       "1   3  202202221300  202202231200  202202221254  MRGL   \n",
       "2   4  202202221300  202202231200  202202221254  SLGT   \n",
       "\n",
       "                       LABEL2   stroke     fill  \\\n",
       "0  General Thunderstorms Risk  #55BB55  #C1E9C1   \n",
       "1               Marginal Risk  #005500  #66A366   \n",
       "2                 Slight Risk  #DDAA00  #FFE066   \n",
       "\n",
       "                                            geometry  \n",
       "0  MULTIPOLYGON (((-78.24005 43.64337, -77.82000 ...  \n",
       "1  POLYGON ((-83.67000 39.36000, -83.64000 38.250...  \n",
       "2  POLYGON ((-84.60000 38.03000, -85.01000 36.970...  "
      ]
     },
     "execution_count": 4,
     "metadata": {},
     "output_type": "execute_result"
    }
   ],
   "source": [
    "df = gpd.read_file('https://www.spc.noaa.gov/products/outlook/day1otlk_cat.nolyr.geojson')\n",
    "df"
   ]
  },
  {
   "cell_type": "code",
   "execution_count": 22,
   "id": "33287117-b9ad-46e7-8502-fac8a7692c77",
   "metadata": {},
   "outputs": [
    {
     "data": {
      "text/html": [
       "<div>\n",
       "<style scoped>\n",
       "    .dataframe tbody tr th:only-of-type {\n",
       "        vertical-align: middle;\n",
       "    }\n",
       "\n",
       "    .dataframe tbody tr th {\n",
       "        vertical-align: top;\n",
       "    }\n",
       "\n",
       "    .dataframe thead th {\n",
       "        text-align: right;\n",
       "    }\n",
       "</style>\n",
       "<table border=\"1\" class=\"dataframe\">\n",
       "  <thead>\n",
       "    <tr style=\"text-align: right;\">\n",
       "      <th></th>\n",
       "      <th>spcurl</th>\n",
       "      <th>year</th>\n",
       "      <th>type</th>\n",
       "      <th>number</th>\n",
       "      <th>issue</th>\n",
       "      <th>expire</th>\n",
       "      <th>geometry</th>\n",
       "    </tr>\n",
       "  </thead>\n",
       "  <tbody>\n",
       "  </tbody>\n",
       "</table>\n",
       "</div>"
      ],
      "text/plain": [
       "Empty GeoDataFrame\n",
       "Columns: [spcurl, year, type, number, issue, expire, geometry]\n",
       "Index: []"
      ]
     },
     "execution_count": 22,
     "metadata": {},
     "output_type": "execute_result"
    }
   ],
   "source": [
    "df2 = gpd.read_file('https://mesonet.agron.iastate.edu/json/spcwatch.py?lon=-87.99&lat=42.9495')\n",
    "df2 = df2.query('type == \"TOR\" & year == 2021')\n",
    "df2"
   ]
  },
  {
   "cell_type": "code",
   "execution_count": null,
   "id": "292103ac-8b4a-4c89-99a0-9f5b4f5e6658",
   "metadata": {},
   "outputs": [],
   "source": [
    "df3 = gpd.read_file('')"
   ]
  }
 ],
 "metadata": {
  "kernelspec": {
   "display_name": "Python [conda env:pyEAE]",
   "language": "python",
   "name": "conda-env-pyEAE-py"
  },
  "language_info": {
   "codemirror_mode": {
    "name": "ipython",
    "version": 3
   },
   "file_extension": ".py",
   "mimetype": "text/x-python",
   "name": "python",
   "nbconvert_exporter": "python",
   "pygments_lexer": "ipython3",
   "version": "3.9.0"
  }
 },
 "nbformat": 4,
 "nbformat_minor": 5
}
