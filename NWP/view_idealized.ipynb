{
 "cells": [
  {
   "cell_type": "code",
   "execution_count": 10,
   "id": "e29adcce-8afe-43e4-a75e-2823d9578b28",
   "metadata": {},
   "outputs": [
    {
     "data": {
      "text/plain": [
       "array([ 0,  1,  2,  3,  4,  5,  6,  7,  8,  9, 10, 11, 12, 13, 14, 15, 16,\n",
       "       17, 18, 19, 20, 21, 22, 23, 24])"
      ]
     },
     "execution_count": 10,
     "metadata": {},
     "output_type": "execute_result"
    }
   ],
   "source": [
    "import xarray as xr\n",
    "ds = xr.open_dataset('/home/scratch/fa23nwp/wrfout_d01_0001-01-01_00:00:00')\n",
    "ds = ds.rename({'Time': 'time'})\n",
    "ds.time.values"
   ]
  },
  {
   "cell_type": "code",
   "execution_count": 2,
   "id": "1da3359d-55ee-4b19-8fa1-8c5d28e581ae",
   "metadata": {},
   "outputs": [
    {
     "name": "stderr",
     "output_type": "stream",
     "text": [
      "/anaconda3/envs/pyEAE/lib/python3.9/site-packages/xarray/core/indexing.py:557: SerializationWarning: Unable to decode time axis into full numpy.datetime64 objects, continuing using cftime.datetime objects instead, reason: dates out of range\n",
      "  array = array.get_duck_array()\n"
     ]
    },
    {
     "data": {
      "text/plain": [
       "<matplotlib.collections.QuadMesh at 0x7fb4e458d430>"
      ]
     },
     "execution_count": 2,
     "metadata": {},
     "output_type": "execute_result"
    },
    {
     "data": {
      "image/png": "[encoded data removed]",
      "text/plain": [
       "<Figure size 640x480 with 2 Axes>"
      ]
     },
     "metadata": {},
     "output_type": "display_data"
    }
   ],
   "source": [
    "ds.QGRAUP.sel(bottom_top=0).sel(time=3).plot()"
   ]
  },
  {
   "cell_type": "code",
   "execution_count": 3,
   "id": "455fc0e1-f9d1-4506-b899-35f570cff6bf",
   "metadata": {},
   "outputs": [
    {
     "name": "stderr",
     "output_type": "stream",
     "text": [
      "/anaconda3/envs/pyEAE/lib/python3.9/site-packages/xmovie/core.py:46: UserWarning: No `vmin` provided. Data limits are calculated from input. Depending on the input this can take long. Pass `vmin` to avoid this step\n",
      "  warnings.warn(\n",
      "/anaconda3/envs/pyEAE/lib/python3.9/site-packages/xmovie/core.py:53: UserWarning: No `vmax` provided. Data limits are calculated from input. Depending on the input this can take long. Pass `vmax` to avoid this step\n",
      "  warnings.warn(\n",
      "/anaconda3/envs/pyEAE/lib/python3.9/site-packages/xarray/core/indexing.py:557: SerializationWarning: Unable to decode time axis into full numpy.datetime64 objects, continuing using cftime.datetime objects instead, reason: dates out of range\n",
      "  array = array.get_duck_array()\n"
     ]
    },
    {
     "data": {
      "application/vnd.jupyter.widget-view+json": {
       "model_id": "0368d626d4f0417e90d8bec321411df5",
       "version_major": 2,
       "version_minor": 0
      },
      "text/plain": [
       "  0%|          | 0/21 [00:00<?, ?it/s]"
      ]
     },
     "metadata": {},
     "output_type": "display_data"
    },
    {
     "name": "stdout",
     "output_type": "stream",
     "text": [
      "Movie created at movie.mp4\n",
      "GIF created at movie.gif\n"
     ]
    }
   ],
   "source": [
    "from xmovie import Movie\n",
    "mov = Movie(ds.T.sel(bottom_top=0).sel(time=slice(1,22)))\n",
    "mov.save('movie.gif',progress=True, framerate=5, gif_framerate=5,overwrite_existing=True)"
   ]
  },
  {
   "cell_type": "code",
   "execution_count": 4,
   "id": "5c7dd94b-0b03-4cad-8df7-bb8258f98316",
   "metadata": {},
   "outputs": [
    {
     "data": {
      "text/html": [
       "<img src=\"movie.gif\"/>"
      ],
      "text/plain": [
       "<IPython.core.display.Image object>"
      ]
     },
     "execution_count": 4,
     "metadata": {},
     "output_type": "execute_result"
    }
   ],
   "source": [
    "from IPython.display import Image\n",
    "Image(url='movie.gif')"
   ]
  },
  {
   "cell_type": "code",
   "execution_count": 5,
   "id": "87c75f34-3116-44ea-9db2-3e3ddd988f47",
   "metadata": {},
   "outputs": [
    {
     "data": {
      "text/plain": [
       "<matplotlib.collections.QuadMesh at 0x7fb60c723070>"
      ]
     },
     "execution_count": 5,
     "metadata": {},
     "output_type": "execute_result"
    }
   ],
   "source": [
    "from netCDF4 import Dataset\n",
    "from wrf import getvar, ALL_TIMES\n",
    "\n",
    "ncfile = Dataset('/home/scratch/fa23nwp/wrfout_d01_0001-01-01_00:00:00')\n",
    "\n",
    "# Get the 3D CAPE, which contains missing values\n",
    "dbz= getvar(ncfile, \"dbz\", timeidx=ALL_TIMES)\n",
    "dbz.isel(Time=13).sel(bottom_top=0).plot(vmin=0, vmax=55)"
   ]
  },
  {
   "cell_type": "code",
   "execution_count": 11,
   "id": "8318d596-6c14-4146-a6f4-1783640ce5f1",
   "metadata": {},
   "outputs": [
    {
     "name": "stderr",
     "output_type": "stream",
     "text": [
      "/anaconda3/envs/pyEAE/lib/python3.9/site-packages/xmovie/core.py:46: UserWarning: No `vmin` provided. Data limits are calculated from input. Depending on the input this can take long. Pass `vmin` to avoid this step\n",
      "  warnings.warn(\n",
      "/anaconda3/envs/pyEAE/lib/python3.9/site-packages/xmovie/core.py:53: UserWarning: No `vmax` provided. Data limits are calculated from input. Depending on the input this can take long. Pass `vmax` to avoid this step\n",
      "  warnings.warn(\n"
     ]
    },
    {
     "data": {
      "application/vnd.jupyter.widget-view+json": {
       "model_id": "20a6fa3a49b44cef9dd517df2304c7bd",
       "version_major": 2,
       "version_minor": 0
      },
      "text/plain": [
       "  0%|          | 0/24 [00:00<?, ?it/s]"
      ]
     },
     "metadata": {},
     "output_type": "display_data"
    },
    {
     "name": "stdout",
     "output_type": "stream",
     "text": [
      "Movie created at movie.mp4\n",
      "GIF created at movie.gif\n"
     ]
    }
   ],
   "source": [
    "from xmovie import Movie\n",
    "\n",
    "from wrf import getvar, ALL_TIMES\n",
    "from netCDF4 import Dataset\n",
    "ds = Dataset('/home/scratch/fa23nwp/wrfout_d01_0001-01-01_00:00:00')\n",
    "dbz= getvar(ds, \"dbz\", timeidx=ALL_TIMES)\n",
    "dbz = dbz.rename({'Time': 'time'})\n",
    "mov = Movie(dbz.isel(time=slice(0,24)).sel(bottom_top=0))\n",
    "mov.save('movie.gif',progress=True, framerate=5, gif_framerate=5,overwrite_existing=True)"
   ]
  },
  {
   "cell_type": "code",
   "execution_count": 7,
   "id": "2050d046-71be-4854-899a-abf8f2843e67",
   "metadata": {},
   "outputs": [
    {
     "data": {
      "text/html": [
       "<img src=\"movie.gif\"/>"
      ],
      "text/plain": [
       "<IPython.core.display.Image object>"
      ]
     },
     "execution_count": 7,
     "metadata": {},
     "output_type": "execute_result"
    }
   ],
   "source": [
    "from IPython.display import Image\n",
    "Image(url='movie.gif')"
   ]
  },
  {
   "cell_type": "markdown",
   "id": "b19edc51-e20d-40ba-89d3-0c71dbc3b8b0",
   "metadata": {},
   "source": [
    "https://wrf-python.readthedocs.io/en/latest/user_api/generated/wrf.getvar.html#wrf.getvar"
   ]
  },
  {
   "cell_type": "code",
   "execution_count": 16,
   "id": "6a549b53-852e-42d2-a92e-b6d4bf241122",
   "metadata": {},
   "outputs": [
    {
     "name": "stderr",
     "output_type": "stream",
     "text": [
      "/anaconda3/envs/pyEAE/lib/python3.9/site-packages/xmovie/core.py:46: UserWarning: No `vmin` provided. Data limits are calculated from input. Depending on the input this can take long. Pass `vmin` to avoid this step\n",
      "  warnings.warn(\n",
      "/anaconda3/envs/pyEAE/lib/python3.9/site-packages/xmovie/core.py:53: UserWarning: No `vmax` provided. Data limits are calculated from input. Depending on the input this can take long. Pass `vmax` to avoid this step\n",
      "  warnings.warn(\n"
     ]
    },
    {
     "data": {
      "application/vnd.jupyter.widget-view+json": {
       "model_id": "0970b3602bc643f0a03a7d1e91f011a3",
       "version_major": 2,
       "version_minor": 0
      },
      "text/plain": [
       "  0%|          | 0/25 [00:00<?, ?it/s]"
      ]
     },
     "metadata": {},
     "output_type": "display_data"
    },
    {
     "name": "stdout",
     "output_type": "stream",
     "text": [
      "Movie created at movie2.mp4\n",
      "GIF created at movie2.gif\n"
     ]
    }
   ],
   "source": [
    "from wrf import getvar\n",
    "from netCDF4 import Dataset\n",
    "\n",
    "ncfile = Dataset(\"/home/scratch/fa23nwp/wrfout_d01_0001-01-01_00:00:00\")\n",
    "\n",
    "# Get the Sea Level Pressure\n",
    "uphc = getvar(ncfile, \"updraft_helicity\", timeidx=ALL_TIMES)\n",
    "\n",
    "uphc_ds=uphc.rename({'Time': 'time'})\n",
    "mov = Movie(uphc_ds)\n",
    "mov.save('movie2.gif', progress=True, framerate=5, gif_framerate=5, overwrite_existing=True)\n",
    "\n"
   ]
  },
  {
   "cell_type": "code",
   "execution_count": 17,
   "id": "749cff2b-a010-4069-9dbf-3fc23f46060f",
   "metadata": {},
   "outputs": [
    {
     "data": {
      "text/html": [
       "<img src=\"movie2.gif\"/>"
      ],
      "text/plain": [
       "<IPython.core.display.Image object>"
      ]
     },
     "execution_count": 17,
     "metadata": {},
     "output_type": "execute_result"
    }
   ],
   "source": [
    "from IPython.display import Image\n",
    "Image(url='movie2.gif')"
   ]
  },
  {
   "cell_type": "code",
   "execution_count": null,
   "id": "d1d91c21-1b5c-4b6e-ba63-af5bc9cd92fa",
   "metadata": {},
   "outputs": [],
   "source": []
  }
 ],
 "metadata": {
  "kernelspec": {
   "display_name": "Python [conda env:pyEAE]",
   "language": "python",
   "name": "conda-env-pyEAE-py"
  },
  "language_info": {
   "codemirror_mode": {
    "name": "ipython",
    "version": 3
   },
   "file_extension": ".py",
   "mimetype": "text/x-python",
   "name": "python",
   "nbconvert_exporter": "python",
   "pygments_lexer": "ipython3",
   "version": "3.9.13"
  }
 },
 "nbformat": 4,
 "nbformat_minor": 5
}
