{
 "cells": [
  {
   "cell_type": "markdown",
   "id": "ea8a7741-4bf0-44f1-b5c8-62ac7d974062",
   "metadata": {},
   "source": [
    "# Data Download"
   ]
  },
  {
   "cell_type": "code",
   "execution_count": 2,
   "id": "e7de8bd3-2c57-400e-9baf-36c1d670ccaf",
   "metadata": {},
   "outputs": [],
   "source": [
    "#Import Modules\n",
    "import requests\n",
    "import xarray as xr\n",
    "from datetime import datetime, timedelta\n",
    "import cfgrib\n",
    "import netCDF4 as nc\n",
    "import os\n",
    "import glob"
   ]
  },
  {
   "cell_type": "code",
   "execution_count": 5,
   "id": "6b343ac6-128d-41eb-9f1b-10a4ae98bac2",
   "metadata": {},
   "outputs": [
    {
     "data": {
      "text/plain": [
       "1272572"
      ]
     },
     "execution_count": 5,
     "metadata": {},
     "output_type": "execute_result"
    }
   ],
   "source": [
    "#Create a datetime object to grab data for.\n",
    "datetime_object = datetime(2021, 4, 28, 18, 0)\n",
    "\n",
    "#obtain the file for the MRMS lowest level reflectivity from the Iowa State website.\n",
    "#set the data and pathfile as well as create the directory.\n",
    "url = f'https://mesonet.agron.iastate.edu/cgi-bin/request/raster2netcdf.py?dstr={datetime_object.strftime(\"%Y%m%d%H%M\")}&prod=mrms_lcref'\n",
    "drt = f'/home/scratch/jcorner1/NWP_Project/Other_Data/MRMS'\n",
    "\n",
    "#Get data from the website and write it to a file.\n",
    "response = requests.get(url)\n",
    "filepath = f'{drt}/mrms_lcref{url[-28:-16]}.nc4'\n",
    "open(filepath, 'wb').write(response.content)"
   ]
  },
  {
   "cell_type": "code",
   "execution_count": null,
   "id": "180baca2-1855-4eba-b6c2-3e1fdef286f4",
   "metadata": {},
   "outputs": [],
   "source": []
  },
  {
   "cell_type": "code",
   "execution_count": null,
   "id": "d9db6d02-5954-4245-84ed-a43282b07331",
   "metadata": {},
   "outputs": [],
   "source": []
  },
  {
   "cell_type": "code",
   "execution_count": null,
   "id": "49a0d7ac-bc71-470c-aae1-7167350fd454",
   "metadata": {},
   "outputs": [],
   "source": []
  },
  {
   "cell_type": "code",
   "execution_count": null,
   "id": "6bdf9266-3bdc-46a3-80b0-488334c989c8",
   "metadata": {},
   "outputs": [],
   "source": []
  }
 ],
 "metadata": {
  "kernelspec": {
   "display_name": "Python [conda env:pyEAE]",
   "language": "python",
   "name": "conda-env-pyEAE-py"
  },
  "language_info": {
   "codemirror_mode": {
    "name": "ipython",
    "version": 3
   },
   "file_extension": ".py",
   "mimetype": "text/x-python",
   "name": "python",
   "nbconvert_exporter": "python",
   "pygments_lexer": "ipython3",
   "version": "3.9.13"
  }
 },
 "nbformat": 4,
 "nbformat_minor": 5
}
